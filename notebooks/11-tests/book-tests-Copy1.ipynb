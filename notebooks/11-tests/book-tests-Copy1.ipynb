{
 "cells": [
  {
   "cell_type": "markdown",
   "id": "a68d7d58-e2ac-4e5f-9054-d3826e9df8dd",
   "metadata": {},
   "source": [
    "# Tests"
   ]
  },
  {
   "cell_type": "markdown",
   "id": "b5f9d193-3489-403f-a51c-333875df00ec",
   "metadata": {},
   "source": [
    "**In this notebook, we cover the following subjects:**\n",
    "\n",
    "- The `assert` statement,\n",
    "- The `pytest` module.\n",
    "___________________________________________________________________________________________________________________________"
   ]
  },
  {
   "cell_type": "code",
   "execution_count": 3,
   "id": "f5662ea3-11b0-48d6-81db-2d18c2ba3c44",
   "metadata": {
    "tags": []
   },
   "outputs": [],
   "source": [
    "# To enable type hints for lists, dicts, tuples, and sets we need to import the following:\n",
    "from typing import List, Dict, Tuple, Set"
   ]
  },
  {
   "cell_type": "markdown",
   "id": "21ed97af-5e8d-4e51-8176-99ec80faeee6",
   "metadata": {},
   "source": [
    "Testing is an essential skill in any programmer's toolkit. It ensures our code runs as expected, catches bugs early, and gives us confidence in the software we create. In this notebook, we’re going to dive into two powerful tools in Python’s testing arsenal:\n",
    "\n",
    "- `assert`\n",
    "- `pytest`\n",
    "\n",
    "You’ve already worked with `exceptions`(Notebook 8), learning how to handle errors smoothly when they arise. Now, we’ll explore how to prevent them from happening in the first place by actively testing our code. By the end of this chapter, you'll be comfortable writing, running, and understanding tests in Python. \n",
    "\n",
    "One last thing before we start... This notebook will be special because it is split into 2 parts. In **Part 1** we will be learning about the `assert` keyword in our usual, Jupyter Notebook environment. However, for **Part 2**, you will be required to follow along the tutorial about `pytests` (explained in this notebook) and practice in a seperate **py** file. Meaning, you will have to work in your choice of code editor (VS Code, Pycharm etc.) in a py file. We will get back to that in due course.\n",
    "\n",
    "Ok, now all is set. Let’s dive in!"
   ]
  },
  {
   "cell_type": "markdown",
   "id": "42897149-ba61-41cd-bc57-94cf42d353bb",
   "metadata": {},
   "source": [
    "## <span style=\"color:#4169E1\"> Part 1 - Using `assert` for Basic Testing</span>"
   ]
  },
  {
   "cell_type": "markdown",
   "id": "bdc90d78-2ad3-4096-b08a-558846ea6262",
   "metadata": {},
   "source": [
    "The `assert` statement in Python is a simple yet powerful way to verify that a condition holds **True**. It’s commonly used for quick checks or to validate assumptions in code. If the condition you’re testing is `True`, the program continues as expected. However, if the condition is `False`, an `AssertionError` is raised, and the program stops. This is particularly useful when you want to catch potential bugs early on."
   ]
  },
  {
   "cell_type": "markdown",
   "id": "124ccedf-95ea-4cd4-9666-efb4a6e5dfa4",
   "metadata": {},
   "source": [
    "#### <span style=\"color:#B22222\">Syntax of `assert`</span>"
   ]
  },
  {
   "cell_type": "markdown",
   "id": "caaa54fe-e7ad-4181-bb24-0f3a8b8b7cf1",
   "metadata": {},
   "source": [
    "The basic syntax of an `assert` statement is as follows:\n",
    "\n",
    "```python\n",
    "assert <condition>, <optional error message>\n",
    "```\n",
    "- `<condition>`: This is the expression you want to test. If it evaluates to **True**, the program continues running. If it’s **False**, Python **raises** an `AssertionError`.\n",
    "- `<optional error message>`: This is an optional message that will display if the assertion fails, helping you understand what went wrong.\n"
   ]
  },
  {
   "cell_type": "markdown",
   "id": "111ead62-4d74-411b-a2e3-de3b1365d348",
   "metadata": {},
   "source": [
    "Now that we know the theory behind the syntax, let's look at a few examples!"
   ]
  },
  {
   "cell_type": "markdown",
   "id": "d6d63ee3-ea14-4b4f-80e8-8afb0ac18f0d",
   "metadata": {},
   "source": [
    "Let’s say we have a function that expects **positive numbers only**. We can use an `assert` statement to ensure this requirement:"
   ]
  },
  {
   "cell_type": "code",
   "execution_count": null,
   "id": "95af0fd8-69e9-45a5-b4d5-a8f8f7be66a0",
   "metadata": {},
   "outputs": [],
   "source": [
    "def process_number(number: int):\n",
    "    assert number > 0, \"Number must be positive\"\n",
    "    return number * 2\n",
    "\n",
    "print(process_number(5))    # works fine\n",
    "print(process_number(-3))   # raises AssertionError: \"Number must be positive\""
   ]
  },
  {
   "cell_type": "markdown",
   "id": "a05a8f1c-754d-40a9-8956-be521bc14891",
   "metadata": {},
   "source": [
    "In the above example, if `n` is **positive**, the function continues and **returns the result**. However, if `n` is **negative**, it **raises** an `AssertionError` with a helpful message."
   ]
  },
  {
   "cell_type": "markdown",
   "id": "d878e8b7-dfb3-4879-b5c7-960f8ada7aca",
   "metadata": {},
   "source": [
    "#### <span style=\"color:#B22222\">Common keywords used with `assert`</span>"
   ]
  },
  {
   "cell_type": "markdown",
   "id": "9ee064f7-02b3-414e-bf78-90b31d1882fc",
   "metadata": {},
   "source": [
    "Bellow is a table of the most common keywords and expressions used with `assert`, along with brief explanations for each.   \n",
    "These keywords make it easier to perform specific checks, such as verifying types, values, and membership, which can help you catch issues early.\n",
    "\n",
    "| Keyword            | Explanation                                                                                   | Example                            |\r\n",
    "|--------------------|-----------------------------------------------------------------------------------------------|------------------------------------|\r\n",
    "| `is`               | Checks if two objects are the same instance (identity).                                       | `assert a is b`                    |\r\n",
    "| `==`               | Checks if two values are equal.                                                               | `assert result == expected_value`  |\r\n",
    "| `in`               | Checks if an element exists within a container (e.g., list, tuple, set, dictionary).         | `assert item in my_list`           |\r\n",
    "| `not in`           | Checks if an element does not exist within a container.                                       | `assert item not in forbidden_list`|\r\n",
    "| `isinstance`       | Checks if an object is an instance of a specific class or tuple of classes.                   | `assert isinstance(x, int)`        |\r\n",
    "| `issubclass`       | Checks if a class is a subclass of another class.                                             | `assert issubclass(Dog, Animal)`   |\r\n",
    "| `issubset`         | Checks if all elements of one set are present in another set.                                 | `assert subset.issubset(superset)` |\r\n",
    "| `>=` / `<=`        | Checks if a value is greater than or equal to, or less than or equal to, another value.       | `assert score >= passing_score`    |\r\n",
    "| `>` / `<`          | Checks if a value is strictly greater than or less than another value.                        | `assert age > 18`                  |\r\n",
    "| `len`              | Verifies the length of a collection, often used with `==` to assert an expected length.       | `assert len(my_list) == 5`         |\r\n",
    "| `type`             | Checks if an object is exactly a specific type, useful when `isinstance` isn’t precise enough.| `assert type(x) is float`          |\r\n",
    "| `any`              | Verifies that at least one element in an iterable is true (used with a condition).            | `assert any(x > 0 for x in nums)`  |\r\n",
    "| `all`              | Verifies that all elements in an iterable are true (used with a condition).                   | `assert all(x > 0 for x in nums)`  |\r\n",
    "\n"
   ]
  },
  {
   "cell_type": "markdown",
   "id": "06bb66e6-7788-4518-85fc-94574ce72fa3",
   "metadata": {},
   "source": [
    "Let's look at one more example:"
   ]
  },
  {
   "cell_type": "code",
   "execution_count": null,
   "id": "9bcbf2f6-9c37-4cbe-b3b1-beb897e8f78b",
   "metadata": {},
   "outputs": [],
   "source": [
    "def validate_user(user: Dict[str, any]) -> str:\n",
    "    \"\"\"\n",
    "    Validates user information for sign-up.\n",
    "\n",
    "    Args:\n",
    "        user (Dict[str, any]): A dictionary containing user data with required keys:\n",
    "                     - 'username': a string with at least 3 characters\n",
    "                     - 'age': an integer greater than 12\n",
    "                     - 'email': a string containing an '@' symbol\n",
    "\n",
    "    Returns:\n",
    "        str: A success message if all validation checks pass.\n",
    "\n",
    "    Raises:\n",
    "        AssertionError: If any validation check fails, with a message describing the error.\n",
    "    \"\"\"\n",
    "    \n",
    "    # check if user is a dictionary\n",
    "    assert isinstance(user, dict), \"User information must be a dictionary.\"\n",
    "    \n",
    "    # check for required keys\n",
    "    required_keys = {\"username\", \"age\", \"email\"}\n",
    "    assert required_keys.issubset(user.keys()), f\"User data must include {required_keys}\"\n",
    "    \n",
    "    # check if username is a string with at least 3 characters\n",
    "    assert isinstance(user[\"username\"], str) and len(user[\"username\"]) >= 3, \"Username must be a string with at least 3 characters.\"\n",
    "    \n",
    "    # check if age is an integer greater than 12\n",
    "    assert isinstance(user[\"age\"], int) and user[\"age\"] > 12, \"Age must be an integer greater than 12.\"\n",
    "    \n",
    "    # check if email contains an '@' symbol\n",
    "    assert \"@\" in user[\"email\"], \"Email must contain an '@' symbol.\"\n",
    "    \n",
    "    # iff all assertions pass, return a success message\n",
    "    return f\"User {user['username']} is successfully validated.\"\n",
    "\n",
    "# test with valid user data\n",
    "print(validate_user({\"username\": \"Alice\", \"age\": 25, \"email\": \"alice@example.com\"}))\n",
    "\n",
    "# test with invalid user data\n",
    "# print(validate_user({\"username\": \"Al\", \"age\": 10, \"email\": \"aliceexample.com\"}))  # Raises AssertionError: \"Username must be a string with at least 3 characters.\"\n"
   ]
  },
  {
   "cell_type": "markdown",
   "id": "23a7984c-4247-4d70-a4ca-668f5d51995c",
   "metadata": {},
   "source": [
    "\n",
    "The above function (`validate_user`) checks if a user's information meets certain requirements during sign-up. \n",
    "\n",
    "- It takes a **dictionary** with the user's details and verifies that it includes the necessary **keys: 'username', 'age', and 'email'**. \n",
    "- The function ensures the **username** is at least **three characters** long,\n",
    "- the **age** is an **integer**, greater than **12**\n",
    "- and that the **email** contains an **'@'** symbol.\n",
    "\n",
    "If any of these checks **fail**, it raises an `assertion error` with a message explaining what went wrong. If everything is **correct**, it `returns a success message` confirming the user has been validated."
   ]
  },
  {
   "cell_type": "markdown",
   "id": "4a56de12-6348-439d-809f-dbfe0e2ad849",
   "metadata": {},
   "source": [
    "#### <span style=\"color:#B22222\">When to Use `assert`</span>"
   ]
  },
  {
   "cell_type": "markdown",
   "id": "cb5797aa-a8b4-40d5-8911-8cf04a14b4c2",
   "metadata": {},
   "source": [
    "The `assert` statement is great for situations where you need **quick, in-line checks**. However, it’s generally used in scenarios where you’re confident the conditions should hold under normal circumstances. If you’re unsure whether a condition might fail in a production environment, consider handling the error with a `try-except` block instead.\n",
    "\n",
    "Let's look at an example:"
   ]
  },
  {
   "cell_type": "markdown",
   "id": "59a85556-d908-4bf2-8bd2-878e8bedadd2",
   "metadata": {},
   "source": [
    "**Example with `assert`**:\n",
    "\n",
    "Let’s say we are working on a function to calculate the square root of a number. Normally, you expect that the number provided is positive. In such a case, you can use `assert` to make a quick, in-line check:"
   ]
  },
  {
   "cell_type": "code",
   "execution_count": null,
   "id": "13e5b601-8b7a-4d00-9454-3c26240ec32b",
   "metadata": {},
   "outputs": [],
   "source": [
    "def calculate_square_root(x: int) -> int:\n",
    "    # sssert that the input should be positive\n",
    "    assert x >= 0, \"Input must be a non-negative number\"\n",
    "    return x ** 0.5\n",
    "\n",
    "# example usage:\n",
    "print(calculate_square_root(9))   # works fine\n",
    "print(calculate_square_root(-4))  # raises AssertionError with message \"Input must be a non-negative number\""
   ]
  },
  {
   "cell_type": "markdown",
   "id": "2ad2bcb2-544d-4435-9eec-280a066af440",
   "metadata": {},
   "source": [
    "Here, `assert` is ideal because, under normal circumstances, you expect the input to be positive."
   ]
  },
  {
   "cell_type": "markdown",
   "id": "55371ffc-6901-4595-bcbb-5989bb322bb1",
   "metadata": {},
   "source": [
    "```{admonition} What will happen if you change an assertion from <code>assert x > 0</code> to <code> assert x >= 0</code> in your code?\n",
    ":class: tip, dropdown\n",
    "Changing the assertion to <code>assert x >= 0</code> allows the value <code>0</code> to pass without raising an error, whereas <code>assert x > 0</code> would fail if <code>x</code> were <code>0</code>. This change could lead to unexpected behavior in your program if you rely on <code>x</code> being strictly greater than <code>0</code> for correct functionality. It’s essential to understand the specific requirements of your code to ensure it behaves as intended.\n",
    "```"
   ]
  },
  {
   "cell_type": "markdown",
   "id": "8f9aba7f-b91c-4477-b7ad-51e3aa06711a",
   "metadata": {},
   "source": [
    "**Example with `try-except`**:\n",
    "\n",
    "If the input is coming from an unpredictable source (e.g., user input in a production environment), it’s better to handle it with try-except so the program doesn’t crash. For instance:"
   ]
  },
  {
   "cell_type": "code",
   "execution_count": null,
   "id": "359bd5d4-b8f3-429d-bc62-d64193bee2b8",
   "metadata": {},
   "outputs": [],
   "source": [
    "def calculate_square_root(x: int) -> int:\n",
    "    try:\n",
    "        if x < 0:\n",
    "            raise ValueError(\"Input must be a non-negative number\")\n",
    "        return x ** 0.5\n",
    "    except ValueError as e:\n",
    "        print(f\"Error: {e}\")\n",
    "        return None\n",
    "\n",
    "# example usage:\n",
    "print(calculate_square_root(9))   # outputs 3.0\n",
    "print(calculate_square_root(-4))  # outputs \"Error: Input must be a non-negative number\" and returns None"
   ]
  },
  {
   "cell_type": "markdown",
   "id": "74d018e6-6475-457c-9288-63e1981c8cd1",
   "metadata": {},
   "source": [
    "In this version, if a negative number is entered, it smoothly handles the error without crashing, which is more suitable for production scenarios where unexpected input is possible."
   ]
  },
  {
   "cell_type": "markdown",
   "id": "56256f1f-ed73-4a3b-845e-e1de9d52e123",
   "metadata": {},
   "source": [
    "**Note:** This is the **END of Part 1**. Before we begin with **Part 2**, please open the code editor of your choice and create two new **.py** files called `test_example.py` and `example.py`. This will be where you write your tests as you follow along."
   ]
  },
  {
   "cell_type": "markdown",
   "id": "c89e6392-8d70-42f3-a32f-4713f1715f11",
   "metadata": {},
   "source": [
    "## <span style=\"color:#4169E1\"> Part 2 - Writing Your First `pytest`</span>\n",
    "\n",
    "In your `example.py` file, let’s start with a basic function. \n",
    "1. Open your `example.py` file.\n",
    "2. Write the following code in it:\n",
    "\n",
    "```python\n",
    "# test_example.py\n",
    "\n",
    "def addition(num_1:int, num_2:int) -> int:\n",
    "    '''\n",
    "    This function adds 2 numbers together.\n",
    "    \n",
    "    Params:\n",
    "    num_1:int -> the first number\n",
    "    num_2: int -> the second number\n",
    "\n",
    "    Return:\n",
    "    An intiger wich is the result of adding num_1 and num_2 together.\n",
    "    '''\n",
    "    return num_1 + num_2\n",
    "```\n",
    "\n",
    "In general its good practice if we create functions that start with `test_` as test functions.  \n",
    "\n",
    "In your `test_example.py` file, let’s start with a few basic tests.\n",
    "\n",
    "1. Open your `test_example.py` file.\n",
    "2. Write the following code in it:\n",
    "\n",
    "\n",
    "```python\n",
    "# so we can use the function we created\n",
    "from example import addition\n",
    "\n",
    "def test_addition() -> any:\n",
    "        '''\n",
    "    This function tests if the addition() function works as expected.\n",
    "    \n",
    "    Params: None\n",
    "\n",
    "    Return:\n",
    "    A boolean (True) if the function works correctly or a string with an appropriate error message.\n",
    "    '''\n",
    "    assert addition(1,2) == 3, 'The function does not work correctly'\n",
    "    assert addition(3,4) == 7, 'The function does not work correctly'\n",
    "    assert addition(0,0) == 0, 'The function does not work correctly'\n",
    "```    \n",
    "    "
   ]
  },
  {
   "cell_type": "markdown",
   "id": "aebe15cd-ca10-40e4-8d3f-8ac0c4dc0dee",
   "metadata": {},
   "source": [
    "The `test_addition()` function is our first test. The `assert` statement checks if 1 + 2 equals 3, 3+4 equals 7 and so on. If it does, the test **passes**. Otherwise, pytest will `raise` an **error**, and the test will fail.  \n",
    "To **run the tests**, open your terminal (or command prompt), navigate to the directory containing `test_example.py`, and type:\n",
    "\n",
    "```bash\n",
    "pytest\n",
    "```"
   ]
  },
  {
   "cell_type": "markdown",
   "id": "bd40ff9b-1131-4792-85b5-639f19e05f4a",
   "metadata": {},
   "source": [
    "If everything works as intended, you should see the following message:\n",
    "\n",
    "```bash\n",
    "=========================================================== test session starts ===========================================================\n",
    "platform win32 -- Python 3.10.11, pytest-8.3.3, pluggy-1.5.0\n",
    "rootdir: <your directory name>\n",
    "plugins: anyio-4.0.0, typeguard-4.3.0\n",
    "collected 1 item                                                                                                                            \n",
    "\n",
    "test_example.py .                                                                                                                    [100%] \n",
    "\n",
    "============================================================ 1 passed in 0.02s ============================================================ \n",
    "```"
   ]
  },
  {
   "cell_type": "markdown",
   "id": "22474e5d-85f8-44c6-bd46-b65abd48a968",
   "metadata": {},
   "source": [
    "In case you run into any errors, check the next section (Error handling), otherwise skip the next section (Writing more tests)."
   ]
  },
  {
   "cell_type": "markdown",
   "id": "1d86b8bd-650c-4105-abf1-992b6f654745",
   "metadata": {},
   "source": [
    "#### <span style=\"color:#B22222\">Error handling (optional)</span>"
   ]
  },
  {
   "cell_type": "markdown",
   "id": "8065076a-0e4f-4834-9341-3b4d59e2dadf",
   "metadata": {},
   "source": [
    "In case you run into the following error:\n",
    "\n",
    "```bash\n",
    "pytest : The term 'pytest' is not recognized as the name of a cmdlet, function, script file, or operable program. Check the spelling of \n",
    "the name, or if a path was included, verify that the path is correct and try again.\n",
    "At line:1 char:1\n",
    "+ pytest\n",
    "+ ~~~~~~\n",
    "    + CategoryInfo          : ObjectNotFound: (pytest:String) [], CommandNotFoundException\n",
    "    + FullyQualifiedErrorId : CommandNotFoundException\n",
    "```\n",
    "\n",
    "Check if `pytest` is downloaded or not by writing this into your terminal: `pip show pytest`  \n",
    "If pytest is not found, use this command: `pip install pytest`\n",
    "\n",
    "If `pytest` is indeed installed and you still have the same error, try this command: `python -m pytest`  \n",
    "\n",
    "Hopefully now all is good and you should see the following message:\n",
    "\n",
    "```bash\n",
    "=========================================================== test session starts ===========================================================\n",
    "platform win32 -- Python 3.10.11, pytest-8.3.3, pluggy-1.5.0\n",
    "rootdir: <your directory name>\n",
    "plugins: anyio-4.0.0, typeguard-4.3.0\n",
    "collected 1 item                                                                                                                            \n",
    "\n",
    "test_example.py .                                                                                                                    [100%] \n",
    "\n",
    "============================================================ 1 passed in 0.02s ============================================================ \n",
    "```"
   ]
  },
  {
   "cell_type": "markdown",
   "id": "05df8743-47d7-4a8a-9510-0fdd9bbf8072",
   "metadata": {},
   "source": [
    "That's it for testing. Let's start practicing!"
   ]
  },
  {
   "cell_type": "markdown",
   "id": "cbe1f890-6b08-469a-9175-4101e3e68b23",
   "metadata": {
    "tags": []
   },
   "source": [
    "<h2 style=\"color:#3CB371\">Exercises</h2>"
   ]
  },
  {
   "cell_type": "markdown",
   "id": "f25bfe4b-cd83-4ac6-842d-bb849f75d15c",
   "metadata": {},
   "source": [
    "Let's practice! Mind that each exercise is designed with multiple levels to help you progressively build your skills. <span style=\"color:darkorange;\"><strong>Level 1</strong></span> is the foundational level, designed to be straightforward so that everyone can successfully complete it. In <span style=\"color:darkorange;\"><strong>Level 2</strong></span>, we step it up a notch, expecting you to use more complex concepts or combine them in new ways. Finally, in <span style=\"color:darkorange;\"><strong>Level 3</strong></span>, we get closest to exam level questions, but we may use some concepts that are not covered in this notebook. However, in programming, you often encounter situations where you’re unsure how to proceed. Fortunately, you can often solve these problems by starting to work on them and figuring things out as you go. Practicing this skill is extremely helpful, so we highly recommend completing these exercises.\n",
    "\n",
    "For each of the exercises, make sure to add a `docstring` and `type hints`, and **do not** import any libraries unless specified otherwise.\n",
    "<br>\n",
    "\n",
    "**Note**: To get the most out of these exercises, it is recommended that you create a new py file, called `pytest_exercises.py`, and solve the exercises bellow in that file."
   ]
  },
  {
   "cell_type": "markdown",
   "id": "c38a8f6b-25e1-402f-896a-bf69daf40ec5",
   "metadata": {
    "tags": []
   },
   "source": [
    "### Exercise 1\n",
    "\n",
    "<span style=\"color:darkorange;\"><strong>Level 1</strong>:</span> Write a function `celsius_to_fahrenheit(celsius)` that converts a temperature from Celsius to Fahrenheit. Create tests to verify that this function works for common values.\n",
    "\n",
    "**Hint**: 0 Celsius equals 32 Fahrenheit.\n",
    "\n",
    "**Example input**:\n",
    "\n",
    "```python\n",
    "celsius_to_fahrenheit(0)\n",
    "celsius_to_fahrenheit(100)\n",
    "celsius_to_fahrenheit(-40)\n",
    "\n",
    "```\n",
    "**Example output**:\n",
    "```\n",
    "32\n",
    "212\n",
    "-40\n",
    "```"
   ]
  },
  {
   "cell_type": "code",
   "execution_count": null,
   "id": "2f7f65d2-cc46-4e40-8e18-95eafa2166d8",
   "metadata": {},
   "outputs": [],
   "source": [
    "# TODO."
   ]
  },
  {
   "cell_type": "markdown",
   "id": "be855b33-fab9-4114-962c-8447660aad63",
   "metadata": {},
   "source": [
    "<span style=\"color:darkorange;\"><strong>Level 2</strong>:</span> Modify `celsius_to_fahrenheit()` to handle a list of Celsius values and return a list of Fahrenheit conversions. Write tests for this new functionality.\n",
    "\n",
    "**Example input**:\n",
    "\n",
    "```python\n",
    "celsius_to_fahrenheit([0, 100, -40])\n",
    "\n",
    "```\n",
    "**Example output**:\n",
    "```\n",
    "[32, 212, -40]\n",
    "```"
   ]
  },
  {
   "cell_type": "code",
   "execution_count": null,
   "id": "22bb5199-3850-4264-9a2d-db85300356ec",
   "metadata": {},
   "outputs": [],
   "source": [
    "# TODO"
   ]
  },
  {
   "cell_type": "markdown",
   "id": "00a92422-18f2-4555-aba9-7005c2939a1e",
   "metadata": {},
   "source": [
    "<span style=\"color:darkorange;\"><strong>Level 3</strong>:</span> Expand `celsius_to_fahrenheit()` to accept either a single value or a list of values. It should return a single Fahrenheit value if given a single Celsius input, or a list of values if given a list input. Write tests for both types of inputs.\n",
    "\n",
    "**Example input**:\n",
    "\n",
    "```python\n",
    "celsius_to_fahrenheit(0)\n",
    "celsius_to_fahrenheit([0, 100, -40])\n",
    "\n",
    "```\n",
    "**Example output**:\n",
    "```\n",
    "32\n",
    "[32, 212, -40]\n",
    "```"
   ]
  },
  {
   "cell_type": "code",
   "execution_count": null,
   "id": "a42028ba-3df0-46b2-9763-45973461e74d",
   "metadata": {},
   "outputs": [],
   "source": [
    "# TODO."
   ]
  },
  {
   "cell_type": "markdown",
   "id": "ae8b8f5b-1c7b-46a7-8980-bc0447328be1",
   "metadata": {},
   "source": [
    "### Exercise 2\n",
    "\n",
    "<span style=\"color:darkorange;\"><strong>Level 1</strong>:</span> Write a function `sum_even_numbers(lst)` that returns the sum of all even numbers in a list. Write tests to verify the function with lists containing both even and odd numbers.\n",
    "\n",
    "**Example input**:\n",
    "\n",
    "```python\n",
    "sum_even_numbers([1, 2, 3, 4])\n",
    "sum_even_numbers([10, 15, 20, 25])\n",
    "\n",
    "```\n",
    "**Example output**:\n",
    "```\n",
    "6\n",
    "30\n",
    "```"
   ]
  },
  {
   "cell_type": "code",
   "execution_count": null,
   "id": "b28251c6-c603-4dce-905c-123215dccec0",
   "metadata": {},
   "outputs": [],
   "source": [
    "# TODO."
   ]
  },
  {
   "cell_type": "markdown",
   "id": "1a499256-aaed-4444-8610-3397dd65fd1d",
   "metadata": {},
   "source": [
    "<span style=\"color:darkorange;\"><strong>Level 2</strong>:</span> Write a function `count_primes(lst)` that returns the count of prime numbers in a list. Write tests to verify the function works for lists with different values.\n",
    "\n",
    "**Example input**:\n",
    "```python\n",
    "count_primes([2, 3, 4, 5, 6])\n",
    "count_primes([10, 11, 12, 13, 14, 15])\n",
    "\n",
    "```\n",
    "**Example output**:\n",
    "```\n",
    "3\n",
    "2\n",
    "```"
   ]
  },
  {
   "cell_type": "code",
   "execution_count": null,
   "id": "51b8159d-fad7-4980-b7fd-0a8c10df6213",
   "metadata": {},
   "outputs": [],
   "source": [
    "# TODO."
   ]
  },
  {
   "cell_type": "markdown",
   "id": "e5b721a6-f296-4774-8b90-ce779200f204",
   "metadata": {},
   "source": [
    "<span style=\"color:darkorange;\"><strong>Level 3</strong>:</span> Write a `function find_divisors(n)` that returns a list of all divisors of a given number `n`. For example, `find_divisors(6)` should return `[1, 2, 3, 6]`. Write tests for numbers with different divisor structures.\n",
    "\n",
    "**Example input**:\n",
    "\n",
    "```python\n",
    "find_divisors(6)\n",
    "find_divisors(12)\n",
    "```\n",
    "\n",
    "**Example output**:\n",
    "```\n",
    "[1, 2, 3, 6]\n",
    "[1, 2, 3, 4, 6, 12]\n",
    "```"
   ]
  },
  {
   "cell_type": "code",
   "execution_count": null,
   "id": "e69cd7c6-57a2-4855-b5cf-31af9bcf0a0b",
   "metadata": {},
   "outputs": [],
   "source": [
    "# TODO."
   ]
  },
  {
   "cell_type": "markdown",
   "id": "f1706a62-9678-4be5-8e28-784679080376",
   "metadata": {},
   "source": [
    "### Exercise 3\n",
    "\n",
    "<span style=\"color:darkorange;\"><strong>Level 1</strong>:</span> Write a function `count_vowels(s)` that returns the count of vowels `(a, e, i, o, u)` in a given string. Write tests to verify the function on different strings.\n",
    "\n",
    "**Example input**:\n",
    "\n",
    "```python\n",
    "count_vowels(\"hello\")\n",
    "count_vowels(\"pytest\")\n",
    "```\n",
    "\n",
    "**Example output**:\n",
    "```\n",
    "2\n",
    "1\n",
    "```"
   ]
  },
  {
   "cell_type": "code",
   "execution_count": null,
   "id": "cdb748d4-4e3f-40c6-bd58-a62a956186e8",
   "metadata": {},
   "outputs": [],
   "source": [
    "# TODO."
   ]
  },
  {
   "cell_type": "markdown",
   "id": "07eec926-eb5d-46e2-9217-f0ea661f573c",
   "metadata": {},
   "source": [
    "<span style=\"color:darkorange;\"><strong>Level 2</strong>:</span> Write a function `capitalize_words(s)` that capitalizes the first letter of each word in a sentence. Write tests to verify correct capitalization for sentences with varying structures.\n",
    "\n",
    "**Example input**:\n",
    "\n",
    "```python\n",
    "capitalize_words(\"hello world\")\n",
    "capitalize_words(\"testing with pytest\")\n",
    "\n",
    "```\n",
    "**Example output**:\n",
    "```\n",
    "\"Hello World\"\n",
    "\"Testing With Pytest\"\n",
    "```"
   ]
  },
  {
   "cell_type": "code",
   "execution_count": null,
   "id": "9219cfb3-e258-4c08-94a2-c8784b8092d5",
   "metadata": {},
   "outputs": [],
   "source": [
    "# TODO."
   ]
  },
  {
   "cell_type": "markdown",
   "id": "34dfef58-778b-4bd4-830d-0e1635b38378",
   "metadata": {},
   "source": [
    "<span style=\"color:darkorange;\"><strong>Level 3</strong>:</span> Write a function `longest_word(s)` that returns the longest word in a sentence. In case of a tie, return the first longest word encountered. Write tests to verify the function with sentences of varying word lengths.\n",
    "\n",
    "**Example input**:\n",
    "\n",
    "```python\n",
    "longest_word(\"find the longest word here\")\n",
    "longest_word(\"multiple words with same length\")\n",
    "\n",
    "```\n",
    "**Example output**:\n",
    "```\n",
    "\"longest\"\n",
    "\"multiple\"\n",
    "```"
   ]
  },
  {
   "cell_type": "code",
   "execution_count": null,
   "id": "1cfdf892-9cfc-4666-b635-42cec23d3445",
   "metadata": {},
   "outputs": [],
   "source": [
    "# TODO."
   ]
  },
  {
   "cell_type": "markdown",
   "id": "9c063883-55f2-4a2c-a218-ca36c4760b67",
   "metadata": {},
   "source": [
    "___________________________________________________________________________________________________________________________\n",
    "\n",
    "*Material for the VU Amsterdam course “Introduction to Python Programming” for BSc Artificial Intelligence students. These notebooks are created using the following sources:*\n",
    "1. [Learning Python by Doing][learning python]: This book, developed by teachers of TU/e Eindhoven and VU Amsterdam, is the main source for the course materials. Code snippets or text explanations from the book may be used in the notebooks, sometimes with slight adjustments.\n",
    "2. [Think Python][think python]\n",
    "3. [GeekForGeeks][geekforgeeks]\n",
    "\n",
    "[learning python]: https://programming-pybook.github.io/introProgramming/intro.html\n",
    "[think python]: https://greenteapress.com/thinkpython2/html/\n",
    "[geekforgeeks]: https://www.geeksforgeeks.org"
   ]
  }
 ],
 "metadata": {
  "kernelspec": {
   "display_name": "Python 3 (ipykernel)",
   "language": "python",
   "name": "python3"
  },
  "language_info": {
   "codemirror_mode": {
    "name": "ipython",
    "version": 3
   },
   "file_extension": ".py",
   "mimetype": "text/x-python",
   "name": "python",
   "nbconvert_exporter": "python",
   "pygments_lexer": "ipython3",
   "version": "3.11.4"
  }
 },
 "nbformat": 4,
 "nbformat_minor": 5
}

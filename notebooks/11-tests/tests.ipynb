{
 "cells": [
  {
   "cell_type": "markdown",
   "id": "a68d7d58-e2ac-4e5f-9054-d3826e9df8dd",
   "metadata": {},
   "source": [
    "# Tests"
   ]
  },
  {
   "cell_type": "markdown",
   "id": "fa96b09f-cef9-40a9-8520-8520c1a0959d",
   "metadata": {},
   "source": [
    "*Material for the VU Amsterdam course “Introduction to Python Programming” for BSc Artificial Intelligence students. These notebooks are created using the following sources:*\n",
    "1. [Learning Python by Doing][learning python]: This book, developed by teachers of TU/e Eindhoven and VU Amsterdam, is the main source for the course materials. Code snippets or text explanations from the book may be used in the notebooks, sometimes with slight adjustments.\n",
    "2. [Think Python][think python]\n",
    "3. [GeekForGeeks][geekforgeeks]\n",
    "\n",
    "[learning python]: https://programming-pybook.github.io/introProgramming/intro.html\n",
    "[think python]: https://greenteapress.com/thinkpython2/html/\n",
    "[geekforgeeks]: https://www.geeksforgeeks.org\n",
    "\n",
    "**In this notebook, we cover the following subjects:**\n",
    "- TODO.\n",
    "___________________________________________________________________________________________________________________________"
   ]
  },
  {
   "cell_type": "code",
   "execution_count": null,
   "id": "f5662ea3-11b0-48d6-81db-2d18c2ba3c44",
   "metadata": {
    "tags": []
   },
   "outputs": [],
   "source": [
    "# To enable type hints for lists, dicts, tuples, and sets we need to import the following:\n",
    "from typing import List, Dict, Tuple, Set"
   ]
  },
  {
   "cell_type": "markdown",
   "id": "9c7df22d-78bc-4987-8e9f-e7b77d8fec0c",
   "metadata": {
    "tags": []
   },
   "source": [
    "<h2 style=\"color:#4169E1\">A Section Title</h2>"
   ]
  },
  {
   "cell_type": "markdown",
   "id": "124ccedf-95ea-4cd4-9666-efb4a6e5dfa4",
   "metadata": {},
   "source": [
    "<h4 style=\"color:#B22222\">A Subsection Title</h4>"
   ]
  },
  {
   "cell_type": "markdown",
   "id": "50ee5600-767a-4e6e-9e4f-ce34eac9c166",
   "metadata": {},
   "source": [
    "Example code:\n",
    "\n",
    "``` python\n",
    "class Person:\n",
    "    def __init__(self, name, age):\n",
    "        self.name = name  # Attribute: name\n",
    "        self.age = age    # Attribute: age\n",
    "```"
   ]
  },
  {
   "cell_type": "markdown",
   "id": "d4ed28fa-4884-4200-b1ba-aa58ef4274e9",
   "metadata": {},
   "source": [
    "<details>\n",
    "  <summary style=\"cursor: pointer; background-color: #d4edda; padding: 10px; border-radius: 5px; color: #155724; font-weight: bold;\">\n",
    "    Q: A Question?\n",
    "  </summary>\n",
    "<div style=\"background-color: #f4fdf7; padding: 12px; margin-top: 8px; border-radius: 6px; border: 1px solid #b7e4c7; color: #155724;\">\n",
    "    An answer.\n",
    "  </div>\n",
    "</details>"
   ]
  },
  {
   "cell_type": "markdown",
   "id": "b6a2be63-b930-4300-ba36-5f25783cf0f7",
   "metadata": {},
   "source": [
    "<div class=\"alert\" style=\"background-color: #ffecb3; color: #856404;\">\n",
    "    <b>Note</b> <br>\n",
    "The body of the note."
   ]
  },
  {
   "cell_type": "markdown",
   "id": "cbe1f890-6b08-469a-9175-4101e3e68b23",
   "metadata": {
    "tags": []
   },
   "source": [
    "<h2 style=\"color:#3CB371\">Exercises</h2>"
   ]
  },
  {
   "cell_type": "markdown",
   "id": "f25bfe4b-cd83-4ac6-842d-bb849f75d15c",
   "metadata": {},
   "source": [
    "Let's practice! Mind that each exercise is designed with multiple levels to help you progressively build your skills. <span style=\"color:darkorange;\"><strong>Level 1</strong></span> is the foundational level, designed to be straightforward so that everyone can successfully complete it. In <span style=\"color:darkorange;\"><strong>Level 2</strong></span>, we step it up a notch, expecting you to use more complex concepts or combine them in new ways. Finally, in <span style=\"color:darkorange;\"><strong>Level 3</strong></span>, we get closest to exam level questions, but we may use some concepts that are not covered in this notebook. However, in programming, you often encounter situations where you’re unsure how to proceed. Fortunately, you can often solve these problems by starting to work on them and figuring things out as you go. Practicing this skill is extremely helpful, so we highly recommend completing these exercises.\n",
    "\n",
    "For each of the exercises, make sure to add a `docstring` and `type hints`, and **do not** import any libraries unless specified otherwise.\n",
    "<br>"
   ]
  },
  {
   "cell_type": "markdown",
   "id": "c38a8f6b-25e1-402f-896a-bf69daf40ec5",
   "metadata": {
    "tags": []
   },
   "source": [
    "### Exercise 1\n",
    "\n",
    "<span style=\"color:darkorange;\"><strong>Level 1</strong>:</span> Description.\n",
    "\n",
    "**Example input**: you pass this argument to the parameter in the function call.\n",
    "\n",
    "```python\n",
    "some code\n",
    "\n",
    "```\n",
    "**Example output**:\n",
    "```\n",
    "some output\n",
    "```"
   ]
  },
  {
   "cell_type": "code",
   "execution_count": null,
   "id": "e950b30e-8cd1-42cf-9946-72186cc55ac9",
   "metadata": {},
   "outputs": [],
   "source": []
  }
 ],
 "metadata": {
  "kernelspec": {
   "display_name": "Python 3 (ipykernel)",
   "language": "python",
   "name": "python3"
  },
  "language_info": {
   "codemirror_mode": {
    "name": "ipython",
    "version": 3
   },
   "file_extension": ".py",
   "mimetype": "text/x-python",
   "name": "python",
   "nbconvert_exporter": "python",
   "pygments_lexer": "ipython3",
   "version": "3.11.5"
  }
 },
 "nbformat": 4,
 "nbformat_minor": 5
}

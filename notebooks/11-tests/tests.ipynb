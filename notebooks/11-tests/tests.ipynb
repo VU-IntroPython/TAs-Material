{
 "cells": [
  {
   "cell_type": "markdown",
   "id": "a68d7d58-e2ac-4e5f-9054-d3826e9df8dd",
   "metadata": {},
   "source": [
    "# Tests"
   ]
  },
  {
   "cell_type": "markdown",
   "id": "b5f9d193-3489-403f-a51c-333875df00ec",
   "metadata": {},
   "source": [
    "**In this notebook, we cover the following subjects:**\n",
    "\n",
    "- The `assert` statement for simple, inline testing,\n",
    "- The `unittest` module for structured testing,\n",
    "- The `pytest` module for flexible and powerful testing.\n",
    "___________________________________________________________________________________________________________________________"
   ]
  },
  {
   "cell_type": "code",
   "execution_count": 37,
   "id": "f5662ea3-11b0-48d6-81db-2d18c2ba3c44",
   "metadata": {
    "tags": []
   },
   "outputs": [],
   "source": [
    "# To enable type hints for lists, dicts, tuples, and sets we need to import the following:\n",
    "from typing import List, Dict, Tuple, Set"
   ]
  },
  {
   "cell_type": "markdown",
   "id": "21ed97af-5e8d-4e51-8176-99ec80faeee6",
   "metadata": {},
   "source": [
    "Testing is an essential skill in any programmer's toolkit. It ensures our code runs as expected, catches bugs early, and gives us confidence in the software we create. In this notebook, we’re going to dive into three powerful tools in Python’s testing arsenal:\n",
    "\n",
    "- `assert`: A quick way to check conditions and catch unexpected behavior.\n",
    "- `unittest`: A structured testing framework to build and organize test cases.\n",
    "- `pytest`: A versatile testing framework that's simple for beginners yet powerful for complex testing needs.\n",
    "\n",
    "You’ve already worked with `exceptions`(Notebook 8), learning how to handle errors gracefully when they arise. Now, we’ll explore how to prevent them from happening in the first place by actively testing our code. By the end of this chapter, you'll be comfortable writing, running, and understanding tests in Python. \n",
    "\n",
    "Let’s dive in!"
   ]
  },
  {
   "cell_type": "markdown",
   "id": "42897149-ba61-41cd-bc57-94cf42d353bb",
   "metadata": {},
   "source": [
    "## <span style=\"color:#4169E1\">Using `assert` for Basic Testing</span>"
   ]
  },
  {
   "cell_type": "markdown",
   "id": "bdc90d78-2ad3-4096-b08a-558846ea6262",
   "metadata": {},
   "source": [
    "The `assert` statement in Python is a simple yet powerful way to verify that a condition holds true. It’s commonly used for quick checks or to validate assumptions in code. If the condition you’re testing is `True`, the program continues as expected. However, if the condition is `False`, an `AssertionError` is raised, and the program stops. This is particularly useful when you want to catch potential bugs early on."
   ]
  },
  {
   "cell_type": "markdown",
   "id": "124ccedf-95ea-4cd4-9666-efb4a6e5dfa4",
   "metadata": {},
   "source": [
    "#### <span style=\"color:#B22222\">Syntax of `assert`</span>"
   ]
  },
  {
   "cell_type": "markdown",
   "id": "caaa54fe-e7ad-4181-bb24-0f3a8b8b7cf1",
   "metadata": {},
   "source": [
    "The basic syntax of an `assert` statement is as follows:\n",
    "\n",
    "```python\n",
    "assert <condition>, <optional error message>\n",
    "```\n",
    "- `<condition>`: This is the expression you want to test. If it evaluates to True, the program continues running. If it’s False, Python raises an AssertionError.\n",
    "- `<optional error message>`: This is an optional message that will display if the assertion fails, helping you understand what went wrong.\n"
   ]
  },
  {
   "cell_type": "markdown",
   "id": "111ead62-4d74-411b-a2e3-de3b1365d348",
   "metadata": {},
   "source": [
    "Now that we know the theory behind the syntax, let's look at a few examples!"
   ]
  },
  {
   "cell_type": "markdown",
   "id": "d6d63ee3-ea14-4b4f-80e8-8afb0ac18f0d",
   "metadata": {},
   "source": [
    "Let’s say we have a function that expects **positive numbers only**. We can use an `assert` statement to ensure this requirement:"
   ]
  },
  {
   "cell_type": "code",
   "execution_count": 26,
   "id": "95af0fd8-69e9-45a5-b4d5-a8f8f7be66a0",
   "metadata": {},
   "outputs": [
    {
     "name": "stdout",
     "output_type": "stream",
     "text": [
      "10\n"
     ]
    },
    {
     "ename": "AssertionError",
     "evalue": "Number must be positive",
     "output_type": "error",
     "traceback": [
      "\u001b[1;31m---------------------------------------------------------------------------\u001b[0m",
      "\u001b[1;31mAssertionError\u001b[0m                            Traceback (most recent call last)",
      "Cell \u001b[1;32mIn[26], line 6\u001b[0m\n\u001b[0;32m      3\u001b[0m     \u001b[38;5;28;01mreturn\u001b[39;00m number \u001b[38;5;241m*\u001b[39m \u001b[38;5;241m2\u001b[39m\n\u001b[0;32m      5\u001b[0m \u001b[38;5;28mprint\u001b[39m(process_number(\u001b[38;5;241m5\u001b[39m))    \u001b[38;5;66;03m# Works fine\u001b[39;00m\n\u001b[1;32m----> 6\u001b[0m \u001b[38;5;28mprint\u001b[39m(\u001b[43mprocess_number\u001b[49m\u001b[43m(\u001b[49m\u001b[38;5;241;43m-\u001b[39;49m\u001b[38;5;241;43m3\u001b[39;49m\u001b[43m)\u001b[49m)   \u001b[38;5;66;03m# Raises AssertionError: \"Number must be positive\"\u001b[39;00m\n",
      "Cell \u001b[1;32mIn[26], line 2\u001b[0m, in \u001b[0;36mprocess_number\u001b[1;34m(number)\u001b[0m\n\u001b[0;32m      1\u001b[0m \u001b[38;5;28;01mdef\u001b[39;00m \u001b[38;5;21mprocess_number\u001b[39m(number: \u001b[38;5;28mint\u001b[39m):\n\u001b[1;32m----> 2\u001b[0m     \u001b[38;5;28;01massert\u001b[39;00m number \u001b[38;5;241m>\u001b[39m \u001b[38;5;241m0\u001b[39m, \u001b[38;5;124m\"\u001b[39m\u001b[38;5;124mNumber must be positive\u001b[39m\u001b[38;5;124m\"\u001b[39m\n\u001b[0;32m      3\u001b[0m     \u001b[38;5;28;01mreturn\u001b[39;00m number \u001b[38;5;241m*\u001b[39m \u001b[38;5;241m2\u001b[39m\n",
      "\u001b[1;31mAssertionError\u001b[0m: Number must be positive"
     ]
    }
   ],
   "source": [
    "def process_number(number: int):\n",
    "    assert number > 0, \"Number must be positive\"\n",
    "    return number * 2\n",
    "\n",
    "print(process_number(5))    # works fine\n",
    "print(process_number(-3))   # raises AssertionError: \"Number must be positive\""
   ]
  },
  {
   "cell_type": "markdown",
   "id": "06bb66e6-7788-4518-85fc-94574ce72fa3",
   "metadata": {},
   "source": [
    "In the above example, if `n` is **positive**, the function continues and **returns the result**. However, if `n` is **negative**, it **raises** an `AssertionError` with a helpful message.\n",
    "\n",
    "Let's look at one more example:"
   ]
  },
  {
   "cell_type": "code",
   "execution_count": 43,
   "id": "9bcbf2f6-9c37-4cbe-b3b1-beb897e8f78b",
   "metadata": {},
   "outputs": [
    {
     "name": "stdout",
     "output_type": "stream",
     "text": [
      "User Alice is successfully validated.\n"
     ]
    }
   ],
   "source": [
    "def validate_user(user: Dict[str, any]) -> str:\n",
    "    \"\"\"\n",
    "    Validates user information for sign-up.\n",
    "\n",
    "    Args:\n",
    "        user (dict): A dictionary containing user data with required keys:\n",
    "                     - 'username': a string with at least 3 characters\n",
    "                     - 'age': an integer greater than 12\n",
    "                     - 'email': a string containing an '@' symbol\n",
    "\n",
    "    Returns:\n",
    "        str: A success message if all validation checks pass.\n",
    "\n",
    "    Raises:\n",
    "        AssertionError: If any validation check fails, with a message describing the error.\n",
    "    \"\"\"\n",
    "    \n",
    "    # check if user is a dictionary\n",
    "    assert isinstance(user, dict), \"User information must be a dictionary.\"\n",
    "    \n",
    "    # check for required keys\n",
    "    required_keys = {\"username\", \"age\", \"email\"}\n",
    "    assert required_keys.issubset(user.keys()), f\"User data must include {required_keys}\"\n",
    "    \n",
    "    # check if username is a string with at least 3 characters\n",
    "    assert isinstance(user[\"username\"], str) and len(user[\"username\"]) >= 3, \"Username must be a string with at least 3 characters.\"\n",
    "    \n",
    "    # check if age is an integer greater than 12\n",
    "    assert isinstance(user[\"age\"], int) and user[\"age\"] > 12, \"Age must be an integer greater than 12.\"\n",
    "    \n",
    "    # check if email contains an '@' symbol\n",
    "    assert \"@\" in user[\"email\"], \"Email must contain an '@' symbol.\"\n",
    "    \n",
    "    # ff all assertions pass, return a success message\n",
    "    return f\"User {user['username']} is successfully validated.\"\n",
    "\n",
    "# test with valid user data\n",
    "print(validate_user({\"username\": \"Alice\", \"age\": 25, \"email\": \"alice@example.com\"}))\n",
    "\n",
    "# test with invalid user data\n",
    "# print(validate_user({\"username\": \"Al\", \"age\": 10, \"email\": \"aliceexample.com\"}))  # Raises AssertionError: \"Username must be a string with at least 3 characters.\"\n"
   ]
  },
  {
   "cell_type": "markdown",
   "id": "23a7984c-4247-4d70-a4ca-668f5d51995c",
   "metadata": {},
   "source": [
    "\n",
    "The above function (`validate_user`) checks if a user's information meets certain requirements during sign-up. \n",
    "\n",
    "- It takes a **dictionary** with the user's details and verifies that it includes the necessary **keys: 'username', 'age', and 'email'**. \n",
    "- The function ensures the **username** is at least **three characters** long,\n",
    "- the **age** is an **integer** greater than **12**\n",
    "- and the **email** contains an **'@'** symbol.\n",
    "\n",
    "If any of these checks **fail**, it raises an `assertion error` with a message explaining what went wrong. If everything is **correct**, it `returns a success message` confirming the user has been validated."
   ]
  },
  {
   "cell_type": "markdown",
   "id": "4a56de12-6348-439d-809f-dbfe0e2ad849",
   "metadata": {},
   "source": [
    "#### <span style=\"color:#B22222\">When to Use `assert`</span>"
   ]
  },
  {
   "cell_type": "markdown",
   "id": "cb5797aa-a8b4-40d5-8911-8cf04a14b4c2",
   "metadata": {},
   "source": [
    "The `assert` statement is great for situations where you need **quick, in-line checks**. However, it’s generally used in scenarios where you’re confident the conditions should hold under normal circumstances. If you’re unsure whether a condition might fail in a production environment, consider handling the error with a `try-except` block instead."
   ]
  },
  {
   "cell_type": "markdown",
   "id": "55371ffc-6901-4595-bcbb-5989bb322bb1",
   "metadata": {},
   "source": [
    "<details> <summary style=\"cursor: pointer; background-color: #d4edda; padding: 10px; border-radius: 5px; color: #155724; font-weight: bold;\"> Q: What will happen if you change an assertion from <code>assert x > 10</code> to <code> assert x >= 10</code> in your code? </summary> <div style=\"background-color: #f4fdf7; padding: 12px; margin-top: 8px; border-radius: 6px; border: 1px solid #b7e4c7; color: #155724;\"> Changing the assertion to <code>assert x >= 10</code> allows the value <code>10</code> to pass without raising an error, whereas <code>assert x > 10</code> would fail if <code>x</code> were <code>10</code>. This change could lead to unexpected behavior in your program if you rely on <code>x</code> being strictly greater than <code>10</code> for correct functionality. It’s essential to understand the specific requirements of your code to ensure it behaves as intended. </div> </details>"
   ]
  },
  {
   "cell_type": "markdown",
   "id": "4d761e1a-9792-4032-acc2-5584a8ee818e",
   "metadata": {},
   "source": [
    "## <span style=\"color:#4169E1\">Introduction to `pytest`</span>"
   ]
  },
  {
   "cell_type": "markdown",
   "id": "22fbdef3-bb7c-4be7-9943-856d05741fa6",
   "metadata": {},
   "source": [
    "As we've seen, `assertions` are powerful tools for checking conditions in our code. They allow us to validate that our functions return the expected results, helping us catch errors early in the development process. While assertions are great for quick checks, they can become cumbersome to manage as our codebase grows and the number of tests increases.\n",
    "\n",
    "This is where testing frameworks like `pytest` come into play. `pytest` offers a more flexible and efficient approach to structuring and running tests, making it easier to organize our assertions and get detailed feedback on our test results. Unlike traditional assertion statements, pytest allows us to write test functions that can be executed with simple commands, providing a clean and powerful way to ensure our code remains reliable over time."
   ]
  },
  {
   "cell_type": "markdown",
   "id": "9c32339d-14a5-4fa6-a442-314b46c6ff8a",
   "metadata": {},
   "source": [
    "#### <span style=\"color:#B22222\">`pytest` Terminology</span>"
   ]
  },
  {
   "cell_type": "markdown",
   "id": "3c12cd4c-2a32-469d-8adb-b15388373aad",
   "metadata": {},
   "source": [
    "Let's go trough some of the key terms commonly used in `pytest`, providing a clearer understanding of the framework.\n",
    "\n",
    "| Term               | Description                                                                                       |\n",
    "|--------------------|---------------------------------------------------------------------------------------------------|\n",
    "| **Test Function**   | A function defined to test a specific feature or behavior of the code. It usually starts with `test_`. |\n",
    "| **Assertion**       | A statement that checks whether a condition is true. If false, the test fails. Assertions are written using the `assert` keyword. |"
   ]
  },
  {
   "cell_type": "markdown",
   "id": "c2e4519b-3222-4612-b5a0-8a4845089b82",
   "metadata": {},
   "source": [
    "#### <span style=\"color:#B22222\">Possible Outcomes of the Tests</span>"
   ]
  },
  {
   "cell_type": "markdown",
   "id": "429c8e12-0e4d-4963-aeca-2c14e92bae37",
   "metadata": {},
   "source": [
    "When you run tests in `pytest`, you may encounter different outcomes based on the results of the test assertions. Here are the key outcomes:\n",
    "\n",
    "| Outcome            | Description                                                                                       |\n",
    "|--------------------|---------------------------------------------------------------------------------------------------|\n",
    "| **Passed**         | The test ran successfully and all assertions were true. The output will indicate the test passed. |\n",
    "| **Failed**         | One or more assertions in the test were false. The output will show the failure reason, including the expected and actual values. |\n",
    "| **Skipped**        | The test was intentionally skipped, often due to a decorator like `@pytest.mark.skip`. This is useful for tests that are not relevant under certain conditions. |\n",
    "| **Errored**        | An unexpected error occurred during the test execution (e.g., a syntax error or exception). This outcome indicates the test could not be completed. |\n",
    "| **Failed (with warnings)** | The test passed but issued warnings. This outcome indicates potential issues that might need attention. The warnings are shown in the output. |\n"
   ]
  },
  {
   "cell_type": "markdown",
   "id": "03374a0f-b747-47b1-9efe-30803d62c6bd",
   "metadata": {},
   "source": [
    "Now that we are equipped with the neccessary knowledge, let's write a few `pytests`!"
   ]
  },
  {
   "cell_type": "markdown",
   "id": "ff0ea3c7-1e02-4626-8b9f-7533c967bd75",
   "metadata": {},
   "source": [
    " #### <span style=\"color:#B22222\">Creating a Test Case with `pytest`</span>"
   ]
  },
  {
   "cell_type": "markdown",
   "id": "55de0932-2b52-420b-a492-7344a03d0579",
   "metadata": {},
   "source": [
    "To create a test case in pytest, follow these steps:\n",
    "1) Import `ipytest`: This library provides the tools needed for testing in Python.\n",
    "2) Define the Function to Be Tested**: Write the function you want to test. This should include the logic you want to validate.\n",
    "3) Create Test Functions: Define functions that will test the behavior of your code. Each function name should **start with** `test_` so that pytest recognizes them as tests.\n",
    "4) Use Assertions: Inside the test functions, use the `assert` statement to check if the output of the function matches the expected result.\n",
    "\n",
    "Let's look at an example:"
   ]
  },
  {
   "cell_type": "code",
   "execution_count": null,
   "id": "2e196f79-4ba3-404c-bbf3-aa5fca1021e8",
   "metadata": {},
   "outputs": [],
   "source": [
    "import ipytest\n",
    "ipytest.autoconfig()\n",
    "\n",
    "def add(a: int, b: int) -> int:\n",
    "    \"\"\"Add two integers and return the result.\"\"\"\n",
    "    return a + b\n",
    "\n",
    "def test_add_positive_numbers():\n",
    "    \"\"\"Test addition of two positive numbers.\"\"\"\n",
    "    assert add(2, 3) == 5\n",
    "\n",
    "def test_add_negative_numbers():\n",
    "    \"\"\"Test addition of two negative numbers.\"\"\"\n",
    "    assert add(-1, -1) == -2\n",
    "\n",
    "def test_add_zero():\n",
    "    \"\"\"Test addition of zero with a positive number.\"\"\"\n",
    "    assert add(0, 5) == 5\n",
    "\n",
    "ipytest.run('-vv')"
   ]
  },
  {
   "cell_type": "markdown",
   "id": "278e3de9-c630-4fc3-a783-a43a713c3551",
   "metadata": {},
   "source": [
    "Let’s break down the above code step-by-step:\n",
    "\n",
    "- First, we imported the `ipytest library`, which provides the tools needed for testing in Python. This library makes its features available for use in our test script, allowing us to write and run our tests easily.\n",
    "\n",
    "- Next, we defined a function called `add()`. This function takes two parameters, `a` and `b`, which are both expected to be integers. The function simply adds these two numbers together and returns the result. For example, if someone called `add(2, 3)`, it would return 5.\n",
    "\n",
    "- Then, we created several test functions to validate different scenarios for the `add()` function. Each test function is prefixed with `test_`, ensuring that pytest recognizes them as tests to be executed:\n",
    "\n",
    "- The first test function, `test_add_positive_numbers()`, validates the addition of **two positive integers**. Inside this function, we use an `assert` statement to check that the result of `add(2, 3)` is equal to `5`. If this assertion holds `true`, the test passes; otherwise, it `fails`.\n",
    "\n",
    "- The second test function, `test_add_negative_numbers()`, checks if the `add()` function can handle **negative numbers** correctly. In this case, we `assert` that `add(-1, -1)` should equal `-2`.\n",
    "\n",
    "- The third test function, `test_add_zero()`, verifies the behavior of the `add()` function when **adding zero** to a positive integer. We assert that `add(0, 5)` equals `5`, confirming that the function correctly handles the addition of zero."
   ]
  },
  {
   "cell_type": "markdown",
   "id": "97719161-1b59-49fe-aab7-38ef9b17e96c",
   "metadata": {},
   "source": [
    "## <span style=\"color:#4169E1\">Introduction to `unittest`</span>"
   ]
  },
  {
   "cell_type": "markdown",
   "id": "c80751a5-e92b-4eeb-a527-bc6ec4aff350",
   "metadata": {},
   "source": [
    "Building on the concept of assertions, we can delve into testing frameworks like `unittest` or `pytest`. These frameworks allow us to write structured tests for our code, including the validation functions we've created. While assertions are great for quick checks, testing frameworks provide a more comprehensive way to organize, run, and report on our tests. This ensures that our code not only works as expected but also continues to do so as we make changes in the future. Let’s explore how we can use `unittest` to create and manage our tests effectively!"
   ]
  },
  {
   "cell_type": "markdown",
   "id": "22d5de3f-1fd3-4299-89e5-d84320a33673",
   "metadata": {},
   "source": [
    "Python's `unittest` module is a framework for creating and running tests on your code. It organizes tests into classes, where each test is a method. This makes it a great choice for more structured testing.\n",
    "\n",
    "Before we start writing our own tests, let's look at some terminology."
   ]
  },
  {
   "cell_type": "markdown",
   "id": "db500491-a06e-44ee-aadd-ba6bfa550493",
   "metadata": {},
   "source": [
    "#### <span style=\"color:#B22222\">`unittest` Terminology</span>"
   ]
  },
  {
   "cell_type": "markdown",
   "id": "f0a8fcad-6ba7-471d-9458-a40e836d289f",
   "metadata": {},
   "source": [
    "Let's look at the most common terminology used within the `unittest` framework in Python. Understanding these terms will help you grasp the fundamentals of unit testing and effectively utilize the framework in your projects.\n",
    "\n",
    "| **Term**          | **Description**                                                                                                                                               |\n",
    "|-------------------|---------------------------------------------------------------------------------------------------------------------------------------------------------------|\n",
    "| **Test Case**      | A single unit of testing that checks a specific response from a function based on a given set of inputs. In `unittest`, test cases are created by defining methods in a class that inherits from `unittest.TestCase`. |\n",
    "| **Test Suite**     | A collection of test cases that are grouped together to be executed at the same time. It allows developers to run multiple tests in a single command.                        |\n",
    "| **Test Runner**    | A component that executes the tests and provides feedback on the results. It can be a command-line tool, a graphical interface, or any other method that shows whether tests passed or failed. |\n",
    "| **Assertion**      | A statement that checks whether a certain condition is true. In `unittest`, methods like `assertEqual` are used to verify that the output of a function matches the expected result. If the assertion fails, the test fails. |\n",
    "| **Pass/Fail**      | A test is considered a **pass** if the actual output matches the expected output. If they do not match, the test is a **fail**. Understanding these outcomes helps in debugging and improving code quality. |\n"
   ]
  },
  {
   "cell_type": "markdown",
   "id": "eaffaf46-018d-47a5-9d13-ccb03d0fee7e",
   "metadata": {},
   "source": [
    "#### <span style=\"color:#B22222\">Possible Outcomes of the Tests</span>"
   ]
  },
  {
   "cell_type": "markdown",
   "id": "42ce9988-0a0a-4190-8e93-b98c24b729a2",
   "metadata": {},
   "source": [
    "When running `unit` tests, the possible outcomes are as follows:\n",
    "\n",
    "| Outcome         | Description                                                                 |\n",
    "|------------------|-----------------------------------------------------------------------------|\n",
    "| **Test Passed**   | The test case successfully verified that the function produced the expected output. No errors occurred. |\n",
    "| **Test Failed**   | The test case did not produce the expected output. An error message will indicate the expected and actual values, highlighting the discrepancy. |\n",
    "| **Error**         | An error occurred while executing the test, which may not be related to the function being tested. This could be due to syntax errors, missing dependencies, or other runtime issues. |\n",
    "\n",
    "Understanding Test Results\n",
    "\n",
    "1. **Test Passed**: If all tests pass, it indicates that the functions or methods are working as intended for the provided test cases. This gives confidence in the correctness of the implementation.\n",
    "\n",
    "2. **Test Failed**: If a test fails, the output will indicate the expected value and the actual output, such as:\n"
   ]
  },
  {
   "cell_type": "markdown",
   "id": "dbc8e55f-3233-4b53-a3bc-3825a553e393",
   "metadata": {},
   "source": [
    "Now that we understand the terminology, let's write our first `unittest`, shall we?"
   ]
  },
  {
   "cell_type": "markdown",
   "id": "bc34e987-4f33-4a45-add8-55041ca68626",
   "metadata": {},
   "source": [
    "#### <span style=\"color:#B22222\">Creating a Test Case with `unittest`</span>"
   ]
  },
  {
   "cell_type": "markdown",
   "id": "80d1fb18-e524-468f-8ed9-34c7dcd43f7c",
   "metadata": {},
   "source": [
    "To create a **test case**, follow these steps:\n",
    "\n",
    "1. Import the `unittest` module: This library provides the tools needed for unit testing in Python.\n",
    "2. Create a class that inherits from `unittest.TestCase`: By doing this, you can utilize the built-in methods for writing tests.\n",
    "3. Define test methods within the class: Each method name should start with `test_` to ensure that the `test runner` recognizes it as a test to be executed.\n",
    "\n",
    "Below is an example of how to set up a test case for a simple function:"
   ]
  },
  {
   "cell_type": "code",
   "execution_count": 154,
   "id": "b584a6d0-3dff-430f-8568-5ee8681e4f89",
   "metadata": {},
   "outputs": [
    {
     "name": "stderr",
     "output_type": "stream",
     "text": [
      "......\n",
      "----------------------------------------------------------------------\n",
      "Ran 6 tests in 0.003s\n",
      "\n",
      "OK\n"
     ]
    },
    {
     "data": {
      "text/plain": [
       "<unittest.main.TestProgram at 0x2615d10b3d0>"
      ]
     },
     "execution_count": 154,
     "metadata": {},
     "output_type": "execute_result"
    }
   ],
   "source": [
    "import unittest\n",
    "\n",
    "# function to be tested\n",
    "def add(a:int, b:int):\n",
    "    return a + b\n",
    "\n",
    "# define the test case\n",
    "class TestAddFunction(unittest.TestCase):\n",
    "    def test_add_positive_numbers(self):\n",
    "        self.assertEqual(add(2, 3), 5)\n",
    "\n",
    "    def test_add_negative_numbers(self):\n",
    "        self.assertEqual(add(-1, -1), -2)\n",
    "\n",
    "# run the tests\n",
    "unittest.main(argv=[''], exit=False)"
   ]
  },
  {
   "cell_type": "markdown",
   "id": "f20ddf39-cd37-4fde-8262-2d5a68a0d380",
   "metadata": {},
   "source": [
    "Let’s break down the above code step-by-step:\r\n",
    "\r\n",
    "1. First, we imported the `unittest` library, which is a built-in Python module designed for testing. The `unittest` unit testing framework provides us with tools and methods that make it easier to check if the functions work as expected.\r\n",
    "\r\n",
    "2. Next, we defined a function called `add()`. This function takes two parameters, `a` and `b`, which are both expected to be integers. The function simply adds these two numbers together and returns the result. For example, if someone called `add(2, 3)`, it returns `5`.\r\n",
    "\r\n",
    "3. Then, a **test case** was set up. A `test case` is a single unit of testing that checks specific functionalities. By creating a class called `TestAddFunction` that inherited from `unittest.TestCase`, the code could use various testing methods provided by the `unittest` framework.\r\n",
    "\r\n",
    "4. The first test was used to check if the `add` function worked correctly when adding two **positive numbers**. Inside this method, `self.assertEqual(...)` was used to assert that the result of `add(2, 3)` should be equal to `5`. If that was the case, the test **passed**; if not, it **failed**.\r\n",
    "\r\n",
    "5. Next, another test, `test_add_negative_numbers`, checked if the `add` function could handle negative numbers correctly. We asserted that `add(-1, -1)` should equal `-2`.\r\n",
    "\r\n",
    "6. Finally, we called `unittest.main()` to run the tests. The parameters `argv=['']` prevented the script from interpreting any command-line arguments, and `exit=False` kept the script from shutting down after the tests ran, which was necessary since we were running it from a Jupytdetail later.\r\n"
   ]
  },
  {
   "cell_type": "markdown",
   "id": "84738a2d-701e-4048-b03d-973f8b1ca408",
   "metadata": {},
   "source": [
    "Let's look at another example."
   ]
  },
  {
   "cell_type": "code",
   "execution_count": 84,
   "id": "4041ec83-5df3-4eb8-bb95-562815eb12a7",
   "metadata": {},
   "outputs": [
    {
     "name": "stderr",
     "output_type": "stream",
     "text": [
      "......\n",
      "----------------------------------------------------------------------\n",
      "Ran 6 tests in 0.004s\n",
      "\n",
      "OK\n"
     ]
    },
    {
     "data": {
      "text/plain": [
       "<unittest.main.TestProgram at 0x2615caf9b10>"
      ]
     },
     "execution_count": 84,
     "metadata": {},
     "output_type": "execute_result"
    }
   ],
   "source": [
    "# functions to be tested\n",
    "def celsius_to_fahrenheit(celsius: float) -> float:\n",
    "    return (celsius * 9/5) + 32\n",
    "\n",
    "def fahrenheit_to_celsius(fahrenheit: float) -> float:\n",
    "    return (fahrenheit - 32) * 5/9\n",
    "\n",
    "# test functions\n",
    "class TestTemperatureConversion(unittest.TestCase):\n",
    "    def test_celsius_to_fahrenheit(self):\n",
    "        self.assertAlmostEqual(celsius_to_fahrenheit(0), 32)\n",
    "        self.assertAlmostEqual(celsius_to_fahrenheit(100), 212)\n",
    "\n",
    "    def test_fahrenheit_to_celsius(self):\n",
    "        self.assertAlmostEqual(fahrenheit_to_celsius(32), 0)\n",
    "        self.assertAlmostEqual(fahrenheit_to_celsius(212), 100)\n",
    "\n",
    "    def test_celsius_to_fahrenheit_negative(self):\n",
    "        self.assertAlmostEqual(celsius_to_fahrenheit(-40), -40)\n",
    "\n",
    "    def test_fahrenheit_to_celsius_negative(self):\n",
    "        self.assertAlmostEqual(fahrenheit_to_celsius(-40), -40)\n",
    "\n",
    "# run the tests\n",
    "unittest.main(argv=[''], exit=False)"
   ]
  },
  {
   "cell_type": "markdown",
   "id": "fd337059-f1d5-404b-8329-0f007f957b0a",
   "metadata": {},
   "source": [
    "In this second example, we defined two functions and four test cases for temperature conversion:\n",
    "\n",
    "**Functions:**\n",
    "\n",
    "- `celsius_to_fahrenheit(celsius: float)`: Converts Celsius to Fahrenheit.\n",
    "- `fahrenheit_to_celsius(fahrenheit: float)`: Converts Fahrenheit to Celsius.\n",
    "\n",
    "**Test Functions:**\n",
    "\n",
    "- `test_celsius_to_fahrenheit`: Tests the conversion of 0°C and 100°C to Fahrenheit.\n",
    "- `test_fahrenheit_to_celsius`: Tests the conversion of 32°F and 212°F to Celsius.\n",
    "- `test_celsius_to_fahrenheit_negative`: Tests the conversion of -40°C to Fahrenheit.\n",
    "- `test_fahrenheit_to_celsius_negative`: Tests the conversion of -40°F to Celsius.\n",
    "\n",
    "Each test checks that the conversion functions return the expected results using `assertAlmostEqual`, which is useful for comparing floating-point numbers. This structure allows you to easily test the functions without using classes for the test cases themselves."
   ]
  },
  {
   "cell_type": "markdown",
   "id": "b6a2be63-b930-4300-ba36-5f25783cf0f7",
   "metadata": {},
   "source": [
    "<div class=\"alert\" style=\"background-color: #ffecb3; color: #856404;\">\n",
    "    <b>Note</b> <br>\n",
    "The body of the note."
   ]
  },
  {
   "cell_type": "markdown",
   "id": "cbe1f890-6b08-469a-9175-4101e3e68b23",
   "metadata": {
    "tags": []
   },
   "source": [
    "<h2 style=\"color:#3CB371\">Exercises</h2>"
   ]
  },
  {
   "cell_type": "markdown",
   "id": "f25bfe4b-cd83-4ac6-842d-bb849f75d15c",
   "metadata": {},
   "source": [
    "Let's practice! Mind that each exercise is designed with multiple levels to help you progressively build your skills. <span style=\"color:darkorange;\"><strong>Level 1</strong></span> is the foundational level, designed to be straightforward so that everyone can successfully complete it. In <span style=\"color:darkorange;\"><strong>Level 2</strong></span>, we step it up a notch, expecting you to use more complex concepts or combine them in new ways. Finally, in <span style=\"color:darkorange;\"><strong>Level 3</strong></span>, we get closest to exam level questions, but we may use some concepts that are not covered in this notebook. However, in programming, you often encounter situations where you’re unsure how to proceed. Fortunately, you can often solve these problems by starting to work on them and figuring things out as you go. Practicing this skill is extremely helpful, so we highly recommend completing these exercises.\n",
    "\n",
    "For each of the exercises, make sure to add a `docstring` and `type hints`, and **do not** import any libraries unless specified otherwise.\n",
    "<br>"
   ]
  },
  {
   "cell_type": "markdown",
   "id": "c38a8f6b-25e1-402f-896a-bf69daf40ec5",
   "metadata": {
    "tags": []
   },
   "source": [
    "### Exercise 1\n",
    "\n",
    "<span style=\"color:darkorange;\"><strong>Level 1</strong>:</span> Description.\n",
    "\n",
    "**Example input**: you pass this argument to the parameter in the function call.\n",
    "\n",
    "```python\n",
    "some code\n",
    "\n",
    "```\n",
    "**Example output**:\n",
    "```\n",
    "some output\n",
    "```"
   ]
  },
  {
   "cell_type": "code",
   "execution_count": null,
   "id": "2f7f65d2-cc46-4e40-8e18-95eafa2166d8",
   "metadata": {},
   "outputs": [],
   "source": [
    "# TODO."
   ]
  },
  {
   "cell_type": "markdown",
   "id": "9c063883-55f2-4a2c-a218-ca36c4760b67",
   "metadata": {},
   "source": [
    "___________________________________________________________________________________________________________________________\n",
    "\n",
    "*Material for the VU Amsterdam course “Introduction to Python Programming” for BSc Artificial Intelligence students. These notebooks are created using the following sources:*\n",
    "1. [Learning Python by Doing][learning python]: This book, developed by teachers of TU/e Eindhoven and VU Amsterdam, is the main source for the course materials. Code snippets or text explanations from the book may be used in the notebooks, sometimes with slight adjustments.\n",
    "2. [Think Python][think python]\n",
    "3. [GeekForGeeks][geekforgeeks]\n",
    "\n",
    "[learning python]: https://programming-pybook.github.io/introProgramming/intro.html\n",
    "[think python]: https://greenteapress.com/thinkpython2/html/\n",
    "[geekforgeeks]: https://www.geeksforgeeks.org"
   ]
  }
 ],
 "metadata": {
  "kernelspec": {
   "display_name": "Python 3 (ipykernel)",
   "language": "python",
   "name": "python3"
  },
  "language_info": {
   "codemirror_mode": {
    "name": "ipython",
    "version": 3
   },
   "file_extension": ".py",
   "mimetype": "text/x-python",
   "name": "python",
   "nbconvert_exporter": "python",
   "pygments_lexer": "ipython3",
   "version": "3.11.4"
  }
 },
 "nbformat": 4,
 "nbformat_minor": 5
}

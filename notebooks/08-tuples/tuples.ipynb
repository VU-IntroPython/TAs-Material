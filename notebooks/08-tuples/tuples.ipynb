{
 "cells": [
  {
   "cell_type": "markdown",
   "id": "7860cfad-8338-45df-8dfe-c4776781bfa9",
   "metadata": {},
   "source": [
    "# Tuples"
   ]
  },
  {
   "cell_type": "markdown",
   "id": "7d76f023-67df-403c-bf6b-5340b4616ae5",
   "metadata": {},
   "source": [
    "*Material for the VU Amsterdam course “Introduction to Python Programming” for BSc Artificial Intelligence students. These notebooks are created using the following sources:*\n",
    "1. [Learning Python by Doing][learning python]: This book, developed by teachers of TU/e Eindhoven and VU Amsterdam, is the main source for the course materials. Code snippets or text explanations from the book may be used in the notebooks, sometimes with slight adjustments.\n",
    "2. [Think Python][think python]\n",
    "3. [GeekForGeeks][geekforgeeks]\n",
    "\n",
    "[learning python]: https://programming-pybook.github.io/introProgramming/intro.html\n",
    "[think python]: https://greenteapress.com/thinkpython2/html/\n",
    "[geekforgeeks]: https://www.geeksforgeeks.org\n",
    "\n",
    "**In this notebook, we cover the following subjects:**\n",
    "- Defining a Tuple;\n",
    "- Working with Tuples;\n",
    "- More Advanced Tasks.\n",
    "___________________________________________________________________________________________________________________________"
   ]
  },
  {
   "cell_type": "code",
   "execution_count": 65,
   "id": "03fbdb61-b65e-426a-87cb-dfccccf98af6",
   "metadata": {
    "tags": []
   },
   "outputs": [],
   "source": [
    "# To enable type hints for lists, dicts, and tuples, we need to import the following:\n",
    "from typing import List, Dict, Tuple"
   ]
  },
  {
   "cell_type": "markdown",
   "id": "ed296bad-be7f-46b8-b0c2-59f6527928a5",
   "metadata": {
    "tags": []
   },
   "source": [
    "<h2 style=\"color:#4169E1\">Defining a Tuple</h2>\n",
    "\n",
    "In this notebook, we introduce a unique data type used in Python: [tuples][tuple]. A tuple is a sequence of values that is similar to a list, as it is **indexed by integers** and can contain elements of **any type**, including **duplicates**. However, tuples are **immutable**, whereas lists are mutable. This immutability can be a strength in certain situations, ensuring that the data you store in a tuple remains constant throughout your program's execution.\n",
    "\n",
    "Tuples are defined using parentheses `()`.\n",
    "\n",
    "```python\n",
    "my_tuple: Tuple = (element1, element2, element3)\n",
    "```\n",
    "\n",
    "Let's look at an example.\n",
    "\n",
    "[tuple]:https://programming-pybook.github.io/introProgramming/chapters/tuples.html"
   ]
  },
  {
   "cell_type": "code",
   "execution_count": 68,
   "id": "24350eb0-b1b7-430f-94fa-664a4f385e94",
   "metadata": {
    "tags": []
   },
   "outputs": [
    {
     "name": "stdout",
     "output_type": "stream",
     "text": [
      "(1, 2, 3, 4, 5)\n"
     ]
    },
    {
     "data": {
      "text/plain": [
       "tuple"
      ]
     },
     "execution_count": 68,
     "metadata": {},
     "output_type": "execute_result"
    }
   ],
   "source": [
    "my_tuple: Tuple[int, ...] = (1, 2, 3, 4, 5)\n",
    "\n",
    "print(my_tuple)\n",
    "type(my_tuple)"
   ]
  },
  {
   "cell_type": "markdown",
   "id": "16cc68cd-acdd-445c-80ac-c0e91f4525ea",
   "metadata": {},
   "source": [
    "If you want to create a tuple with just one element, then you have to add a comma as terminator."
   ]
  },
  {
   "cell_type": "code",
   "execution_count": 71,
   "id": "be4cf57d-b191-43b0-9817-c374354bb1f5",
   "metadata": {
    "tags": []
   },
   "outputs": [
    {
     "name": "stdout",
     "output_type": "stream",
     "text": [
      "('programming',)\n"
     ]
    },
    {
     "data": {
      "text/plain": [
       "tuple"
      ]
     },
     "execution_count": 71,
     "metadata": {},
     "output_type": "execute_result"
    }
   ],
   "source": [
    "my_second_tuple: tuple = 'programming',\n",
    "\n",
    "print(my_second_tuple)\n",
    "type(my_second_tuple)"
   ]
  },
  {
   "cell_type": "markdown",
   "id": "a732292c-22d9-4a20-9871-4ec90380f79c",
   "metadata": {},
   "source": [
    "A single value between parantheses is **not** a tuple."
   ]
  },
  {
   "cell_type": "code",
   "execution_count": 74,
   "id": "879ce4b4-f9c2-4aea-b01f-2f7ec2f64f70",
   "metadata": {
    "tags": []
   },
   "outputs": [
    {
     "name": "stdout",
     "output_type": "stream",
     "text": [
      "statistics\n"
     ]
    },
    {
     "data": {
      "text/plain": [
       "str"
      ]
     },
     "execution_count": 74,
     "metadata": {},
     "output_type": "execute_result"
    }
   ],
   "source": [
    "my_third_tuple: tuple = ('statistics')\n",
    "\n",
    "print(my_third_tuple)\n",
    "type(my_third_tuple)"
   ]
  },
  {
   "cell_type": "markdown",
   "id": "b4291ea8-bdef-46d1-9d0a-7c3f720b3ff0",
   "metadata": {},
   "source": [
    "If the argument of the tuple function is a sequence (string, list, or tuple), the result is a tuple with the elements of the sequence."
   ]
  },
  {
   "cell_type": "code",
   "execution_count": 77,
   "id": "4428a117-0e55-448b-8fc6-598aefc592e0",
   "metadata": {
    "tags": []
   },
   "outputs": [
    {
     "name": "stdout",
     "output_type": "stream",
     "text": [
      "('e', 'n', 'g', 'i', 'n', 'e', 'e', 'r', 'i', 'n', 'g')\n"
     ]
    },
    {
     "data": {
      "text/plain": [
       "tuple"
      ]
     },
     "execution_count": 77,
     "metadata": {},
     "output_type": "execute_result"
    }
   ],
   "source": [
    "my_final_tuple: tuple = tuple('engineering')\n",
    "\n",
    "print(my_final_tuple)\n",
    "type(my_final_tuple)"
   ]
  },
  {
   "cell_type": "markdown",
   "id": "eed2bc80-4a31-4f30-aa5e-ab1f51d302b4",
   "metadata": {},
   "source": [
    "<h4 style=\"color:#B22222\">An Overview</h4>"
   ]
  },
  {
   "cell_type": "markdown",
   "id": "4ef131ef-0455-49c8-a6de-b606b97488f9",
   "metadata": {},
   "source": [
    "Now, let's add the Tuple to the data types we've covered so far to create a clear overview of their properties."
   ]
  },
  {
   "cell_type": "markdown",
   "id": "60d8b2ec-e305-41ab-8668-0004e93e124c",
   "metadata": {},
   "source": [
    "| Property                              | Tuple           | List            | Dict Keys              | Dict Values              | \n",
    "|-------------------------------------- |-----------------|-----------------|------------------------|--------------------------|\n",
    "| **Mutable** (can you add add/remove?) | no              | yes             | yes                    | yes                      |      \n",
    "| **Can** contain duplicates            | yes             | yes             | no                     | yes                      |\n",
    "| **Ordered**                           | yes             | yes             | yes (since Python 3.7) | yes (follows key order)  |\n",
    "| **Can** contain                       | all             | all             | immutables             |  all                     |\n",
    "\n"
   ]
  },
  {
   "cell_type": "markdown",
   "id": "b30c0775-81d8-4a48-8537-f697f7eb4b54",
   "metadata": {
    "tags": []
   },
   "source": [
    "<h2 style=\"color:#4169E1\">Working with Tuples</h2>"
   ]
  },
  {
   "cell_type": "markdown",
   "id": "06f5e0b3-6003-41cf-ac9e-352654556cd4",
   "metadata": {},
   "source": [
    "<h4 style=\"color:#B22222\">Accessing Elements</h4>\n",
    "\n",
    "The elements in a tuple can be accessed using indexing."
   ]
  },
  {
   "cell_type": "code",
   "execution_count": 83,
   "id": "060e9420-c5f0-40e9-b3a8-cd7a1145da22",
   "metadata": {
    "tags": []
   },
   "outputs": [
    {
     "name": "stdout",
     "output_type": "stream",
     "text": [
      "1\n",
      "2\n"
     ]
    }
   ],
   "source": [
    "numbers_tuple: Tuple[int, ...] = (1, 2, 3, 4, 5)\n",
    "\n",
    "first_element = numbers_tuple[0]\n",
    "second_element = numbers_tuple[1]\n",
    "\n",
    "print(first_element)\n",
    "print(second_element)"
   ]
  },
  {
   "cell_type": "markdown",
   "id": "031a1cc9-8529-4c99-ae99-3aafcce15d2f",
   "metadata": {},
   "source": [
    "<h4 style=\"color:#B22222\">Slicing</h4>\n",
    "\n",
    "You can create sub-tuples by slicing a tuple and assigning them to a new variable."
   ]
  },
  {
   "cell_type": "code",
   "execution_count": 86,
   "id": "473ab804-697a-4169-9d25-ef17c1d2ec5e",
   "metadata": {
    "tags": []
   },
   "outputs": [
    {
     "name": "stdout",
     "output_type": "stream",
     "text": [
      "('Cillian Murphy', 'Emily Blunt', 'Robert Downey Jr.', 'Matt Damon', 'Florence Pugh')\n"
     ]
    }
   ],
   "source": [
    "actors_oppenheimer_tuple: Tuple[str, ...] = (\"Cillian Murphy\", \"Emily Blunt\", \"Robert Downey Jr.\", \"Matt Damon\", \"Florence Pugh\", \"Kenneth Branagh\", \"Rami Malek\")\n",
    "\n",
    "main_cast_oppenheimer = actors_tuple[:5]\n",
    "\n",
    "print(main_cast_oppenheimer)"
   ]
  },
  {
   "cell_type": "markdown",
   "id": "eca4702c-4627-49cf-907e-830112a637bb",
   "metadata": {},
   "source": [
    "<h4 style=\"color:#B22222\">Concatenation</h4>\n",
    "\n",
    "Identical to lists, the `+` operator can be used to concatenate two tuples."
   ]
  },
  {
   "cell_type": "code",
   "execution_count": 89,
   "id": "43e5fe44-2cd0-4a3b-961e-a588cc593224",
   "metadata": {
    "tags": []
   },
   "outputs": [
    {
     "name": "stdout",
     "output_type": "stream",
     "text": [
      "('Wake up', 'Brush teeth', 'Eat breakfast', 'Dinner', 'Watch TV', 'Go to bed')\n"
     ]
    }
   ],
   "source": [
    "morning_tasks: Tuple[str, ...] = (\"Wake up\", \"Brush teeth\", \"Eat breakfast\")\n",
    "evening_tasks: Tuple[str, ...] = (\"Dinner\", \"Watch TV\", \"Go to bed\")\n",
    "\n",
    "daily_tasks = morning_tasks + evening_tasks\n",
    "\n",
    "print(daily_tasks)"
   ]
  },
  {
   "cell_type": "markdown",
   "id": "9d1c3e22-8560-4a69-9019-7dd576cf2c41",
   "metadata": {},
   "source": [
    "<h4 style=\"color:#B22222\">Repetition</h4>\n",
    "\n",
    "A new tuple can be created by repeating an existing one using the `*` operator."
   ]
  },
  {
   "cell_type": "code",
   "execution_count": 92,
   "id": "998fbb59-4f1d-4cfa-a466-b0a247a3a859",
   "metadata": {
    "tags": []
   },
   "outputs": [
    {
     "name": "stdout",
     "output_type": "stream",
     "text": [
      "('Apple', 'Banana', 'Cherry', 'Apple', 'Banana', 'Cherry', 'Apple', 'Banana', 'Cherry')\n"
     ]
    }
   ],
   "source": [
    "favorite_fruits: Tuple[str, ...] = (\"Apple\", \"Banana\", \"Cherry\")\n",
    "\n",
    "abundant_fruit_basket = favorite_fruits * 3\n",
    "\n",
    "print(abundant_fruit_basket)"
   ]
  },
  {
   "cell_type": "markdown",
   "id": "c8b1525a-ff03-44be-b634-c3b9ca068bc4",
   "metadata": {},
   "source": [
    "<h4 style=\"color:#B22222\">Length</h4>\n",
    "\n",
    "The length of a tuple can be found using the `len()` function."
   ]
  },
  {
   "cell_type": "code",
   "execution_count": 96,
   "id": "0dd56d9c-587e-492f-872d-b1abd0deb550",
   "metadata": {
    "tags": []
   },
   "outputs": [
    {
     "name": "stdout",
     "output_type": "stream",
     "text": [
      "Number of stops on the road trip: 5\n"
     ]
    }
   ],
   "source": [
    "road_trip_stops: Tuple[str, ...] = (\"Gas Station\", \"Restaurant\", \"Hotel\", \"Park\", \"Museum\")\n",
    "\n",
    "number_of_stops = len(road_trip_stops)\n",
    "\n",
    "print(f\"Number of stops on the road trip: {number_of_stops}\")"
   ]
  },
  {
   "cell_type": "markdown",
   "id": "b02169a8-0a33-4e02-802d-b686d2b1aa9c",
   "metadata": {},
   "source": [
    "<div class=\"alert\" style=\"background-color: #ffecb3; color: #856404;\">\n",
    "    <b>Note</b><br>\n",
    "Just as with other data types, <code>dir()</code> and <code>help()</code> can be used for tuples. </div>"
   ]
  },
  {
   "cell_type": "markdown",
   "id": "dfd90862-b883-43b4-af06-9c2c5c70d224",
   "metadata": {
    "tags": []
   },
   "source": [
    "<h2 style=\"color:#4169E1\">More Advanced Tasks</h2>"
   ]
  },
  {
   "cell_type": "markdown",
   "id": "cee015b5-10d1-49f4-a38f-a861f6c96dd8",
   "metadata": {},
   "source": [
    "<h4 style=\"color:#B22222\">Packing and Unpacking</h4>\n",
    "\n"
   ]
  },
  {
   "cell_type": "code",
   "execution_count": 112,
   "id": "43b05e99-e212-4252-835f-cc55eb9c6fa5",
   "metadata": {
    "tags": []
   },
   "outputs": [
    {
     "name": "stdout",
     "output_type": "stream",
     "text": [
      "1 2 3\n"
     ]
    }
   ],
   "source": [
    "# Packing multiple values into a tuple\n",
    "my_tuple: Tuple[int, ...] = (1, 2, 3)\n",
    "\n",
    "# Unpacking values from the tuple\n",
    "a, b, c = my_tuple\n",
    "\n",
    "print(a, b, c)"
   ]
  },
  {
   "cell_type": "markdown",
   "id": "0b928994-a72e-407f-96fa-fd719520f1c2",
   "metadata": {},
   "source": [
    "<h4 style=\"color:#B22222\">Tuples as Return Values</h4>"
   ]
  },
  {
   "cell_type": "markdown",
   "id": "b9d6891a-8138-41d5-b7c5-4b5eb10b7738",
   "metadata": {},
   "source": [
    "<div class=\"alert\" style=\"background-color: #ffecb3; color: #856404;\">\n",
    "    <b>Note</b><br>\n",
    "Unlike lists, tuples can be used as keys in dictionaries due to their immutability.</div>"
   ]
  },
  {
   "cell_type": "markdown",
   "id": "b5660958-c7b5-4767-8768-d06f332d2e25",
   "metadata": {
    "tags": []
   },
   "source": [
    "<h2 style=\"color:#3CB371\">Exercises</h2>"
   ]
  },
  {
   "cell_type": "markdown",
   "id": "b31fac52-bb51-4748-b3f5-9a4244c037bd",
   "metadata": {},
   "source": [
    "Let's practice! Mind that each exercise is designed with multiple levels to help you progressively build your skills. <span style=\"color:darkorange;\"><strong>Level 1</strong></span> is the foundational level, designed to be straightforward so that everyone can successfully complete it. In <span style=\"color:darkorange;\"><strong>Level 2</strong></span>, we step it up a notch, expecting you to use more complex concepts or combine them in new ways. Finally, in <span style=\"color:darkorange;\"><strong>Level 3</strong></span>, we get closest to exam level questions, but we may use some concepts that are not covered in this notebook. However, in programming, you often encounter situations where you’re unsure how to proceed. Fortunately, you can often solve these problems by starting to work on them and figuring things out as you go. Practicing this skill is extremely helpful, so we highly recommend completing these exercises.\n",
    "\n",
    "For each of the exercises, make sure to add a `docstring` and `type hints`, and **do not** import any libraries unless specified otherwise.\n",
    "<br>"
   ]
  },
  {
   "cell_type": "markdown",
   "id": "c11c81ae-03aa-4f0f-b136-b6f3f4204511",
   "metadata": {
    "tags": []
   },
   "source": [
    "### Exercise 1\n",
    "\n",
    "You have a list of dictionaries, each representing a student. Each dictionary contains the student’s full name, year, and a list of seven grades.\n",
    "\n",
    "<span style=\"color:darkorange;\"><strong>Level 1</strong>:</span> Use a `for`loop to calculate the average grade for each student and **print** the student’s information in the following format. Note that you only need to print the student’s first name, and that the average should be formatted to two digits only:\n",
    "\n",
    "**Format output**:\n",
    "```Python\n",
    "\"Student [First Name]'s average grade is [Average Grade]\"\n",
    "```"
   ]
  },
  {
   "cell_type": "code",
   "execution_count": null,
   "id": "43c86896-9054-4fb9-aa32-9e58c456a38a",
   "metadata": {
    "tags": []
   },
   "outputs": [],
   "source": [
    "students: list = [\n",
    "    {\"name\": \"LeBron James\", \"year\": 2024, \"grades\": [68, 65, 62, 71, 47, 69, 33]},\n",
    "    {\"name\": \"Serena Williams\", \"year\": 2024, \"grades\": [81, 77, 89, 80, 87, 73, 90]},\n",
    "    {\"name\": \"Lionel Messi\", \"year\": 2024, \"grades\": [74, 80, 67, 72, 81, 89, 65]},\n",
    "    {\"name\": \"Usain Bolt\", \"year\": 2024, \"grades\": [83, 87, 83, 89, 88, 84, 98]},\n",
    "    {\"name\": \"Tom Brady\", \"year\": 2024, \"grades\": [67, 71, 61, 60, 82, 54, 71]},\n",
    "    {\"name\": \"Simone Biles\", \"year\": 2024, \"grades\": [95, 92, 97, 91, 99, 92, 98]},\n",
    "    {\"name\": \"Michael Phelps\", \"year\": 2024, \"grades\": [35, 48, 52, 41, 66, 40, 59]}\n",
    "]"
   ]
  },
  {
   "cell_type": "code",
   "execution_count": null,
   "id": "553b6e86-6b0c-4508-9937-6c26e39725d0",
   "metadata": {
    "tags": []
   },
   "outputs": [],
   "source": [
    "# TODO."
   ]
  },
  {
   "cell_type": "code",
   "execution_count": null,
   "id": "5eed4b28-a419-4a02-b49e-0bf2445a4809",
   "metadata": {},
   "outputs": [],
   "source": []
  }
 ],
 "metadata": {
  "kernelspec": {
   "display_name": "Python 3 (ipykernel)",
   "language": "python",
   "name": "python3"
  },
  "language_info": {
   "codemirror_mode": {
    "name": "ipython",
    "version": 3
   },
   "file_extension": ".py",
   "mimetype": "text/x-python",
   "name": "python",
   "nbconvert_exporter": "python",
   "pygments_lexer": "ipython3",
   "version": "3.11.5"
  }
 },
 "nbformat": 4,
 "nbformat_minor": 5
}

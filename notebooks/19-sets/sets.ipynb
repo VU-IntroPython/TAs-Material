{
 "cells": [
  {
   "cell_type": "markdown",
   "id": "3b6771c4-7d80-49ab-a98e-7c0413a245f2",
   "metadata": {},
   "source": [
    "# Sets"
   ]
  },
  {
   "cell_type": "markdown",
   "id": "12b4410c-1e8e-4508-bc29-4cb7ad1e56b4",
   "metadata": {},
   "source": [
    "**In this notebook, we cover the following subjects:**\n",
    "- Defining a Set;\n",
    "- Set Methods;\n",
    "- Let's Think.\n",
    "___________________________________________________________________________________________________________________________"
   ]
  },
  {
   "cell_type": "code",
   "execution_count": null,
   "id": "03fbdb61-b65e-426a-87cb-dfccccf98af6",
   "metadata": {
    "tags": []
   },
   "outputs": [],
   "source": [
    "# To enable type hints for lists, dicts, tuples, and sets we need to import the following:\n",
    "from typing import List, Dict, Tuple, Set"
   ]
  },
  {
   "cell_type": "markdown",
   "id": "df58704e-123f-4c2e-bde7-ae603c5602ec",
   "metadata": {
    "tags": []
   },
   "source": [
    "<h2 style=\"color:#4169E1\">Defining a Set</h2>\n",
    "\n",
    "Another **mutable** built-in type provided by Python is a [set][set]. A set is an **unordered** collection of elements that has **no duplicated** items. We can create a set by listing its elements within curly braces (`{}`) or using the `set()` function. The syntax looks as follows:\n",
    "\n",
    "```python\n",
    "my_set: Set = {element1, element2, element3}\n",
    "```\n",
    "\n",
    "Let's look at an example.\n",
    "\n",
    "[set]:https://programming-pybook.github.io/introProgramming/chapters/sets.html"
   ]
  },
  {
   "cell_type": "code",
   "execution_count": null,
   "id": "f2a43b49-2c00-4eaa-bb93-483b4559fe74",
   "metadata": {
    "tags": []
   },
   "outputs": [],
   "source": [
    "# Creating a set with elements\n",
    "coffee_types: Set[str] = {\"Espresso\", \"Latte\", \"Cappuccino\", \"Americano\"}\n",
    "\n",
    "print(coffee_types)\n",
    "type(coffee_types)"
   ]
  },
  {
   "cell_type": "code",
   "execution_count": null,
   "id": "b26c7f3b-966d-4cc6-be09-613e189a8f73",
   "metadata": {
    "tags": []
   },
   "outputs": [],
   "source": [
    "# Creating an empty set\n",
    "empty_set: Set = set()\n",
    "print(empty_set)\n",
    "type(empty_set)"
   ]
  },
  {
   "cell_type": "markdown",
   "id": "119a466a-8d66-4fcd-a2d1-10128a20b512",
   "metadata": {},
   "source": [
    "Now, with this new knowledge we update our overview of the data types and their properties."
   ]
  },
  {
   "cell_type": "markdown",
   "id": "a4acb5ca-669c-4a5c-b73e-61462ed4a9a6",
   "metadata": {},
   "source": [
    "| Property                              | Set        |Tuple           | List            | Dict Keys              | Dict Values              | \n",
    "|-------------------------------------- |------------|----------------|-----------------|------------------------|--------------------------|\n",
    "| **Mutable** (can you add add/remove?) | yes        |no              | yes             | yes                    | yes                      |      \n",
    "| **Can** contain duplicates            | no         |yes             | yes             | no                     | yes                      |\n",
    "| **Ordered**                           | no         |yes             | yes             | yes (since Python 3.7) | yes (follows key order)  |\n",
    "| **Can** contain                       | immutables |all             | all             | immutables             |  all                     |\n",
    "\n"
   ]
  },
  {
   "cell_type": "markdown",
   "id": "d72d7f6b-972a-4155-b9df-bb6cc942c70d",
   "metadata": {},
   "source": [
    "<div class=\"alert\" style=\"background-color: #ffecb3; color: #856404;\">\n",
    "    <b>Note</b><br>\n",
    "Since sets are unordered, you can’t use indexing to access an element or slicing to get a subset.</div>"
   ]
  },
  {
   "cell_type": "markdown",
   "id": "be5bc6bb-8838-469c-909f-f400aec117f0",
   "metadata": {},
   "source": [
    "One of the most interesting properties of a set is that it doesn’t allow duplicate elements. This means that if you add an element twice to a set, it will only keep one occurrence. Let's look at an example:"
   ]
  },
  {
   "cell_type": "code",
   "execution_count": null,
   "id": "f17a3dc2-312c-4edd-b459-b8cae4554d86",
   "metadata": {
    "tags": []
   },
   "outputs": [],
   "source": [
    "spotify_tags: Set[str] = {\"country\", \"rock\", \"hiphop\", \n",
    "                          \"indie\", \"country\", \"pop\"}"
   ]
  },
  {
   "cell_type": "markdown",
   "id": "5f3d36de-e230-41e8-afc8-2d2862c79088",
   "metadata": {},
   "source": [
    "A set is a great way to store tags as you don’t really care about their order and only want each tag stored once. So, what will happen when we print this?"
   ]
  },
  {
   "cell_type": "code",
   "execution_count": null,
   "id": "d1161387-1c02-416e-a226-e8f803458fc7",
   "metadata": {
    "tags": []
   },
   "outputs": [],
   "source": [
    "# What happens to the order?\n",
    "print(spotify_tags)"
   ]
  },
  {
   "cell_type": "markdown",
   "id": "77a5caeb-a1c6-48e3-a5da-d8a8f331d7a2",
   "metadata": {},
   "source": [
    "Now, we want to group tags that are a bit similar and we do this using a list, what will happen when we print this cell?"
   ]
  },
  {
   "cell_type": "code",
   "execution_count": null,
   "id": "f51566af-7f84-4262-a14c-2989eedeaf88",
   "metadata": {
    "tags": []
   },
   "outputs": [],
   "source": [
    "spotify_tags: Set = {\"country\", \"rock\", \"hiphop\", \n",
    "                          \"indie\", \"country\", \n",
    "                          [\"pop\", \"dance-pop\", \"alt-pop\",\n",
    "                           \"new wave\", \"dream pop\"]}"
   ]
  },
  {
   "cell_type": "markdown",
   "id": "1040bdc3-ed6f-476f-b0de-09c7e47efbd6",
   "metadata": {
    "tags": []
   },
   "source": [
    "<h2 style=\"color:#4169E1\">Set Methods</h2>\n",
    "\n",
    "Let's look into some fundamental set methods."
   ]
  },
  {
   "cell_type": "markdown",
   "id": "37617764-6402-4d53-b7c6-18e488c20f85",
   "metadata": {},
   "source": [
    "<h4 style=\"color:#B22222\">The <code>.add()</code> Method</h4>\n",
    "\n",
    "This method is used to add elements to a set."
   ]
  },
  {
   "cell_type": "code",
   "execution_count": null,
   "id": "6e21b8b5-c7b7-4448-b9e8-2ca58bb3346a",
   "metadata": {
    "tags": []
   },
   "outputs": [],
   "source": [
    "dutch_cities: Set[str] = {\n",
    "    \"Amsterdam\", \"Rotterdam\", \"The Hague\", \"Utrecht\", \"Eindhoven\", \n",
    "}\n",
    "print(dutch_cities)"
   ]
  },
  {
   "cell_type": "code",
   "execution_count": null,
   "id": "a4f01259-1eed-4aed-90a1-6633a78963b2",
   "metadata": {
    "tags": []
   },
   "outputs": [],
   "source": [
    "dutch_cities.add(\"Groningen\")\n",
    "print(dutch_cities)"
   ]
  },
  {
   "cell_type": "markdown",
   "id": "1a0f18d1-7aed-43af-9fa1-5bd76d5a3b1f",
   "metadata": {},
   "source": [
    "<h4 style=\"color:#B22222\">The <code>.remove()</code> Method</h4>\n",
    "\n",
    "As the name suggests, this method removes an element from a set and raises an error when the element isn’t present."
   ]
  },
  {
   "cell_type": "code",
   "execution_count": null,
   "id": "b6c729c6-3050-4af6-b8f4-79090f0ea7c9",
   "metadata": {
    "tags": []
   },
   "outputs": [],
   "source": [
    "movie_tags: Set[str] = {\"comedy\", \"fantasy\", \"science fiction\", \n",
    "                        \"action\", \"drama\"}\n",
    "print(movie_tags)"
   ]
  },
  {
   "cell_type": "code",
   "execution_count": null,
   "id": "0a0ec99d-8bf7-473f-a11c-59e6d2e1420e",
   "metadata": {
    "tags": []
   },
   "outputs": [],
   "source": [
    "# When a tag in present\n",
    "movie_tags.remove(\"action\")\n",
    "print(movie_tags)                  "
   ]
  },
  {
   "cell_type": "code",
   "execution_count": null,
   "id": "66ec1919-0adc-4498-a177-43d797b8560e",
   "metadata": {
    "tags": []
   },
   "outputs": [],
   "source": [
    "# When a tag is not present\n",
    "movie_tags.remove(\"documentary\")\n",
    "print(movie_tags)"
   ]
  },
  {
   "cell_type": "markdown",
   "id": "b8bea959-0578-4ecb-908a-707e71ec66a7",
   "metadata": {},
   "source": [
    "<h4 style=\"color:#B22222\">The <code>.discard()</code> Method</h4>\n",
    "\n",
    "This method is almost identical to remove, but it does not raise an error if an element cannot be found in the set. So, in what scenarios would you choose `.discard()` over `.remove()`?"
   ]
  },
  {
   "cell_type": "code",
   "execution_count": null,
   "id": "0d75838c-ce16-4330-b663-de1aa0b74b2d",
   "metadata": {
    "tags": []
   },
   "outputs": [],
   "source": [
    "pasta_types: Set[str] = {\n",
    "    \"lasagna\", \"penne\", \"ravioli\", \"spaghetti\", \n",
    "    \"macaroni\", \"orzo\", \"tagliatelle\"\n",
    "}\n",
    "print(pasta_types)"
   ]
  },
  {
   "cell_type": "code",
   "execution_count": null,
   "id": "4e13bf1c-bd8d-4e35-8cc1-dceba3d1174f",
   "metadata": {
    "tags": []
   },
   "outputs": [],
   "source": [
    "# When a tag in present\n",
    "pasta_types.discard(\"lasagna\")\n",
    "print(pasta_types)                  "
   ]
  },
  {
   "cell_type": "code",
   "execution_count": null,
   "id": "cbe7f5dd-0358-41e1-b202-4d082cd4e63e",
   "metadata": {
    "tags": []
   },
   "outputs": [],
   "source": [
    "# When a tag is not present\n",
    "pasta_types.discard(\"gnocchi\")\n",
    "print(pasta_types)"
   ]
  },
  {
   "cell_type": "markdown",
   "id": "968421e3-edeb-4b15-88a3-9d8736d92bf8",
   "metadata": {},
   "source": [
    "<h4 style=\"color:#B22222\">The <code>.union()</code> Method or <code>|</code></h4>\n",
    "\n",
    "When you take the union of two sets, you get a new set with all the unique elements from both sets."
   ]
  },
  {
   "cell_type": "code",
   "execution_count": null,
   "id": "5995448f-b2d6-40ea-958c-2a12ced16881",
   "metadata": {
    "tags": []
   },
   "outputs": [],
   "source": [
    "set1: Set[int] = {1, 2, 3}\n",
    "set2: Set[int] = {3, 4, 5}\n",
    "union_set: Set[int] = set1.union(set2)\n",
    "\n",
    "print(union_set)"
   ]
  },
  {
   "cell_type": "markdown",
   "id": "dc53dd47-6cd8-474b-995c-460f45315023",
   "metadata": {},
   "source": [
    "<h4 style=\"color:#B22222\">The <code>.intersection()</code> Method or <code>&</code></h4>\n",
    "\n",
    "The intersection of two sets returns a new set with the elements that are present in both sets."
   ]
  },
  {
   "cell_type": "code",
   "execution_count": null,
   "id": "d0533ea5-1fcc-4abf-9ca0-31744b71937e",
   "metadata": {
    "tags": []
   },
   "outputs": [],
   "source": [
    "set1: Set[int] = {1, 2, 3, 4}\n",
    "set2: Set[int] = {3, 4, 5}\n",
    "intersection_set: Set[int] = set1.intersection(set2)\n",
    "\n",
    "print(intersection_set)"
   ]
  },
  {
   "cell_type": "markdown",
   "id": "b12f027a-f0cc-405a-9883-8c0961eda20b",
   "metadata": {},
   "source": [
    "<h4 style=\"color:#B22222\">The <code>difference()</code> Method or <code>-</code></h4>\n",
    "\n",
    "This method returns a new set with elements from the first set that aren't in the second set."
   ]
  },
  {
   "cell_type": "code",
   "execution_count": null,
   "id": "d5a75a8e-de75-4c6b-885e-538f8cdf31fe",
   "metadata": {
    "tags": []
   },
   "outputs": [],
   "source": [
    "set1: Set[int] = {1, 2, 3, 4}\n",
    "set2: Set[int] = {3, 4, 5}\n",
    "difference_set: Set[int] = set1.difference(set2)\n",
    "\n",
    "print(difference_set)"
   ]
  },
  {
   "cell_type": "markdown",
   "id": "49a0974b-036f-434a-9c7a-483de598e0f9",
   "metadata": {
    "tags": []
   },
   "source": [
    "<h2 style=\"color:#4169E1\">Let's Think!</h2>"
   ]
  },
  {
   "cell_type": "markdown",
   "id": "3e7d097a-bc3e-4cde-acb1-bba5e3e51560",
   "metadata": {},
   "source": [
    "What are the outcomes of the following Boolean expressions?"
   ]
  },
  {
   "cell_type": "code",
   "execution_count": null,
   "id": "41e13942-77d3-475e-98d9-705f7157fb9e",
   "metadata": {},
   "outputs": [],
   "source": [
    "{1, 2, 3} <= {1, 2, 3, 4}"
   ]
  },
  {
   "cell_type": "code",
   "execution_count": null,
   "id": "33fe2380-8856-4a46-aa90-04e5b1270a04",
   "metadata": {},
   "outputs": [],
   "source": [
    "{1, 2, 3} & {3, 4, 5}"
   ]
  },
  {
   "cell_type": "code",
   "execution_count": null,
   "id": "ad6c7c99-1653-43e6-bf99-ece701419c01",
   "metadata": {},
   "outputs": [],
   "source": [
    "{1, 2, 3}.isdisjoint({4, 5, 6})"
   ]
  },
  {
   "cell_type": "code",
   "execution_count": null,
   "id": "bfa73293-f675-4595-aea7-d8c03759ac79",
   "metadata": {},
   "outputs": [],
   "source": [
    "{1, 2, 3} | {3, 4, 5} == {1, 2, 3, 4, 5}"
   ]
  },
  {
   "cell_type": "code",
   "execution_count": null,
   "id": "a5c207e8-f938-47d4-83df-d420e8c89ad9",
   "metadata": {},
   "outputs": [],
   "source": [
    "{1, 2, 3}.symmetric_difference({2, 4, 5}) == {1, 4}"
   ]
  },
  {
   "cell_type": "code",
   "execution_count": null,
   "id": "2a307ce6-d6b7-4a9c-bde9-8bc8d32d2e0a",
   "metadata": {},
   "outputs": [],
   "source": [
    "{1, 2, 3}.issubset({1, 2, 3, 4, 5})"
   ]
  },
  {
   "cell_type": "code",
   "execution_count": null,
   "id": "cce161ac-c07a-427d-be50-6b6936f02326",
   "metadata": {},
   "outputs": [],
   "source": [
    "{1, 2, 3}.difference({3, 4, 5}) == {1, 2}"
   ]
  },
  {
   "cell_type": "code",
   "execution_count": null,
   "id": "edef747a-98e4-4a99-a3b3-2ac5a807e362",
   "metadata": {},
   "outputs": [],
   "source": [
    "{1, 2, 3} | {3, 4, 5} < {1, 2, 3, 4, 5, 6}"
   ]
  },
  {
   "cell_type": "code",
   "execution_count": null,
   "id": "c7eec270-d0fd-4a35-b66a-cedc89459ebb",
   "metadata": {},
   "outputs": [],
   "source": [
    "(not {2, 5, 4}) != (2, 5, 4)"
   ]
  },
  {
   "cell_type": "markdown",
   "id": "d89fb74d-6c52-45a8-8bbe-6af30e2216a9",
   "metadata": {
    "tags": []
   },
   "source": [
    "<h2 style=\"color:#3CB371\">Exercises</h2>"
   ]
  },
  {
   "cell_type": "markdown",
   "id": "46787f82-a6e7-41ec-a700-dc20ddeb5ade",
   "metadata": {},
   "source": [
    "Let's practice! Mind that each exercise is designed with multiple levels to help you progressively build your skills. <span style=\"color:darkorange;\"><strong>Level 1</strong></span> is the foundational level, designed to be straightforward so that everyone can successfully complete it. In <span style=\"color:darkorange;\"><strong>Level 2</strong></span>, we step it up a notch, expecting you to use more complex concepts or combine them in new ways. Finally, in <span style=\"color:darkorange;\"><strong>Level 3</strong></span>, we get closest to exam level questions, but we may use some concepts that are not covered in this notebook. However, in programming, you often encounter situations where you’re unsure how to proceed. Fortunately, you can often solve these problems by starting to work on them and figuring things out as you go. Practicing this skill is extremely helpful, so we highly recommend completing these exercises.\n",
    "\n",
    "For each of the exercises, make sure to add a `docstring` and `type hints`, and **do not** import any libraries unless specified otherwise.\n",
    "<br>"
   ]
  },
  {
   "cell_type": "markdown",
   "id": "865d291d-5a4c-42eb-9652-44110b39579d",
   "metadata": {
    "tags": []
   },
   "source": [
    "### Exercise 1\n",
    "\n",
    "<span style=\"color:darkorange;\"><strong>Level 1</strong>:</span> In this exercise, you’ll be working with a data structure that holds the names of students who passed different high school subjects like history, math, physics, economics, etc. Your goal is to create a function called `students_who_passed_all_subjects()` that identifies the students who passed every subject. To do this, you’ll use **set methods** to pinpoint the names that appear in all the subjects. The function should work as follows:\n",
    "\n",
    "- It should take a **dictionary** as input, with each key representing a subject and the value being a set of student names who passed that subject.\n",
    "- It should **return** a set containing the names of students who passed every subject.\n",
    "\n",
    "**Print** the set **outside** the function in a clear and readable format.\n",
    "\n",
    "**Example input**: you pass this argument to the parameter in the function call.\n",
    "```Python\n",
    "subjects: Dict[str, Set[str]] = {\n",
    "    'history': {'Einstein', 'Curie', 'Tesla', 'Hopper', 'Goodall'},\n",
    "    'math': {'Einstein', 'Curie', 'Turing', 'Hopper'},\n",
    "    'physics': {'Einstein', 'Curie', 'Hopper', 'Goodall'},\n",
    "    'economics': {'Einstein', 'Curie', 'Tesla', 'Hopper'},\n",
    "    'biology': {'Curie', 'Goodall', 'Turing', 'Einstein'},\n",
    "    'literature': {'Hopper', 'Turing', 'Einstein', 'Curie'}\n",
    "}\n",
    "```\n",
    "\n",
    "**Example output**:\n",
    "```Python\n",
    "\"Students who passed all subjects: Einstein, Curie\"\n",
    "```"
   ]
  },
  {
   "cell_type": "code",
   "execution_count": null,
   "id": "476ff54d-5e90-4381-ab59-deef4c6539d9",
   "metadata": {
    "tags": []
   },
   "outputs": [],
   "source": [
    "# TODO."
   ]
  },
  {
   "cell_type": "markdown",
   "id": "09d74059-9272-43de-a4be-b20abd70994a",
   "metadata": {},
   "source": [
    "<span style=\"color:darkorange;\"><strong>Level 2</strong>:</span> Next, you’ll enhance your program by creating a more advanced version, called `students_who_passed_minimum_subjects`. This time, your task is to identify which students passed at least a specified minimum number of subjects. You’ll still be working with the same data structure, but now you’ll add a parameter to define the minimum number of subjects a student needs to pass to be included in the results. Your function should work as follows:\n",
    "\n",
    "- The function should take two parameters: the same **dictionary** of subjects and a minimum threshold (as **int**) that represents the number of subjects a student must pass.\n",
    "- It should **return** a set of students who passed at least the given number of subjects.\n",
    "\n",
    "**Print** the set **outside** the function in a clear and readable format.\n",
    "\n",
    "**Example input**: you pass these arguments to the parameters in the function call.\n",
    "\n",
    "```python\n",
    "subjects: Dict[str, Set[str]] = {\n",
    "    'history': {'Einstein', 'Curie', 'Tesla', 'Hopper', 'Goodall'},\n",
    "    'math': {'Einstein', 'Curie', 'Turing', 'Hopper'},\n",
    "    'physics': {'Einstein', 'Curie', 'Hopper', 'Goodall'},\n",
    "    'economics': {'Einstein', 'Curie', 'Tesla', 'Hopper'},\n",
    "    'biology': {'Curie', 'Goodall', 'Turing', 'Einstein'},\n",
    "    'literature': {'Hopper', 'Turing', 'Einstein', 'Curie'}\n",
    "}\n",
    "minimum_subjects: int = 4\n",
    "```\n",
    "**Example output**:\n",
    "```Python\n",
    "\"Students who passed a minimum of 4 subjects: Einstein, Curie, Hopper\"\n",
    "```\n"
   ]
  },
  {
   "cell_type": "code",
   "execution_count": null,
   "id": "7284a22e-0033-4657-b185-77dafd90bba2",
   "metadata": {
    "tags": []
   },
   "outputs": [],
   "source": [
    "# TODO."
   ]
  },
  {
   "cell_type": "markdown",
   "id": "4b73ea8a-230b-486f-bb74-f9004dc8926d",
   "metadata": {},
   "source": [
    "<span style=\"color:darkorange;\"><strong>Level 3</strong>:</span> For the final level, you will work with data stored in a [JSON][json] file. Create a function called `top_students_by_subjects()` that identifies the students who passed the highest number of subjects, highlighting the top performers. The data is provided in a JSON file named `subjects.json`, which contains a dictionary where each key represents a subject and each value is a **list** of student names who passed that subject. Since working with files is new to you, we’ll break down the expected steps more clearly.\n",
    "\n",
    "1. First, outside of any function, you need to read the `subjects.json` file to get the data. Open the file, read its contents, and parse it into a dictionary. This dictionary will initially have the same format as the JSON file. However, you need to modify this dictionary so that it has subject names as keys and **sets** of students who passed those subjects as values. **Note** that you need to convert the list of student names to sets of student names. This conversion is also done outside of any function.\n",
    "\n",
    "2. After extracting and modifying the data, pass this dictionary into the function `top_students_by_subjects()`. \n",
    "\n",
    "The function should work as follows:\n",
    "- It should take a **dictionary** of subjects as input and **return** a **set of tuples**. Each tuple should contain the name of a student and the maximum number of subjects that student passed.\n",
    "- It should identify the maximum number of subjects passed by any student and include this number in each tuple for the top students.\n",
    "- If multiple students share the top number of subjects passed, all their names should be included in the result.\n",
    "\n",
    "**Print** the set **outside** the function in a clear and readable format.\n",
    "\n",
    "**Example JSON file**:\n",
    "```json\n",
    "{\n",
    "    \"history\": [\"Serena\", \"Simone\", \"Naomi\", \"Megan\", \"Allyson\", \"Marta\", \"Caster\"],\n",
    "    \"math\": [\"Serena\", \"Simone\", \"Allyson\", \"Megan\", \"Marta\", \"Caster\"],\n",
    "    \"physics\": [\"Serena\", \"Simone\", \"Allyson\", \"Marta\", \"Shelly-Ann\"],\n",
    "    \"economics\": [\"Serena\", \"Simone\", \"Naomi\", \"Megan\", \"Allyson\", \"Shelly-Ann\"],\n",
    "    \"biology\": [\"Simone\", \"Allyson\", \"Naomi\", \"Serena\", \"Caster\", \"Shelly-Ann\"],\n",
    "    \"literature\": [\"Megan\", \"Marta\", \"Caster\"]\n",
    "}\n",
    "```\n",
    "\n",
    "**Example input**: you pass this argument to the parameter in the function call.\n",
    "```python\n",
    "subjects: Dict[str, Set[str]] = {\n",
    "    \"history\": {\"Serena\", \"Simone\", \"Naomi\", \"Megan\", \"Allyson\", \"Marta\", \"Caster\"},\n",
    "    \"math\": {\"Serena\", \"Simone\", \"Allyson\", \"Megan\", \"Marta\", \"Caster\"},\n",
    "    \"physics\": {\"Serena\", \"Simone\", \"Allyson\", \"Marta\", \"Shelly-Ann\"},\n",
    "    \"economics\": {\"Serena\", \"Simone\", \"Naomi\", \"Megan\", \"Allyson\", \"Shelly-Ann\"},\n",
    "    \"biology\": {\"Simone\", \"Allyson\", \"Naomi\", \"Serena\", \"Caster\", \"Shelly-Ann\"},\n",
    "    \"literature\": {\"Megan\", \"Marta\", \"Caster\"}\n",
    "}\n",
    "```\n",
    "\n",
    "**Example return value**:\n",
    "```Python\n",
    "{('Serena', 5), ('Simone', 5), ('Allyson', 5)}\n",
    "```\n",
    "\n",
    "**Example output**:\n",
    "```Python\n",
    "\"Students who passed a maximum number of 5 subjects: Serena, Simone, Allyson\"\n",
    "```\n",
    "\n",
    "[json]:https://programming-pybook.github.io/introProgramming/chapters/data_preparation.html?javascript-object-notation-json#javascript-object-notation-json"
   ]
  },
  {
   "cell_type": "code",
   "execution_count": 4,
   "id": "8521f752-b5ee-4e07-96e7-79f33fa449e1",
   "metadata": {
    "tags": []
   },
   "outputs": [],
   "source": [
    "# TODO."
   ]
  },
  {
   "cell_type": "markdown",
   "id": "9fada065-81f6-467a-9c32-73802943b3dd",
   "metadata": {},
   "source": [
    "___________________________________________________________________________________________________________________________\n",
    "\n",
    "*Material for the VU Amsterdam course “Introduction to Python Programming” for BSc Artificial Intelligence students. These notebooks are created using the following sources:*\n",
    "1. [Learning Python by Doing][learning python]: This book, developed by teachers of TU/e Eindhoven and VU Amsterdam, is the main source for the course materials. Code snippets or text explanations from the book may be used in the notebooks, sometimes with slight adjustments.\n",
    "2. [Think Python][think python]\n",
    "3. [GeekForGeeks][geekforgeeks]\n",
    "\n",
    "[learning python]: https://programming-pybook.github.io/introProgramming/intro.html\n",
    "[think python]: https://greenteapress.com/thinkpython2/html/\n",
    "[geekforgeeks]: https://www.geeksforgeeks.org"
   ]
  }
 ],
 "metadata": {
  "kernelspec": {
   "display_name": "Python 3 (ipykernel)",
   "language": "python",
   "name": "python3"
  },
  "language_info": {
   "codemirror_mode": {
    "name": "ipython",
    "version": 3
   },
   "file_extension": ".py",
   "mimetype": "text/x-python",
   "name": "python",
   "nbconvert_exporter": "python",
   "pygments_lexer": "ipython3",
   "version": "3.11.4"
  }
 },
 "nbformat": 4,
 "nbformat_minor": 5
}

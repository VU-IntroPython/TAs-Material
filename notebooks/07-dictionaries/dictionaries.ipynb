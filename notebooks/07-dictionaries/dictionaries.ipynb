{
 "cells": [
  {
   "cell_type": "markdown",
   "metadata": {},
   "source": [
    "# Dictionaries"
   ]
  },
  {
   "cell_type": "markdown",
   "metadata": {},
   "source": [
    "*Material for the VU Amsterdam course “Introduction to Python Programming” for BSc Artificial Intelligence students. These notebooks are created using the following sources:*\n",
    "1. [Learning Python by Doing][learning python]: This book, developed by teachers of TU/e Eindhoven and VU Amsterdam, is the main source for the course materials. Code snippets or text explanations from the book may be used in the notebooks, sometimes with slight adjustments.\n",
    "2. [Think Python][think python]\n",
    "3. [GeekForGeeks][geekforgeeks]\n",
    "\n",
    "[learning python]: https://programming-pybook.github.io/introProgramming/intro.html\n",
    "[think python]: https://greenteapress.com/thinkpython2/html/\n",
    "[geekforgeeks]: https://www.geeksforgeeks.org\n",
    "\n",
    "**In this notebook, we cover the following subjects:**\n",
    "- Defining a Dictionary;\n",
    "- Accessing Key-Value Pairs;\n",
    "- Modifying a Dictionary;\n",
    "- Iterating Through a Dictionary;\n",
    "- Nested Dictionaries.\n",
    "___________________________________________________________________________________________________________________________"
   ]
  },
  {
   "cell_type": "code",
   "execution_count": null,
   "metadata": {
    "tags": []
   },
   "outputs": [],
   "source": [
    "# To enable type hints for lists and dicts, we need to import the following:\n",
    "from typing import List, Dict"
   ]
  },
  {
   "cell_type": "markdown",
   "metadata": {
    "tags": []
   },
   "source": [
    "<h2 style=\"color:#4169E1\">Defining a Dictionary</h2>\n",
    "\n",
    "In Python, a [dictionary][dict], shortened as `dict`, is a data type that stores collections of **mappings** between **keys** and **values**. Each key is associated with a single value, forming a **key-value pair** or **item**.\n",
    "\n",
    "A dictionary uses curly brackets `{}` and defines each entry with a `key:value` pair, separated by commas. The syntax looks as follows:\n",
    "\n",
    "```python\n",
    "my_dict = {\n",
    "    'key1': 'value1',\n",
    "    'key2': 'value2',\n",
    "    'key3': 'value3',\n",
    "    # Add more key-value pairs as needed\n",
    "}\n",
    "```\n",
    "\n",
    "[dict]:https://programming-pybook.github.io/introProgramming/chapters/dictionaries.html"
   ]
  },
  {
   "cell_type": "markdown",
   "metadata": {},
   "source": [
    "<div class=\"alert\" style=\"background-color: #ffecb3; color: #856404;\">\n",
    "    <b>Note</b><br>\n",
    "A dictionary is a collection that is <b>ordered</b>, <b>mutable</b>, and does <b>not</b> allow duplicate keys. </div>"
   ]
  },
  {
   "cell_type": "markdown",
   "metadata": {},
   "source": [
    "To create an empty dictionary we can either used `{}` or the `dict()` function."
   ]
  },
  {
   "cell_type": "code",
   "execution_count": null,
   "metadata": {
    "tags": []
   },
   "outputs": [],
   "source": [
    "# Using {}\n",
    "an_empty_dict: Dict = {}\n",
    "print(an_empty_dict)"
   ]
  },
  {
   "cell_type": "code",
   "execution_count": null,
   "metadata": {},
   "outputs": [],
   "source": [
    "# Using dict()\n",
    "an_other_empty_dict: Dict = dict()\n",
    "print(an_other_empty_dict)"
   ]
  },
  {
   "cell_type": "markdown",
   "metadata": {},
   "source": [
    "Here's an example of a dictionary with some key-value pairs:"
   ]
  },
  {
   "cell_type": "code",
   "execution_count": null,
   "metadata": {},
   "outputs": [],
   "source": [
    "my_dict: Dict = {\n",
    "    'name': 'John',\n",
    "    'age': 30,\n",
    "    'city': 'New York',\n",
    "    'is_student': False\n",
    "}\n",
    "\n",
    "print(my_dict)"
   ]
  },
  {
   "cell_type": "markdown",
   "metadata": {},
   "source": [
    "<div class=\"alert\" style=\"background-color: #ffecb3; color: #856404;\">\n",
    "    <b>Note</b><br>\n",
    "The type hint for a dictionary is <code>Dict</code> (imported from <code>typing</code>). Like lists, you need to specify the type hints for the data inside the dictionary. The syntax is <code>Dict[key_typehint, value_typehint]</code>. </div>"
   ]
  },
  {
   "cell_type": "markdown",
   "metadata": {},
   "source": [
    "So far, we've seen that a dictionary is quite similar to a list. However, while lists associate elements with an integer index, dictionaries use keys that can be of almost any type. Here's and overview of the properties of dictionaries and lists to understand their differences."
   ]
  },
  {
   "cell_type": "markdown",
   "metadata": {},
   "source": [
    "| Property                              | List            | Dict Keys              | Dict Values              | \n",
    "|-------------------------------------- |-----------------|------------------------|--------------------------|\n",
    "| **Mutable** (can you add add/remove?) | yes             | yes                    | yes                      |      \n",
    "| **Can** contain duplicates            | yes             | no                     | yes                      |\n",
    "| **Ordered**                           | yes             | yes (since Python 3.7) | yes (follows key order) |\n",
    "| **Can** contain                       | all             | immutables             |  all                     |\n",
    "\n"
   ]
  },
  {
   "cell_type": "markdown",
   "metadata": {
    "tags": []
   },
   "source": [
    "<h2 style=\"color:#4169E1\">Accessing Key-Value Pairs</h2>\n",
    "\n",
    "Now, how do we access values inside a dictionary? Well, that's what keys are for. You can find a specific value by its key, the same way in which you can access list elements by their index. Let's look at an example, but first, we initialise a dict."
   ]
  },
  {
   "cell_type": "code",
   "execution_count": null,
   "metadata": {
    "tags": []
   },
   "outputs": [],
   "source": [
    "pets: Dict[str, str] = {\"dog\" : \"Max\", \"cat\" : \"Lou-Lou\", \"bird\" : \"Marco\"}"
   ]
  },
  {
   "cell_type": "markdown",
   "metadata": {},
   "source": [
    "You can access the values in a dictionary using square brackets (`[]`) and the key, like this:"
   ]
  },
  {
   "cell_type": "code",
   "execution_count": null,
   "metadata": {
    "tags": []
   },
   "outputs": [],
   "source": [
    "# What will the output be of this cell?\n",
    "print(f\"I have a dog, his name is {pets['dog']}.\")"
   ]
  },
  {
   "cell_type": "markdown",
   "metadata": {},
   "source": [
    "There are aslo some methods we can use to access all the keys (`.keys()`) or all the values (`.values()`) of a dictionary."
   ]
  },
  {
   "cell_type": "code",
   "execution_count": null,
   "metadata": {
    "tags": []
   },
   "outputs": [],
   "source": [
    "print(pets.keys())"
   ]
  },
  {
   "cell_type": "code",
   "execution_count": null,
   "metadata": {
    "tags": []
   },
   "outputs": [],
   "source": [
    "print(pets.values())"
   ]
  },
  {
   "cell_type": "markdown",
   "metadata": {},
   "source": [
    "<h4 style=\"color:#B22222\">Let's think!</h4>"
   ]
  },
  {
   "cell_type": "markdown",
   "metadata": {},
   "source": [
    "Can we still use indices to access elements? Each key-value pair is placed at a certain position, and dictionaries are ordered, so why not? What do you think will happen?"
   ]
  },
  {
   "cell_type": "code",
   "execution_count": null,
   "metadata": {
    "tags": []
   },
   "outputs": [],
   "source": [
    "# What happens?\n",
    "\n",
    "lion_data: Dict[str, int] = {\"weight\" : 185, \"length\" : 200, \"lifeSpan\" : 14}\n",
    "print(lion_data[0])"
   ]
  },
  {
   "cell_type": "code",
   "execution_count": null,
   "metadata": {
    "tags": []
   },
   "outputs": [],
   "source": [
    "# Then how do we access the first element?\n",
    "\n",
    "lion_data: Dict[str, int] = {\"weight\" : 185, \"length\" : 200, \"lifeSpan\" : 14}\n",
    "print(lion_data[\"weight\"])"
   ]
  },
  {
   "cell_type": "code",
   "execution_count": null,
   "metadata": {
    "tags": []
   },
   "outputs": [],
   "source": [
    "# Extra: Can we do this?\n",
    "\n",
    "print(lion_data[185])"
   ]
  },
  {
   "cell_type": "markdown",
   "metadata": {},
   "source": [
    "And what about duplicate keys?"
   ]
  },
  {
   "cell_type": "code",
   "execution_count": null,
   "metadata": {
    "tags": []
   },
   "outputs": [],
   "source": [
    "# What's going on here?\n",
    "\n",
    "example_dict: Dict[str, int] = {\"a\": 1, \"a\" : 2}\n",
    "print(example_dict[\"a\"])\n",
    "print(example_dict)"
   ]
  },
  {
   "cell_type": "markdown",
   "metadata": {
    "tags": []
   },
   "source": [
    "<h2 style=\"color:#4169E1\">Modifying a Dictionary\n",
    "</h2>\n"
   ]
  },
  {
   "cell_type": "markdown",
   "metadata": {},
   "source": [
    "<h4 style=\"color:#B22222\">Adding</h4>\n",
    "\n",
    "You already know quite a lot about lists and how you use `.append()` to add new elements. Do you think you can use `.append()` to insert a new entry into a dictionary?"
   ]
  },
  {
   "cell_type": "code",
   "execution_count": null,
   "metadata": {
    "tags": []
   },
   "outputs": [],
   "source": [
    "# First we initialise a dict\n",
    "capitals: Dict[str, str] = {\"The Netherlands\": \"Amsterdam\", \"France\": \"Paris\", \"England\": \"London\"}"
   ]
  },
  {
   "cell_type": "code",
   "execution_count": null,
   "metadata": {
    "tags": []
   },
   "outputs": [],
   "source": [
    "# Will this work?\n",
    "capitals.append({\"Morocco\": \"Rabat\"})"
   ]
  },
  {
   "cell_type": "markdown",
   "metadata": {},
   "source": [
    "<div class=\"alert\" style=\"background-color: #ffecb3; color: #856404;\">\n",
    "    <b>Note</b><br>\n",
    "Remember that the functions <code>dir()</code> and <code>help()</code>) can also be used for dictionaries. </div>"
   ]
  },
  {
   "cell_type": "markdown",
   "metadata": {},
   "source": [
    "What can we do instead? There are two ways:\n",
    "\n",
    "**1.** Use the `.update()` method to insert a new dictionary entry."
   ]
  },
  {
   "cell_type": "code",
   "execution_count": null,
   "metadata": {
    "tags": []
   },
   "outputs": [],
   "source": [
    "capitals.update({\"Morocco\" : \"Rabat\"})\n",
    "print(capitals)"
   ]
  },
  {
   "cell_type": "markdown",
   "metadata": {},
   "source": [
    "**2.** Assign a value to a new key directly as if it were already part of the dictionary."
   ]
  },
  {
   "cell_type": "code",
   "execution_count": null,
   "metadata": {
    "tags": []
   },
   "outputs": [],
   "source": [
    "# Remember: dict values can be of any type\n",
    "\n",
    "capitals[\"South-Africa\"] = [\"Pretoria\", \"Cape Town\", \"Bloemfontein\"]\n",
    "print(capitals)"
   ]
  },
  {
   "cell_type": "markdown",
   "metadata": {},
   "source": [
    "<h4 style=\"color:#B22222\">Deleting</h4>"
   ]
  },
  {
   "cell_type": "markdown",
   "metadata": {},
   "source": [
    "Just as we can insert elements into a dictionary, we should also be able to delete elements. How can we do that? There are multiple ways:\n",
    "\n",
    "1. Use the `del` keyword (also works for lists).\n",
    "2. Use the `.pop()` method to delete an element by its key (also works for lists).\n",
    "2. Use the `.popitem()` method to delete the last element."
   ]
  },
  {
   "cell_type": "code",
   "execution_count": null,
   "metadata": {
    "tags": []
   },
   "outputs": [],
   "source": [
    "# First, we initialise a dict of LOTR characters and their roles\n",
    "\n",
    "lotr_characters: Dict[str, str] = {\n",
    "    'Frodo': 'Ring Bearer',\n",
    "    'Sam': 'Gardener',\n",
    "    'Aragorn': 'Ranger',\n",
    "    'Legolas': 'Elf Prince',\n",
    "    'Gimli': 'Dwarf Warrior'\n",
    "}"
   ]
  },
  {
   "cell_type": "markdown",
   "metadata": {},
   "source": [
    "**1.** Use of `del`"
   ]
  },
  {
   "cell_type": "code",
   "execution_count": null,
   "metadata": {
    "tags": []
   },
   "outputs": [],
   "source": [
    "# Delete the character 'Aragorn'\n",
    "del lotr_characters['Aragorn']\n",
    "\n",
    "# Dictionary after deletion\n",
    "print(\"Dictionary after del:\", lotr_characters)"
   ]
  },
  {
   "cell_type": "markdown",
   "metadata": {},
   "source": [
    "**2.** Use of `.pop()`"
   ]
  },
  {
   "cell_type": "code",
   "execution_count": null,
   "metadata": {
    "tags": []
   },
   "outputs": [],
   "source": [
    "# Pop the character 'Sam'\n",
    "popped_role = lotr_characters.pop('Sam')\n",
    "\n",
    "# Dictionary after pop\n",
    "print(\"Dictionary after pop:\", lotr_characters)\n",
    "print(\"Popped role:\", popped_role)"
   ]
  },
  {
   "cell_type": "markdown",
   "metadata": {},
   "source": [
    "**3.** Use of `.popitem()`"
   ]
  },
  {
   "cell_type": "code",
   "execution_count": null,
   "metadata": {
    "tags": []
   },
   "outputs": [],
   "source": [
    "# Pop the last inserted element\n",
    "last_item = lotr_characters.popitem()\n",
    "\n",
    "# Dictionary after popping the last element\n",
    "print(\"Dictionary after popping last item:\", lotr_characters)\n",
    "print(\"Popped last item:\", last_item)"
   ]
  },
  {
   "cell_type": "markdown",
   "metadata": {},
   "source": [
    "<h4 style=\"color:#B22222\">Copying</h4>"
   ]
  },
  {
   "cell_type": "markdown",
   "metadata": {},
   "source": [
    "Just like with lists, we can use either the `.copy()` method or the `=` operator to copy a dictionary. However, you may remember that there's a difference between these two approaches.\n",
    "\n",
    "**Let's think!** Here is a piece of code that aims to start off with one dictionary but save it in two separate variables to make different changes to each, to then print the two different dictionaries. However, something is not quite right. What’s going on? How can we fix it?"
   ]
  },
  {
   "cell_type": "code",
   "execution_count": null,
   "metadata": {
    "tags": []
   },
   "outputs": [],
   "source": [
    "# The Dictionaries\n",
    "dict1: Dict = {\"a\" : 1, \"b\" : 2, \"c\" : 3, \"d\" : 4, \"e\" : 5, \"f\" : 6}\n",
    "dict2: Dict = dict1\n",
    "\n",
    "# Changing dict1\n",
    "dict1.pop(\"b\")\n",
    "dict1.pop(\"d\")\n",
    "dict1.pop(\"f\")\n",
    "\n",
    "#Changing dict2\n",
    "dict2.pop(\"a\")\n",
    "dict2.pop(\"c\")\n",
    "dict2.pop(\"e\")\n",
    "\n",
    "# Printing the resulting dictionaries\n",
    "print(f\"dict1 is {dict1}.\")\n",
    "print(f\"dict2 is {dict2}.\")"
   ]
  },
  {
   "cell_type": "markdown",
   "metadata": {
    "tags": []
   },
   "source": [
    "<h2 style=\"color:#4169E1\">Iterating Through a Dictionary</h2>\n",
    "\n",
    "Just like we can iterate through lists, we can also iterate through dictionaries. Let's look at an example."
   ]
  },
  {
   "cell_type": "code",
   "execution_count": null,
   "metadata": {
    "tags": []
   },
   "outputs": [],
   "source": [
    "# Initialise a dict of Florence Pugh movies and their release years\n",
    "florence_pugh_movies: Dict[str, int] = {\n",
    "    'Lady Macbeth': 2016,\n",
    "    'Fighting with My Family': 2019,\n",
    "    'Midsommar': 2019,\n",
    "    'Little Women': 2019,\n",
    "    'Black Widow': 2021,\n",
    "    'Don’t Worry Darling': 2022,\n",
    "    'The Wonder': 2022,\n",
    "    'Oppenheimer': 2023\n",
    "}\n",
    "\n",
    "# Let's loop over the dict in a similar way as we would with a list\n",
    "for item in florence_pugh_movies:\n",
    "    print(item)"
   ]
  },
  {
   "cell_type": "markdown",
   "metadata": {},
   "source": [
    "You probably noticed that the output only shows the keys and not the values. How can we print both?"
   ]
  },
  {
   "cell_type": "markdown",
   "metadata": {},
   "source": [
    "<h4 style=\"color:#B22222\">Using the Methods <code>.keys()</code> and <code>.values()</code></h4>"
   ]
  },
  {
   "cell_type": "markdown",
   "metadata": {},
   "source": [
    "First, as aforementioned, you can access the keys or values separately using the `.keys()` and `.values()` methods, respectively:"
   ]
  },
  {
   "cell_type": "code",
   "execution_count": null,
   "metadata": {
    "tags": []
   },
   "outputs": [],
   "source": [
    "# Access keys\n",
    "for movie in florence_pugh_movies.keys():\n",
    "    print(f\"Key: {movie}\")\n",
    "\n",
    "# Access values\n",
    "for release_year in florence_pugh_movies.values():\n",
    "    print(f\"Value: {release_year}\")"
   ]
  },
  {
   "cell_type": "markdown",
   "metadata": {},
   "source": [
    "<h4 style=\"color:#B22222\">Using the Method <code>.items()</code></h4>"
   ]
  },
  {
   "cell_type": "markdown",
   "metadata": {},
   "source": [
    "If you want to access both keys and values simultaneously in a loop, you use the `.items()` method:"
   ]
  },
  {
   "cell_type": "code",
   "execution_count": null,
   "metadata": {
    "tags": []
   },
   "outputs": [],
   "source": [
    "for movie, release_year in florence_pugh_movies.items():\n",
    "    print(f\"{movie} came out in {release_year}.\")    "
   ]
  },
  {
   "cell_type": "markdown",
   "metadata": {
    "tags": []
   },
   "source": [
    "<h2 style=\"color:#4169E1\">Nested Dictionaries</h2>\n",
    "\n",
    "The great thing about dictionaries in Python is that you can create complex data structures using **nested dictionaries**. This allows you to add layers to your data."
   ]
  },
  {
   "cell_type": "code",
   "execution_count": null,
   "metadata": {
    "tags": []
   },
   "outputs": [],
   "source": [
    "gymnastics_data: Dict = {\n",
    "    'Simone Biles': {\n",
    "        'birth_year': 1997,\n",
    "        'olympic_medals': {\n",
    "            'gold': 7,\n",
    "            'silver': 2,\n",
    "            'bronze': 2\n",
    "        },\n",
    "        'events': {\n",
    "            '2016': ['Rio Olympics', '4 Gold Medals', '1 Bronze Medal'],\n",
    "            '2020': ['Tokyo Olympics', '1 Silver Medal', '1 Bronze Medal'],\n",
    "            '2024': ['Paris Olympics', '3 Gold Medals', '1 Silver Medal']\n",
    "        }\n",
    "    }\n",
    "}"
   ]
  },
  {
   "cell_type": "markdown",
   "metadata": {},
   "source": [
    "We can access the values in nested dicts by using the keys in sequence. The syntax of this looks as follows:\n",
    "\n",
    "```python\n",
    "data = {\n",
    "    'outer': {\n",
    "        'middle': {\n",
    "            'inner': 'value'\n",
    "        }\n",
    "    }\n",
    "}\n",
    "```\n",
    "\n",
    "To access `'value'`, you would use:\n",
    "\n",
    "```python\n",
    "inner_value = data['outer']['middle']['inner']\n",
    "```\n",
    "\n",
    "Now, let’s apply this to the dictionary about Simone Biles."
   ]
  },
  {
   "cell_type": "code",
   "execution_count": null,
   "metadata": {
    "tags": []
   },
   "outputs": [],
   "source": [
    "print(f\"Simone Biles was born in {gymnastics_data['Simone Biles']['birth_year']}.\")\n",
    "print(f\"In the 2016 Rio Olympics, she won {gymnastics_data['Simone Biles']['events']['2016'][1]}.\")\n",
    "print(f\"Total gold medals won: {gymnastics_data['Simone Biles']['olympic_medals']['gold']}.\")"
   ]
  },
  {
   "cell_type": "markdown",
   "metadata": {},
   "source": [
    "<div class=\"alert\" style=\"background-color: #ffecb3; color: #856404;\">\n",
    "    <b>Note</b><br>\n",
    "Since dictionary values can be of any type, it’s possible for a value within a dictionary to be another dictionary. Just remember, keys have to be immutable, so you can’t use a dictionary as a key.\n",
    "</div>"
   ]
  },
  {
   "cell_type": "markdown",
   "metadata": {
    "tags": []
   },
   "source": [
    "<h2 style=\"color:#3CB371\">Exercises</h2>"
   ]
  },
  {
   "cell_type": "markdown",
   "metadata": {},
   "source": [
    "Let's practice! Mind that each exercise is designed with multiple levels to help you progressively build your skills. <span style=\"color:darkorange;\"><strong>Level 1</strong></span> is the foundational level, designed to be straightforward so that everyone can successfully complete it. In <span style=\"color:darkorange;\"><strong>Level 2</strong></span>, we step it up a notch, expecting you to use more complex concepts or combine them in new ways. Finally, in <span style=\"color:darkorange;\"><strong>Level 3</strong></span>, we get closest to exam level questions, but we may use some concepts that are not covered in this notebook. However, in programming, you often encounter situations where you’re unsure how to proceed. Fortunately, you can often solve these problems by starting to work on them and figuring things out as you go. Practicing this skill is extremely helpful, so we highly recommend completing these exercises.\n",
    "\n",
    "For each of the exercises, make sure to add a `docstring` and `type hints`, and **do not** import any libraries unless specified otherwise.\n",
    "<br>"
   ]
  },
  {
   "cell_type": "markdown",
   "metadata": {
    "tags": []
   },
   "source": [
    "### Exercise 1\n",
    "\n",
    "You have a list of dictionaries, each representing a student. Each dictionary contains the student’s full name, year, and a list of seven grades.\n",
    "\n",
    "<span style=\"color:darkorange;\"><strong>Level 1</strong>:</span> Use a `for`loop to calculate the average grade for each student and **print** the student’s information in the following format. Note that you only need to print the student’s first name, and that the average should be formatted to two digits only:\n",
    "\n",
    "**Format output**:\n",
    "```Python\n",
    "\"Student [First Name]'s average grade is [Average Grade]\"\n",
    "```"
   ]
  },
  {
   "cell_type": "code",
   "execution_count": null,
   "metadata": {
    "tags": []
   },
   "outputs": [],
   "source": [
    "students: list = [\n",
    "    {\"name\": \"LeBron James\", \"year\": 2024, \"grades\": [68, 65, 62, 71, 47, 69, 33]},\n",
    "    {\"name\": \"Serena Williams\", \"year\": 2024, \"grades\": [81, 77, 89, 80, 87, 73, 90]},\n",
    "    {\"name\": \"Lionel Messi\", \"year\": 2024, \"grades\": [74, 80, 67, 72, 81, 89, 65]},\n",
    "    {\"name\": \"Usain Bolt\", \"year\": 2024, \"grades\": [83, 87, 83, 89, 88, 84, 98]},\n",
    "    {\"name\": \"Tom Brady\", \"year\": 2024, \"grades\": [67, 71, 61, 60, 82, 54, 71]},\n",
    "    {\"name\": \"Simone Biles\", \"year\": 2024, \"grades\": [95, 92, 97, 91, 99, 92, 98]},\n",
    "    {\"name\": \"Michael Phelps\", \"year\": 2024, \"grades\": [35, 48, 52, 41, 66, 40, 59]}\n",
    "]"
   ]
  },
  {
   "cell_type": "code",
   "execution_count": null,
   "metadata": {
    "tags": []
   },
   "outputs": [],
   "source": [
    "# TODO."
   ]
  },
  {
   "cell_type": "markdown",
   "metadata": {
    "tags": []
   },
   "source": [
    "<span style=\"color:darkorange;\"><strong>Level 2</strong>:</span> Expanding on the previous exercise, write a function `class_info()` that takes a list of student dictionaries as input (same format as Level 1) and **returns** the following information:\n",
    "\n",
    "- The average grade for the entire class;\n",
    "- The student with the highest average grade, including their name and grade;\n",
    "- The student with the lowest average grade, including their name and grade.\n",
    "\n",
    "**Print** this information **outside** the function in a clear and readable format. Again, note that you only need to print the student’s first name, and that the average should be formatted to two digits only:\n",
    "\n",
    "**Format output**:\n",
    "```Python\n",
    "\"Average grade for the entire class: [Class Average Grade]\"\n",
    "\n",
    "\"Student with the highest average grade: [Highest Student Name] with an average grade of [Highest Average Grade]\"\n",
    "\n",
    "\"Student with the lowest average grade: [Lowest Student Name] with an average grade of [Lowest Average Grade]\"\n",
    "```"
   ]
  },
  {
   "cell_type": "code",
   "execution_count": null,
   "metadata": {
    "tags": []
   },
   "outputs": [],
   "source": [
    "# TODO."
   ]
  },
  {
   "cell_type": "markdown",
   "metadata": {
    "tags": []
   },
   "source": [
    "### Exercise 2\n",
    "\n",
    "A classic, well-known exercise with dictionaries is to implement a word frequency counter.\n",
    "\n",
    "<span style=\"color:darkorange;\"><strong>Level 1</strong>:</span> Your task is to create a Python function called `word_frequency()` that takes a string as input (use `sentence` as the argument in the function call). The function should count the frequency of each word and return a dictionary where the keys are words and the values are their corresponding frequencies.\n",
    "\n",
    "**Print** the dictionary **outside** the function in a clear and readable format. For this Level, you do not need to worry about uppercase and lowercase variations or punctuation marks.\n",
    "\n",
    "**Input:** you pass this argument to the parameter in the function call.\n",
    "```python\n",
    "sentence: str = \"Wow! The quick, quick brown fox—yes, the very quick fox—jumps over the lazy dog, and the quick fox runs quickly. Quickly, quickly, quickly!\"\n",
    "```\n",
    "\n",
    "**Output:**\n",
    "```python\n",
    "{'Wow!': 1, 'The': 1, 'quick,': 1, 'quick': 3, 'brown': 1, 'fox—yes,': 1, 'the': 3, 'very': 1, 'fox—jumps': 1, 'over': 1, 'lazy': 1, 'dog,': 1, 'and': 1, 'fox': 1, 'runs': 1, 'quickly.': 1, 'Quickly,': 1, 'quickly,': 1, 'quickly!': 1}\n",
    "```"
   ]
  },
  {
   "cell_type": "code",
   "execution_count": null,
   "metadata": {
    "tags": []
   },
   "outputs": [],
   "source": [
    "sentence: str = \"Wow! The quick, quick brown fox—yes, the very quick fox—jumps over the lazy dog, and the quick fox runs quickly. Quickly, quickly, quickly!\""
   ]
  },
  {
   "cell_type": "code",
   "execution_count": null,
   "metadata": {
    "tags": []
   },
   "outputs": [],
   "source": [
    "# TODO."
   ]
  },
  {
   "cell_type": "markdown",
   "metadata": {},
   "source": [
    "<span style=\"color:darkorange;\"><strong>Level 2</strong>:</span> Copy and adjust the function `word_frequency()` so that it does **not** include punctuation and treats words as case-insensitive. For instance, ‘Love’ and ‘love’ should both be counted as ‘love’.\n",
    "\n",
    "**Print** the dictionary **outside** the function in a clear and readable format.\n",
    "\n",
    "**Input:** you pass this argument to the parameter in the function call.\n",
    "```python\n",
    "sentence: str = \"Wow! The quick, quick brown fox—yes, the very quick fox—jumps over the lazy dog, and the quick fox runs quickly. Quickly, quickly, quickly!\"\n",
    "```\n",
    "\n",
    "**Output:**\n",
    "```python\n",
    "{'wow': 1, 'the': 4, 'quick': 4, 'brown': 1, 'fox': 3, 'yes': 1, 'very': 1, 'jumps': 1, 'over': 1, 'lazy': 1, 'dog': 1, 'and': 1, 'runs': 1, 'quickly': 4}\n",
    "```"
   ]
  },
  {
   "cell_type": "code",
   "execution_count": null,
   "metadata": {
    "tags": []
   },
   "outputs": [],
   "source": [
    "# TODO."
   ]
  },
  {
   "cell_type": "markdown",
   "metadata": {
    "tags": []
   },
   "source": [
    "### Exercise 3\n",
    "\n",
    "<span style=\"color:darkorange;\"><strong>Level 1</strong>:</span> Create a list of book dictionaries called `my_books` with the following information: title, year published, and number of pages. **Add them yourself, do not simply copy/paste the example provided.** Then, write a function called `find_books_by_year()` that takes two arguments: a list of book dictionaries and a year. The function should **return** a list of book titles published in that year. If no books were published in that year, the function should **return** “No books found\".\n",
    "\n",
    "**Print** the result **outside** the function in a clear and readable format.\n",
    "\n",
    "**Example input:** you pass these arguments to the parameters in the function call.\n",
    "\n",
    "```python\n",
    "my_books: List[Dict] = [\n",
    "    {'title': 'To Kill a Mockingbird', 'year': 1960, 'pages': 281},\n",
    "    {'title': '1984', 'year': 1949, 'pages': 328},\n",
    "    {'title': 'Pride and Prejudice', 'year': 1813, 'pages': 432},\n",
    "    {'title': 'The Great Gatsby', 'year': 1925, 'pages': 180},\n",
    "    {'title': 'The Catcher in the Rye', 'year': 1951, 'pages': 277}\n",
    "]\n",
    "\n",
    "year: int = 1960\n",
    "```\n",
    "\n",
    "**Example output:**\n",
    "```python\n",
    "['To Kill a Mockingbird']\n",
    "```"
   ]
  },
  {
   "cell_type": "code",
   "execution_count": null,
   "metadata": {},
   "outputs": [],
   "source": [
    "my_books = []\n",
    "\n",
    "# TODO. "
   ]
  },
  {
   "cell_type": "markdown",
   "metadata": {},
   "source": [
    "<span style=\"color:darkorange;\"><strong>Level 2</strong>:</span> Copy `find_books_by_year()` and modify in such a way that it takes a list of book dictionaries and a list of years as input. The function should **return** a dictionary where each year in the input list is a key, and the corresponding value is a list of book titles published in that year. If no books were published in a given year, that year should be **included** in the dictionary with an empty list as the value.\n",
    "\n",
    "**Print** the result **outside** the function in a clear and readable format.\n",
    "\n",
    "\n",
    "**Example input:** you pass these arguments to the parameters in the function call.\n",
    "\n",
    "```python\n",
    "my_books: List[Dict] = [\n",
    "    {'title': 'To Kill a Mockingbird', 'year': 1960, 'pages': 281},\n",
    "    {'title': '1984', 'year': 1949, 'pages': 328},\n",
    "    {'title': 'Pride and Prejudice', 'year': 1813, 'pages': 432},\n",
    "    {'title': 'The Great Gatsby', 'year': 1925, 'pages': 180},\n",
    "    {'title': 'The Catcher in the Rye', 'year': 1951, 'pages': 277}\n",
    "]\n",
    "\n",
    "target_years: List[int] = [1932, 1960, 2021]\n",
    "```\n",
    "\n",
    "**Example output:**\n",
    "```python\n",
    "{\n",
    "    1932: ['Brave New World'],\n",
    "    1960: ['To Kill a Mockingbird'],\n",
    "    2021: []\n",
    "}\n",
    "```"
   ]
  },
  {
   "cell_type": "code",
   "execution_count": null,
   "metadata": {
    "tags": []
   },
   "outputs": [],
   "source": [
    "# TODO."
   ]
  },
  {
   "cell_type": "markdown",
   "metadata": {
    "tags": []
   },
   "source": [
    "### Exercise 4\n",
    "\n",
    "An anagram is a newly formed word made from the letters of another word, where each letter is used only once. For example, the word `\"listen\"` is an anagram of the word `\"silent\"`.\n",
    "\n",
    "\n",
    "<span style=\"color:darkorange;\"><strong>Level 1</strong>:</span> Write a Python function called `are_anagrams()`, which takes as arguments two words and **returns** a boolean value. The function should return `True` if the two words are anagrams of each other and `False` otherwise. Inside the function, use dictionaries to compare letter frequencies in each word. You can assume that both words are written in lower case. \n",
    "\n",
    "**Print** the result **outside** the function in a clear and readable format.\n",
    "\n",
    "**Example input:** you pass these arguments to the parameters in the function call.\n",
    "\n",
    "```python\n",
    "word1: str = \"listen\"\n",
    "word2: str = \"silent\"\n",
    "\n",
    "```\n",
    "\n",
    "**Example output:**\n",
    "```python\n",
    "'Are the words \"listen\" and \"silent\" anagrams? True'\n",
    "```"
   ]
  },
  {
   "cell_type": "code",
   "execution_count": null,
   "metadata": {
    "tags": []
   },
   "outputs": [],
   "source": [
    "# TODO."
   ]
  },
  {
   "cell_type": "markdown",
   "metadata": {},
   "source": [
    "<span style=\"color:darkorange;\"><strong>Level 2</strong>:</span> Copy `are_anagrams()` and modify it in such a way that it can also handle phrases instead of only words. A phrase can contain upper case characters, spaces, punctuation, and special characters. Ensure that the function can accurately detect whether two phrases are anagrams when spaces, punctuation, and special characters are removed.\n",
    "\n",
    "**Print** the result **outside** the function in a clear and readable format.\n",
    "\n",
    "**Example input:** you pass these arguments to the parameters in the function call.\n",
    "\n",
    "```python\n",
    "sentence1: str = \"The Morse Code!\"\n",
    "sentence2: str = \"Here come dots\"\n",
    "\n",
    "```\n",
    "\n",
    "**Example output:**\n",
    "```python\n",
    "'Are the sentences \"The Morse Code!\" and \"Here come dots\" anagrams? True'\n",
    "```"
   ]
  },
  {
   "cell_type": "code",
   "execution_count": null,
   "metadata": {
    "tags": []
   },
   "outputs": [],
   "source": [
    "# TODO."
   ]
  }
 ],
 "metadata": {
  "kernelspec": {
   "display_name": "Python 3 (ipykernel)",
   "language": "python",
   "name": "python3"
  },
  "language_info": {
   "codemirror_mode": {
    "name": "ipython",
    "version": 3
   },
   "file_extension": ".py",
   "mimetype": "text/x-python",
   "name": "python",
   "nbconvert_exporter": "python",
   "pygments_lexer": "ipython3",
   "version": "3.11.5"
  },
  "vscode": {
   "interpreter": {
    "hash": "9451767feaf7925185bf37009af3205aec0103dc88a66dc09d267eb54aa4b1c3"
   }
  }
 },
 "nbformat": 4,
 "nbformat_minor": 4
}

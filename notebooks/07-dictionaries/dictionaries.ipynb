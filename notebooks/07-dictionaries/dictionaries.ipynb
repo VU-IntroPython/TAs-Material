{
 "cells": [
  {
   "cell_type": "markdown",
   "metadata": {},
   "source": [
    "# Dictionaries"
   ]
  },
  {
   "cell_type": "markdown",
   "metadata": {},
   "source": [
    "*Material for the VU Amsterdam course “Introduction to Python Programming” for BSc Artificial Intelligence students. These notebooks are created using the following sources:*\n",
    "1. [Learning Python by Doing][learning python]: This book, developed by teachers of TU/e Eindhoven and VU Amsterdam, is the main source for the course materials. Code snippets or text explanations from the book may be used in the notebooks, sometimes with slight adjustments.\n",
    "2. [Think Python][think python]\n",
    "3. [GeekForGeeks][geekforgeeks]\n",
    "\n",
    "[learning python]: https://programming-pybook.github.io/introProgramming/intro.html\n",
    "[think python]: https://greenteapress.com/thinkpython2/html/\n",
    "[geekforgeeks]: https://www.geeksforgeeks.org\n",
    "\n",
    "**In this notebook, we cover the following subjects:**\n",
    "- Todo.\n",
    "___________________________________________________________________________________________________________________________"
   ]
  },
  {
   "cell_type": "code",
   "execution_count": 23,
   "metadata": {
    "tags": []
   },
   "outputs": [],
   "source": [
    "# To enable type hints for lists and dicts, we need to import the following:\n",
    "from typing import List, Dict"
   ]
  },
  {
   "cell_type": "markdown",
   "metadata": {},
   "source": [
    "CHANGE TO COMPARE dict AND LIST ONLY.\n",
    "\n",
    "| property                       | set               | list            | tuple       | dict keys | dict values | \n",
    "|------------------------------- |-------------------|-----------------|-------------|-----------|-------------|\n",
    "| **mutable** (can you add add/remove?) | yes        | yes             | no          | yes       | yes         |      \n",
    "| **can** contain duplicates     | no                | yes             | yes         | no        | yes            |\n",
    "| **ordered**                    | no                | yes             | yes         | yes, but do not rely on it          | depends on type of value         |\n",
    "| **finding** element(s)         | quick             | slow            | slow        | quick             | depends on type of value         |\n",
    "| **can** contain                | immutables | all     | all | immutables  |  all           |\n",
    "\n"
   ]
  },
  {
   "cell_type": "markdown",
   "metadata": {
    "tags": []
   },
   "source": [
    "<h2 style=\"color:#4169E1\">A Simple Loop</h2>\n",
    "\n",
    "In Python, a `for` loop is used for iterating over a sequence, such as a list, a tuple, a dictionary, a set, or a string. For loops are used when the required number of iterations is known before we enter the loop (i.e., when we want to repeat a process for a specific number of times or for a specific list of items). The syntax is as follows:\n",
    "\n",
    "```python\n",
    "for variable in object:\n",
    "    # Code\n",
    "```\n",
    "\n",
    "With a `for` loop, we can, for instance, print each letter of a string."
   ]
  },
  {
   "cell_type": "code",
   "execution_count": null,
   "metadata": {
    "tags": []
   },
   "outputs": [],
   "source": [
    "for letter in \"animal\":\n",
    "    print(letter)"
   ]
  },
  {
   "cell_type": "markdown",
   "metadata": {},
   "source": [
    "<div class=\"alert\" style=\"background-color: #ffecb3; color: #856404;\">\n",
    "    <b>Note</b><br>\n",
    "You can’t use the variable from the <code>for</code> loop outside of it; its scope is exclusively within the <code>for</code> loop.\n",
    "</div>"
   ]
  },
  {
   "cell_type": "markdown",
   "metadata": {},
   "source": [
    "<h4 style=\"color:#B22222\">The <code>range()</code> Function</h4>\n",
    "\n",
    "If you want to iterate through a range of numbers, you can use the `range()` function. The syntax of this function is as follows:\n",
    "\n",
    "```python\n",
    "range(start, stop[, step])\n",
    "```\n",
    "\n",
    "Remember, we can use the `help` function to understand the usage of `range()`."
   ]
  },
  {
   "cell_type": "markdown",
   "metadata": {
    "tags": []
   },
   "source": [
    "<h2 style=\"color:#3CB371\">Exercises</h2>"
   ]
  },
  {
   "cell_type": "markdown",
   "metadata": {},
   "source": [
    "Let's practice! Mind that each exercise is designed with multiple levels to help you progressively build your skills. <span style=\"color:darkorange;\"><strong>Level 1</strong></span> is the foundational level, designed to be straightforward so that everyone can successfully complete it. In <span style=\"color:darkorange;\"><strong>Level 2</strong></span>, we step it up a notch, expecting you to use more complex concepts or combine them in new ways. Finally, in <span style=\"color:darkorange;\"><strong>Level 3</strong></span>, we get closest to exam level questions, but we may use some concepts that are not covered in this notebook. However, in programming, you often encounter situations where you’re unsure how to proceed. Fortunately, you can often solve these problems by starting to work on them and figuring things out as you go. Practicing this skill is extremely helpful, so we highly recommend completing these exercises.\n",
    "\n",
    "For each of the exercises, make sure to add a `docstring` and `type hints`, and **do not** import any libraries unless specified otherwise.\n",
    "<br>"
   ]
  },
  {
   "cell_type": "markdown",
   "metadata": {},
   "source": [
    "### Exercise 1\n",
    "\n",
    "Let's practice with loops, starting off with a fun and simple exercise.\n",
    "\n",
    "<span style=\"color:darkorange;\"><strong>Level 1</strong>:</span> Classic exercises with loops often involve counting, something we will do now as well. Your task is to write a simple program (not using a function) that asks the user to enter a string and counts the number of vowels (a, e, i, o, u). Use a [counter][counter] and a `for` loop to perform the counting. Make sure your program is case-insensitive, counting both lower and upper case vowels. Once the loop has terminated, `print` the result.\n",
    "\n",
    "**Example input**:\n",
    "```Python\n",
    "user_input: str = \"Bye World!\"\n",
    "```\n",
    "\n",
    "**Example output**:\n",
    "```python\n",
    "\"The string contains 2 vowels.\"\n",
    "```\n",
    "\n",
    "[counter]:https://programming-pybook.github.io/introProgramming/chapters/strings.html?highlight=counting#looping-and-counting"
   ]
  },
  {
   "cell_type": "code",
   "execution_count": null,
   "metadata": {
    "tags": []
   },
   "outputs": [],
   "source": [
    "user_input: str = input(\"Enter a string: \")\n",
    "\n",
    "# TODO."
   ]
  }
 ],
 "metadata": {
  "kernelspec": {
   "display_name": "Python 3 (ipykernel)",
   "language": "python",
   "name": "python3"
  },
  "language_info": {
   "codemirror_mode": {
    "name": "ipython",
    "version": 3
   },
   "file_extension": ".py",
   "mimetype": "text/x-python",
   "name": "python",
   "nbconvert_exporter": "python",
   "pygments_lexer": "ipython3",
   "version": "3.11.5"
  },
  "vscode": {
   "interpreter": {
    "hash": "9451767feaf7925185bf37009af3205aec0103dc88a66dc09d267eb54aa4b1c3"
   }
  }
 },
 "nbformat": 4,
 "nbformat_minor": 4
}

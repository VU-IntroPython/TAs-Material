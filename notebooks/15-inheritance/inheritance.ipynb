{
 "cells": [
  {
   "cell_type": "markdown",
   "id": "5247a3df-7828-414e-b1d8-a27fa3bed793",
   "metadata": {},
   "source": [
    "# Inheritance"
   ]
  },
  {
   "cell_type": "markdown",
   "id": "76252356-c54f-4f3a-a134-8dc10c8676b7",
   "metadata": {},
   "source": [
    "**In this notebook, we cover the following subjects:**\n",
    "- Understanding Inheritance;\n",
    "- Single Inheritance;\n",
    "- Method Overriding;\n",
    "- Other Forms of Inheritance.\n",
    "___________________________________________________________________________________________________________________________"
   ]
  },
  {
   "cell_type": "code",
   "execution_count": 3,
   "id": "99c28a14-4f1b-4f34-9829-5b2f3b4fdbb9",
   "metadata": {
    "tags": []
   },
   "outputs": [],
   "source": [
    "# To enable type hints for lists, dicts, tuples, and sets we need to import the following:\n",
    "from typing import List, Dict, Tuple, Set"
   ]
  },
  {
   "cell_type": "markdown",
   "id": "bbe6ac8d-aaf8-4db3-bd5c-d8b9521cf3f2",
   "metadata": {},
   "source": [
    "Up until now, we've covered a lot of ground in our Python journey. We've explored various `data types`, looped through data with `for-loops` and `while-loops`, crafted `functions` to perform specific tasks and much more. But most excitingly, we've dived into the world of `classes`—our very own blueprint for creating objects.\n",
    "\n",
    "Remember how we defined `classes` to encapsulate data and functions together, making our code cleaner and more modular? Today, we're going to build on that foundation by introducing a new concept in object-oriented programming (OOP) called [`Class Inheritance`][c].\n",
    "\n",
    "[c]: https://www.geeksforgeeks.org/inheritance-in-python/"
   ]
  },
  {
   "cell_type": "markdown",
   "id": "b1d3e11c-5120-49af-93fc-18108edcf801",
   "metadata": {
    "tags": []
   },
   "source": [
    "## <span style=\"color:#4169E1\">What is `class inheritance`?</span>\n",
    "\n",
    "[`Class Inheritance`][c] is one of the core concepts of OOP that allows us to establish a type of `\"is-a\"` relationship **between classes**. It enables us to create a **new class**, known as the `derived class` or `child class`, that inherits attributes and methods from an existing class, known as the `base class` or `parent class`. Think of it as a **family tree** where the child (derived class) **inherits traits (attributes or methods)** from their parent (base class), **but can also have its own unique characteristics**.\n",
    "\n",
    "Why is Class Inheritance Useful?\n",
    "\n",
    "1) **Real-world Relationships:** Inheritance mirrors real-life relationships and hierarchies, making our programs intuitively easier to design and understand.\n",
    "2) **Code Reusability:** With inheritance, we can write a class once and then extend it in other classes. This reduces duplication and errors, making our codebase more robust and maintainable.\n",
    "3) **Transitivity:** Just like in a family tree, if a class B inherits from class A, all subclasses of B will automatically inherit from A as well. This chain can continue, forming a multi-level hierarchy.\n",
    "4) **Simple and Understandable Model:** Inheritance helps organize complex systems into hierarchies that are simpler to manage and extend.\n",
    "5) **Cost Efficiency:** By reusing code and simplifying extensions, inheritance can significantly cut down on development and maintenance costs.\n",
    "\n",
    "Sounds fun, righ? Let's see how we can implement `class inheritance` in Python.\n",
    "\n",
    "[c]: https://www.geeksforgeeks.org/inheritance-in-python/"
   ]
  },
  {
   "cell_type": "markdown",
   "id": "fd9a9fbd-9e5b-475a-b587-72c6fa05ca6a",
   "metadata": {},
   "source": [
    "#### <span style=\"color:#B22222\">Syntax of `class inheritance`</span>\n",
    "\n",
    "Let's see a high level example of high `class` inheritance will work:"
   ]
  },
  {
   "cell_type": "markdown",
   "id": "415cc879-4df7-4acb-a054-7de4cbd698ce",
   "metadata": {},
   "source": [
    "```python\n",
    "# Parent Class\n",
    "class ParentClass:\n",
    "    def __init__(self, common_attribute1, common_attribute2):\n",
    "        # Initialize common attributes\n",
    "        self.common_attribute1 = common_attribute1\n",
    "        self.common_attribute2 = common_attribute2\n",
    "\n",
    "    def common_method(self):\n",
    "        # Define a method that can be shared with child classes\n",
    "        return \"This is a method in the Parent Class\"\n",
    "\n",
    "# Child Class\n",
    "class ChildClass(ParentClass):\n",
    "    def __init__(self, common_attribute1, common_attribute2, specific_attribute):\n",
    "        # Call the ParentClass constructor using super()\n",
    "        super().__init__(common_attribute1, common_attribute2)\n",
    "        # Initialize child-specific attribute\n",
    "        self.specific_attribute = specific_attribute\n",
    "\n",
    "    def specific_method(self):\n",
    "        # Define a method specific to the ChildClass\n",
    "        return \"This is a method specific to the Child Class\"\n",
    "```"
   ]
  },
  {
   "cell_type": "markdown",
   "id": "93e6dcaf-5ae2-4fe5-b5b6-ef6f6cf39e44",
   "metadata": {},
   "source": [
    "So what is happening here? As you can see, we defined 2 classes:\n",
    "\n",
    "**ParentClass**  \n",
    "This is like the blueprint for other classes. It has some **common features** (common_attribute1 and common_attribute2) that **any** class based on it will inherit. It also has a method called common_method() that just lets you know it's from the ParentClass.\n",
    "\n",
    "**ChildClass**  \n",
    "Think of this as a **specialized version** of the ParentClass. It gets all the goodies from `ParentClass` through a special call, `super()`, which means it doesn't miss out on any features. Plus, it has its **own** unique feature (specific_attribute) and its **own** special method (specific_method()), making it a bit more tailored.\n",
    "\n",
    "In a nutshell: The ChildClass gets everything the ParentClass has, plus a little extra to make it special. It’s like inheriting a family recipe and then adding your own twist to it!"
   ]
  },
  {
   "cell_type": "markdown",
   "id": "ab001d28-305f-4617-a974-6ebb018a3e24",
   "metadata": {},
   "source": [
    "## <span style=\"color:#4169E1\">Single Inheritance</span>"
   ]
  },
  {
   "cell_type": "markdown",
   "id": "bbfd077e-36a6-4254-bb6b-738b1850bf97",
   "metadata": {},
   "source": [
    "Now let's see a proper implementation of `class inheritance`:\n",
    "\n",
    "First, we define our `parent class`, **Mammal**, which includes **basic properties** and **methods** that **all** mammals would have."
   ]
  },
  {
   "cell_type": "code",
   "execution_count": 11,
   "id": "4269ac40-1cfd-4350-a1ba-0d5e6d9f7bd5",
   "metadata": {},
   "outputs": [],
   "source": [
    "class Mammal:\n",
    "    def __init__(self, name: str, age: int, habitat: str, warm_blooded: bool = True) -> None:\n",
    "        self.name = name\n",
    "        self.age = age\n",
    "        self.habitat = habitat\n",
    "        self.warm_blooded = warm_blooded\n",
    "\n",
    "    def __str__(self) -> str:\n",
    "        if self.warm_blooded:\n",
    "            warm_blood_status = 'warm-blooded' \n",
    "        else:\n",
    "            warm_blood_status = 'cold-blooded'\n",
    "        \n",
    "        return f\"{self.name} is a {self.age}-year-old {warm_blood_status} mammal that lives in the {self.habitat}\"\n"
   ]
  },
  {
   "cell_type": "markdown",
   "id": "85f7cad8-bde6-4f52-a840-2395c923dc36",
   "metadata": {},
   "source": [
    "Nothing new so far. Let's create an instance of the `Mammal class` to ensure everything is working as expected."
   ]
  },
  {
   "cell_type": "code",
   "execution_count": 13,
   "id": "d7f26726-aeb2-4d5b-8a91-f3a65c86a74e",
   "metadata": {},
   "outputs": [
    {
     "name": "stdout",
     "output_type": "stream",
     "text": [
      "Lopez is a 4-year-old warm-blooded mammal that lives in the Jungle\n"
     ]
    }
   ],
   "source": [
    "mammal_1: Mammal = Mammal('Lopez', 4, 'Jungle')\n",
    "\n",
    "print(mammal_1)"
   ]
  },
  {
   "cell_type": "markdown",
   "id": "020f8d72-2910-41ff-838b-cfd09ecf012b",
   "metadata": {},
   "source": [
    "#### <span style=\"color:#B22222\">Creating a `child class`</span>"
   ]
  },
  {
   "cell_type": "markdown",
   "id": "5bbdbcbc-9c08-406e-b194-51c7b71b69dc",
   "metadata": {},
   "source": [
    "All right, all is good! Now, to define a `child class`, we declare a new class and specify the `parent class` in **parentheses**. Here's how we define our `Cat` class that **inherits** from `Mammal`:"
   ]
  },
  {
   "cell_type": "code",
   "execution_count": 16,
   "id": "a199b325-1a05-4ebe-971b-65ea5dc0ac92",
   "metadata": {},
   "outputs": [],
   "source": [
    "class Cat(Mammal): # so this class inherits from the Mammal class\n",
    "    def __init__(self, name: str, age: int, habitat: str, warm_blooded: bool = True):\n",
    "        super().__init__(name, age, habitat, warm_blooded) #  Call the constructor of the parent class\n"
   ]
  },
  {
   "cell_type": "markdown",
   "id": "3063b2b4-974d-4c79-b461-656086eded6e",
   "metadata": {},
   "source": [
    "So what's going on here?\n",
    "\n",
    "The `Cat class` starts off by declaring its ancestry— it extends the `Mammal` class. We know this becuase of the `Cat(Mammal)` **Mammal** word in the parenthesis after the `Cat` class definition. This relationship means that `Cat` inherits **all** the `properties` and `methods` from `Mammal`. Essentially, anything that a `Mammal` can do or describe about itself, a `Cat` can do too."
   ]
  },
  {
   "cell_type": "markdown",
   "id": "6e2a2f8e-2201-40a8-ac70-a199a186f1c0",
   "metadata": {},
   "source": [
    "#### <span style=\"color:#B22222\">Constructor and `super()`</span>"
   ]
  },
  {
   "cell_type": "markdown",
   "id": "2d6b4e52-d00f-41a3-a7bb-57d5cffc02c5",
   "metadata": {},
   "source": [
    "Inside the `constructor` of the `Cat class`, something new happens with a simple call to `super().__init__(name, age, habitat, warm_blooded)`. This isn’t just any function; it’s the golden bridge to the parent `class Mammal`. By calling `super()`, `Cat` ensures that it starts its \"life\" equipped with **all** the `attributes` and `methods` that define a `Mammal`. It's like saying, \"Hey, I may be a cat, but I’m a mammal first!\" This way, all the essential characteristics like `name`, `age`, and `habitat` are initialized just as they are for any mammal, making sure that our Cat isn’t missing out on any family traits.\n",
    "\n",
    "But why does this matter?\n",
    "\n",
    "Using `super()` is a great move because it means we **write less code** and **minimize** the chances of errors in setting up common properties. It ensures **consistency** across `subclasses` and keeps the initializations in one place. Plus, it **leaves room** for adding more `cat-specific` features (methods or attributes) later on, like a `method` to purr or chase a laser pointer!\n",
    "\n",
    "This approach not only saves time but also keeps our code clean and maintainable. Who knew learning about Cat could be so enlightening? :)"
   ]
  },
  {
   "cell_type": "markdown",
   "id": "cc8a7ff1-1c66-428e-b8e6-15fd0ca56fa4",
   "metadata": {},
   "source": [
    "#### <span style=\"color:#B22222\">Customizing <code>__init__()</code> in subclasses</span>\n",
    "\n",
    "When venturing into the world of `subclasses` like our `Cat class`, one of the first things you might want to do is `add new attributes` that make these subclasses **special**, while still **retaining** all the great setup provided by the `parent class`. Let’s explore how to do this effectively by both customizing and extending the constructor method,` __init__()`, in our `Cat subclass`.\n",
    "\n",
    "now, imagine we want to give our `Cat` some **unique characteristics** that **aren't defined** in the `Mammal class`, like `breed`. Here’s how we can add this new attribute:\n",
    "\n",
    "1) **Declare the Attribute:** You decide what new properties your subclass should have, such as breed for cats.\n",
    "2) **Initialize in `__init__()`:** When you write the constructor for the `Cat class`, you add `breed` as a parameter, and set it just like any other attribute.\n",
    "\n",
    "Here's a look at how it's done:"
   ]
  },
  {
   "cell_type": "code",
   "execution_count": 21,
   "id": "85a05eb9-3652-416c-a183-b6e8a9f8189c",
   "metadata": {},
   "outputs": [],
   "source": [
    "class Cat(Mammal):\n",
    "    def __init__(self, name: str, age: int, habitat: str, breed: str, warm_blooded: bool = True):\n",
    "        super().__init__(name, age, habitat, warm_blooded)  # First, call the parent class constructor\n",
    "        self.breed = breed  # Now, add the new attribute specific to cats"
   ]
  },
  {
   "cell_type": "markdown",
   "id": "bd7d9fce-bcde-4102-9b61-292c815163f6",
   "metadata": {},
   "source": [
    "You might be wondering, why call `super().__init__()`?  \n",
    "\n",
    "Calling `super().__init__()` is crucial because it **executes the parent class's constructor**, ensuring that all the initialization code set up in `Mammal class` (like setting up name, age, habitat, and warm_blooded) also applies to instances of `Cat`. This way, you don’t have to repeat the initialization code for these attributes in the `Cat class`.\n",
    "\n",
    "However, I hope you noticed that we added a new line bellow the `super().__init__()` call.\n",
    "\n",
    "While `super()` handles all the **properties from Mammal**, immediately after calling `super()`, we can set up things that are **specific to a `Cat`**. This setup process might involve initializing new attributes, like `breed`, or setting default values that differ from the parent class settings.\n",
    "\n",
    "I feel like we had enough text for now, let's finally try out our new `Cat` **child class**!"
   ]
  },
  {
   "cell_type": "code",
   "execution_count": 23,
   "id": "c1fe1400-4717-4c30-a2fb-315ade51ef28",
   "metadata": {},
   "outputs": [
    {
     "name": "stdout",
     "output_type": "stream",
     "text": [
      "Whiskers is a 5-year-old warm-blooded mammal that lives in the house\n"
     ]
    }
   ],
   "source": [
    "whiskers: Cat = Cat(\"Whiskers\", 5, \"house\", \"Siamese\")\n",
    "print(whiskers)"
   ]
  },
  {
   "cell_type": "markdown",
   "id": "336cbc82-df70-4878-b7ac-b1b1e8570f44",
   "metadata": {},
   "source": [
    "This look almost perfect, but actually something is missing...\n",
    "\n",
    "If you are attention to detail, you probably noticed that we did not use the `breed` attribute of the `Cat class`. So all that hard work was for nothing? Thankfully not.   \n",
    "Let me show you how we can **`overwrite class methods`**."
   ]
  },
  {
   "cell_type": "markdown",
   "id": "86e87bee-438f-43b8-bd80-5b0abe289797",
   "metadata": {
    "tags": []
   },
   "source": [
    "## <span style=\"color:#4169E1\">Overwriting class methods</span>\n",
    "\n",
    "`Method overwriting` is a fundamental concept in object-oriented programming that allows a `subclass` to provide a **specific implementation** of a `method` that is **already defined** in its `superclass`. This technique is particularly useful for tailoring the behavior of inherited methods to fit the needs of the subclass, enhancing the **flexibility** and **functionality** of your code.\n",
    "\n",
    "Let's begin by modifying the `__str__()` method in the `Cat` class to reflect characteristics that are **specific** to cats, such as their `breed`. This is an example of how you can change the **default** behavior `inherited` from the `parent class` to better suit the `child class's` context."
   ]
  },
  {
   "cell_type": "code",
   "execution_count": 26,
   "id": "dcaba4a5-e7cb-4c54-9ff4-af84a21c584b",
   "metadata": {},
   "outputs": [],
   "source": [
    "class Cat(Mammal):\n",
    "    def __init__(self, name: str, age: int, habitat: str, breed: str, warm_blooded: bool = True):\n",
    "        super().__init__(name, age, habitat, warm_blooded)\n",
    "        self.breed = breed\n",
    "\n",
    "    def __str__(self):\n",
    "        # Call the parent class __str__ method and extend it with Cat-specific details\n",
    "        base_info = super().__str__()\n",
    "        return f\"{base_info} and is a {self.breed} cat.\"\n"
   ]
  },
  {
   "cell_type": "markdown",
   "id": "6b1ba937-9f36-4481-b1cc-184524c112d8",
   "metadata": {},
   "source": [
    "In this example, the `__str__()` method in `Cat` first calls the method from `Mammal` using `super().__str__()` to reuse the **general** mammal description. Then, it adds a bit more detail about the cat’s breed, providing a more descriptive and useful string representation for objects of the Cat class.\n",
    "\n",
    "Let's see it in action:"
   ]
  },
  {
   "cell_type": "code",
   "execution_count": 28,
   "id": "d1cacd5f-73fb-404d-8ca1-2986d70c36c9",
   "metadata": {},
   "outputs": [
    {
     "name": "stdout",
     "output_type": "stream",
     "text": [
      "Whiskers is a 5-year-old warm-blooded mammal that lives in the house and is a Siamese cat.\n"
     ]
    }
   ],
   "source": [
    "whiskers: Cat = Cat(\"Whiskers\", 5, \"house\", \"Siamese\")\n",
    "print(whiskers)"
   ]
  },
  {
   "cell_type": "markdown",
   "id": "e321bdd1-3bf0-48e9-9419-df51f8515547",
   "metadata": {},
   "source": [
    "Let's consider a few more scenarios where method overriding might be useful:\n",
    "\n",
    "**Animal Sounds:** Suppose we have a generic method in a `Animal class` that makes a sound. Different animals make different sounds, so you override this method in subclasses like `Dog` and `Bird`:"
   ]
  },
  {
   "cell_type": "code",
   "execution_count": 30,
   "id": "1b8129cf-0e40-4545-b3e5-df56d0be94bb",
   "metadata": {},
   "outputs": [],
   "source": [
    "# This is a basic Animal class that includes a generic make_sound() method:\n",
    "\n",
    "class Animal:\n",
    "    def __init__(self, name: str, age: int, habitat: str) -> None:\n",
    "        self.name = name\n",
    "        self.age = age\n",
    "        self.habitat = habitat\n",
    "\n",
    "    def make_sound(self) -> str:\n",
    "        return \"Some generic sound\"\n",
    "\n",
    "    def __str__(self) -> str:\n",
    "        return f\"{self.name} is {self.age} years old and lives in {self.habitat}.\"\n"
   ]
  },
  {
   "cell_type": "markdown",
   "id": "1b5636a3-81e5-4f94-8129-042ac54912e6",
   "metadata": {},
   "source": [
    "Now, the `child classes` `Dog` and `Bird` can **overwrite** this method to provide **specific** sounds:\n",
    "\n",
    "The `Dog subclass` will overwrite the `make_sound()` method and will use `super()` to initialize inherited attributes from `Animal`:"
   ]
  },
  {
   "cell_type": "code",
   "execution_count": 32,
   "id": "5ac73d33-a608-45b6-955d-4890a8cf36ed",
   "metadata": {},
   "outputs": [],
   "source": [
    "class Dog(Animal):\n",
    "    def __init__(self, name: str, age: int, habitat: str, breed: str) -> None:\n",
    "        super().__init__(name, age, habitat)\n",
    "        self.breed = breed\n",
    "\n",
    "    def make_sound(self) -> str:\n",
    "        return \"Bark!\"\n",
    "\n",
    "    def __str__(self) -> str:\n",
    "        base_info = super().__str__()\n",
    "        return f\"{base_info} It is a {self.breed} dog.\""
   ]
  },
  {
   "cell_type": "markdown",
   "id": "1c9de06e-37c0-4454-8c1a-b2f842baff98",
   "metadata": {},
   "source": [
    "Similarly, the `Bird subclass` will overwrite the `make_sound method()`, and also use `super()` for initialization:"
   ]
  },
  {
   "cell_type": "code",
   "execution_count": 34,
   "id": "377765e9-341a-45be-9578-3f0bf4672104",
   "metadata": {},
   "outputs": [],
   "source": [
    "class Bird(Animal):\n",
    "    def __init__(self, name: str, age: int, habitat: str, can_fly: bool) -> None:\n",
    "        super().__init__(name, age, habitat)\n",
    "        self.can_fly = can_fly\n",
    "\n",
    "    def make_sound(self) -> str:\n",
    "        return \"Chirp!\"\n",
    "\n",
    "    def __str__(self) -> str:\n",
    "        base_info = super().__str__()\n",
    "        fly_status = \"can fly\" if self.can_fly else \"cannot fly\"\n",
    "        return f\"{base_info} It {fly_status}.\"\n"
   ]
  },
  {
   "cell_type": "markdown",
   "id": "8fc00b3c-d0c7-4f07-ac2a-534cce3bda8a",
   "metadata": {},
   "source": [
    "Now let's see what happens when we create a few instances of the different classes:"
   ]
  },
  {
   "cell_type": "code",
   "execution_count": 64,
   "id": "cb37aa9b-c6c3-42b7-be5b-de608d0ed8b8",
   "metadata": {},
   "outputs": [
    {
     "name": "stdout",
     "output_type": "stream",
     "text": [
      "Some generic sound\n",
      "Polly is 6 years old and lives in Farm.\n",
      "--------------------\n",
      "Bark!\n",
      "Pluto is 2 years old and lives in House. It is a Golden Retriever dog.\n",
      "--------------------\n",
      "Chirp!\n",
      "Chirpy is 1 years old and lives in Jungle. It cannot fly.\n"
     ]
    }
   ],
   "source": [
    "# parent Animal class instance\n",
    "test_animal: Animal = Animal('Polly', 6, 'Farm')\n",
    "print(test_animal.make_sound())\n",
    "print(test_animal)\n",
    "print('-'*20)\n",
    "\n",
    "# Child Dog class insatnce\n",
    "pluto_dog: Dog = Dog('Pluto', 2, 'House', 'Golden Retriever')\n",
    "print(pluto_dog.make_sound())\n",
    "print(pluto_dog)\n",
    "print('-'*20)\n",
    "\n",
    "# Child Bird class insatnce\n",
    "chirpy_bird: Bird = Bird('Chirpy', 1, 'Jungle', False)\n",
    "print(chirpy_bird.make_sound())\n",
    "print(chirpy_bird)"
   ]
  },
  {
   "cell_type": "markdown",
   "id": "4de7d1cb-ebb8-4b3e-8c3c-89ea8d85dd02",
   "metadata": {},
   "source": [
    "As we can see, all instances made from the `child classes` can make different sounds. Just how we wanted!"
   ]
  },
  {
   "cell_type": "markdown",
   "id": "97303d4e-8c83-47bc-bd2e-bb8b92784f1f",
   "metadata": {
    "tags": []
   },
   "source": [
    "<h2 style=\"color:#4169E1\">Other Forms of Inheritance</h2>"
   ]
  },
  {
   "cell_type": "markdown",
   "id": "9ed983b7-5db6-49aa-8ee5-233d43010cae",
   "metadata": {},
   "source": [
    "<h4 style=\"color:#B22222\">Multiple Inheritance</h4>\n",
    "\n",
    "- Briefly explain how a class can inherit from multiple parents, and the importance of understanding method resolution order (MRO)."
   ]
  },
  {
   "cell_type": "markdown",
   "id": "afdd495f-816e-41e5-9286-6f30a91ded47",
   "metadata": {},
   "source": [
    "<h4 style=\"color:#B22222\">Multilevel Inheritance</h4>\n",
    "\n",
    "- Provide an example of a class hierarchy that extends over multiple levels, and discuss when this might be useful."
   ]
  },
  {
   "cell_type": "markdown",
   "id": "b69bf97b-5cdc-4e3a-b1ac-a763508f0afc",
   "metadata": {},
   "source": [
    "Example code:\n",
    "\n",
    "``` python\n",
    "class Person:\n",
    "    def __init__(self, name, age):\n",
    "        self.name = name  # Attribute: name\n",
    "        self.age = age    # Attribute: age\n",
    "```"
   ]
  },
  {
   "cell_type": "markdown",
   "id": "f3c052a0-350d-40bc-b41c-f5ddd7250984",
   "metadata": {},
   "source": [
    "<details>\n",
    "  <summary style=\"cursor: pointer; background-color: #d4edda; padding: 10px; border-radius: 5px; color: #155724; font-weight: bold;\">\n",
    "    Q: A Question?\n",
    "  </summary>\n",
    "<div style=\"background-color: #f4fdf7; padding: 12px; margin-top: 8px; border-radius: 6px; border: 1px solid #b7e4c7; color: #155724;\">\n",
    "    An answer.\n",
    "  </div>\n",
    "</details>"
   ]
  },
  {
   "cell_type": "markdown",
   "id": "1daaf0ec-e155-4b9a-af13-4769774f3f3a",
   "metadata": {},
   "source": [
    "<div class=\"alert\" style=\"background-color: #ffecb3; color: #856404;\">\n",
    "    <b>Note</b> <br>\n",
    "The body of the note."
   ]
  },
  {
   "cell_type": "markdown",
   "id": "8d463f30-9fcd-4ec3-b751-0c391d76ccb3",
   "metadata": {
    "tags": []
   },
   "source": [
    "<h2 style=\"color:#3CB371\">Exercises</h2>"
   ]
  },
  {
   "cell_type": "markdown",
   "id": "517fb4f2-3ecd-47b4-a76f-a7688336f212",
   "metadata": {},
   "source": [
    "Let's practice! Mind that each exercise is designed with multiple levels to help you progressively build your skills. <span style=\"color:darkorange;\"><strong>Level 1</strong></span> is the foundational level, designed to be straightforward so that everyone can successfully complete it. In <span style=\"color:darkorange;\"><strong>Level 2</strong></span>, we step it up a notch, expecting you to use more complex concepts or combine them in new ways. Finally, in <span style=\"color:darkorange;\"><strong>Level 3</strong></span>, we get closest to exam level questions, but we may use some concepts that are not covered in this notebook. However, in programming, you often encounter situations where you’re unsure how to proceed. Fortunately, you can often solve these problems by starting to work on them and figuring things out as you go. Practicing this skill is extremely helpful, so we highly recommend completing these exercises.\n",
    "\n",
    "For each of the exercises, make sure to add a `docstring` and `type hints`, and **do not** import any libraries unless specified otherwise.\n",
    "<br>"
   ]
  },
  {
   "cell_type": "markdown",
   "id": "dac3d4b6-8265-49e5-9bfa-aa62e6d59603",
   "metadata": {
    "tags": []
   },
   "source": [
    "### Exercise 1\n",
    "\n",
    "<span style=\"color:darkorange;\"><strong>Level 1</strong>:</span> Description.\n",
    "\n",
    "**Example input**: you pass this argument to the parameter in the function call.\n",
    "\n",
    "```python\n",
    "some code\n",
    "\n",
    "```\n",
    "**Example output**:\n",
    "```\n",
    "some output\n",
    "```"
   ]
  },
  {
   "cell_type": "code",
   "execution_count": null,
   "id": "9bb23161-e59c-42f3-8baf-9f1937a3bf8f",
   "metadata": {},
   "outputs": [],
   "source": []
  },
  {
   "cell_type": "markdown",
   "id": "64f69e61-a068-4f42-bd83-d9b7285b5625",
   "metadata": {},
   "source": [
    "___________________________________________________________________________________________________________________________\n",
    "\n",
    "*Material for the VU Amsterdam course “Introduction to Python Programming” for BSc Artificial Intelligence students. These notebooks are created using the following sources:*\n",
    "1. [Learning Python by Doing][learning python]: This book, developed by teachers of TU/e Eindhoven and VU Amsterdam, is the main source for the course materials. Code snippets or text explanations from the book may be used in the notebooks, sometimes with slight adjustments.\n",
    "2. [Think Python][think python]\n",
    "3. [GeekForGeeks][geekforgeeks]\n",
    "\n",
    "[learning python]: https://programming-pybook.github.io/introProgramming/intro.html\n",
    "[think python]: https://greenteapress.com/thinkpython2/html/\n",
    "[geekforgeeks]: https://www.geeksforgeeks.org"
   ]
  }
 ],
 "metadata": {
  "kernelspec": {
   "display_name": "Python 3 (ipykernel)",
   "language": "python",
   "name": "python3"
  },
  "language_info": {
   "codemirror_mode": {
    "name": "ipython",
    "version": 3
   },
   "file_extension": ".py",
   "mimetype": "text/x-python",
   "name": "python",
   "nbconvert_exporter": "python",
   "pygments_lexer": "ipython3",
   "version": "3.11.4"
  }
 },
 "nbformat": 4,
 "nbformat_minor": 5
}

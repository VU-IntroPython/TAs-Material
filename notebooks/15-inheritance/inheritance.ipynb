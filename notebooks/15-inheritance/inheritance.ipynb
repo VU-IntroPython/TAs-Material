{
 "cells": [
  {
   "cell_type": "markdown",
   "id": "5247a3df-7828-414e-b1d8-a27fa3bed793",
   "metadata": {},
   "source": [
    "# Inheritance"
   ]
  },
  {
   "cell_type": "markdown",
   "id": "76252356-c54f-4f3a-a134-8dc10c8676b7",
   "metadata": {},
   "source": [
    "**In this notebook, we cover the following subjects:**\n",
    "- Understanding Inheritance;\n",
    "- Single Inheritance;\n",
    "- Method Overriding;\n",
    "- Other Forms of Inheritance.\n",
    "___________________________________________________________________________________________________________________________"
   ]
  },
  {
   "cell_type": "code",
   "execution_count": null,
   "id": "99c28a14-4f1b-4f34-9829-5b2f3b4fdbb9",
   "metadata": {
    "tags": []
   },
   "outputs": [],
   "source": [
    "# To enable type hints for lists, dicts, tuples, and sets we need to import the following:\n",
    "from typing import List, Dict, Tuple, Set"
   ]
  },
  {
   "cell_type": "markdown",
   "id": "b1d3e11c-5120-49af-93fc-18108edcf801",
   "metadata": {
    "tags": []
   },
   "source": [
    "<h2 style=\"color:#4169E1\">Understanding Inheritance</h2>\n",
    "\n",
    "- Explain the core idea of inheritance, why it’s central to OOP (e.g., code reuse, hierarchy), and how it lets classes share behavior."
   ]
  },
  {
   "cell_type": "markdown",
   "id": "6c0bc7f7-9b10-435c-9b52-65269cbb042d",
   "metadata": {},
   "source": [
    "<h4 style=\"color:#B22222\">Basic Syntax</h4>\n",
    "\n",
    "- Show how to define a subclass, explain the role of `super()` in accessing and extending parent class methods."
   ]
  },
  {
   "cell_type": "markdown",
   "id": "a741f4c0-9fe8-4dfe-8184-69cfa962ef74",
   "metadata": {
    "tags": []
   },
   "source": [
    "<h2 style=\"color:#4169E1\">Single Inheritance</h2>"
   ]
  },
  {
   "cell_type": "markdown",
   "id": "deb12102-9241-4344-b67f-e391cb307843",
   "metadata": {},
   "source": [
    "<h4 style=\"color:#B22222\">Creating a Subclass</h4>\n",
    "\n",
    "- Walk through a simple example of creating a subclass and demonstrate how it automatically inherits attributes and methods from the parent class.\n",
    "- Illustrate how to access and utilize inherited attributes/methods, and highlight how this reduces code duplication."
   ]
  },
  {
   "cell_type": "markdown",
   "id": "cc8a7ff1-1c66-428e-b8e6-15fd0ca56fa4",
   "metadata": {},
   "source": [
    "<h4 style=\"color:#B22222\">Customizing <code>__init__()</code> in Subclasses</h4>\n",
    "\n",
    "- Explain how to add new attributes to subclasses without losing what the parent class provides.\n",
    "- Show how to override `__init__()` to set up subclass-specific stuff, while still calling the parent `__init__()` when needed."
   ]
  },
  {
   "cell_type": "markdown",
   "id": "86e87bee-438f-43b8-bd80-5b0abe289797",
   "metadata": {
    "tags": []
   },
   "source": [
    "<h2 style=\"color:#4169E1\">Method Overriding</h2>\n",
    "\n",
    "- Discuss how to override methods to change or extend behavior in the subclass, and why this is useful for customization."
   ]
  },
  {
   "cell_type": "markdown",
   "id": "97303d4e-8c83-47bc-bd2e-bb8b92784f1f",
   "metadata": {
    "tags": []
   },
   "source": [
    "<h2 style=\"color:#4169E1\">Other Forms of Inheritance</h2>"
   ]
  },
  {
   "cell_type": "markdown",
   "id": "9ed983b7-5db6-49aa-8ee5-233d43010cae",
   "metadata": {},
   "source": [
    "<h4 style=\"color:#B22222\">Multiple Inheritance</h4>\n",
    "\n",
    "- Briefly explain how a class can inherit from multiple parents, and the importance of understanding method resolution order (MRO)."
   ]
  },
  {
   "cell_type": "markdown",
   "id": "afdd495f-816e-41e5-9286-6f30a91ded47",
   "metadata": {},
   "source": [
    "<h4 style=\"color:#B22222\">Multilevel Inheritance</h4>\n",
    "\n",
    "- Provide an example of a class hierarchy that extends over multiple levels, and discuss when this might be useful."
   ]
  },
  {
   "cell_type": "markdown",
   "id": "b69bf97b-5cdc-4e3a-b1ac-a763508f0afc",
   "metadata": {},
   "source": [
    "Example code:\n",
    "\n",
    "``` python\n",
    "class Person:\n",
    "    def __init__(self, name, age):\n",
    "        self.name = name  # Attribute: name\n",
    "        self.age = age    # Attribute: age\n",
    "```"
   ]
  },
  {
   "cell_type": "markdown",
   "id": "f3c052a0-350d-40bc-b41c-f5ddd7250984",
   "metadata": {},
   "source": [
    "<details>\n",
    "  <summary style=\"cursor: pointer; background-color: #d4edda; padding: 10px; border-radius: 5px; color: #155724; font-weight: bold;\">\n",
    "    Q: A Question?\n",
    "  </summary>\n",
    "<div style=\"background-color: #f4fdf7; padding: 12px; margin-top: 8px; border-radius: 6px; border: 1px solid #b7e4c7; color: #155724;\">\n",
    "    An answer.\n",
    "  </div>\n",
    "</details>"
   ]
  },
  {
   "cell_type": "markdown",
   "id": "1daaf0ec-e155-4b9a-af13-4769774f3f3a",
   "metadata": {},
   "source": [
    "<div class=\"alert\" style=\"background-color: #ffecb3; color: #856404;\">\n",
    "    <b>Note</b> <br>\n",
    "The body of the note."
   ]
  },
  {
   "cell_type": "markdown",
   "id": "8d463f30-9fcd-4ec3-b751-0c391d76ccb3",
   "metadata": {
    "tags": []
   },
   "source": [
    "<h2 style=\"color:#3CB371\">Exercises</h2>"
   ]
  },
  {
   "cell_type": "markdown",
   "id": "517fb4f2-3ecd-47b4-a76f-a7688336f212",
   "metadata": {},
   "source": [
    "Let's practice! Mind that each exercise is designed with multiple levels to help you progressively build your skills. <span style=\"color:darkorange;\"><strong>Level 1</strong></span> is the foundational level, designed to be straightforward so that everyone can successfully complete it. In <span style=\"color:darkorange;\"><strong>Level 2</strong></span>, we step it up a notch, expecting you to use more complex concepts or combine them in new ways. Finally, in <span style=\"color:darkorange;\"><strong>Level 3</strong></span>, we get closest to exam level questions, but we may use some concepts that are not covered in this notebook. However, in programming, you often encounter situations where you’re unsure how to proceed. Fortunately, you can often solve these problems by starting to work on them and figuring things out as you go. Practicing this skill is extremely helpful, so we highly recommend completing these exercises.\n",
    "\n",
    "For each of the exercises, make sure to add a `docstring` and `type hints`, and **do not** import any libraries unless specified otherwise.\n",
    "<br>"
   ]
  },
  {
   "cell_type": "markdown",
   "id": "dac3d4b6-8265-49e5-9bfa-aa62e6d59603",
   "metadata": {
    "tags": []
   },
   "source": [
    "### Exercise 1\n",
    "\n",
    "<span style=\"color:darkorange;\"><strong>Level 1</strong>:</span> Description.\n",
    "\n",
    "**Example input**: you pass this argument to the parameter in the function call.\n",
    "\n",
    "```python\n",
    "some code\n",
    "\n",
    "```\n",
    "**Example output**:\n",
    "```\n",
    "some output\n",
    "```"
   ]
  },
  {
   "cell_type": "code",
   "execution_count": null,
   "id": "9bb23161-e59c-42f3-8baf-9f1937a3bf8f",
   "metadata": {},
   "outputs": [],
   "source": []
  },
  {
   "cell_type": "markdown",
   "id": "64f69e61-a068-4f42-bd83-d9b7285b5625",
   "metadata": {},
   "source": [
    "___________________________________________________________________________________________________________________________\n",
    "\n",
    "*Material for the VU Amsterdam course “Introduction to Python Programming” for BSc Artificial Intelligence students. These notebooks are created using the following sources:*\n",
    "1. [Learning Python by Doing][learning python]: This book, developed by teachers of TU/e Eindhoven and VU Amsterdam, is the main source for the course materials. Code snippets or text explanations from the book may be used in the notebooks, sometimes with slight adjustments.\n",
    "2. [Think Python][think python]\n",
    "3. [GeekForGeeks][geekforgeeks]\n",
    "\n",
    "[learning python]: https://programming-pybook.github.io/introProgramming/intro.html\n",
    "[think python]: https://greenteapress.com/thinkpython2/html/\n",
    "[geekforgeeks]: https://www.geeksforgeeks.org"
   ]
  }
 ],
 "metadata": {
  "kernelspec": {
   "display_name": "Python 3 (ipykernel)",
   "language": "python",
   "name": "python3"
  },
  "language_info": {
   "codemirror_mode": {
    "name": "ipython",
    "version": 3
   },
   "file_extension": ".py",
   "mimetype": "text/x-python",
   "name": "python",
   "nbconvert_exporter": "python",
   "pygments_lexer": "ipython3",
   "version": "3.11.5"
  }
 },
 "nbformat": 4,
 "nbformat_minor": 5
}

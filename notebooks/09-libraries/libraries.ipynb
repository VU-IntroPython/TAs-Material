{
 "cells": [
  {
   "cell_type": "markdown",
   "id": "d5642b79-2570-4d48-b091-7e60201ca962",
   "metadata": {},
   "source": [
    "# Libraries"
   ]
  },
  {
   "cell_type": "markdown",
   "id": "b3ebe79a-5372-46a3-807d-ec9fb6831c27",
   "metadata": {},
   "source": [
    "**In this notebook, we cover the following subjects:**\n",
    "- Modules\n",
    "- `math` module\n",
    "- `random` module\n",
    "- `datetime` module\n",
    "- `pandas` and `matplotlib` modules\n",
    "___________________________________________________________________________________________________________________________"
   ]
  },
  {
   "cell_type": "code",
   "execution_count": 131,
   "id": "edaf7e4e-aa73-4373-8ece-c948fdded2a4",
   "metadata": {
    "tags": []
   },
   "outputs": [],
   "source": [
    "# To enable type hints for lists, dicts, tuples, and sets we need to import the following:\n",
    "from typing import List, Dict, Tuple, Set"
   ]
  },
  {
   "cell_type": "markdown",
   "id": "e92c7fe1-ddb4-4e32-90e6-db17865791ef",
   "metadata": {},
   "source": [
    "In the traditional sense, a [**library**][l] is a place or collection of books that you can browse and use whenever you need. In programming, it's quite similar! A **library** is a collection of precompiled code that you can reuse in your programs to perform specific tasks. But it’s not just limited to code, libraries often include helpful documentation, configuration files, message templates, classes, and values too, making your coding life much easier.\n",
    "\n",
    "[l]: https://www.geeksforgeeks.org/libraries-in-python/"
   ]
  },
  {
   "cell_type": "markdown",
   "id": "2299bdcf-0e41-43e6-aa4c-797e71219253",
   "metadata": {},
   "source": [
    "## <span style=\"color:#4169E1\">Modules</span>\n",
    "\n",
    "Now, let’s shift gears and talk about [**modules**][m] in programming. If a library is like an entire building full of books, a **module** is more like a single book on a specific subject. In other words, a **module** is a file that contains Python code—like functions and variables—that you can import and use in your own scripts. You can think of it as a toolkit or a chapter within the broader library, focusing on one area of functionality.\n",
    "\n",
    "[m]: https://www.w3schools.com/python/python_modules.asp\n",
    "\n",
    "For instance, Python has tons of built-in modules (like [math][x], [random][y], and [datetime][z]) that you can easily pull into your program with an import statement. So when you want to generate random numbers, no need to reinvent the wheel just import the random module and you’re all set! Some of these sound familiar, don't they?\n",
    "\n",
    "[x]: https://www.w3schools.com/python/module_math.asp\n",
    "[y]: https://www.w3schools.com/python/module_random.asp\n",
    "[z]: https://www.w3schools.com/python/python_datetime.asp\n",
    "\n",
    "\n",
    "Let's see how we can import a module:\n",
    "\n",
    "```python\n",
    "import math\n",
    "\n",
    "num_1: int = 9\n",
    "\n",
    "square_of_num: float = math.sqrt(num_1)\n",
    "```\n",
    "\n",
    "\n",
    "In the above example we imported the `math` module, then we used the `sqrt()` method of the `math` module.\n",
    "\n",
    "Let's look at a few in more modules detail."
   ]
  },
  {
   "cell_type": "markdown",
   "id": "236ee736-6186-4e21-9615-e066e98961a8",
   "metadata": {},
   "source": [
    "#### <span style=\"color:#B22222\">Most common modules</span>\n",
    "\n",
    "Here, you can find a list of the most common modules in Python with their explanations."
   ]
  },
  {
   "cell_type": "markdown",
   "id": "2c21d0e4-98c8-4e21-b524-97c2d3a32ce1",
   "metadata": {},
   "source": [
    "| Module      | Description                                                                                      |\n",
    "|-------------|--------------------------------------------------------------------------------------------------|\n",
    "| `math`      | Provides access to mathematical functions like trigonometric functions and logarithms.         |\n",
    "| `random`    | Used for generating random numbers and selecting random items from a list.                     |\n",
    "| `datetime`  | Helps manipulate and format dates and times.                                                   |\n",
    "| `json`      | Reads and writes JSON data, widely used for data interchange.                                   |\n",
    "| `csv`       | Provides functionality to read from and write to CSV (Comma-Separated Values) files.           |\n",
    "| `os`        | Interacts with the operating system for managing files and directories.                        |\n",
    "| `sys`       | Accesses variables used by the Python interpreter, helpful for command-line arguments.          |\n",
    "| `pandas`    | Essential for data manipulation and analysis with powerful data structures like DataFrames.     |\n",
    "| `matplotlib` | A plotting library for creating visualizations such as graphs and charts.                      |\n",
    "\n",
    "\n",
    "\n",
    "To see all available modules, visit [**this website**][t]\n",
    "\n",
    "[t]: https://docs.python.org/3/py-modindex.html"
   ]
  },
  {
   "cell_type": "markdown",
   "id": "c6acf0bd-3a39-4868-9459-26a6f302574b",
   "metadata": {},
   "source": [
    "#### <span style=\"color:#B22222\">Math Module</span>\n",
    "\n",
    "To do advanced mathematical operations, one can import the **math module**. It's a standard library, meaning it’s available in any Python installation by default, and allows us to use a bunch of **mathematical functions** and **constants**. To import the math module, run the following cell."
   ]
  },
  {
   "cell_type": "code",
   "execution_count": 44,
   "id": "8df9b59f-bc70-4f3e-87f7-d185142b99e7",
   "metadata": {},
   "outputs": [],
   "source": [
    "import math"
   ]
  },
  {
   "cell_type": "markdown",
   "id": "a6934b26-b979-491a-be5b-94cac6593ae9",
   "metadata": {},
   "source": [
    "To access a function or constant you use a **dot notation** of which the syntax is of the following structure:\n",
    "\n",
    "1. For a **function**: `math.function_name(arguments)`;\n",
    "2. For a **constant**: `math.constant_name`.\n",
    "\n",
    "So, let's first apply the square root using the `math.sqrt()` function."
   ]
  },
  {
   "cell_type": "code",
   "execution_count": 46,
   "id": "b93f50e9-dc6d-4aac-8f97-d2d72bfd06bf",
   "metadata": {},
   "outputs": [
    {
     "name": "stdout",
     "output_type": "stream",
     "text": [
      "The square root of 25 is 5.0!\n"
     ]
    }
   ],
   "source": [
    "x: int = 25\n",
    "\n",
    "sqrt_of_25 = math.sqrt(25)\n",
    "\n",
    "print(f'The square root of 25 is {sqrt_of_25}!')"
   ]
  },
  {
   "cell_type": "markdown",
   "id": "c9d56cc0-2dee-45f7-8f4f-423fd5eb752b",
   "metadata": {},
   "source": [
    "Now, let's look at something a little more advanced."
   ]
  },
  {
   "cell_type": "code",
   "execution_count": 48,
   "id": "b6c67497-0596-4d0a-8678-a4c3b30f4f3e",
   "metadata": {},
   "outputs": [
    {
     "name": "stdout",
     "output_type": "stream",
     "text": [
      "log(100) ^ 1 * 100 / ( 1 + 1 ) = 100\n"
     ]
    }
   ],
   "source": [
    "x: int = 100\n",
    "y: int = 1\n",
    "\n",
    "you_got_this = math.log(x, 10) ** y * x / (y + 1)\n",
    "\n",
    "print(\"log({number})\".format(number = x), \"^\", y, \"*\", x, \"/ (\", y, \"+\", \"1\", \") =\", \"{result:.0f}\".format(result=you_got_this))"
   ]
  },
  {
   "cell_type": "code",
   "execution_count": 50,
   "id": "d1c2de2f-6a53-4519-a3f9-e8458e0bf9c4",
   "metadata": {},
   "outputs": [
    {
     "name": "stdout",
     "output_type": "stream",
     "text": [
      "100\n"
     ]
    }
   ],
   "source": [
    "# Do the same but convert it to integer first. What happens?\n",
    "print(int(you_got_this))"
   ]
  },
  {
   "cell_type": "code",
   "execution_count": 20,
   "id": "12935e7c-17ce-4b67-b68e-b3e5672da24d",
   "metadata": {},
   "outputs": [
    {
     "name": "stdout",
     "output_type": "stream",
     "text": [
      "5\n",
      "6\n",
      "6\n"
     ]
    }
   ],
   "source": [
    "# Also try:\n",
    "print(int(5.6))\n",
    "print(int(5.6 + 0.5))\n",
    "print(round(5.6))"
   ]
  },
  {
   "cell_type": "markdown",
   "id": "40263fc4-a710-4a02-9e5a-5f9a49e21029",
   "metadata": {},
   "source": [
    "<div class=\"alert\" style=\"background-color: #ffecb3; color: #856404;\">\n",
    "    <b>Note</b> <br>\n",
    "Converting to integer in Python always rounds <b>DOWN!</b>"
   ]
  },
  {
   "cell_type": "markdown",
   "id": "6769136a-5507-4a17-81f6-f00aef418992",
   "metadata": {},
   "source": [
    "The `math` module also gives you access to some **important constants**. Check this out:"
   ]
  },
  {
   "cell_type": "code",
   "execution_count": 90,
   "id": "dfeae7b6-d25b-46e1-b582-3d6d860953de",
   "metadata": {},
   "outputs": [
    {
     "name": "stdout",
     "output_type": "stream",
     "text": [
      "Value of π: 3.141592653589793\n",
      "Value of e: 2.718281828459045\n"
     ]
    }
   ],
   "source": [
    "pi = math.pi  # Value of π (pi)\r\n",
    "e = math.e    # Value of Euler's number (e)\r\n",
    "\r\n",
    "print(\"Value of π:\", pi)\r\n",
    "print(\"Value of e:\" e)\r\n"
   ]
  },
  {
   "cell_type": "markdown",
   "id": "29018763-1c23-45be-b862-e76408637051",
   "metadata": {},
   "source": [
    "Need to **raise a number to a power** or find a **logarithm**? Easy peasy!"
   ]
  },
  {
   "cell_type": "code",
   "execution_count": 94,
   "id": "c13988b3-1e1c-4e5f-bbcd-164474a4ec12",
   "metadata": {},
   "outputs": [
    {
     "name": "stdout",
     "output_type": "stream",
     "text": [
      "2 raised to the power of 3: 8.0\n",
      "Log base 10 of 100: 2.0\n",
      "Natural log of 20: 2.995732273553991\n"
     ]
    }
   ],
   "source": [
    "# Exponentiation\n",
    "power = math.pow(2, 3)  # 2 raised to the power of 3\n",
    "print(\"2 raised to the power of 3:\", power)\n",
    "\n",
    "# Logarithm (base 10 and natural log)\n",
    "log10_value = math.log10(100)  # Logarithm base 10\n",
    "ln_value = math.log(20)         # Natural logarithm (base e)\n",
    "\n",
    "print(\"Log base 10 of 100:\", log10_value)\n",
    "print(\"Natural log of 20:\", ln_value)"
   ]
  },
  {
   "cell_type": "markdown",
   "id": "afe104e2-175d-4942-85c1-c52c882db343",
   "metadata": {},
   "source": [
    "Got some angles? The math module can help you calculate **sine**, **cosine**, and **tangent** in no time:"
   ]
  },
  {
   "cell_type": "code",
   "execution_count": 100,
   "id": "d3125759-0a52-4cd5-bf7a-37719830938c",
   "metadata": {},
   "outputs": [
    {
     "name": "stdout",
     "output_type": "stream",
     "text": [
      "Sine of 30 degrees: 0.49999999999999994\n",
      "Cosine of 30 degrees: 0.8660254037844387\n",
      "Tangent of 30 degrees: 0.5773502691896257\n"
     ]
    }
   ],
   "source": [
    "angle_degrees = 30\n",
    "angle_radians = math.radians(angle_degrees)  # Convert degrees to radians\n",
    "\n",
    "sin_value = math.sin(angle_radians)\n",
    "cos_value = math.cos(angle_radians)\n",
    "tan_value = math.tan(angle_radians)\n",
    "\n",
    "print(\"Sine of 30 degrees:\", sin_value)\n",
    "print(\"Cosine of 30 degrees:\", cos_value)\n",
    "print(\"Tangent of 30 degrees:\", tan_value)\n"
   ]
  },
  {
   "cell_type": "markdown",
   "id": "ca2567b0-f991-445b-afee-326c9929099b",
   "metadata": {},
   "source": [
    "Remember the above note where we said that the `int()` will always round down? Owing to the `math` module we can decide in which direction we want to **round**."
   ]
  },
  {
   "cell_type": "code",
   "execution_count": 113,
   "id": "ad5b961d-c857-4659-8856-cf0b4c3ce45d",
   "metadata": {},
   "outputs": [
    {
     "name": "stdout",
     "output_type": "stream",
     "text": [
      "4.7 rounded up is: 5\n",
      "4.7 rounded down is: 4\n"
     ]
    }
   ],
   "source": [
    "number: float = 4.7\n",
    "rounded_up: int = math.ceil(number)   # Round up\n",
    "rounded_down: int = math.floor(number) # Round down\n",
    "\n",
    "print(f\"{number} rounded up is: {rounded_up}\")\n",
    "print(f\"{number} rounded down is: {rounded_down}\")"
   ]
  },
  {
   "cell_type": "markdown",
   "id": "0b5408b1-5a5f-40cf-9b8b-ee93f363753e",
   "metadata": {},
   "source": [
    "#### <span style=\"color:#B22222\">Random Module</span>\n",
    "\n",
    "The `random` module in Python provides functions for generating random numbers and performing random operations. It is part of the standard library and offers a variety of tools to create randomness in your programs, making it useful for simulations, games, and any application that requires unpredictability. With the random module, you can generate random integers, floating-point numbers, and even select random items from a list.\n",
    "\n",
    "More precisely, with the `random` module, you can generate pseudorandom numbers. **Pseudorandom** numbers aren’t completely random because the computations used for their generation are deterministic. By a **deterministic computation**, we mean that the same output is produced when using the same inputs. \n",
    "\n",
    "Let's see it in action."
   ]
  },
  {
   "cell_type": "code",
   "execution_count": null,
   "id": "a1c4b52d-71b0-4074-8899-e7642fa478c2",
   "metadata": {},
   "outputs": [],
   "source": [
    "import random"
   ]
  },
  {
   "cell_type": "markdown",
   "id": "53eeff26-1b26-4d8a-8280-61a1057fb98a",
   "metadata": {},
   "source": [
    "You can generate random **floating-point** numbers using the `random()` function:"
   ]
  },
  {
   "cell_type": "code",
   "execution_count": null,
   "id": "1843d81b-45e8-47d0-b36c-d2538dcfa37a",
   "metadata": {},
   "outputs": [],
   "source": [
    "import random\n",
    "\n",
    "i : int = 0\n",
    "while i < 5:\n",
    "    x = random.random()\n",
    "    print(x)\n",
    "    i+=1"
   ]
  },
  {
   "cell_type": "markdown",
   "id": "6c270077-450d-4c26-bc36-7b4fcb2b7bf7",
   "metadata": {},
   "source": [
    "You can also generate a random **integer** within a specified range using the `randint()` function:"
   ]
  },
  {
   "cell_type": "code",
   "execution_count": null,
   "id": "b6427fc1-c58b-4e90-a809-3b7e2c44a599",
   "metadata": {},
   "outputs": [],
   "source": [
    "random_integer = random.randint(1, 100)  # Random integer between 1 and 100\n",
    "print(\"Random integer:\", random_integer)"
   ]
  },
  {
   "cell_type": "markdown",
   "id": "7d2e2a0e-a9bf-4f9c-8a14-900613b854d8",
   "metadata": {},
   "source": [
    "You can randomly select an item from a list using the `choice()` function:"
   ]
  },
  {
   "cell_type": "code",
   "execution_count": null,
   "id": "4df241c6-d44c-4035-9bc6-6ccd30284c94",
   "metadata": {},
   "outputs": [],
   "source": [
    "options: List[str] = ['apple', 'banana', 'cherry', 'date']\n",
    "random_fruit: str = random.choice(options)\n",
    "print(\"Randomly selected fruit:\", random_fruit)"
   ]
  },
  {
   "cell_type": "markdown",
   "id": "3c6152d2-f8cf-41b5-9d0b-ef06cb089e1e",
   "metadata": {},
   "source": [
    "And much more..."
   ]
  },
  {
   "cell_type": "markdown",
   "id": "50ab4cfc-a514-42e1-b9cb-ec885f8cb6c2",
   "metadata": {},
   "source": [
    "#### <span style=\"color:#B22222\">DateTime Module</span>\n",
    "\n",
    "The `datetime` module in Python provides functions for manipulating dates and times. It allows you to work with dates in a variety of ways, including formatting, arithmetic, and parsing. This module allows you to create applications that require tracking time, scheduling events, or performing date calculations. \n",
    "\n",
    "Let's see a few examples."
   ]
  },
  {
   "cell_type": "code",
   "execution_count": 64,
   "id": "9e553082-bcba-4de6-9837-eef1ece08817",
   "metadata": {},
   "outputs": [],
   "source": [
    "import datetime"
   ]
  },
  {
   "cell_type": "markdown",
   "id": "53e016bf-be04-4677-a87d-bd0ec980374e",
   "metadata": {},
   "source": [
    "You can get the current date and time using the `now()` method:"
   ]
  },
  {
   "cell_type": "code",
   "execution_count": 66,
   "id": "c6111002-6c60-4492-90d5-74265c1f0809",
   "metadata": {},
   "outputs": [
    {
     "name": "stdout",
     "output_type": "stream",
     "text": [
      "Current date and time: 2024-10-13 19:43:01.327982\n"
     ]
    }
   ],
   "source": [
    "current_datetime = datetime.datetime.now()\n",
    "print(\"Current date and time:\", current_datetime)"
   ]
  },
  {
   "cell_type": "markdown",
   "id": "d0c496e3-5e11-4f19-890f-00e0a4db0afd",
   "metadata": {},
   "source": [
    "You can create a specific date using the datetime constructor:"
   ]
  },
  {
   "cell_type": "code",
   "execution_count": 69,
   "id": "682d40ca-262a-47d2-9c8f-438ae50dc7c6",
   "metadata": {},
   "outputs": [
    {
     "name": "stdout",
     "output_type": "stream",
     "text": [
      "Specific date and time: 2024-10-13 15:30:00\n"
     ]
    }
   ],
   "source": [
    "specific_date = datetime.datetime(2024, 10, 13, 15, 30)  # Year, Month, Day, Hour, Minute\n",
    "print(\"Specific date and time:\", specific_date)"
   ]
  },
  {
   "cell_type": "markdown",
   "id": "515dd936-b1b0-4815-bb9c-5acefb36e9f5",
   "metadata": {},
   "source": [
    "You can format dates as strings using the `strftime()` method:"
   ]
  },
  {
   "cell_type": "code",
   "execution_count": 72,
   "id": "3dc4a879-4a55-4982-89cc-15979a1bb514",
   "metadata": {},
   "outputs": [
    {
     "name": "stdout",
     "output_type": "stream",
     "text": [
      "Formatted date: 2024-10-13 19:43:01\n"
     ]
    }
   ],
   "source": [
    "formatted_date = current_datetime.strftime(\"%Y-%m-%d %H:%M:%S\")\n",
    "print(\"Formatted date:\", formatted_date)"
   ]
  },
  {
   "cell_type": "markdown",
   "id": "98d0ee59-f8f6-4512-8219-de9592d30883",
   "metadata": {},
   "source": [
    "You can perform arithmetic operations with dates. For example, adding or subtracting days:"
   ]
  },
  {
   "cell_type": "code",
   "execution_count": 75,
   "id": "1c1af31a-335f-48c5-80ec-676d6482e636",
   "metadata": {},
   "outputs": [
    {
     "name": "stdout",
     "output_type": "stream",
     "text": [
      "Date 10 days from now: 2024-10-23 19:43:01.327982\n",
      "Date 10 days ago: 2024-10-03 19:43:01.327982\n"
     ]
    }
   ],
   "source": [
    "# Adding 10 days to the current date\n",
    "future_date = current_datetime + datetime.timedelta(days=10)\n",
    "print(\"Date 10 days from now:\", future_date)\n",
    "\n",
    "# Subtracting 10 days from the current date\n",
    "past_date = current_datetime - datetime.timedelta(days=10)\n",
    "print(\"Date 10 days ago:\", past_date)"
   ]
  },
  {
   "cell_type": "markdown",
   "id": "8bc52b94-e825-4590-b6d2-4b7ad5ad4726",
   "metadata": {},
   "source": [
    "You can convert a string representation of a date into a datetime object using the `strptime()` method:"
   ]
  },
  {
   "cell_type": "code",
   "execution_count": 78,
   "id": "541a80fb-c028-459b-947a-856f577e3f7f",
   "metadata": {},
   "outputs": [
    {
     "name": "stdout",
     "output_type": "stream",
     "text": [
      "Parsed date: 2024-10-13 15:30:00\n"
     ]
    }
   ],
   "source": [
    "date_string = \"2024-10-13 15:30\"\n",
    "parsed_date = datetime.datetime.strptime(date_string, \"%Y-%m-%d %H:%M\")\n",
    "print(\"Parsed date:\", parsed_date)"
   ]
  },
  {
   "cell_type": "markdown",
   "id": "0f6e9a00-9e0f-4e04-8457-a7b7905e6b6c",
   "metadata": {},
   "source": [
    "And so on..."
   ]
  },
  {
   "cell_type": "markdown",
   "id": "834c0ea2-fa97-4f35-b487-4dfa353e1870",
   "metadata": {},
   "source": [
    "Lastly, let's look at something fun!"
   ]
  },
  {
   "cell_type": "markdown",
   "id": "18adbda0-df1a-4ca3-99d1-f63f83106aae",
   "metadata": {},
   "source": [
    "#### <span style=\"color:#B22222\">Pandas Module</span>\n",
    "\n",
    "If you’re looking to **work with data** in Python, the `pandas` module is your go-to toolkit. It’s like a supercharged spreadsheet that allows you to manipulate and analyze data with ease. With its powerful data structures, like `DataFrames` and `Series`, **pandas** makes handling large datasets a breeze. Whether you're cleaning data, performing calculations, or visualizing your findings, pandas has everything you need!"
   ]
  },
  {
   "cell_type": "code",
   "execution_count": 135,
   "id": "6136a16e-f08e-43e7-b898-19bd7423251d",
   "metadata": {},
   "outputs": [],
   "source": [
    "import pandas as pd"
   ]
  },
  {
   "cell_type": "markdown",
   "id": "eab15230-ad2d-4a9d-91eb-d24a2044601f",
   "metadata": {},
   "source": [
    "<div class=\"alert\" style=\"background-color: #ffecb3; color: #856404;\">\n",
    "    <b>Note</b> <br>\n",
    "We write <code>import pandas as pd</code> so we can refer to pandas as pd. It is like an <b>abbriviation.</b>"
   ]
  },
  {
   "cell_type": "markdown",
   "id": "ec688318-439d-4bfd-bd6e-043ca13498cf",
   "metadata": {},
   "source": [
    "A DataFrame is the heart of `pandas`. You can create one from a **dictionary** or a **CSV** file. Here’s how to create one from scratch:"
   ]
  },
  {
   "cell_type": "code",
   "execution_count": 160,
   "id": "b888cfef-3233-4ef3-85f2-cb211b774b0f",
   "metadata": {},
   "outputs": [
    {
     "name": "stdout",
     "output_type": "stream",
     "text": [
      "      Name  Age         City\n",
      "0    Alice   24     New York\n",
      "1      Bob   27  Los Angeles\n",
      "2  Charlie   22      Chicago\n",
      "3    David   32      Houston\n"
     ]
    }
   ],
   "source": [
    "data: Dict[str, List[str]] = {\n",
    "    'Name': ['Alice', 'Bob', 'Charlie', 'David'],\n",
    "    'Age': [24, 27, 22, 32],\n",
    "    'City': ['New York', 'Los Angeles', 'Chicago', 'Houston']\n",
    "}\n",
    "\n",
    "df = pd.DataFrame(data)\n",
    "print(df)"
   ]
  },
  {
   "cell_type": "markdown",
   "id": "0ad401e3-57b6-4f6d-ae2a-5bd87380814f",
   "metadata": {},
   "source": [
    "With `pandas`, you can perform various data manipulations, like **filtering**, **sorting**, and **grouping**:"
   ]
  },
  {
   "cell_type": "code",
   "execution_count": 164,
   "id": "c8ef3421-7df6-4a8b-8882-b1ce021c3538",
   "metadata": {},
   "outputs": [
    {
     "name": "stdout",
     "output_type": "stream",
     "text": [
      "    Name  Age         City\n",
      "1    Bob   27  Los Angeles\n",
      "3  David   32      Houston\n"
     ]
    }
   ],
   "source": [
    "# Filter the DataFrame for people older than 25\n",
    "filtered_df = df[df['Age'] > 25]\n",
    "print(filtered_df)"
   ]
  },
  {
   "cell_type": "code",
   "execution_count": 166,
   "id": "e2f602bc-78e0-41e7-9d05-6b777eb0b2c5",
   "metadata": {},
   "outputs": [
    {
     "name": "stdout",
     "output_type": "stream",
     "text": [
      "      Name  Age         City\n",
      "2  Charlie   22      Chicago\n",
      "0    Alice   24     New York\n",
      "1      Bob   27  Los Angeles\n",
      "3    David   32      Houston\n"
     ]
    }
   ],
   "source": [
    "# Sort by Age\n",
    "sorted_df = df.sort_values(by='Age')\n",
    "print(sorted_df)"
   ]
  },
  {
   "cell_type": "code",
   "execution_count": 168,
   "id": "dd99191f-f80d-4374-abd1-99b69d015a2e",
   "metadata": {},
   "outputs": [
    {
     "name": "stdout",
     "output_type": "stream",
     "text": [
      "City\n",
      "Chicago        22.0\n",
      "Houston        32.0\n",
      "Los Angeles    27.0\n",
      "New York       24.0\n",
      "Name: Age, dtype: float64\n"
     ]
    }
   ],
   "source": [
    "# Group by City and get the average Age\n",
    "grouped_df = df.groupby('City')['Age'].mean()\n",
    "print(grouped_df)"
   ]
  },
  {
   "cell_type": "markdown",
   "id": "a8b1beca-2e3c-4dc7-a572-334be35d292c",
   "metadata": {},
   "source": [
    "Lastly, if you combine `pandas` with `matplotlib`, you can create any plot you can imagine.  \n",
    "Let’s see some examples!"
   ]
  },
  {
   "cell_type": "code",
   "execution_count": 146,
   "id": "24e3ec0e-204c-4add-bf79-ba64f51b713b",
   "metadata": {},
   "outputs": [],
   "source": [
    "import matplotlib.pyplot as plt"
   ]
  },
  {
   "cell_type": "markdown",
   "id": "19a46c32-c74e-4617-96b9-48574e4cc388",
   "metadata": {},
   "source": [
    "Let’s visualize categorical data with a pie chart:"
   ]
  },
  {
   "cell_type": "code",
   "execution_count": 148,
   "id": "21559d96-3fda-4d9f-8967-d907786c3ff7",
   "metadata": {},
   "outputs": [
    {
     "data": {
      "image/png": "[encoded data removed]",
      "text/plain": [
       "<Figure size 640x480 with 1 Axes>"
      ]
     },
     "metadata": {},
     "output_type": "display_data"
    }
   ],
   "source": [
    "# Sample data for a pie chart\n",
    "data: Dict[str, List[any]] = {\n",
    "    'Category': ['A', 'B', 'C', 'D'],\n",
    "    'Values': [15, 30, 45, 10]\n",
    "}\n",
    "\n",
    "df = pd.DataFrame(data)\n",
    "\n",
    "# Create a pie chart\n",
    "df.plot(kind='pie', y='Values', labels=df['Category'], autopct='%1.1f%%', startangle=90)\n",
    "plt.title('Category Distribution')\n",
    "plt.ylabel('')\n",
    "plt.show()"
   ]
  },
  {
   "cell_type": "markdown",
   "id": "2efaa2c3-3f9e-4bd2-93a1-3c5d25ec7fde",
   "metadata": {},
   "source": [
    "You can also create a line plot to visualize trends over time:"
   ]
  },
  {
   "cell_type": "code",
   "execution_count": 152,
   "id": "cf663e97-4b9d-4286-9f3b-4f992569f229",
   "metadata": {},
   "outputs": [
    {
     "data": {
      "image/png": "[encoded data removed]",
      "text/plain": [
       "<Figure size 640x480 with 1 Axes>"
      ]
     },
     "metadata": {},
     "output_type": "display_data"
    }
   ],
   "source": [
    "# Sample data for a line plot\n",
    "data: Dict[str, List[int]] = {\n",
    "    'Year': [2018, 2019, 2020, 2021, 2022],\n",
    "    'Sales': [150, 200, 250, 300, 350]\n",
    "}\n",
    "\n",
    "df = pd.DataFrame(data)\n",
    "\n",
    "# Create a line plot\n",
    "df.plot(kind='line', x='Year', y='Sales', marker='o', color='orange')\n",
    "plt.title('Sales Over Years')\n",
    "plt.xlabel('Year')\n",
    "plt.ylabel('Sales')\n",
    "plt.grid()\n",
    "plt.show()\n"
   ]
  },
  {
   "cell_type": "markdown",
   "id": "81b51dee-f88d-4fb2-9ea6-52f7e6f4dcf9",
   "metadata": {},
   "source": [
    "And so on..."
   ]
  },
  {
   "cell_type": "markdown",
   "id": "0d32b1ec-6808-4e84-a6d7-5449346f67ba",
   "metadata": {
    "tags": []
   },
   "source": [
    "## <span style=\"color:#3CB371\">Exercises</span>"
   ]
  },
  {
   "cell_type": "markdown",
   "id": "bf30fbf7-67d5-4360-9894-ea7533dcd893",
   "metadata": {},
   "source": [
    "Let's practice! Mind that each exercise is designed with multiple levels to help you progressively build your skills. <span style=\"color:darkorange;\"><strong>Level 1</strong></span> is the foundational level, designed to be straightforward so that everyone can successfully complete it. In <span style=\"color:darkorange;\"><strong>Level 2</strong></span>, we step it up a notch, expecting you to use more complex concepts or combine them in new ways. Finally, in <span style=\"color:darkorange;\"><strong>Level 3</strong></span>, we get closest to exam level questions, but we may use some concepts that are not covered in this notebook. However, in programming, you often encounter situations where you’re unsure how to proceed. Fortunately, you can often solve these problems by starting to work on them and figuring things out as you go. Practicing this skill is extremely helpful, so we highly recommend completing these exercises.\n",
    "\n",
    "For each of the exercises, make sure to add a `docstring` and `type hints`, and **do not** import any libraries unless specified otherwise.\n",
    "<br>"
   ]
  },
  {
   "cell_type": "markdown",
   "id": "8683b946-399c-4f26-822f-f1df3f9a6918",
   "metadata": {},
   "source": [
    "### Exercise 1\n",
    "\n",
    "<span style=\"color:darkorange;\"><strong>Level 1</strong>:</span> Imagine you're a treasure hunter collecting random treasure chests! Write a function called `treasure_counter()` that generates **n** **random treasure** values (in gold coins) between **a** and **b**. After collecting them, you need to figure out the **average** value of the treasures you’ve collected, as well as the **median** value to see which treasure chest is your middle-of-the-road find.\n",
    "\n",
    "But here’s the catch: some chests might be empty (value 0), and you need to account for those! Can you calculate the mean and median treasures in your haul?\n",
    "\n",
    "**Hint:** revisit the modules that we discussed, also the [`statistics`][s] module might be helpful ;)\n",
    "\n",
    "**Example input**: \n",
    "\n",
    "```python\n",
    "num_of_chests: int = 10  # 10 treasure chests\n",
    "min_value: int = 0   # Minimum value (some treasures might be empty)\n",
    "max_value: int = 100 # Maximum value\n",
    "\n",
    "```\n",
    "**Example output**:\n",
    "```\n",
    "You found an average of 47.8 coins per treasure chest, and the median value is 38.\n",
    "\n",
    "```\n",
    "\n",
    "**Note:** Your output might be different than the example output since we are usig the `random` module.\n",
    "\n",
    "\n",
    "[s]: https://www.w3schools.com/python/module_statistics.asp"
   ]
  },
  {
   "cell_type": "code",
   "execution_count": 4,
   "id": "21aa56e6-6db7-4fc5-a400-9c6de2d4ab29",
   "metadata": {},
   "outputs": [],
   "source": [
    "# TODO."
   ]
  },
  {
   "cell_type": "markdown",
   "id": "af68a142-4e75-474e-8135-b21a946b0275",
   "metadata": {},
   "source": [
    "<span style=\"color:darkorange;\"><strong>Level 2</strong>:</span> As an apprentice mage, you’ve stumbled upon a scroll that summons **random numbers** as potential spells! But only the **prime numbers** are powerful enough to be used in your magic. Your task is to write a function called `random_prime_checker()` that summons (takes) **n random numbers between a and b** and identify **which ones are prime** to store in your spellbook.\n",
    "\n",
    "If no primes are found, you might need to try again—but keep a list of the prime numbers for the most powerful spells!\n",
    "\n",
    "**Example input**: \n",
    "\n",
    "```python\n",
    "num_of_random_numbers: int = 10   # 10 random spell numbers\n",
    "min_power: int = 1    # Minimum power\n",
    "max_power: int = 50   # Maximum power\n",
    "\n",
    "```\n",
    "**Example output**:\n",
    "```\n",
    "Prime Numbers in your spellbook: [2, 11, 19, 23, 29]\n",
    "\n",
    "```\n",
    "\n",
    "**Note:** Your output might be different than the example output since we are usig the `random` module."
   ]
  },
  {
   "cell_type": "code",
   "execution_count": null,
   "id": "9f5fe0ae-61eb-402c-beda-bc3a1772f762",
   "metadata": {},
   "outputs": [],
   "source": [
    "# TODO."
   ]
  },
  {
   "cell_type": "markdown",
   "id": "fb8fcdcd-89a3-4f96-8b33-809c31284bd0",
   "metadata": {},
   "source": [
    "<span style=\"color:darkorange;\"><strong>Level 3</strong>:</span> You’re running through a lava-filled maze to escape a furious dragon! Every step could move you in a **random direction**: north, south, east, or west. You take **n** random steps, each of **size 1 unit**. Your goal is to create a function called `dragon_escape()` that calculates how far you end up from the starting point after all your steps. If your distance (d) is bigger than 10, that is d > 10, then you escaped from the dragon.\n",
    "\n",
    "After taking n steps, **return the final distance from your starting point (0, 0)**. Will you escape the maze and survive?\n",
    "\n",
    "**Hint:** \n",
    "- Choose your data types carefully. Think of what would suit this exercise.\n",
    "- Use the [**Eucledian distance**][d] to calculate your distance from the origin.\n",
    "\n",
    "[d]: https://en.wikipedia.org/wiki/Euclidean_distance\n",
    "\n",
    "\n",
    "**Example input**: \n",
    "\n",
    "```python\n",
    "num_of_steps: int = 100  # You take 100 random steps in the lava maze\n",
    "\n",
    "```\n",
    "**Example output**:\n",
    "```\n",
    "You’ve escaped! Final distance from the starting point: 12.73 units.\n",
    "\n",
    "```\n",
    "\n",
    "**Note:** Your output might be different than the example output since we are usig the `random` module."
   ]
  },
  {
   "cell_type": "code",
   "execution_count": null,
   "id": "bbc0b805-d21d-4863-8004-61288415843e",
   "metadata": {},
   "outputs": [],
   "source": [
    "# TODO."
   ]
  },
  {
   "cell_type": "markdown",
   "id": "5bd7ab94-d44c-4079-8d01-02767572c33a",
   "metadata": {},
   "source": [
    "### Exercise 2\n",
    "\n",
    "<span style=\"color:darkorange;\"><strong>Level 1</strong>:</span> You're preparing for your big final exam, but time is running out! To manage your time better, create a study planner that helps you figure out how many hours you should study each subject based on the number of days remaining until the exam.\n",
    "\n",
    "Write a function, called `study_planner()`, that takes a **dictionary** of subjects (keys) and their importance (values as a score out of 10) and **calculates how many hours you need to study each subject over the remaining days**. The higher the importance, the more hours you should allocate to that subject. You'll also need to calculate **how many days are left until the exam** using the `datetime` module.\n",
    "\n",
    "**Example input**: \n",
    "\n",
    "```python\n",
    "subjects: Dict[str, int] = {\"Math\": 9, \"History\": 5, \"Science\": 7} \n",
    "exam_date: str = \"2024-10-30\"  # The exam is on October 30th, 2024\n",
    "```\n",
    "**Example output**:\n",
    "```\n",
    "Days left until the exam: 15\n",
    "Study Plan: {'Math': 5.4 hours/day, 'History': 3.0 hours/day, 'Science': 4.2 hours/day}\n",
    "```\n",
    "\n",
    "**Note:** Depending on the date you are solving this exercise, the outputs might differ."
   ]
  },
  {
   "cell_type": "code",
   "execution_count": null,
   "id": "72e90102-d700-4afb-bb6e-77f9545bdd34",
   "metadata": {},
   "outputs": [],
   "source": [
    "# TODO."
   ]
  },
  {
   "cell_type": "markdown",
   "id": "f5f60010-a037-43fd-ab02-6da21f5f5f05",
   "metadata": {},
   "source": [
    "<span style=\"color:darkorange;\"><strong>Level 2</strong>:</span> Your teacher loves surprises and announced a series of pop quizzes! To stay on top of things, you need to schedule alerts for each quiz. Write a function, called `quiz_scheduler()`, that takes a **list** of quiz dates and **generates reminders for each quiz**. The function should **return a schedule** of how many days are left until each quiz.\n",
    "\n",
    "The reminders should become more urgent as the quiz dates get closer: \n",
    "- if a quiz is less than 2 days away, flag it as \"I am cooked 🔥🍳\"\n",
    "- if a quiz is less than 4 days away, flag it as \"There is hope 🤞📚\"\n",
    "- if a quiz is less than 7 days away, flag it as \"It is time ⏰😬\"\n",
    "- if a quiz is 7 or more days away, flag it as \"Calm 😎🌴\"\n",
    "\n",
    "Again, use the `datetime` module for your computations.\n",
    "\n",
    "\n",
    "**Example input**: \n",
    "\n",
    "```python\n",
    "quiz_dates: List[str] = [\"2024-10-14\", \"2024-10-17\", \"2024-10-18\", \"2024-10-21\"]\r\n",
    "\n",
    "```\n",
    "**Example output**:\n",
    "```{\r\n",
    "    '2024-10-14': '1 day left -I am cooked 🔥🍳d',\r\n",
    "    '2024-10-17': '4 days left There is hope 🤞📚pe',\r\n",
    "    '2024-10-18': '5 days leftIt is time ⏰😬ime',\r\n",
    "    '2024-10-21': '8 days lefCalm 😎🌴Calm'\r\n",
    "}\r\n",
    "}\n",
    "```\n",
    "\n",
    "**Note:** Depending on the date you are solving this exercise, the outputs might differ."
   ]
  },
  {
   "cell_type": "code",
   "execution_count": null,
   "id": "59780df7-044d-4f62-a39e-511a021d01dd",
   "metadata": {},
   "outputs": [],
   "source": [
    "# TODO."
   ]
  },
  {
   "cell_type": "markdown",
   "id": "bc5e7de1-6b48-4e20-b7c6-54756db2ea86",
   "metadata": {},
   "source": [
    "<span style=\"color:darkorange;\"><strong>Level 3</strong>:</span> Finals week is approaching, and you have multiple exams! Create a program that **tracks your entire exam schedule** and determines which exams are coming up next, which ones are over, and which ones are today. It should categorize the exams into past, today, and upcoming. Write a function, called `exam_scheduler()`, that takes a **list of exam dates and their corresponding subjects**. Using the `datetime` module, **categorize the exams into the correct category** (past, today, or upcoming).\n",
    "\n",
    "**Example input**: \n",
    "\n",
    "```python\n",
    "exams: List[Tuple[str, str]] = [(\"Math\", \"2024-10-12\"), (\"History\", \"2024-10-22\"), (\"Science\", \"2024-10-30\")]\n",
    "```\n",
    "**Example output**:\n",
    "```\n",
    "Exam Schedule:\n",
    "Past: ['Math']\n",
    "Today: ['History']\n",
    "Upcoming: ['Science']\n",
    "```\n",
    "\n",
    "**Note:** Depending on the date you are solving this exercise, the outputs might differ."
   ]
  },
  {
   "cell_type": "code",
   "execution_count": null,
   "id": "e5e8de00-fabf-42e5-8d8d-91387598d74d",
   "metadata": {},
   "outputs": [],
   "source": [
    "# TODO."
   ]
  },
  {
   "cell_type": "markdown",
   "id": "85eb9a2b-0425-4d3d-ad7f-4d4513e84148",
   "metadata": {},
   "source": [
    "### Exercise 3\n",
    "\n",
    "<span style=\"color:darkorange;\"><strong>Level 1</strong>:</span> You’ve been tasked with organizing a dataset of various monkey species and their attributes. The dataset includes information such as **species name, weight, lifespan, habitat type, and population size**. Your goal is to **filter** this dataset to create a **new DataFrame** that **only includes monkeys that live in the rainforest and have a population of over 10,000 individuals**.\n",
    "\n",
    "Write a function, called `monkey_filter()`, that takes a **pandas DataFram**e and **returns a filtered DataFrame** based on the criteria above.\n",
    "\n",
    "**Example input**: \n",
    "\n",
    "```python\n",
    "data = {\n",
    "    'Species': ['Spider Monkey', 'Howler Monkey', 'Baboon', 'Capuchin Monkey', 'Macaque'],\n",
    "    'Weight_kg': [9, 7, 25, 3, 8],\n",
    "    'Lifespan_years': [27, 22, 30, 30, 25],\n",
    "    'Habitat': ['Rainforest', 'Rainforest', 'Savannah', 'Rainforest', 'Temperate Forest'],\n",
    "    'Population': [20000, 15000, 5000, 30000, 100000]\n",
    "}\n",
    "df: pd.DataFrame = pd.DataFrame(data)\n",
    "\n",
    "```\n",
    "**Example output**:\n",
    "\n",
    "| Species         | Weight_kg | Lifespan_years | Habitat     | Population |\n",
    "|-----------------|-----------|----------------|-------------|------------|\n",
    "| Spider Monkey   | 9         | 27             | Rainforest  | 20,000     |\n",
    "| Howler Monkey   | 7         | 22             | Rainforest  | 15,000     |\n",
    "| Capuchin Monkey | 3         | 30             | Rainforest  | 30,000     |"
   ]
  },
  {
   "cell_type": "code",
   "execution_count": 35,
   "id": "dceafd6e-d7c8-413b-8dbc-c1bcd040ee4f",
   "metadata": {},
   "outputs": [],
   "source": [
    "# TODO."
   ]
  },
  {
   "cell_type": "markdown",
   "id": "18a94e1e-bdbb-435a-bd27-deb82dc604f8",
   "metadata": {},
   "source": [
    "<span style=\"color:darkorange;\"><strong>Level 2</strong>:</span> Now that you’ve filtered the data, it’s time to **visualize it**! \n",
    "\n",
    "Create a **bar chart** to display the population of each monkey species in the filtered DataFrame. The **x-axis** should represent the **species names**, and the **y-axis** should show the **population size**. \n",
    "\n",
    "Don’t forget to give your chart a fun title like \"Rainforest Monkey Populations\"!\n",
    "\n",
    "**Example output:**\n",
    "\n",
    "<img src=\"assets/monkey_plot.png\" width=500 height=550>\n",
    "\n"
   ]
  },
  {
   "cell_type": "code",
   "execution_count": null,
   "id": "1984b192-94b8-4153-b3ac-2892c7849314",
   "metadata": {},
   "outputs": [],
   "source": [
    "# TODO."
   ]
  },
  {
   "cell_type": "markdown",
   "id": "276924a0-c93b-46d0-afe4-b62fb1994c93",
   "metadata": {},
   "source": [
    "<span style=\"color:darkorange;\"><strong>Level 3</strong>:</span> Conservation organizations need your help to determine which monkey species are most at risk of extinction based on a variety of factors. You’ll need to **create a heatmap** that **visualizes the relationships between monkey species' weight, lifespan, and population size**. The heatmap should show correlations between these variables so conservationists can identify patterns and focus their efforts.\n",
    "\n",
    "**Example output:**\n",
    "\n",
    "<img src=\"assets/monkey_heat.png\" width=500 height=550>\n"
   ]
  },
  {
   "cell_type": "code",
   "execution_count": null,
   "id": "c66c74c4-5aec-4282-8893-eaf8a7b96bc0",
   "metadata": {},
   "outputs": [],
   "source": [
    "# TODO."
   ]
  },
  {
   "cell_type": "markdown",
   "id": "40034c63-5e50-4fea-aee7-91299a2f9999",
   "metadata": {},
   "source": [
    "___________________________________________________________________________________________________________________________\n",
    "\n",
    "*Material for the VU Amsterdam course “Introduction to Python Programming” for BSc Artificial Intelligence students. These notebooks are created using the following sources:*\n",
    "1. [Learning Python by Doing][learning python]: This book, developed by teachers of TU/e Eindhoven and VU Amsterdam, is the main source for the course materials. Code snippets or text explanations from the book may be used in the notebooks, sometimes with slight adjustments.\n",
    "2. [Think Python][think python]\n",
    "3. [GeekForGeeks][geekforgeeks]\n",
    "\n",
    "[learning python]: https://programming-pybook.github.io/introProgramming/intro.html\n",
    "[think python]: https://greenteapress.com/thinkpython2/html/\n",
    "[geekforgeeks]: https://www.geeksforgeeks.org"
   ]
  }
 ],
 "metadata": {
  "kernelspec": {
   "display_name": "Python 3 (ipykernel)",
   "language": "python",
   "name": "python3"
  },
  "language_info": {
   "codemirror_mode": {
    "name": "ipython",
    "version": 3
   },
   "file_extension": ".py",
   "mimetype": "text/x-python",
   "name": "python",
   "nbconvert_exporter": "python",
   "pygments_lexer": "ipython3",
   "version": "3.11.4"
  }
 },
 "nbformat": 4,
 "nbformat_minor": 5
}

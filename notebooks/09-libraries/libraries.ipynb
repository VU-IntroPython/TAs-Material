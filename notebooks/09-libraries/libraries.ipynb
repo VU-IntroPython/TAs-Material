{
 "cells": [
  {
   "cell_type": "markdown",
   "id": "d5642b79-2570-4d48-b091-7e60201ca962",
   "metadata": {},
   "source": [
    "# Libraries"
   ]
  },
  {
   "cell_type": "markdown",
   "id": "b3ebe79a-5372-46a3-807d-ec9fb6831c27",
   "metadata": {},
   "source": [
    "**In this notebook, we cover the following subjects:**\n",
    "- TODO.\n",
    "___________________________________________________________________________________________________________________________"
   ]
  },
  {
   "cell_type": "code",
   "execution_count": 8,
   "id": "edaf7e4e-aa73-4373-8ece-c948fdded2a4",
   "metadata": {
    "tags": []
   },
   "outputs": [],
   "source": [
    "# To enable type hints for lists, dicts, tuples, and sets we need to import the following:\n",
    "from typing import List, Dict, Tuple, Set"
   ]
  },
  {
   "cell_type": "markdown",
   "id": "14d2f74e-6b22-4ede-967c-e814904bab13",
   "metadata": {},
   "source": [
    "<h2 style=\"color:#4169E1\">Modules</h2>\n",
    "\n",
    "Another way of providing predefined functions is via modules. A **module** is a file that contains a collection of related functions."
   ]
  },
  {
   "cell_type": "markdown",
   "id": "c6acf0bd-3a39-4868-9459-26a6f302574b",
   "metadata": {},
   "source": [
    "<h4 style=\"color:#B22222\">Math Module</h4>\n",
    "\n",
    "To do advanced mathematical operations, one can import the **math module**. It's a standard library, meaning it’s available in any Python installation by default, and allows us to use a bunch of **mathematical functions** and **constants**. To import the math module, run the following cell."
   ]
  },
  {
   "cell_type": "code",
   "execution_count": null,
   "id": "8df9b59f-bc70-4f3e-87f7-d185142b99e7",
   "metadata": {},
   "outputs": [],
   "source": [
    "import math"
   ]
  },
  {
   "cell_type": "markdown",
   "id": "a6934b26-b979-491a-be5b-94cac6593ae9",
   "metadata": {},
   "source": [
    "To access a function or constant you use a **dot notation** of which the syntax is of the following structure:\n",
    "\n",
    "1. For a **function**: `math.function_name(arguments)`;\n",
    "2. For a **constant**: `math.constant_name`.\n",
    "\n",
    "So, let's first apply the square root using the `math.sqrt()` function."
   ]
  },
  {
   "cell_type": "code",
   "execution_count": null,
   "id": "b93f50e9-dc6d-4aac-8f97-d2d72bfd06bf",
   "metadata": {},
   "outputs": [],
   "source": [
    "x: int = 25\n",
    "\n",
    "sqrt_of_25 = math.sqrt(25)\n",
    "\n",
    "print(f'The square root of 25 is {sqrt_of_25}!')"
   ]
  },
  {
   "cell_type": "markdown",
   "id": "c9d56cc0-2dee-45f7-8f4f-423fd5eb752b",
   "metadata": {},
   "source": [
    "Now, let's look at something a little more advanced."
   ]
  },
  {
   "cell_type": "code",
   "execution_count": null,
   "id": "b6c67497-0596-4d0a-8678-a4c3b30f4f3e",
   "metadata": {},
   "outputs": [],
   "source": [
    "x: int = 100\n",
    "y: int = 1\n",
    "\n",
    "you_got_this = math.log(x, 10) ** y * x / (y + 1)\n",
    "\n",
    "print(\"log({number})\".format(number = x), \"^\", y, \"*\", x, \"/ (\", y, \"+\", \"1\", \") =\", \"{result:.0f}\".format(result=you_got_this))"
   ]
  },
  {
   "cell_type": "code",
   "execution_count": null,
   "id": "d1c2de2f-6a53-4519-a3f9-e8458e0bf9c4",
   "metadata": {},
   "outputs": [],
   "source": [
    "# Do the same but convert it to integer first. What happens?\n",
    "print(int(you_got_this))"
   ]
  },
  {
   "cell_type": "code",
   "execution_count": 20,
   "id": "12935e7c-17ce-4b67-b68e-b3e5672da24d",
   "metadata": {},
   "outputs": [
    {
     "name": "stdout",
     "output_type": "stream",
     "text": [
      "5\n",
      "6\n",
      "6\n"
     ]
    }
   ],
   "source": [
    "# Also try:\n",
    "print(int(5.6))\n",
    "print(int(5.6 + 0.5))\n",
    "print(round(5.6))\n",
    "\n",
    "# Converting to integer in Python always rounds DOWN!"
   ]
  },
  {
   "cell_type": "markdown",
   "id": "0b5408b1-5a5f-40cf-9b8b-ee93f363753e",
   "metadata": {},
   "source": [
    "<h4 style=\"color:#B22222\">Random Module</h4>\n",
    "\n",
    "Python provides the **random model** to generate pseudorandom numbers. **Pseudorandom** numbers aren’t completely random because the computations used for their generation are deterministic. By a **deterministic computation**, we mean that the same output is produced when using the same inputs. \n",
    "\n",
    "Using the **random module**, you have access to the **random function**, which generates a pseudorandom float between 0.0 (inclusive) and 1.0 (exclusive). Let's generate five pseudorandom numbers using this function. Run at least twice to check the output."
   ]
  },
  {
   "cell_type": "code",
   "execution_count": null,
   "id": "1843d81b-45e8-47d0-b36c-d2538dcfa37a",
   "metadata": {},
   "outputs": [],
   "source": [
    "import random\n",
    "\n",
    "i : int = 0\n",
    "while i < 5:\n",
    "    x = random.random()\n",
    "    print(x)\n",
    "    i+=1"
   ]
  },
  {
   "cell_type": "markdown",
   "id": "419dccbe-b347-4dea-b0d3-e58813bb657e",
   "metadata": {
    "tags": []
   },
   "source": [
    "<h2 style=\"color:#4169E1\">A Section Title</h2>"
   ]
  },
  {
   "cell_type": "markdown",
   "id": "c9c3ac18-960b-45da-8d7a-bcf3144bc4a3",
   "metadata": {},
   "source": [
    "<h4 style=\"color:#B22222\">A Subsection Title</h4>"
   ]
  },
  {
   "cell_type": "markdown",
   "id": "3f44ba24-f913-4333-8379-3115dc585690",
   "metadata": {},
   "source": [
    "Example code:\n",
    "\n",
    "``` python\n",
    "class Person:\n",
    "    def __init__(self, name, age):\n",
    "        self.name = name  # Attribute: name\n",
    "        self.age = age    # Attribute: age\n",
    "```"
   ]
  },
  {
   "cell_type": "markdown",
   "id": "542075ac-bda5-44eb-a33d-511e6f1624a6",
   "metadata": {},
   "source": [
    "<details>\n",
    "  <summary style=\"cursor: pointer; background-color: #d4edda; padding: 10px; border-radius: 5px; color: #155724; font-weight: bold;\">\n",
    "    Q: A Question?\n",
    "  </summary>\n",
    "<div style=\"background-color: #f4fdf7; padding: 12px; margin-top: 8px; border-radius: 6px; border: 1px solid #b7e4c7; color: #155724;\">\n",
    "    An answer.\n",
    "  </div>\n",
    "</details>"
   ]
  },
  {
   "cell_type": "markdown",
   "id": "81b51dee-f88d-4fb2-9ea6-52f7e6f4dcf9",
   "metadata": {},
   "source": [
    "<div class=\"alert\" style=\"background-color: #ffecb3; color: #856404;\">\n",
    "    <b>Note</b> <br>\n",
    "The body of the note."
   ]
  },
  {
   "cell_type": "markdown",
   "id": "0d32b1ec-6808-4e84-a6d7-5449346f67ba",
   "metadata": {
    "tags": []
   },
   "source": [
    "<h2 style=\"color:#3CB371\">Exercises</h2>"
   ]
  },
  {
   "cell_type": "markdown",
   "id": "bf30fbf7-67d5-4360-9894-ea7533dcd893",
   "metadata": {},
   "source": [
    "Let's practice! Mind that each exercise is designed with multiple levels to help you progressively build your skills. <span style=\"color:darkorange;\"><strong>Level 1</strong></span> is the foundational level, designed to be straightforward so that everyone can successfully complete it. In <span style=\"color:darkorange;\"><strong>Level 2</strong></span>, we step it up a notch, expecting you to use more complex concepts or combine them in new ways. Finally, in <span style=\"color:darkorange;\"><strong>Level 3</strong></span>, we get closest to exam level questions, but we may use some concepts that are not covered in this notebook. However, in programming, you often encounter situations where you’re unsure how to proceed. Fortunately, you can often solve these problems by starting to work on them and figuring things out as you go. Practicing this skill is extremely helpful, so we highly recommend completing these exercises.\n",
    "\n",
    "For each of the exercises, make sure to add a `docstring` and `type hints`, and **do not** import any libraries unless specified otherwise.\n",
    "<br>"
   ]
  },
  {
   "cell_type": "markdown",
   "id": "0b307f2c-8995-4f7f-a75f-8b078bb97036",
   "metadata": {
    "tags": []
   },
   "source": [
    "### Exercise 1\n",
    "\n",
    "<span style=\"color:darkorange;\"><strong>Level 1</strong>:</span> Description.\n",
    "\n",
    "**Example input**: you pass this argument to the parameter in the function call.\n",
    "\n",
    "```python\n",
    "some code\n",
    "\n",
    "```\n",
    "**Example output**:\n",
    "```\n",
    "some output\n",
    "```"
   ]
  },
  {
   "cell_type": "code",
   "execution_count": null,
   "id": "21aa56e6-6db7-4fc5-a400-9c6de2d4ab29",
   "metadata": {},
   "outputs": [],
   "source": []
  },
  {
   "cell_type": "markdown",
   "id": "40034c63-5e50-4fea-aee7-91299a2f9999",
   "metadata": {},
   "source": [
    "___________________________________________________________________________________________________________________________\n",
    "\n",
    "*Material for the VU Amsterdam course “Introduction to Python Programming” for BSc Artificial Intelligence students. These notebooks are created using the following sources:*\n",
    "1. [Learning Python by Doing][learning python]: This book, developed by teachers of TU/e Eindhoven and VU Amsterdam, is the main source for the course materials. Code snippets or text explanations from the book may be used in the notebooks, sometimes with slight adjustments.\n",
    "2. [Think Python][think python]\n",
    "3. [GeekForGeeks][geekforgeeks]\n",
    "\n",
    "[learning python]: https://programming-pybook.github.io/introProgramming/intro.html\n",
    "[think python]: https://greenteapress.com/thinkpython2/html/\n",
    "[geekforgeeks]: https://www.geeksforgeeks.org"
   ]
  }
 ],
 "metadata": {
  "kernelspec": {
   "display_name": "Python 3 (ipykernel)",
   "language": "python",
   "name": "python3"
  },
  "language_info": {
   "codemirror_mode": {
    "name": "ipython",
    "version": 3
   },
   "file_extension": ".py",
   "mimetype": "text/x-python",
   "name": "python",
   "nbconvert_exporter": "python",
   "pygments_lexer": "ipython3",
   "version": "3.11.4"
  }
 },
 "nbformat": 4,
 "nbformat_minor": 5
}

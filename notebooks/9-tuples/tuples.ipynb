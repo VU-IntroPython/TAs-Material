{
 "cells": [
  {
   "cell_type": "markdown",
   "id": "9a6620f3-1871-4fce-80ef-ce1738688832",
   "metadata": {},
   "source": [
    "# Introduction to Python Programming: Variables"
   ]
  },
  {
   "cell_type": "code",
   "execution_count": null,
   "id": "5eed4b28-a419-4a02-b49e-0bf2445a4809",
   "metadata": {},
   "outputs": [],
   "source": []
  }
 ],
 "metadata": {
  "kernelspec": {
   "display_name": "Python 3 (ipykernel)",
   "language": "python",
   "name": "python3"
  },
  "language_info": {
   "codemirror_mode": {
    "name": "ipython",
    "version": 3
   },
   "file_extension": ".py",
   "mimetype": "text/x-python",
   "name": "python",
   "nbconvert_exporter": "python",
   "pygments_lexer": "ipython3",
   "version": "3.11.5"
  }
 },
 "nbformat": 4,
 "nbformat_minor": 5
}

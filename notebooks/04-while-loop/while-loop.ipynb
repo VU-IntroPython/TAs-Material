{
 "cells": [
  {
   "cell_type": "markdown",
   "metadata": {},
   "source": [
    "# While Loop"
   ]
  },
  {
   "cell_type": "markdown",
   "metadata": {},
   "source": [
    "**In this notebook, we cover the following subjects:**\n",
    "- While Statement;\n",
    "- Break;\n",
    "- Continue.\n",
    "___________________________________________________________________________________________________________________________"
   ]
  },
  {
   "cell_type": "markdown",
   "metadata": {
    "tags": []
   },
   "source": [
    "## <span style=\"color:#4169E1\">The While Statement</span>\n",
    "\n",
    "Thankfully, computers are good at repeating boring tasks, saving us from having to do them ourselves. Due to their computational power, they do this faster and more accurately than we can. When a block of code is executed several times, we referred to it as a **loop**. Each repetition of instructions within a loop is called an **iteration**.\n",
    "\n",
    "One of the fundamental loop statements in Python is a **while loop**, which allows you to repeatedly execute the body of code within the while statement as long as the specified condition holds `True`.\n",
    "\n",
    "```python\n",
    "while condition:\n",
    "    # Code to execute while condition is True\n",
    "```"
   ]
  },
  {
   "cell_type": "markdown",
   "metadata": {},
   "source": [
    "The flow of execution for a while statement is as follows:\n",
    "\n",
    "1. Determine whether the termination condition is `True` or `False`;\n",
    "2. If `False`, exit the while statement and continue with the next statement outside of the loop;\n",
    "3. If the condition is `True`, run the body and go back to step 1.\n",
    "\n",
    "This type of flow is called a loop because the third step loops back to the top. An animation could help us visualize the operation of a `while` loop.\n",
    "\n",
    "![while-loop-gif](https://programming-pybook.github.io/introProgramming/_images/while-animation.gif)\n",
    "\n",
    "Let’s look at a Harry Potter-themed example."
   ]
  },
  {
   "cell_type": "code",
   "execution_count": null,
   "metadata": {},
   "outputs": [],
   "source": [
    "platform: int = 1\n",
    "\n",
    "while platform < 10:\n",
    "    \n",
    "    print(\"You are at Platform {platform_no}.\".format(platform_no = platform))\n",
    "    \n",
    "    platform = platform + 1\n",
    "\n",
    "print(\"Be careful! Only 3/4 platforms to go.\")"
   ]
  },
  {
   "cell_type": "markdown",
   "metadata": {},
   "source": [
    "<details>\n",
    "  <summary style=\"cursor: pointer; background-color: #d4edda; padding: 10px; border-radius: 5px; color: #155724; font-weight: bold;\">\n",
    "    Q: How could we simplify <code>platform = platform + 1 </code> ?\n",
    "  </summary>\n",
    "<div style=\"background-color: #f4fdf7; padding: 12px; margin-top: 8px; border-radius: 6px; border: 1px solid #b7e4c7; color: #155724;\">\n",
    "    We could use the <code> += </code>(Addition Assignment) operator, which does exactly the same as <code>platform = platform + 1 </code> but in 1 line.\n",
    "  </div>\n",
    "</details>"
   ]
  },
  {
   "cell_type": "markdown",
   "metadata": {},
   "source": [
    "<div class=\"alert\" style=\"background-color: #ffecb3; color: #856404;\">\r\n",
    "    <b>Note</b> <br>\r\n",
    "    For further explanation about <b>Addition Assignment</b>, visit <a href=\"https://python-reference.readthedocs.io/en/latest/docs/operators/addition_assignment.html\">this website</a>.\r\n",
    "</div>\r\n"
   ]
  },
  {
   "cell_type": "markdown",
   "metadata": {
    "tags": []
   },
   "source": [
    "## <span style=\"color:#4169E1\">The Break Statement</span>\n",
    "\n",
    "It's possible to enforce the termination of a loop via the **break statement**. Once the break statement is reached within your program, none of the remaining code within the loop will be executed."
   ]
  },
  {
   "cell_type": "code",
   "execution_count": null,
   "metadata": {
    "tags": []
   },
   "outputs": [],
   "source": [
    "while True:\n",
    "    print('Print once!')\n",
    "    break\n",
    "    print(\"The rest won't be printed\")\n",
    "\n",
    "# Try to answer this question before running the cell. (To run the code bellow, just uncomment the line.)\n",
    "\n",
    "# print('But will this be printed?')"
   ]
  },
  {
   "cell_type": "markdown",
   "metadata": {
    "tags": []
   },
   "source": [
    "## <span style=\"color:#4169E1\">The Continue Statement</span>\n",
    "\n",
    "Sometimes you want to finish the execution of the loop body for specific iterations. In that case, you want to stop the current iteration and continue with the next one. To do so, you can use the **continue statement**."
   ]
  },
  {
   "cell_type": "code",
   "execution_count": null,
   "metadata": {
    "tags": []
   },
   "outputs": [],
   "source": [
    "iteration: int = 0\n",
    "\n",
    "while iteration <= 5:\n",
    "    iteration += 1\n",
    "    \n",
    "    # Do not print anything in iteration 2\n",
    "    if iteration == 2:\n",
    "        continue\n",
    "        print('Skip this text!')\n",
    "        \n",
    "    print(f'Iteration {iteration}')"
   ]
  },
  {
   "cell_type": "markdown",
   "metadata": {},
   "source": [
    "## <span style=\"color:#4169E1\">Infinite Loops</span>"
   ]
  },
  {
   "cell_type": "markdown",
   "metadata": {},
   "source": [
    "When you start working with <b> while loops </b>, it is very likely that you will encounter an infinite loop sooner or later. Do not be scared if this happens, as getting stuck in an infinite loop is part of every begginer programmer's journey! \n",
    "\n",
    "So what is an infinite loop?\n",
    "\n",
    "    - An infinite loop happens when a program keeps repeating forever without stopping. This usually happens if the condition for the loop never becomes false."
   ]
  },
  {
   "cell_type": "code",
   "execution_count": null,
   "metadata": {},
   "outputs": [],
   "source": [
    "# example of a code snippet that would create an infinite loop\n",
    "\n",
    "while True: # this condition will always be True\n",
    "    print(\"This will run forever!\")"
   ]
  },
  {
   "cell_type": "markdown",
   "metadata": {},
   "source": [
    "<div class=\"alert\" style=\"background-color: #ffecb3; color: #856404;\">\n",
    "    <b>Note</b> <br>\n",
    "    To avoid infinite loops, make sure:<br>\n",
    "    <br>\n",
    "    Your loop has a condition that will eventually stop. <br>\n",
    "    You update variables inside the loop to break it. <br>\n",
    "</div>\n"
   ]
  },
  {
   "cell_type": "markdown",
   "metadata": {},
   "source": [
    "To get out of an infinite loop just interrupt the kernel."
   ]
  },
  {
   "cell_type": "markdown",
   "metadata": {
    "tags": []
   },
   "source": [
    "## <span style=\"color:#3CB371\">Exercises</span>"
   ]
  },
  {
   "cell_type": "markdown",
   "metadata": {},
   "source": [
    "Let's practice! Mind that each exercise is designed with multiple levels to help you progressively build your skills. <span style=\"color:darkorange;\"><strong>Level 1</strong></span> is the foundational level, designed to be straightforward so that everyone can successfully complete it. In <span style=\"color:darkorange;\"><strong>Level 2</strong></span>, we step it up a notch, expecting you to use more complex concepts or combine them in new ways. Finally, in <span style=\"color:darkorange;\"><strong>Level 3</strong></span>, we get closest to exam level questions, but we may use some concepts that are not covered in this notebook. However, in programming, you often encounter situations where you’re unsure how to proceed. Fortunately, you can often solve these problems by starting to work on them and figuring things out as you go. Practicing this skill is extremely helpful, so we highly recommend completing these exercises.\n",
    "\n",
    "For each of the exercises, make sure to add `type hints`, and **do not** import any libraries unless specified otherwise.\n",
    "<br>"
   ]
  },
  {
   "cell_type": "markdown",
   "metadata": {},
   "source": [
    "### Exercise 1\n",
    "\n",
    "<span style=\"color:darkorange;\"><strong>Level 1</strong>:</span> Write a Python program that uses a `while` loop to count from 1 to 10, but only prints the even numbers **without** using the continue statement.\n",
    "\n",
    "**Expected output:**\n",
    "```python\n",
    "2\n",
    "4\n",
    "6\n",
    "8\n",
    "10\n",
    "```"
   ]
  },
  {
   "cell_type": "code",
   "execution_count": null,
   "metadata": {},
   "outputs": [],
   "source": [
    "# TODO."
   ]
  },
  {
   "cell_type": "markdown",
   "metadata": {},
   "source": [
    "<span style=\"color:darkorange;\"><strong>Level 2</strong>:</span> Write a Python program that prints all even numbers from 1 to 20, excluding those divisible by 3 and the ones that are [perfect squares][magic], using the **continue** statement.\n",
    "\n",
    "**Expected output**:\n",
    "```python\n",
    "2\n",
    "4\n",
    "8\n",
    "10\n",
    "14\n",
    "16\n",
    "20\n",
    "```\n",
    "\n",
    "[magic]: :https://www.geeksforgeeks.org/perfect-squares/#what-is-perfect-square"
   ]
  },
  {
   "cell_type": "code",
   "execution_count": null,
   "metadata": {},
   "outputs": [],
   "source": [
    "# TODO."
   ]
  },
  {
   "cell_type": "markdown",
   "metadata": {},
   "source": [
    "<span style=\"color:darkorange;\"><strong>Level 3</strong>:</span> Implement the same code as in <span style=\"color:darkorange;\"><strong>Level 2</strong></span>, but this time do not use the modulo (%) operator."
   ]
  },
  {
   "cell_type": "code",
   "execution_count": null,
   "metadata": {},
   "outputs": [],
   "source": [
    "# TODO."
   ]
  },
  {
   "cell_type": "markdown",
   "metadata": {},
   "source": [
    "### Exercise 2\n",
    "\n",
    "<span style=\"color:darkorange;\"><strong>Level 1</strong>:</span> A well-known exercise to practice while loops is the *\"99 Bottles of Beer\"* song. Write a program using a `while` loop that prints the lyrics of the song, counting down from 99 bottles to 0. The program should include the final verse, handling the special case where there are no bottles left. Be sure to avoid repetitive code in your solution. The song starts with “99 bottles of beer on the wall” and decreases by one bottle each verse until there are no bottles remaining. Additionally, pay attention to the correct usage of singular and plural forms for “bottle” and “bottles\".\n",
    "```\n",
    "99 bottles of beer on the wall,\n",
    "99 bottles of beer.\n",
    "Take one down, pass it around,\n",
    "98 bottles of beer on the wall.\n",
    "\n",
    "98 bottles of beer on the wall,\n",
    "98 bottles of beer.\n",
    "Take one down, pass it around,\n",
    "97 bottles of beer on the wall.\n",
    "\n",
    "...\n",
    "\n",
    "2 bottles of beer on the wall,\n",
    "2 bottles of beer.\n",
    "Take one down, pass it around,\n",
    "1 bottle of beer on the wall.\n",
    "\n",
    "1 bottle of beer on the wall,\n",
    "1 bottle of beer.\n",
    "Take one down, pass it around,\n",
    "No more bottles of beer on the wall.\n",
    "```"
   ]
  },
  {
   "cell_type": "code",
   "execution_count": null,
   "metadata": {},
   "outputs": [],
   "source": [
    "# TODO."
   ]
  },
  {
   "cell_type": "markdown",
   "metadata": {},
   "source": [
    "<span style=\"color:darkorange;\"><strong>Level 2</strong>:</span> Modify the program to allow users to start with a custom number of bottles and choose their preferred liquid. This will replace every instance of “beer” with the user-provided input, such as “Coca Cola."
   ]
  },
  {
   "cell_type": "code",
   "execution_count": 16,
   "metadata": {},
   "outputs": [],
   "source": [
    "# TODO."
   ]
  },
  {
   "cell_type": "markdown",
   "metadata": {},
   "source": [
    "### Exercise 3\n",
    "\n",
    "The [Collatz sequence][collatz], also known as the **3x + 1 problem**, is a well-known problem in mathematics. The sequence follows a specific set of rules: starting with any positive integer, if the number is even, you divide it by 2; if it's odd, you multiply it by 3 and add 1. You continue applying these rules until the sequence reaches the number 1. Strangely, when you apply these rules, you always end up in the loop of 4, 2, and 1—at least, this has been the case for all numbers tested so far—something that mathematicians still don’t fully understand or have been able to prove for all possible starting numbers.\n",
    "\n",
    "<span style=\"color:darkorange;\"><strong>Level 1</strong>:</span> In this Python exercise, you will create a program to generate and display the Collatz sequence for a given starting number. You continue applying these rules until the sequence reaches the number 1. Your task is to implement a **while loop** to calculate the sequence and **break** the loop if it reaches 50 steps. This means that if the sequence does not reach 1 within 50 steps, the loop should terminate to prevent long-running computations and possible infinite loops (test this with the number 27 as this takes 111 steps to terminate). If you have to break add the print message:\n",
    "```python\n",
    "\"Argh, it costs too much computation power!\".\n",
    "```\n",
    "**Example input**:\n",
    "```python\n",
    "start_number: int = 7\n",
    "```\n",
    "\n",
    "**Example output**:\n",
    "```python\n",
    "7\n",
    "22\n",
    "11\n",
    "34\n",
    "17\n",
    "52\n",
    "26\n",
    "13\n",
    "40\n",
    "20\n",
    "10\n",
    "5\n",
    "16\n",
    "8\n",
    "4\n",
    "2\n",
    "1\n",
    "```\n",
    "[collatz]:https://www.youtube.com/watch?v=094y1Z2wpJg"
   ]
  },
  {
   "cell_type": "code",
   "execution_count": null,
   "metadata": {},
   "outputs": [],
   "source": [
    "# Prompt the user to enter a positive integer as the starting number\n",
    "start_number: int = int(input(\"Enter a positive integer as the starting number: \"))\n",
    "\n",
    "# Initialize a count to keep track of the number of terms in the sequence\n",
    "count int = 0\n",
    "\n",
    "# TODO."
   ]
  },
  {
   "cell_type": "markdown",
   "metadata": {},
   "source": [
    "<span style=\"color:darkorange;\"><strong>Level 2</strong>:</span> Modify the program to track and display the highest number encountered in the Collatz sequence and the iteration number at which it occurs. Additionally, calculate and display the average of all numbers in the sequence. \n",
    "\n",
    "For testing purposes: for the starting number **7**, the maximum number encountered should be **52 (at iteration 6)**, and the average of all numbers in the sequence should be approximately **16.94**."
   ]
  },
  {
   "cell_type": "code",
   "execution_count": null,
   "metadata": {
    "tags": []
   },
   "outputs": [],
   "source": [
    "# TODO."
   ]
  },
  {
   "cell_type": "markdown",
   "metadata": {},
   "source": [
    "### Exercise 4\n",
    "\n",
    "In mathematics, we explore patterns, and these patterns can be great for practicing programming. One such [beautiful][magic] pattern is the Fibonacci sequence, which is perfect for practicing with `while` loops. In this sequence each number is the sum of the two numbers that came before it. It typically starts with 0 and 1, and continues indefinitely:\n",
    "\n",
    "```\n",
    "0, 1, 1, 2, 3, 5, 8, 13, 21, 34, 55...\n",
    "```\n",
    "\n",
    "<img src=\"assets/fibonacci.jpg\" width=400 height=300 >\n",
    "\n",
    "<span style=\"color:darkorange;\"><strong>Level 1</strong>:</span> You might already guess what we’re expecting from you. We want you to write a program that prints the Fibonacci numbers up to a certain limit. This limit is determined by prompting the user (using `input()`), so you won’t know it in advance. Make sure to use a `while` loop in your script.\n",
    "\n",
    "\n",
    "**Example input**:\n",
    "``` python\n",
    "limit: int = 15\n",
    "```\n",
    "\n",
    "**Example Output**:\n",
    "```python\n",
    "0\n",
    "1\n",
    "1\n",
    "2\n",
    "3\n",
    "5\n",
    "8\n",
    "13\n",
    "```\n",
    "\n",
    "[magic]:https://www.youtube.com/watch?v=SjSHVDfXHQ4"
   ]
  },
  {
   "cell_type": "code",
   "execution_count": null,
   "metadata": {},
   "outputs": [],
   "source": [
    "# User input for the limit\n",
    "limit = int(input(\"Enter the limit for the Fibonacci sequence: \"))\n",
    "\n",
    "# Initialize the first two Fibonacci numbers\n",
    "a: int, b: int = 0, 1\n",
    "\n",
    "# TODO."
   ]
  },
  {
   "cell_type": "markdown",
   "metadata": {},
   "source": [
    "<span style=\"color:darkorange;\"><strong>Level 3</strong>:</span> Add input validation to ensure the user enters a positive integer for the limit. Use a [while True][while] loop and the [try and except][try] blocks to catch and handle any invalid input.\n",
    "\n",
    "\n",
    "[while]:https://www.geeksforgeeks.org/how-to-use-while-true-in-python/ \n",
    "\n",
    "\n",
    "[try]:https://www.w3schools.com/python/python_try_except.asp"
   ]
  },
  {
   "cell_type": "code",
   "execution_count": null,
   "metadata": {
    "tags": []
   },
   "outputs": [],
   "source": [
    "# TODO."
   ]
  },
  {
   "cell_type": "markdown",
   "metadata": {},
   "source": [
    "___________________________________________________________________________________________________________________________\n",
    "\n",
    "*Material for the VU Amsterdam course “Introduction to Python Programming” for BSc Artificial Intelligence students. These notebooks are created using the following sources:*\n",
    "1. [Learning Python by Doing][learning python]: This book, developed by teachers of TU/e Eindhoven and VU Amsterdam, is the main source for the course materials. Code snippets or text explanations from the book may be used in the notebooks, sometimes with slight adjustments.\n",
    "2. [Think Python][think python]\n",
    "3. [GeekForGeeks][geekforgeeks]\n",
    "\n",
    "[learning python]: https://programming-pybook.github.io/introProgramming/intro.html\n",
    "[think python]: https://greenteapress.com/thinkpython2/html/\n",
    "[geekforgeeks]: https://www.geeksforgeeks.org"
   ]
  }
 ],
 "metadata": {
  "kernelspec": {
   "display_name": "Python 3 (ipykernel)",
   "language": "python",
   "name": "python3"
  },
  "language_info": {
   "codemirror_mode": {
    "name": "ipython",
    "version": 3
   },
   "file_extension": ".py",
   "mimetype": "text/x-python",
   "name": "python",
   "nbconvert_exporter": "python",
   "pygments_lexer": "ipython3",
   "version": "3.11.4"
  },
  "vscode": {
   "interpreter": {
    "hash": "9451767feaf7925185bf37009af3205aec0103dc88a66dc09d267eb54aa4b1c3"
   }
  }
 },
 "nbformat": 4,
 "nbformat_minor": 4
}

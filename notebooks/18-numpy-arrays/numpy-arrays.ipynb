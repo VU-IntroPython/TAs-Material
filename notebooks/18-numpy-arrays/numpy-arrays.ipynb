{
 "cells": [
  {
   "cell_type": "markdown",
   "id": "76d0f1d1-d5ea-4640-bfc7-e9fc941419dd",
   "metadata": {},
   "source": [
    "# NumPy Arrays"
   ]
  },
  {
   "cell_type": "markdown",
   "id": "3279e21e-abbf-4819-9efd-44a05c4411e4",
   "metadata": {},
   "source": [
    "**In this notebook, we cover the following subjects:**\n",
    "- Understanding NumPy Arrays;\n",
    "- Array Structue;\n",
    "- Basic Array Operations;\n",
    "- Reshaping and Modifying Arrays;\n",
    "- Introduction to Working with Data in Arrays.\n",
    "___________________________________________________________________________________________________________________________"
   ]
  },
  {
   "cell_type": "code",
   "execution_count": null,
   "id": "ef98d6ab-96f2-4ab2-a7c3-6599e9cae068",
   "metadata": {
    "tags": []
   },
   "outputs": [],
   "source": [
    "# To enable type hints for lists, dicts, tuples, and sets we need to import the following:\n",
    "from typing import List, Dict, Tuple, Set"
   ]
  },
  {
   "cell_type": "markdown",
   "id": "7ad1d74f-32e5-414a-8d8a-d3e03d6cf326",
   "metadata": {
    "tags": []
   },
   "source": [
    "<h2 style=\"color:#4169E1\">Understanding NumPy Arrays</h2>"
   ]
  },
  {
   "cell_type": "markdown",
   "id": "9003f761-cc0b-4e24-a1d6-8ebd690d619f",
   "metadata": {},
   "source": [
    "<h4 style=\"color:#B22222\">What is NumPy?</h4>\n",
    "\n",
    "- Introduce NumPy as a powerful tool for numerical computing in Python. Emphasize its role in AI and data science, particularly for handling and processing large datasets efficiently."
   ]
  },
  {
   "cell_type": "markdown",
   "id": "5320adaf-7d0a-4883-ae00-a57522058af2",
   "metadata": {},
   "source": [
    "<h4 style=\"color:#B22222\">Basic Array Creation</h4>\n",
    "\n",
    "- Show how to create arrays using `np.array`, `np.zeros`, `np.ones`, and `np.arange`. Emphasize the importance of understanding array dimensions (1D, 2D, 3D arrays)."
   ]
  },
  {
   "cell_type": "markdown",
   "id": "b011387b-bf7c-415f-80ad-a8778540d960",
   "metadata": {
    "tags": []
   },
   "source": [
    "<h2 style=\"color:#4169E1\">Array Structure</h2>"
   ]
  },
  {
   "cell_type": "markdown",
   "id": "0045f345-6335-49c8-8b89-57d335892b88",
   "metadata": {},
   "source": [
    "<h4 style=\"color:#B22222\">Array Attributes</h4>\n",
    "\n",
    "- Discuss key attributes like `shape`, `dtype`, and `size`. Explain how these attributes describe the structure and type of data in an array.\n",
    "- Explain how to specify and convert data types in arrays using `astype()`, and why this is useful."
   ]
  },
  {
   "cell_type": "markdown",
   "id": "1a87601c-36a3-4fd8-8a5c-05620703b4b5",
   "metadata": {},
   "source": [
    "<h4 style=\"color:#B22222\">Array Indexing and Slicing</h4>\n",
    "\n",
    "- Explain how to access elements using indexing and slicing. Cover both 1D and multi-dimensional arrays."
   ]
  },
  {
   "cell_type": "markdown",
   "id": "995bd683-7756-44e2-b6b5-546d825a8ee8",
   "metadata": {
    "tags": []
   },
   "source": [
    "<h2 style=\"color:#4169E1\">Basic Array Operations</h2>"
   ]
  },
  {
   "cell_type": "markdown",
   "id": "6dc565c3-e1b4-4ca0-a1bd-6aaf0f4a0bb8",
   "metadata": {},
   "source": [
    "<h4 style=\"color:#B22222\">Element-wise Operations</h4>\n",
    "\n",
    "-  Explain that NumPy allows you to perform operations element-wise across arrays. Introduce basic arithmetic operations (addition, subtraction, multiplication, division)."
   ]
  },
  {
   "cell_type": "markdown",
   "id": "65e3aea4-ff6b-4677-a3f3-867de2946c23",
   "metadata": {},
   "source": [
    "<h4 style=\"color:#B22222\">Aggregation Functions</h4>\n",
    "\n",
    "- Discuss common aggregation functions like `sum`, `min`, `max`, `mean`, and `std`. Explain how these functions operate over an entire array or along a specified axis. Additionally, briefly explain why aggregation functions are important in data science, such as their role in summarizing large datasets (you might even want to start with this)."
   ]
  },
  {
   "cell_type": "markdown",
   "id": "74461241-3af4-428f-b452-b3718d165ab0",
   "metadata": {},
   "source": [
    "<h4 style=\"color:#B22222\">Introduction to Broadcasting</h4>\n",
    "\n",
    "- Introduce the concept of broadcasting in simple terms. Explain that broadcasting allows NumPy to automatically expand smaller arrays to match the shape of larger ones for element-wise operations."
   ]
  },
  {
   "cell_type": "markdown",
   "id": "a8997478-ae35-46b7-b0b0-dbea0f41ec0e",
   "metadata": {
    "tags": []
   },
   "source": [
    "<h2 style=\"color:#4169E1\">Reshaping and Modifying Arrays</h2>"
   ]
  },
  {
   "cell_type": "markdown",
   "id": "a2ab3a4d-2827-4a78-8c32-8ada360df735",
   "metadata": {},
   "source": [
    "<h4 style=\"color:#B22222\">Reshaping Arrays</h4>\n",
    "\n",
    "- Explain how to change the shape of an array using `reshape`, `flatten`, and `ravel`."
   ]
  },
  {
   "cell_type": "markdown",
   "id": "a56f1c10-eab8-41b0-b74c-a71bfdc597c9",
   "metadata": {},
   "source": [
    "<h4 style=\"color:#B22222\">Copying vs. Viewing Arrays</h4>\n",
    "\n",
    "- Discuss the difference between a view and a copy in NumPy. Introduce the `copy()` method and explain when to use it."
   ]
  },
  {
   "cell_type": "markdown",
   "id": "d010760c-7f52-439d-a076-db49e768f088",
   "metadata": {},
   "source": [
    "<h4 style=\"color:#B22222\">Stacking and Splitting Arrays</h4>\n",
    "\n",
    "- Cover techniques for joining arrays using `np.concatenate`, `np.vstack`, and `np.hstack`. Explain how to split arrays using `np.split`."
   ]
  },
  {
   "cell_type": "markdown",
   "id": "eefe9e1a-0d1d-4f51-b881-59aab6cd40b9",
   "metadata": {
    "tags": []
   },
   "source": [
    "<h2 style=\"color:#4169E1\">Introduction to Working with Data in Arrays</h2>"
   ]
  },
  {
   "cell_type": "markdown",
   "id": "684510f5-c77d-441b-b8d1-766ccf671156",
   "metadata": {},
   "source": [
    "<h4 style=\"color:#B22222\">Basic Data Selection and Filtering</h4>\n",
    "\n",
    "- Introduce Boolean indexing as a simple method for filtering and modifying data in arrays. Explain how to create basic masks and use them to select or change elements."
   ]
  },
  {
   "cell_type": "markdown",
   "id": "c9400e90-558b-4128-856f-e01ed6dfab38",
   "metadata": {},
   "source": [
    "<h4 style=\"color:#B22222\">Random Data Generation</h4>\n",
    "\n",
    "- Introduce the `np.random` module as a way to create arrays of random numbers. Focus on basic random number generation without diving into complex distributions, but briefly mention different distributions (e.g., uniform, normal) to showcase the possibilities.\n",
    "- (You could explain how random data generation might be used in an AI context, such as initializing weights in a neural network. However, at this point they have not seen a Neural Net, so be careful. However, such a link could be nice if done well.)"
   ]
  },
  {
   "cell_type": "markdown",
   "id": "c78fccda-48b0-4720-8649-7a21f1b2d641",
   "metadata": {},
   "source": [
    "Example code:\n",
    "\n",
    "``` python\n",
    "class Person:\n",
    "    def __init__(self, name, age):\n",
    "        self.name = name  # Attribute: name\n",
    "        self.age = age    # Attribute: age\n",
    "```"
   ]
  },
  {
   "cell_type": "markdown",
   "id": "b24a4be1-3c7a-4106-8d7d-a697f712ef98",
   "metadata": {},
   "source": [
    "<details>\n",
    "  <summary style=\"cursor: pointer; background-color: #d4edda; padding: 10px; border-radius: 5px; color: #155724; font-weight: bold;\">\n",
    "    Q: A Question?\n",
    "  </summary>\n",
    "<div style=\"background-color: #f4fdf7; padding: 12px; margin-top: 8px; border-radius: 6px; border: 1px solid #b7e4c7; color: #155724;\">\n",
    "    An answer.\n",
    "  </div>\n",
    "</details>"
   ]
  },
  {
   "cell_type": "markdown",
   "id": "a96acf17-b361-4b58-901e-4c86dc46de00",
   "metadata": {},
   "source": [
    "<div class=\"alert\" style=\"background-color: #ffecb3; color: #856404;\">\n",
    "    <b>Note</b> <br>\n",
    "The body of the note."
   ]
  },
  {
   "cell_type": "markdown",
   "id": "f0f1d464-c954-42a9-92fd-75123cc84650",
   "metadata": {
    "tags": []
   },
   "source": [
    "<h2 style=\"color:#3CB371\">Exercises</h2>"
   ]
  },
  {
   "cell_type": "markdown",
   "id": "7608a17f-9ec1-47b3-b7a3-509c2ff545ae",
   "metadata": {},
   "source": [
    "Let's practice! Mind that each exercise is designed with multiple levels to help you progressively build your skills. <span style=\"color:darkorange;\"><strong>Level 1</strong></span> is the foundational level, designed to be straightforward so that everyone can successfully complete it. In <span style=\"color:darkorange;\"><strong>Level 2</strong></span>, we step it up a notch, expecting you to use more complex concepts or combine them in new ways. Finally, in <span style=\"color:darkorange;\"><strong>Level 3</strong></span>, we get closest to exam level questions, but we may use some concepts that are not covered in this notebook. However, in programming, you often encounter situations where you’re unsure how to proceed. Fortunately, you can often solve these problems by starting to work on them and figuring things out as you go. Practicing this skill is extremely helpful, so we highly recommend completing these exercises.\n",
    "\n",
    "For each of the exercises, make sure to add a `docstring` and `type hints`, and **do not** import any libraries unless specified otherwise.\n",
    "<br>"
   ]
  },
  {
   "cell_type": "markdown",
   "id": "ad412d45-e51c-4e93-8651-2c81750bf4ec",
   "metadata": {
    "tags": []
   },
   "source": [
    "### Exercise 1\n",
    "\n",
    "<span style=\"color:darkorange;\"><strong>Level 1</strong>:</span> Description.\n",
    "\n",
    "**Example input**: you pass this argument to the parameter in the function call.\n",
    "\n",
    "```python\n",
    "some code\n",
    "\n",
    "```\n",
    "**Example output**:\n",
    "```\n",
    "some output\n",
    "```"
   ]
  },
  {
   "cell_type": "code",
   "execution_count": null,
   "id": "10482f07-5b98-4827-8597-dac23f90db0c",
   "metadata": {},
   "outputs": [],
   "source": []
  },
  {
   "cell_type": "markdown",
   "id": "e703bc80-6641-4451-b123-5480032554fe",
   "metadata": {},
   "source": [
    "___________________________________________________________________________________________________________________________\n",
    "\n",
    "*Material for the VU Amsterdam course “Introduction to Python Programming” for BSc Artificial Intelligence students. These notebooks are created using the following sources:*\n",
    "1. [Learning Python by Doing][learning python]: This book, developed by teachers of TU/e Eindhoven and VU Amsterdam, is the main source for the course materials. Code snippets or text explanations from the book may be used in the notebooks, sometimes with slight adjustments.\n",
    "2. [Think Python][think python]\n",
    "3. [GeekForGeeks][geekforgeeks]\n",
    "\n",
    "[learning python]: https://programming-pybook.github.io/introProgramming/intro.html\n",
    "[think python]: https://greenteapress.com/thinkpython2/html/\n",
    "[geekforgeeks]: https://www.geeksforgeeks.org"
   ]
  }
 ],
 "metadata": {
  "kernelspec": {
   "display_name": "Python 3 (ipykernel)",
   "language": "python",
   "name": "python3"
  },
  "language_info": {
   "codemirror_mode": {
    "name": "ipython",
    "version": 3
   },
   "file_extension": ".py",
   "mimetype": "text/x-python",
   "name": "python",
   "nbconvert_exporter": "python",
   "pygments_lexer": "ipython3",
   "version": "3.11.5"
  }
 },
 "nbformat": 4,
 "nbformat_minor": 5
}

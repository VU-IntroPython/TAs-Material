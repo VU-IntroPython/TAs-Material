{
 "cells": [
  {
   "cell_type": "markdown",
   "id": "fd6fdd4a-e8ba-45cf-833b-051948f60d0b",
   "metadata": {},
   "source": [
    "# Exceptions"
   ]
  },
  {
   "cell_type": "markdown",
   "id": "488f62ad-b1ef-4abc-9488-eb5026639c7d",
   "metadata": {},
   "source": [
    "**In this notebook, we cover the following subjects:**\n",
    "- Logical Errors (Exceptions)\n",
    "- Built-in Exceptions\n",
    "- Exception Handling\n",
    "- Custom Exceptions (Optional)\n",
    "___________________________________________________________________________________________________________________________"
   ]
  },
  {
   "cell_type": "code",
   "execution_count": null,
   "id": "668eb34f-e61a-4010-93b4-f954f567d44f",
   "metadata": {
    "tags": []
   },
   "outputs": [],
   "source": [
    "# To enable type hints for lists, dicts, tuples, and sets we need to import the following:\n",
    "from typing import List, Dict, Tuple, Set"
   ]
  },
  {
   "cell_type": "markdown",
   "id": "fa4a762b-497b-4eb6-b9ba-458e24d376ee",
   "metadata": {
    "tags": []
   },
   "source": [
    "## <span style=\"color:#4169E1\">Logical Errors (Exceptions)</span>"
   ]
  },
  {
   "cell_type": "markdown",
   "id": "376cf190-708b-4317-9f13-ae71397b39ba",
   "metadata": {},
   "source": [
    "By now we have seen many concepts in the world of Python. From creating our own variables, trough defining our functions to working with more advanced datatypes such as lists or dictionaries we have covered it all. But as you have already experienced, errors occour all the time. Therefore, it is benefical if we can write our code in a way so it is able to catch and handle errors. This is where [**exceptions**][e] come to the picture.\n",
    "\n",
    "So what is an exception?\n",
    "\n",
    "An exception is an unexpected event that occurs during program execution. For example:\n",
    "\n",
    "```python\n",
    "divide_by_zero = 73/0\n",
    "```\n",
    "\n",
    "The above code causes an exception as it is not possible to divide a number by 0. \n",
    "\n",
    "[e]: https://docs.python.org/3/tutorial/errors.html"
   ]
  },
  {
   "cell_type": "markdown",
   "id": "124c93ef-3ae2-4441-b91a-a8f6fc7c9414",
   "metadata": {},
   "source": [
    "To be more precise, errors that occur at runtime (after passing the syntax test) are called **exceptions** or **logical errors**. For instance, they occur when you:\n",
    "\n",
    "- try to divide a number by zero - `ZeroDivisionError`\n",
    "- try to import a module that does not exist - `ImportError`\n",
    "- try to access an index that is out of range in a list or other sequence - `IndexError`\n",
    "-  try to access a key that does not exist in a dictionary - `KeyError`  \n",
    "and so on.\n",
    "\n",
    "When these kinds of runtime errors happen, Python creates an **exception object**.   \n",
    "If we don't handle it properly, Python shows a **traceback**, which is like a report that explains what went wrong and why. Let's take a look at how Python deals with these errors:"
   ]
  },
  {
   "cell_type": "code",
   "execution_count": null,
   "id": "2f4f4100-4235-4025-8135-c65680324c2a",
   "metadata": {},
   "outputs": [],
   "source": [
    "divide_by_zero = 73/0"
   ]
  },
  {
   "cell_type": "markdown",
   "id": "3394d04d-190d-430d-a986-a5034219dbad",
   "metadata": {},
   "source": [
    "Here, while trying to divide 73 / 0, the program throws a system exception `ZeroDivisionError`"
   ]
  },
  {
   "cell_type": "markdown",
   "id": "006dcb76-6330-4c1f-8394-e9cf4aa451fa",
   "metadata": {},
   "source": [
    "#### <span style=\"color:#B22222\">Error VS Exception</span>"
   ]
  },
  {
   "cell_type": "markdown",
   "id": "9921659e-30d0-4b54-a304-8b4779275d5c",
   "metadata": {},
   "source": [
    "**Errors** refer to issues like compilation failures, syntax mistakes, logical flaws in the code, library conflicts, or infinite recursion, among others. These types of errors are generally outside the programmer's control, and we shouldn't attempt to handle them directly.\n",
    "\n",
    "On the other hand, **exceptions** are conditions that can be caught and managed within the program.\n",
    "\n",
    "**This is an error:**\n",
    "```python\n",
    "a: int = 12\n",
    "b: str = \"This is an exceptional error\"\n",
    "c: any = a + b  # Error: unsupported operand types\n",
    "```\n",
    "\n",
    "**This is an exception:**\n",
    "```python\n",
    "a: int = 12\r\n",
    ": strb = \"This is an exceptional error\"\r\n",
    "\r\n",
    "try:\r\n",
    " : any   c = a + b\r\n",
    "except TypeError:\r\n",
    "    print(\"TypeError: This will throw an err```or!\")\r\n"
   ]
  },
  {
   "cell_type": "markdown",
   "id": "3e96db44-1563-49b5-9452-248d99bcdc4a",
   "metadata": {},
   "source": [
    "## <span style=\"color:#4169E1\">Built-in Exceptions</span>"
   ]
  },
  {
   "cell_type": "markdown",
   "id": "4c6c641a-eb85-4804-8940-ec9fb776ffe7",
   "metadata": {},
   "source": [
    "Illegal operations can cause exceptions to be raised. Python has a lot of [**built-in exceptions**][b] that are triggered when certain errors happen.  \n",
    "We can view all the built-in exceptions using the built-in `local()` function as follows:\n",
    "```python\n",
    "print(dir(locals()['__builtins__']))\n",
    "```\n",
    "\n",
    "Here, `locals()['__builtins__']` will return a module of built-in exceptions, functions, and attributes and `dir()` will allow us to list these attributes as strings.\n",
    "\n",
    "[b]: https://docs.python.org/3/library/exceptions.html"
   ]
  },
  {
   "cell_type": "code",
   "execution_count": null,
   "id": "44b410e3-8d9b-4413-8f11-a4b57198b47e",
   "metadata": {},
   "outputs": [],
   "source": [
    "# try it yourself\n",
    "print(dir(locals()['__builtins__']))"
   ]
  },
  {
   "cell_type": "markdown",
   "id": "407e9b18-35e8-4c63-8e6d-56c816d36fdb",
   "metadata": {},
   "source": [
    "#### <span style=\"color:#B22222\">Common built-in exceptions</span>"
   ]
  },
  {
   "cell_type": "markdown",
   "id": "eb2a5ccc-e0ea-4e82-939b-1e243ddd753f",
   "metadata": {},
   "source": [
    "Some of the common built-in exceptions in Python along with the error that cause them are listed below:"
   ]
  },
  {
   "cell_type": "markdown",
   "id": "e74332b9-802c-4dce-9ddc-bbd482b56174",
   "metadata": {},
   "source": [
    "| **Exception**       | **Cause of Error**                                                                 |\r\n",
    "|---------------------|------------------------------------------------------------------------------------ |\r\n",
    "| `AttributeError`     | Raised when attribute assignment or reference fails.                             on.                    |\r\n",
    "| `ImportError`        | Raised when an imported module is not found.                                       |\r\n",
    "| `IndexError`         | Raised when the index of a sequence is out of range.                               |\r\n",
    "| `KeyError`           | Raised when a key is not found in a dictionary.                                    |\r\n",
    "| `KeyboardInterrupt`  | Raised when the user hits the interrupt key (Ctrl+C or Delete).                    |\r\n",
    "| `MemoryError`        | Raised when an operation runs out of memory.                                       |\r\n",
    "| `NameError`          | Raised when a variable is not found in local or global scope.             ed error.                     |\r\n",
    "| `RuntimeError`       | Raised when an error does not fall under any other category.             an itertor.        |\r\n",
    "| `SyntaxError`        | Raised by the parser when a syntax error is encountered.                           |\r\n",
    "| `IndentationError`   | Raised when there is incorrect indentation.                                        |\r\n",
    "| `TypeError`          | Raised when an operation or function is applied to an object of an incorrect type. |\r\n",
    "| `ValueError`         | Raised when a function gets an argument of the correct type but with an invalid value. |\r\n",
    "| `ZeroDivisionError`  | Raised when division or modulo operation is performed with zero as the divisor.    |\r\n"
   ]
  },
  {
   "cell_type": "markdown",
   "id": "c7f68cfe-5860-4dcc-a9ca-a3f972b536c7",
   "metadata": {},
   "source": [
    "Now that we understand what exceptions are, let's move on to learning how to handle them."
   ]
  },
  {
   "cell_type": "markdown",
   "id": "938201df-7e58-4cfa-9920-7486060dd0a6",
   "metadata": {},
   "source": [
    "## <span style=\"color:#4169E1\">Exception Handling</span>"
   ]
  },
  {
   "cell_type": "markdown",
   "id": "0485d873-65a0-40d3-b7a2-82e72049ea3e",
   "metadata": {},
   "source": [
    "Now that we know that exceptions can cause a program to terminate unexpectedly, it's important to understand how to handle them.  \n",
    "In Python, we can manage exceptions using the [**`try`...`except`**][t] block. The general syntax works as follows:\n",
    "```python\n",
    "try:\n",
    "    # code that may cause exception\n",
    "except:\n",
    "    # code to run when exception occures\n",
    "```\n",
    "\n",
    "Here, we have would place the code that might generate an exception inside the `try block`. Every `try block` is followed by an `except block`.  \n",
    "When an exception occurs, it is caught by the `except block`.urs\n",
    "\n",
    "[t]: https://www.geeksforgeeks.org/python-try-except/"
   ]
  },
  {
   "cell_type": "markdown",
   "id": "0933c130-6012-4983-8f3e-e0381d6b6b08",
   "metadata": {},
   "source": [
    "<div class=\"alert\" style=\"background-color: #ffecb3; color: #856404;\">\n",
    "    <b>Note</b> <br>\n",
    "The <code>except block</code><b>cannot</b> be used without the<code>try block</code>."
   ]
  },
  {
   "cell_type": "markdown",
   "id": "e1b379eb-0917-4d62-8326-2ca9174752cd",
   "metadata": {},
   "source": [
    "Now let's check a real example:"
   ]
  },
  {
   "cell_type": "code",
   "execution_count": null,
   "id": "94cfb499-f380-42e1-b898-f8231282308c",
   "metadata": {},
   "outputs": [],
   "source": [
    "try:\n",
    "    numerator: int = 10\n",
    "    denominator: int = 0\n",
    "\n",
    "    result: float = numerator/denominator\n",
    "\n",
    "    print(result)\n",
    "except:\n",
    "    print(\"Error: Denominator cannot be 0.\")"
   ]
  },
  {
   "cell_type": "markdown",
   "id": "1afc3cf2-4afc-473d-a5ed-ab4dc9c57a88",
   "metadata": {},
   "source": [
    "In the example above, we are trying to divide a number by 0. Here, this code generates an exception.  \n",
    "To handle the exception, we have put the code: \n",
    "```python\n",
    "result: float = numerator/denominator\n",
    "```\n",
    "inside the `try block`.   \n",
    "Now when an exception occurs, the rest of the code inside the try block is skipped. The `except block` catches the exception and statements inside the `except block` are executed. If none of the statements in the `try block` generates an exception, the `except block` is skipped."
   ]
  },
  {
   "cell_type": "markdown",
   "id": "180b8627-6b8a-4f2f-bd90-2fbaaae7dadf",
   "metadata": {},
   "source": [
    "#### <span style=\"color:#B22222\">Catching Specific Exceptions</span>"
   ]
  },
  {
   "cell_type": "markdown",
   "id": "2ca9d2a7-c304-4534-8128-ca242c58f971",
   "metadata": {},
   "source": [
    "For each `try block`, there can be zero or more `except blocks`. Multiple `except blocks` allow us to handle each exception differently.  \n",
    "The **argument type** of each `except block` indicates the type of exception that can be handled by it. For example:\n",
    "```python\n",
    "try:\n",
    "    \n",
    "    even_numbers = [2,4,6,8]\n",
    "    print(even_numbers[5])\n",
    "\n",
    "except ZeroDivisionError # here the argument type is ZeroDivisionErrorrror:\n",
    "    print(\"Denominator cannot be 0.\")\n",
    "    \n",
    "except IndexError # here the argument type is IndexErrorexError:\n",
    "    print(\"Index Out of\n",
    "```\n",
    "\n",
    "Let's break it down what is happening here.  \n",
    "We have created a list named `even_numbers`. As we already know, the list index starts from 0, the last element of the list, for this example, is at index 3. Notice the statement:\n",
    "```python\n",
    "print(even_numbers[5])\n",
    "```\n",
    "\n",
    "Here, we are trying to access a value to the index 5. Hence, `IndexError` exception occurs.  \n",
    "When the `IndexError` exception occurs in the try block:\n",
    "- The `ZeroDivisionError` exception is skipped.\n",
    "- The set of code inside the `IndexError` exception is executed.\n",
    " Bound.\")"
   ]
  },
  {
   "cell_type": "markdown",
   "id": "fdcd60c3-611e-4fac-b9bd-c44e9a90114c",
   "metadata": {},
   "source": [
    "What about this example?"
   ]
  },
  {
   "cell_type": "code",
   "execution_count": null,
   "id": "2ed9b549-1d22-4ba2-9823-8a8b3748a93a",
   "metadata": {},
   "outputs": [],
   "source": [
    "try:\n",
    "    number: int = int(\"not_a_number\")\n",
    "    print(number)\n",
    "\n",
    "except ValueError:\n",
    "    print(\"Error: Invalid input. Cannot convert to integer.\")\n",
    "\n",
    "except TypeError:\n",
    "    print(\"Error: Type mismatch encountered.\")"
   ]
  },
  {
   "cell_type": "markdown",
   "id": "819319b7-596d-45f1-a202-e8bbafa80b0e",
   "metadata": {},
   "source": [
    "<details>\n",
    "  <summary style=\"cursor: pointer; background-color: #d4edda; padding: 10px; border-radius: 5px; color: #155724; font-weight: bold;\">\n",
    "    Q: Why does the <code>ValueError</code> get triggered in this case, and how does the program handle this exception?\n",
    "  </summary>\n",
    "<div style=\"background-color: #f4fdf7; padding: 12px; margin-top: 8px; border-radius: 6px; border: 1px solid #b7e4c7; color: #155724;\">\n",
    "    The <code>ValueError</code> is triggered because the string <code>\"not_a_number\"</code> cannot be converted to an integer. The <code>try...except</code> block catches this error and prints the message: <code>\"Error: Invalid input. Cannot convert to integer.\"</code>\n",
    "  </div>\n",
    "</details>"
   ]
  },
  {
   "cell_type": "markdown",
   "id": "6e2ce827-c5e9-424d-bf8c-ecc14d4ed919",
   "metadata": {},
   "source": [
    "#### <span style=\"color:#B22222\">`try` with `except` and `else` clauses</span>"
   ]
  },
  {
   "cell_type": "markdown",
   "id": "6ded8e3c-a4f0-417e-93bd-4799bb92b7dd",
   "metadata": {},
   "source": [
    "In some situations, we might want to run a certain block of code if the code block inside `try` runs without any errors. For these cases, you can use the optional `else` keyword with the `try` statement.  \n",
    "Let's look at an example:\n",
    "\n",
    "```python\n",
    "# Program to divide two numbers\n",
    "\n",
    "try:\n",
    "    numerator: float = float(input(\"Enter the numerator: \"))\n",
    "    denominator: float = float(input(\"Enter the denominator: \"))\n",
    "    assert denominator != 0\n",
    "except AssertionError:\n",
    "    print(\"Denominator cannot be zero!\")\n",
    "else:\n",
    "    result = numerator / denominator\n",
    "    print(f\"Result of division: {result}\")\n",
    "```\n",
    "\n",
    "So what is happening here?  \n",
    "The code inside the `try block` attempts to get two numbers from the user and checks that the denominator is not zero using the `assert` statement. Then we have two options:\n",
    "- If the denominator is zero, an `AssertionError` is raised, and the message `\"Denominator cannot be zero!\"` is printed.\n",
    "- If no error occurs, the `else block` is executed, and the result of the division is printed.\n",
    "\n",
    "The `else block` ensures that the division is performed only when no exception has been raised."
   ]
  },
  {
   "cell_type": "markdown",
   "id": "f9008dea-5e64-4210-a8f0-3650399ed32a",
   "metadata": {},
   "source": [
    "<div class=\"alert\" style=\"background-color: #ffecb3; color: #856404;\">\n",
    "    <b>Note</b> <br>\n",
    "The <code>assert</code> statement is used to test if a condition is <code>True</code>. If the condition evaluates to <code>True</code>, the program continues executing normally.<br>  \n",
    "If the condition is <code>False</code>, an <code>AssertionError</code> is raised, and the program will stop unless the exception is handled."
   ]
  },
  {
   "cell_type": "markdown",
   "id": "2b3343dd-c683-48c6-bfe1-3708e2a90f39",
   "metadata": {},
   "source": [
    "Let's look at one more example! The program bellow tries to print the reciprocal of even numbers.  \n",
    "Remeber, the reciprocal of a number is simply 1 divided by that number, e.g. recirpocal(x) = 1/x."
   ]
  },
  {
   "cell_type": "code",
   "execution_count": null,
   "id": "bfaac4e1-6775-46eb-8493-3adecd2d9cae",
   "metadata": {},
   "outputs": [],
   "source": [
    "try:\n",
    "    num:int = int(input(\"Enter a number: \"))\n",
    "    assert num % 2 == 0\n",
    "except:\n",
    "    print(\"Not an even number!\")\n",
    "else:\n",
    "    reciprocal:float = 1/num\n",
    "    print(reciprocal)"
   ]
  },
  {
   "cell_type": "markdown",
   "id": "a1483233-0060-44fc-b5fe-e1c2f1ba2b46",
   "metadata": {},
   "source": [
    "Now we have 3 options:\n",
    "- we pass an odd number\n",
    "- we pass an even number\n",
    "- or?"
   ]
  },
  {
   "cell_type": "markdown",
   "id": "f529b205-6b72-4846-bf56-15680d83efcb",
   "metadata": {},
   "source": [
    "<details>\n",
    "  <summary style=\"cursor: pointer; background-color: #d4edda; padding: 10px; border-radius: 5px; color: #155724; font-weight: bold;\">\n",
    "    Q: What is the third option?\n",
    "  </summary>\n",
    "<div style=\"background-color: #f4fdf7; padding: 12px; margin-top: 8px; border-radius: 6px; border: 1px solid #b7e4c7; color: #155724;\">\n",
    "    Maybe a bit tricky, but remember that we can also pass <b>0</b>.\n",
    "  </div>\n",
    "</details>"
   ]
  },
  {
   "cell_type": "markdown",
   "id": "465b3647-7668-4516-afe7-65a5c8d2a762",
   "metadata": {},
   "source": [
    "If we pass an **odd** number:\n",
    "```python\n",
    "Enter a number: 1\n",
    "Not an even number\n",
    "```\n",
    "\n",
    "If we pass an **even number**, the reciprocal is computed and displayed.\n",
    "```python\n",
    "Enter a number: 4\n",
    "0.2\n",
    "```\n",
    "\n",
    "However, if we pass **0**, we get `ZeroDivisionError` as the code block inside else is not handled by preceding except.\n",
    "```python\n",
    "Enter a number: 0\n",
    "\n",
    "Traceback (most recent call last):\n",
    "  File \"<string>\", line 7, in <module>\n",
    "    reciprocal = 1/num\n",
    "ZeroDivisionError: division by \n",
    "```\n",
    "\n",
    "Here, the `assert` statement in the code checks that `num` is an even number; if `num` is odd, it raises an `AssertionError`, triggering the except block!"
   ]
  },
  {
   "cell_type": "markdown",
   "id": "3f2676b2-a26e-4d5a-b621-2e19352a919a",
   "metadata": {},
   "source": [
    "<div class=\"alert\" style=\"background-color: #ffecb3; color: #856404;\">\n",
    "    <b>Note</b> <br>\n",
    "Exceptions in the <code>else clause</code> are <b>not</b> handled by the preceding <code>except clauses</code>."
   ]
  },
  {
   "cell_type": "markdown",
   "id": "97e706f0-90b3-4729-b155-ebd002e4f3c0",
   "metadata": {},
   "source": [
    "#### <span style=\"color:#B22222\">`try` with `except` and `finally` clauses</span>"
   ]
  },
  {
   "cell_type": "markdown",
   "id": "ee7745d1-7ba1-4bd4-bd0e-2c7b7184a7cb",
   "metadata": {},
   "source": [
    "There is one more noteworthy thing, we can also add a `finally` clasue instead of the `else` clause. \n",
    "\n",
    "The `finally block` is **always** executed no matter whether there is an exception or not. This makes it useful for tasks like cleaning up resources (e.g., closing files, releasing memory, etc.), which must be done regardless of success or failure.   \n",
    "The `finally block` is **optional**. \n",
    "For **each** `try block`, there can be **only one** `finally block`. \n",
    "\n",
    "Let's see an example:\n",
    "```python\n",
    "\n",
    "try:\n",
    "    numerator: float = float(input(\"Enter the numerator: \"))\n",
    "    denominator: float = float(input(\"Enter the denominator: \"))\n",
    "    result: float = numerator / denominator\n",
    "except ZeroDivisionError:\n",
    "    print(\"You can't divide by zero!\")\n",
    "else:\n",
    "    print(f\"Result: {result}\")\n",
    "finally:\n",
    "    print(\"Execution finished, cleaning up...\")\n",
    "```\n",
    "\n",
    "Again, we have two options:\n",
    "\n",
    "- If an exception is raised (e.g., division by zero), the appropriate error message is displayed, **but the finally block still executes**.\n",
    "- If no exceptions are raised, the result of the division is printed, and **the finally block is executed**.\n",
    "\n",
    "Notice how in both cases the code inside the finally clause is excecuted."
   ]
  },
  {
   "cell_type": "markdown",
   "id": "6f102807-0238-452d-862b-b6f527d1bfa1",
   "metadata": {},
   "source": [
    "What about this program bellow?"
   ]
  },
  {
   "cell_type": "code",
   "execution_count": null,
   "id": "1c943ac7-0863-49f6-b6d7-93b19b8c8941",
   "metadata": {},
   "outputs": [],
   "source": [
    "import math # so we can use the sqrt method\n",
    "\n",
    "try:\n",
    "    number: float = float(input(\"Enter a positive number: \"))\n",
    "    if number < 0:\n",
    "        raise ValueError(\"Number must be positive!\")\n",
    "    result = math.sqrt(number)\n",
    "except ValueError as e:\n",
    "    print(e)\n",
    "else:\n",
    "    print(f\"The square root of {number} is {result:.2f}\")\n",
    "finally:\n",
    "    print(\"Execution complete. Thank you!\")"
   ]
  },
  {
   "cell_type": "markdown",
   "id": "21e3cb50-6d8d-4961-a09e-6c9500134795",
   "metadata": {},
   "source": [
    "<details>\n",
    "  <summary style=\"cursor: pointer; background-color: #d4edda; padding: 10px; border-radius: 5px; color: #155724; font-weight: bold;\">\n",
    "    Q: What does the above program do?\n",
    "  </summary>\n",
    "<div style=\"background-color: #f4fdf7; padding: 12px; margin-top: 8px; border-radius: 6px; border: 1px solid #b7e4c7; color: #155724;\">\n",
    "    Yes exactly! It calculates the square root of a number.\n",
    "  </div>\n",
    "</details>"
   ]
  },
  {
   "cell_type": "markdown",
   "id": "a2671148-d6e5-47fb-9af7-6f3c909657a6",
   "metadata": {},
   "source": [
    "One more question...."
   ]
  },
  {
   "cell_type": "markdown",
   "id": "80de22e6-a492-46f8-aaed-f4cec9229639",
   "metadata": {},
   "source": [
    "<details>\n",
    "  <summary style=\"cursor: pointer; background-color: #d4edda; padding: 10px; border-radius: 5px; color: #155724; font-weight: bold;\">\n",
    "    Q: What will happen if the user enters a negative number?\n",
    "  </summary>\n",
    "<div style=\"background-color: #f4fdf7; padding: 12px; margin-top: 8px; border-radius: 6px; border: 1px solid #b7e4c7; color: #155724;\">\n",
    "    If the user enters a negative number, a <code>ValueError</code> will be raised, and the message <code>\"Number must be positive!\"</code> will be printed. <br>\n",
    "    The <b>finally block</b> will still execute, printing <code>\"Execution complete. Thank you!\"</code>\n",
    "  </div>\n",
    "</details>\n",
    "\n"
   ]
  },
  {
   "cell_type": "markdown",
   "id": "03295d10-a28f-4fd0-9206-ad39ddd4947e",
   "metadata": {},
   "source": [
    "## <span style=\"color:#4169E1\">Custom Exceptions (Optional)</span>"
   ]
  },
  {
   "cell_type": "markdown",
   "id": "605e516b-4494-4d44-ab43-a9ed583a86ca",
   "metadata": {},
   "source": [
    "So far we have seen what exceptions are, what are the most common built-in exceptions and how to use the `try`... `except`...`else`/`finally` clauses.  \n",
    "However, sometimes we need to define exceptions tailored for our code. In these cases, it is very likely that no built-in exceptions will suffice. But don't worry, we can write our own **custom exceptions**!\n",
    "\n",
    "Buckle up and let's see how to do that! (**NOTE**: creating custom exceptions requires knowledge that we have not discussed yet)"
   ]
  },
  {
   "cell_type": "markdown",
   "id": "e68486b4-4621-4d3d-82e3-80d2de1c4ca0",
   "metadata": {},
   "source": [
    "#### <span style=\"color:#B22222\">Defining Custom Exceptions\n",
    "</span>"
   ]
  },
  {
   "cell_type": "markdown",
   "id": "4a1d501f-8d45-4366-a437-aa3e920ec834",
   "metadata": {},
   "source": [
    "As mentioned before, we can define custom exceptions. To do so, we need to create a new class that is derived from the built-in Exception class. ( we will learn about classes in Notebook 14)  \n",
    "Here's the syntax to define custom exceptions,\n",
    "```python\n",
    "class CustomError(Exception):\n",
    "    ...\n",
    "    pass\n",
    "\n",
    "try:\n",
    "   ...\n",
    "\n",
    "except CustomError:\n",
    "    ...\n",
    "```\n",
    "\n",
    "Here, `CustomError` is a user-defined error which inherits from the Exception class."
   ]
  },
  {
   "cell_type": "markdown",
   "id": "a38d410d-816d-4115-9c01-30c64b267cc3",
   "metadata": {},
   "source": [
    "Lastly, let's look at a specific example where we use a costum exception:"
   ]
  },
  {
   "cell_type": "code",
   "execution_count": null,
   "id": "52f4218a-9569-4a40-8551-dad3e547a811",
   "metadata": {},
   "outputs": [],
   "source": [
    "# Define a custom exception\n",
    "class InsufficientFundsException(Exception):\n",
    "    \"Raised when an account has insufficient funds for a transaction\"\n",
    "    pass\n",
    "\n",
    "# Example account balance\n",
    "account_balance = 1000\n",
    "\n",
    "try:\n",
    "    withdrawal_amount = float(input(\"Enter amount to withdraw: \"))\n",
    "    if withdrawal_amount > account_balance:\n",
    "        raise InsufficientFundsException\n",
    "    else:\n",
    "        account_balance -= withdrawal_amount\n",
    "        print(f\"Withdrawal successful! New balance: ${account_balance:.2f}\")\n",
    "        \n",
    "except InsufficientFundsException:\n",
    "    print(\"Exception occurred: Insufficient funds for this transaction.\")\n"
   ]
  },
  {
   "cell_type": "markdown",
   "id": "09c9b9eb-a41e-4115-a015-41181bb72861",
   "metadata": {},
   "source": [
    "In the above example, we have defined the custom exception `InsufficientFundsException` by creating a new class that is derived from the built-in `Exception` class.\n",
    "\n",
    "- Here, when `withdrawal_amount` is greater than the `account_balance`, this code raises an exception by using `raise InsufficientFundsException`.\n",
    "\n",
    "- When an exception occurs, the rest of the code inside the `try` block is skipped.\n",
    "\n",
    "- The `except` block catches the user-defined `InsufficientFundsException` exception, and the statements inside the `except` block are executed, printing the message `\"Exception occurred: Insufficient funds for this transaction.\"`"
   ]
  },
  {
   "cell_type": "markdown",
   "id": "d4652109-a358-4141-9a94-dc01c36e8e98",
   "metadata": {},
   "source": [
    "For more infromation about how to define and apply custom exceptions visit [**this site**][s].\n",
    "\n",
    "[s]: https://www.geeksforgeeks.org/define-custom-exceptions-in-python/"
   ]
  },
  {
   "cell_type": "markdown",
   "id": "8cc1d911-6d0d-4478-a1b4-51dfb6fdddff",
   "metadata": {
    "tags": []
   },
   "source": [
    "<h2 style=\"color:#3CB371\">Exercises</h2>"
   ]
  },
  {
   "cell_type": "markdown",
   "id": "228c35ab-de13-4287-8615-5fdeba23d3cc",
   "metadata": {},
   "source": [
    "Let's practice! Mind that each exercise is designed with multiple levels to help you progressively build your skills. <span style=\"color:darkorange;\"><strong>Level 1</strong></span> is the foundational level, designed to be straightforward so that everyone can successfully complete it. In <span style=\"color:darkorange;\"><strong>Level 2</strong></span>, we step it up a notch, expecting you to use more complex concepts or combine them in new ways. Finally, in <span style=\"color:darkorange;\"><strong>Level 3</strong></span>, we get closest to exam level questions, but we may use some concepts that are not covered in this notebook. However, in programming, you often encounter situations where you’re unsure how to proceed. Fortunately, you can often solve these problems by starting to work on them and figuring things out as you go. Practicing this skill is extremely helpful, so we highly recommend completing these exercises.\n",
    "\n",
    "For each of the exercises, make sure to add a `docstring` and `type hints`, and **do not** import any libraries unless specified otherwise.\n",
    "<br>"
   ]
  },
  {
   "cell_type": "markdown",
   "id": "a06ecdbd-2929-432b-86b6-2a3eabade84d",
   "metadata": {},
   "source": [
    "### Exercise 1: Halloween\n",
    "\n",
    "<span style=\"color:darkorange;\"><strong>Level 1</strong>:</span> Write a function named `ghostly_division()` that prompts the user to enter a number and divides 100 by that number. Handle a `ZeroDivisionError` exception if the user tries to divide by zero.  \n",
    "If the user enters zero, print a spooky message: `\"Ghosts can't divide by zero!\"` Otherwise, print the result of the division.\n",
    "\n",
    "**Example input:**\n",
    "\n",
    "```python\n",
    "Enter a number: 25\n",
    "Enter a number: 0\n",
    "\n",
    "```\n",
    "\n",
    "**Example output:**\n",
    "\n",
    "```python\n",
    "'The ghost says: 100 divided by 25 is 4.0!'\n",
    "'Ghosts can't divide by zero!'\n",
    "```\n",
    "```"
   ]
  },
  {
   "cell_type": "code",
   "execution_count": null,
   "id": "3a120f46-07d3-4ecc-a42d-f2c45bb80d7b",
   "metadata": {},
   "outputs": [],
   "source": [
    "# TODO."
   ]
  },
  {
   "cell_type": "markdown",
   "id": "81629ad1-506a-4372-a861-c988df52095d",
   "metadata": {},
   "source": [
    "<span style=\"color:darkorange;\"><strong>Level 2</strong>:</span> Modify the program to allow the user to keep entering numbers until they decide to quit by entering 'q'.   \n",
    "Handle `ZeroDivisionError` and any invalid inputs.\n",
    "\n",
    "**Example input:**\n",
    "```python\n",
    "Enter a number to divide 100 (or q to quit): 10\n",
    "Enter a number to divide 100 (or q to quit): q\n",
    "```\n",
    "\n",
    "**Example output:**\n",
    "\n",
    "```python\n",
    "'The ghost says: 100 divided by 10 is 10.0!'\n",
    "'The ghosts will haunt you no more!'\n",
    "```"
   ]
  },
  {
   "cell_type": "code",
   "execution_count": null,
   "id": "398c7cb0-7894-4050-a51c-66fa6d801c6f",
   "metadata": {},
   "outputs": [],
   "source": [
    "# TODO."
   ]
  },
  {
   "cell_type": "markdown",
   "id": "47b3c3d0-c0ce-4342-8bc5-95644d2a602e",
   "metadata": {},
   "source": [
    "<span style=\"color:darkorange;\"><strong>Level 3</strong>:</span> Enhance the program by counting the number of successful divisions and reporting it when the user decides to quit.\n",
    "\n",
    "**Example input:** you pass this in a function call.\n",
    "\n",
    "```python\n",
    "Enter a number to divide 100 (or q to quit): 5\n",
    "Enter a number to divide 100 (or q to quit): 0\n",
    "Enter a number to divide 100 (or q to quit): q\n",
    "```\n",
    "\n",
    "**Example output:**\n",
    "\n",
    "```python\n",
    "'The ghost says: 100 divided by 5 is 20.0!'\n",
    "'Ghosts can't divide by zero!'\n",
    "'The ghost says: You made 1 successful division(s)!'\n",
    "```"
   ]
  },
  {
   "cell_type": "code",
   "execution_count": null,
   "id": "8af6e61b-4cde-4352-af8a-d1c271ee39e1",
   "metadata": {},
   "outputs": [],
   "source": [
    "# TODO."
   ]
  },
  {
   "cell_type": "markdown",
   "id": "ecc9e959-bc85-4023-8744-f9e050805272",
   "metadata": {},
   "source": [
    "### Exercise 2: Handball\n",
    "\n",
    "<span style=\"color:darkorange;\"><strong>Level 1</strong>:</span> Create a function named `ball_catch()` that prompts the user to input their catching skill level (a number between 1 and 10).  \n",
    "- Raise a `ValueError` if the input is out of range. \n",
    "- If the input is valid, print a message indicating that the catch was successful.\n",
    "\n",
    "**Example input:**\n",
    "\n",
    "```python\n",
    "Enter your catching skill level (1-10): 8\n",
    "Enter your catching skill level (1-10): 12\n",
    "```\n",
    "\n",
    "**Example output:**\n",
    "\n",
    "```python\n",
    "'Your skill level is 8. You caught the ball successfully!'\n",
    "'Skill level must be between 1 and 10.'\n",
    "```"
   ]
  },
  {
   "cell_type": "code",
   "execution_count": 33,
   "id": "a702d1dc-1092-4908-afcf-653684d0e684",
   "metadata": {},
   "outputs": [],
   "source": [
    "# TODO."
   ]
  },
  {
   "cell_type": "markdown",
   "id": "212f290e-f510-41d3-9edd-f56af3e2cd31",
   "metadata": {},
   "source": [
    "<span style=\"color:darkorange;\"><strong>Level 2</strong>:</span> Modify the program to ask the user to input a number of attempts (between 1 and 5) for catching the ball.   \n",
    "For each attempt, **randomly generate** (use the random module) a skill level from 1 to 10.   \n",
    "Print a message for each attempt, indicating whether they caught the ball or not based on the randomly generated skill level.   \n",
    "Handle invalid inputs accordingly.\n",
    "\n",
    "**Example input:**\n",
    "\n",
    "```python\n",
    "Enter the number of attempts (1-5): 3\n",
    "\n",
    "Enter the number of attempts (1-5): 7\n",
    "\n",
    "```\n",
    "\n",
    "**Example output:**\n",
    "\n",
    "```python\n",
    "'Attempt 1: Your skill level is 4. You caught the ball successfully!'\n",
    "'Attempt 2: Your skill level is 7. You caught the ball successfully!'\n",
    "'Attempt 3: Your skill level is 2. You missed the catch!'\n",
    "\n",
    "'Please enter a number between 1 and 5.'\n",
    "```"
   ]
  },
  {
   "cell_type": "code",
   "execution_count": null,
   "id": "3d0f917e-bef7-4eea-90ec-ec9a1e9307e2",
   "metadata": {},
   "outputs": [],
   "source": [
    "# TODO."
   ]
  },
  {
   "cell_type": "markdown",
   "id": "419dccc1-a53a-41bc-bc7d-d8306e9299a2",
   "metadata": {},
   "source": [
    "<span style=\"color:darkorange;\"><strong>Level 3</strong>:</span> Extend the program to calculate the total number of successful catches and the total attempts made.   \n",
    "After all attempts:\n",
    "- print the total successful catches\n",
    "- and the success rate as a percentage.\n",
    "\n",
    "**Example input:** you pass this in a function call.\n",
    "\n",
    "```python\n",
    "Enter the number of attempts (1-5): 4\n",
    "```\n",
    "\n",
    "**Example output:**\n",
    "\n",
    "```python\n",
    "'Attempt 1: Your skill level is 6. You caught the ball successfully!'\n",
    "'Attempt 2: Your skill level is 8. You caught the ball successfully!'\n",
    "'Attempt 3: Your skill level is 3. You missed the catch!'\n",
    "'Attempt 4: Your skill level is 5. You caught the ball successfully!'\n",
    "'Total successful catches: 3'\n",
    "'Success rate: 75.0%'\n",
    "```"
   ]
  },
  {
   "cell_type": "code",
   "execution_count": null,
   "id": "a73877de-7f09-4a36-9801-a95bc05f262b",
   "metadata": {},
   "outputs": [],
   "source": [
    "# TODO."
   ]
  },
  {
   "cell_type": "markdown",
   "id": "6ccbad8a-1458-4f24-b60b-7a5b6fb13a77",
   "metadata": {},
   "source": [
    "### Exercise 3: Exotic Animals\n",
    "\n",
    "<span style=\"color:darkorange;\"><strong>Level 1</strong>:</span> Write a function named `exotic_animal()` that prompts the user to enter the name of an exotic animal. \n",
    "- Raise a `TypeError` if the input is not a string.\n",
    "- Print a message describing the animal.\n",
    "\n",
    "**Example input:**\n",
    "\n",
    "```python\n",
    "Enter the name of an exotic animal: Jaguar\n",
    "Enter the name of an exotic animal: 123\n",
    "\n",
    "```\n",
    "\n",
    "**Example output:**\n",
    "\n",
    "```python\n",
    "'You encountered a wild Jaguar in the jungle!'\n",
    "'The animal name must be a string.'\n",
    "\n",
    "```"
   ]
  },
  {
   "cell_type": "code",
   "execution_count": null,
   "id": "cbc898d6-a65d-405e-b35d-a7fa8b83c99d",
   "metadata": {},
   "outputs": [],
   "source": [
    "# TODO."
   ]
  },
  {
   "cell_type": "markdown",
   "id": "6ea8239f-0fcc-4173-97c0-0396e8113a00",
   "metadata": {},
   "source": [
    "<span style=\"color:darkorange;\"><strong>Level 2</strong>:</span> Modify the program to allow the user to input multiple animal names until they enter `'stop'`. (but still prevent the `TypeError`)  \n",
    "Instead of just printing a description, categorize animals into three groups: mammals, reptiles, or birds.  \n",
    "Ask the user to specify the category for each animal and store the counts for each category.  \n",
    "\n",
    "**Example input:**\n",
    "\n",
    "```python\n",
    "Enter the name of an exotic animal (or 'stop' to finish): Parrot\n",
    "What type of animal is it? (mammal/reptile/bird): bird\n",
    "\n",
    "Enter the name of an exotic animal (or 'stop' to finish): Crocodile\n",
    "What type of animal is it? (mammal/reptile/bird): reptile\n",
    "\n",
    "Enter the name of an exotic animal (or 'stop' to finish): stop\n",
    "```\n",
    "\n",
    "**Example output:**\n",
    "\n",
    "```python\n",
    "'You encountered a wild Parrot in the jungle! (Bird)'\n",
    "\n",
    "'You encountered a wild Crocodile in the jungle! (Reptile)'\n",
    "\n",
    "'Thanks for exploring the jungle!'\n",
    "```"
   ]
  },
  {
   "cell_type": "code",
   "execution_count": null,
   "id": "7354c522-0713-4137-bfb2-d4010d61dc48",
   "metadata": {},
   "outputs": [],
   "source": [
    "# TODO."
   ]
  },
  {
   "cell_type": "markdown",
   "id": "f2b698e6-8124-4227-a24a-63f6fbaf6f8c",
   "metadata": {},
   "source": [
    " <span style=\"color:darkorange;\"><strong>Level 3</strong>:</span> Enhance the program to require users to define a **custom exception** named `InvalidAnimalTypeError` for handling invalid animal types.  \n",
    " The program should prompt the user to enter multiple exotic animal names, allowing only valid types: `\"mammal,\"` `\"reptile,\"` or `\"bird.\"`   \n",
    " If the user enters an invalid type, raise the custom exception.   \n",
    " When the user finishes inputting animal names, print the total counts for each category.\n",
    "\n",
    "**Example input:**\n",
    " \n",
    " ```python\n",
    "Enter the name of an exotic animal (or 'stop' to finish): Giraffe\n",
    "What type of animal is it? (mammal/reptile/bird): mammal\n",
    "\n",
    "Enter the name of an exotic animal (or 'stop' to finish): Eagle\n",
    "What type of animal is it? (mammal/reptile/bird): bird\n",
    "\n",
    "Enter the name of an exotic animal (or 'stop' to finish): Crocodile\n",
    "What type of animal is it? (mammal/reptile/bird): fish\n",
    "\n",
    "Enter the name of an exotic animal (or 'stop' to finish): stop\n",
    "```\n",
    "\n",
    "**Example output:**\n",
    "\n",
    "```python\n",
    "'You encountered a wild Giraffe in the jungle! (Mammal)' \n",
    "\n",
    "'You encountered a wild Eagle in the jungle! (Bird)'\n",
    "\n",
    "'InvalidAnimalTypeError: fish is not a valid animal type. Please enter mammal, reptile, or bird.'\n",
    "\n",
    "'Total animals encountered:'\n",
    "'Mammals: 1'\n",
    "'Reptiles: 0'\n",
    "'Birds: 1'\n",
    "```"
   ]
  },
  {
   "cell_type": "code",
   "execution_count": null,
   "id": "bfb08f9b-43f1-46ff-86a3-7d0d1b0ef3f6",
   "metadata": {},
   "outputs": [],
   "source": [
    "# TODO."
   ]
  },
  {
   "cell_type": "markdown",
   "id": "2025748c-0a93-47b2-9c74-bcb3edec9aee",
   "metadata": {},
   "source": [
    "___________________________________________________________________________________________________________________________\n",
    "\n",
    "*Material for the VU Amsterdam course “Introduction to Python Programming” for BSc Artificial Intelligence students. These notebooks are created using the following sources:*\n",
    "1. [Learning Python by Doing][learning python]: This book, developed by teachers of TU/e Eindhoven and VU Amsterdam, is the main source for the course materials. Code snippets or text explanations from the book may be used in the notebooks, sometimes with slight adjustments.\n",
    "2. [Think Python][think python]\n",
    "3. [GeekForGeeks][geekforgeeks]\n",
    "\n",
    "[learning python]: https://programming-pybook.github.io/introProgramming/intro.html\n",
    "[think python]: https://greenteapress.com/thinkpython2/html/\n",
    "[geekforgeeks]: https://www.geeksforgeeks.org"
   ]
  }
 ],
 "metadata": {
  "kernelspec": {
   "display_name": "Python 3 (ipykernel)",
   "language": "python",
   "name": "python3"
  },
  "language_info": {
   "codemirror_mode": {
    "name": "ipython",
    "version": 3
   },
   "file_extension": ".py",
   "mimetype": "text/x-python",
   "name": "python",
   "nbconvert_exporter": "python",
   "pygments_lexer": "ipython3",
   "version": "3.11.4"
  }
 },
 "nbformat": 4,
 "nbformat_minor": 5
}

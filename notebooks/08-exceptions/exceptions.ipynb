{
 "cells": [
  {
   "cell_type": "markdown",
   "id": "fd6fdd4a-e8ba-45cf-833b-051948f60d0b",
   "metadata": {},
   "source": [
    "# Exceptions"
   ]
  },
  {
   "cell_type": "markdown",
   "id": "488f62ad-b1ef-4abc-9488-eb5026639c7d",
   "metadata": {},
   "source": [
    "**In this notebook, we cover the following subjects:**\n",
    "- TODO.\n",
    "___________________________________________________________________________________________________________________________"
   ]
  },
  {
   "cell_type": "code",
   "execution_count": null,
   "id": "668eb34f-e61a-4010-93b4-f954f567d44f",
   "metadata": {
    "tags": []
   },
   "outputs": [],
   "source": [
    "# To enable type hints for lists, dicts, tuples, and sets we need to import the following:\n",
    "from typing import List, Dict, Tuple, Set"
   ]
  },
  {
   "cell_type": "markdown",
   "id": "fa4a762b-497b-4eb6-b9ba-458e24d376ee",
   "metadata": {
    "tags": []
   },
   "source": [
    "<h2 style=\"color:#4169E1\">A Section Title</h2>"
   ]
  },
  {
   "cell_type": "markdown",
   "id": "407e9b18-35e8-4c63-8e6d-56c816d36fdb",
   "metadata": {},
   "source": [
    "<h4 style=\"color:#B22222\">A Subsection Title</h4>"
   ]
  },
  {
   "cell_type": "markdown",
   "id": "78ba71b6-8bbf-4f9e-891e-4fd43bd4799f",
   "metadata": {},
   "source": [
    "Example code:\n",
    "\n",
    "``` python\n",
    "class Person:\n",
    "    def __init__(self, name, age):\n",
    "        self.name = name  # Attribute: name\n",
    "        self.age = age    # Attribute: age\n",
    "```"
   ]
  },
  {
   "cell_type": "markdown",
   "id": "819319b7-596d-45f1-a202-e8bbafa80b0e",
   "metadata": {},
   "source": [
    "<details>\n",
    "  <summary style=\"cursor: pointer; background-color: #d4edda; padding: 10px; border-radius: 5px; color: #155724; font-weight: bold;\">\n",
    "    Q: A Question?\n",
    "  </summary>\n",
    "<div style=\"background-color: #f4fdf7; padding: 12px; margin-top: 8px; border-radius: 6px; border: 1px solid #b7e4c7; color: #155724;\">\n",
    "    An answer.\n",
    "  </div>\n",
    "</details>"
   ]
  },
  {
   "cell_type": "markdown",
   "id": "079bfdbb-bafa-46dd-8b4c-8cd919b67ed4",
   "metadata": {},
   "source": [
    "<div class=\"alert\" style=\"background-color: #ffecb3; color: #856404;\">\n",
    "    <b>Note</b> <br>\n",
    "The body of the note."
   ]
  },
  {
   "cell_type": "markdown",
   "id": "8cc1d911-6d0d-4478-a1b4-51dfb6fdddff",
   "metadata": {
    "tags": []
   },
   "source": [
    "<h2 style=\"color:#3CB371\">Exercises</h2>"
   ]
  },
  {
   "cell_type": "markdown",
   "id": "228c35ab-de13-4287-8615-5fdeba23d3cc",
   "metadata": {},
   "source": [
    "Let's practice! Mind that each exercise is designed with multiple levels to help you progressively build your skills. <span style=\"color:darkorange;\"><strong>Level 1</strong></span> is the foundational level, designed to be straightforward so that everyone can successfully complete it. In <span style=\"color:darkorange;\"><strong>Level 2</strong></span>, we step it up a notch, expecting you to use more complex concepts or combine them in new ways. Finally, in <span style=\"color:darkorange;\"><strong>Level 3</strong></span>, we get closest to exam level questions, but we may use some concepts that are not covered in this notebook. However, in programming, you often encounter situations where you’re unsure how to proceed. Fortunately, you can often solve these problems by starting to work on them and figuring things out as you go. Practicing this skill is extremely helpful, so we highly recommend completing these exercises.\n",
    "\n",
    "For each of the exercises, make sure to add a `docstring` and `type hints`, and **do not** import any libraries unless specified otherwise.\n",
    "<br>"
   ]
  },
  {
   "cell_type": "markdown",
   "id": "f1fddbcc-a8e3-43a6-8ba2-655cf5479367",
   "metadata": {
    "tags": []
   },
   "source": [
    "### Exercise 1\n",
    "\n",
    "<span style=\"color:darkorange;\"><strong>Level 1</strong>:</span> Description.\n",
    "\n",
    "**Example input**: you pass this argument to the parameter in the function call.\n",
    "\n",
    "```python\n",
    "some code\n",
    "\n",
    "```\n",
    "**Example output**:\n",
    "```\n",
    "some output\n",
    "```"
   ]
  },
  {
   "cell_type": "code",
   "execution_count": null,
   "id": "3a120f46-07d3-4ecc-a42d-f2c45bb80d7b",
   "metadata": {},
   "outputs": [],
   "source": []
  },
  {
   "cell_type": "markdown",
   "id": "2025748c-0a93-47b2-9c74-bcb3edec9aee",
   "metadata": {},
   "source": [
    "___________________________________________________________________________________________________________________________\n",
    "\n",
    "*Material for the VU Amsterdam course “Introduction to Python Programming” for BSc Artificial Intelligence students. These notebooks are created using the following sources:*\n",
    "1. [Learning Python by Doing][learning python]: This book, developed by teachers of TU/e Eindhoven and VU Amsterdam, is the main source for the course materials. Code snippets or text explanations from the book may be used in the notebooks, sometimes with slight adjustments.\n",
    "2. [Think Python][think python]\n",
    "3. [GeekForGeeks][geekforgeeks]\n",
    "\n",
    "[learning python]: https://programming-pybook.github.io/introProgramming/intro.html\n",
    "[think python]: https://greenteapress.com/thinkpython2/html/\n",
    "[geekforgeeks]: https://www.geeksforgeeks.org"
   ]
  }
 ],
 "metadata": {
  "kernelspec": {
   "display_name": "Python 3 (ipykernel)",
   "language": "python",
   "name": "python3"
  },
  "language_info": {
   "codemirror_mode": {
    "name": "ipython",
    "version": 3
   },
   "file_extension": ".py",
   "mimetype": "text/x-python",
   "name": "python",
   "nbconvert_exporter": "python",
   "pygments_lexer": "ipython3",
   "version": "3.11.5"
  }
 },
 "nbformat": 4,
 "nbformat_minor": 5
}

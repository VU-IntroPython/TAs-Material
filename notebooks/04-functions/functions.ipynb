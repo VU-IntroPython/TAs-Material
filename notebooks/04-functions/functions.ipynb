{
 "cells": [
  {
   "cell_type": "markdown",
   "id": "9a6620f3-1871-4fce-80ef-ce1738688832",
   "metadata": {},
   "source": [
    "# Functions"
   ]
  },
  {
   "cell_type": "markdown",
   "id": "8bda3a38-cdc1-46cf-ae5f-9ec05040f263",
   "metadata": {},
   "source": [
    "*Material for the VU Amsterdam course “Introduction to Python Programming” for BSc Artificial Intelligence students. These notebooks are created using the following sources:*\n",
    "1. [Learning Python by Doing][learning python]: This book, developed by teachers of TU/e Eindhoven and VU Amsterdam, is the main source for the course materials. Code snippets or text explanations from the book may be used in the notebooks, sometimes with slight adjustments.\n",
    "2. [Think Python][think python]\n",
    "3. [GeekForGeeks][geekforgeeks]\n",
    "\n",
    "[learning python]: https://programming-pybook.github.io/introProgramming/intro.html\n",
    "[think python]: https://greenteapress.com/thinkpython2/html/\n",
    "[geekforgeeks]: https://www.geeksforgeeks.org\n",
    "\n",
    "**In this notebook, we cover the following subjects:**\n",
    "- Function Calls;\n",
    "- Modules;\n",
    "- Creating Functions;\n",
    "- Functions in Functions.\n",
    "___________________________________________________________________________________________________________________________"
   ]
  },
  {
   "cell_type": "markdown",
   "id": "ccf24171-e351-4b9f-8715-447b9d85ed24",
   "metadata": {},
   "source": [
    "<h2 style=\"color:#4169E1\">Function Calls</h2>\n",
    "\n",
    "**Functions** let us execute processes multiple times without repeating the code. Unlike iterative loops, we can call the function whenever we want to run a specific sequence of code. Plus, we can use **parameters** to run the same process with different values for certain variables.\n",
    "\n",
    "Before we will construct our own functions, we touch upon **function calls** first. Luckily, these aren’t new to you, and you have already used them multiple times by now. A function call is when you run a function in your code, for example:"
   ]
  },
  {
   "cell_type": "code",
   "execution_count": null,
   "id": "bda8dbc6-2bfc-422a-ac06-7a1d7cb3013a",
   "metadata": {
    "tags": []
   },
   "outputs": [],
   "source": [
    "type(\"animal\")"
   ]
  },
  {
   "cell_type": "markdown",
   "id": "b3638e42-0707-44db-ab6d-38b236a8ec4f",
   "metadata": {
    "tags": []
   },
   "source": [
    "In this example, the name of the function is `type`. The **expression** in parentheses is called the **argument** of the function. The result, for this function, is the type of the argument. \n",
    "\n",
    "It is common to say that a function “takes” an argument and “returns” a result. The result is called the **return value**."
   ]
  },
  {
   "cell_type": "markdown",
   "id": "53e7c893-5984-4f4e-a168-758369bce8d4",
   "metadata": {},
   "source": [
    "<h2 style=\"color:#4169E1\">Built-In Functions</h2>\n"
   ]
  },
  {
   "cell_type": "markdown",
   "id": "14c40332-f9e0-4399-8dea-5d0885493951",
   "metadata": {},
   "source": [
    "The `type` function is one of the many [built-in functions][built-in] in Python that you can use for free. Explore the others yourself.\n",
    "\n",
    "[built-in]:https://programming-pybook.github.io/introProgramming/chapters/functions.html#built-in-functions"
   ]
  },
  {
   "cell_type": "code",
   "execution_count": 15,
   "id": "72dea4dc-abe0-4c34-a57c-b13d45eba667",
   "metadata": {
    "tags": []
   },
   "outputs": [
    {
     "name": "stdout",
     "output_type": "stream",
     "text": [
      "The type function: <class 'int'>\n",
      "A type casting functions: 67\n",
      "The length function: 4\n"
     ]
    }
   ],
   "source": [
    "# Simple examples of pre-defined functions\n",
    "\n",
    "variable: int = 67\n",
    "list1: list[int] = [1,2,3,4]\n",
    "print(f\"The type function: {type(variable)}\")\n",
    "print(f\"A type casting functions: {str(variable)}\")\n",
    "print(f\"The length function: {len(list1)}\")"
   ]
  },
  {
   "cell_type": "markdown",
   "id": "15d2aa99-9374-46ba-a9f6-93eaf2d3ed73",
   "metadata": {},
   "source": [
    "<h2 style=\"color:#4169E1\">Modules</h2>\n",
    "\n",
    "Another way of providing predefined functions is via modules. A **module** is a file that contains a collection of related functions."
   ]
  },
  {
   "cell_type": "markdown",
   "id": "0b969491-4466-471e-85f6-597e42864fbd",
   "metadata": {},
   "source": [
    "<h4 style=\"color:#B22222\">Math Module</h4>\n",
    "\n",
    "To do advanced mathematical operations, one can import the **math module**. It's a standard library, meaning it’s available in any Python installation by default, and allows us to use a bunch of **mathematical functions** and **constants**. To import the math module, run the following cell."
   ]
  },
  {
   "cell_type": "code",
   "execution_count": null,
   "id": "1c36e652-f262-4172-91a0-208194285ab1",
   "metadata": {},
   "outputs": [],
   "source": [
    "import math"
   ]
  },
  {
   "cell_type": "markdown",
   "id": "65ceb797-b9a3-4810-aa88-462aa32a3b0e",
   "metadata": {},
   "source": [
    "To access a function or constant you use a **dot notation** of which the syntax is of the following structure:\n",
    "\n",
    "1. For a **function**: `math.function_name(arguments)`;\n",
    "2. For a **constant**: `math.constant_name`.\n",
    "\n",
    "So, let's first apply the square root using the `math.sqrt()` function."
   ]
  },
  {
   "cell_type": "code",
   "execution_count": null,
   "id": "844f0025-ad7f-481f-b7a5-4c55b1cd996a",
   "metadata": {
    "tags": []
   },
   "outputs": [],
   "source": [
    "x: int = 25\n",
    "\n",
    "sqrt_of_25 = math.sqrt(25)\n",
    "\n",
    "print(f'The square root of 25 is {sqrt_of_25}!')"
   ]
  },
  {
   "cell_type": "markdown",
   "id": "5866b4f4-442d-41b2-a222-d6c0931a554e",
   "metadata": {},
   "source": [
    "Now, let's look at something a little more advanced."
   ]
  },
  {
   "cell_type": "code",
   "execution_count": null,
   "id": "0450360f-f762-4fe2-abd9-b132dd78fa6a",
   "metadata": {},
   "outputs": [],
   "source": [
    "x: int = 100\n",
    "y: int = 1\n",
    "\n",
    "you_got_this = math.log(x, 10) ** y * x / (y + 1)\n",
    "\n",
    "print(\"log({number})\".format(number = x), \"^\", y, \"*\", x, \"/ (\", y, \"+\", \"1\", \") =\", \"{result:.0f}\".format(result=you_got_this))"
   ]
  },
  {
   "cell_type": "code",
   "execution_count": null,
   "id": "65dd63c8-7800-4041-86ad-671258ef5462",
   "metadata": {},
   "outputs": [],
   "source": [
    "# Do the same but convert it to integer first. What happens?\n",
    "print(int(you_got_this))"
   ]
  },
  {
   "cell_type": "code",
   "execution_count": null,
   "id": "771e68e5-0fd8-4e77-b681-b25d90fa4c2e",
   "metadata": {},
   "outputs": [],
   "source": [
    "# Also try:\n",
    "print(int(5.6))\n",
    "print(int(5.6 + 0.5))\n",
    "print(round(5.6))\n",
    "\n",
    "# Converting to integer in Python always rounds DOWN!"
   ]
  },
  {
   "cell_type": "markdown",
   "id": "cbb609a9-4e2a-45d2-831e-6f0b6cab380e",
   "metadata": {},
   "source": [
    "<h4 style=\"color:#B22222\">Random Module</h4>\n",
    "\n",
    "Python provides the **random model** to generate pseudorandom numbers. **Pseudorandom** numbers aren’t completely random because the computations used for their generation are deterministic. By a **deterministic computation**, we mean that the same output is produced when using the same inputs. \n",
    "\n",
    "Using the **random module**, you have access to the **random function**, which generates a pseudorandom float between 0.0 (inclusive) and 1.0 (exclusive). Let's generate five pseudorandom numbers using this function. Run at least twice to check the output."
   ]
  },
  {
   "cell_type": "code",
   "execution_count": 57,
   "id": "03016dcb-8648-4b2d-bad5-3497dbc9aad9",
   "metadata": {
    "tags": []
   },
   "outputs": [
    {
     "name": "stdout",
     "output_type": "stream",
     "text": [
      "0.40313010902066515\n",
      "0.5715688521905518\n",
      "0.19679897579250882\n",
      "0.22156230692565715\n",
      "0.39982688399241073\n"
     ]
    }
   ],
   "source": [
    "import random\n",
    "\n",
    "i : int = 0\n",
    "while i < 5:\n",
    "    x = random.random()\n",
    "    print(x)\n",
    "    i+=1"
   ]
  },
  {
   "cell_type": "markdown",
   "id": "eb10583f-6c4e-49af-aef7-ff6bbc8f1e2e",
   "metadata": {},
   "source": [
    "<h2 style=\"color:#4169E1\">Creating Functions</h2>\n",
    "\n",
    "In addition to using built-in functions, you can define your own functions. This way, you capture computations in functions for later reuse, improving generalization.\n",
    "\n",
    "You can define your function by using the `def` keyword, giving it a name, optionally adding one or more parameters, and then writing the sequence of statements (i.e., code) you want it to execute. This is called a **function definition**  and looks as follows:\n",
    "\n",
    "```python\n",
    "def function_name(parameters) -> type:\n",
    "    # Code\n",
    "```"
   ]
  },
  {
   "cell_type": "markdown",
   "id": "2283f50d-858c-4464-873f-198e0dac63a4",
   "metadata": {},
   "source": [
    "\n",
    "    \n",
    "Note that the **return type** can be added to the function definition via `-> type`. Let's look at a very simple example where we simply greet a person."
   ]
  },
  {
   "cell_type": "code",
   "execution_count": 114,
   "id": "1d830e46-418a-4f23-a6ef-e339d6d0b78b",
   "metadata": {
    "tags": []
   },
   "outputs": [
    {
     "name": "stdout",
     "output_type": "stream",
     "text": [
      "Hello, Roger!\n"
     ]
    }
   ],
   "source": [
    "def greet(name: str) -> None:\n",
    "    print(f\"Hello, {name}!\")\n",
    "    \n",
    "greet(\"Roger\")"
   ]
  },
  {
   "cell_type": "markdown",
   "id": "e78869e8-1daf-46b6-82b4-dfd38ef84186",
   "metadata": {},
   "source": [
    "Let’s break down all the components of this function definition and call. From the example, we can clearly see that this is a function because of the `def` keyword. The function’s name is `greet`, and it has one **parameter** called `name`. In the function body, we simply `print` the greeting `f\"Hello, {name}!\"`, therefore returning `None`. When we call the function, the **argument** passed is the string `\"Roger\"`.\n",
    "\n",
    "<div class=\"alert\" style=\"background-color: #ffecb3; color: #856404;\">\n",
    "    <b>Note</b> <br>\n",
    "The variables that are defined in the function definition are what we call <b>parameters</b>, while actual values that are passed to the function in the function call are named <b>arguments</b>."
   ]
  },
  {
   "cell_type": "markdown",
   "id": "c93fdaa6-c485-41db-b149-01c1c7525a92",
   "metadata": {},
   "source": [
    "<h4 style=\"color:#B22222\">Generalization</h4>"
   ]
  },
  {
   "cell_type": "markdown",
   "id": "d01c5744-5411-42ae-aa96-c7a078bac269",
   "metadata": {},
   "source": [
    "It’s crucial for a function to be **clear** and **reusable**. To make your life easier, it’s best if you can use the same function multiple times and with different parameter values.\n",
    "\n",
    "Let's look at a poor example."
   ]
  },
  {
   "cell_type": "code",
   "execution_count": null,
   "id": "e227e44c-4028-4398-9e9a-d283fe4dffaa",
   "metadata": {},
   "outputs": [],
   "source": [
    "def travel_time():\n",
    "    time = 240000 / 1600\n",
    "    print(f\"The travel time between Earth and Moon for this ship is {time} hours.\")\n",
    "\n",
    "travel_time()\n",
    "\n",
    "## What is the problem with this function?"
   ]
  },
  {
   "cell_type": "markdown",
   "id": "2a5a196a-e7da-4f46-a47e-b53b0765ba73",
   "metadata": {},
   "source": [
    "Now, we'll improve this function definition."
   ]
  },
  {
   "cell_type": "code",
   "execution_count": 107,
   "id": "8d5b68b1-17e8-4b3d-a36e-2e8f3f663ff6",
   "metadata": {},
   "outputs": [
    {
     "name": "stdout",
     "output_type": "stream",
     "text": [
      "The travel time between Earth and Moon for this ship is 150.0 hours.\n"
     ]
    }
   ],
   "source": [
    "distance_Earth_Moon: int = 240000\n",
    "travel_speed: int = 1600\n",
    "\n",
    "def travel_time(distance: int, speed: int, planet1: str, planet2: str) -> None:\n",
    "    time = distance / speed\n",
    "    print(f\"The travel time between {planet1} and {planet2} for this ship is {time} hours.\")\n",
    "\n",
    "travel_time(distance_Earth_Moon, travel_speed, \"Earth\", \"Moon\")"
   ]
  },
  {
   "cell_type": "markdown",
   "id": "dd0c242f-4ddf-4e6f-b9e2-30e17ab5ede9",
   "metadata": {},
   "source": [
    "That looks much better already! However, we can still make the function definition easier to reuse by adding a **docstring**."
   ]
  },
  {
   "cell_type": "markdown",
   "id": "c6561565-385f-4cc5-acf6-538fcbd68ebb",
   "metadata": {},
   "source": [
    "<div class=\"alert\" style=\"background-color: #ffecb3; color: #856404;\">\n",
    "    <b>Note</b> <br>\n",
    "If your function doesn’t take any parameters, that’s a <b>warning sign</b>. It means the function can only handle a single, specific computation, which is sometimes okay, but not ideal in most cases. So, consider this carefully."
   ]
  },
  {
   "cell_type": "markdown",
   "id": "f6f73c00-5ea9-4976-97ba-fffc43ac94ca",
   "metadata": {},
   "source": [
    "<h4 style=\"color:#B22222\">docstring</h4>"
   ]
  },
  {
   "cell_type": "markdown",
   "id": "6b307625-64b4-4a01-b194-1762ed195f17",
   "metadata": {},
   "source": [
    "To explain the interface of your function, you use a **docstring** (\"doc\" is short for \"documentation\"), which is a string placed at the beginning of your function. The main aim of a docstring is to clearly describe what the function does without delving into the details of how this is done. For example:"
   ]
  },
  {
   "cell_type": "code",
   "execution_count": null,
   "id": "4e746e1b-7bd4-4265-ba84-96f21eed2569",
   "metadata": {
    "tags": []
   },
   "outputs": [],
   "source": [
    "from typing import Union\n",
    "# Union[int, float] means that type can be either int or float.\n",
    "\n",
    "def square(number: Union[int, float]) -> Union[int, float]:\n",
    "    \"\"\"\n",
    "    Returns the square of the given number.\n",
    "    \"\"\"\n",
    "    return number ** 2\n",
    "\n",
    "print(square(2))"
   ]
  },
  {
   "cell_type": "markdown",
   "id": "cba906ab-6def-4602-b9c9-c17906821cfd",
   "metadata": {},
   "source": [
    "A docstring starts with **triple-quoted strings**, allowing the text to span multiple lines. If it’s not immediately clear what each parameter does, its purpose in the function should also be explained. This looks as follows:"
   ]
  },
  {
   "cell_type": "code",
   "execution_count": 119,
   "id": "e08d48c8-9652-4f18-9818-18aefb2998b1",
   "metadata": {
    "tags": []
   },
   "outputs": [
    {
     "data": {
      "text/plain": [
       "'01-01-1999'"
      ]
     },
     "execution_count": 119,
     "metadata": {},
     "output_type": "execute_result"
    }
   ],
   "source": [
    "def format_date(day: int, month: int, year: int) -> str:\n",
    "    \"\"\"\n",
    "    Formats a date in the DD-MM-YYYY format.\n",
    "\n",
    "    Parameters:\n",
    "    day (int): The day of the month (1-31).\n",
    "    month (int): The month of the year (1-12).\n",
    "    year (int): The full year (e.g., 2024).\n",
    "\n",
    "    Returns:\n",
    "    str: A string representing the date in the format DD-MM-YYYY.\n",
    "    \"\"\"\n",
    "    return f\"{day:02d}-{month:02d}-{year}\"\n",
    "\n",
    "format_date(1,1,1999)"
   ]
  },
  {
   "cell_type": "markdown",
   "id": "06327c55-d21f-44ab-a196-1d0ec95065db",
   "metadata": {},
   "source": [
    "<div class=\"alert\" style=\"background-color: #ffecb3; color: #856404;\">\n",
    "    <b>Note</b> <br>\n",
    "A well designed interface should be simple to explain; if you have a hard time explaining one of your functions, maybe the interface could be improved."
   ]
  },
  {
   "cell_type": "markdown",
   "id": "5acd1a87-1a73-412c-bdcb-38b42e10d92c",
   "metadata": {},
   "source": [
    "<h4 style=\"color:#B22222\">Variables and Parameters</h4>"
   ]
  },
  {
   "cell_type": "markdown",
   "id": "71ec448e-fed0-418a-82eb-3e3a0bfce598",
   "metadata": {},
   "source": [
    "When we define variables, we distinguish between **local** and **global variables**. **Local variables** are those defined inside a function, meaning they only exist within that function and cannot be accessed outside of it. Let's have a look."
   ]
  },
  {
   "cell_type": "code",
   "execution_count": null,
   "id": "13d1d79e-558e-4b54-af33-f7e5e2fbbdb9",
   "metadata": {
    "tags": []
   },
   "outputs": [],
   "source": [
    "def explorer() -> None:\n",
    "    \"\"\"Explores the planets Mars and Venus.\"\"\"\n",
    "    planet: str = \"Mars\"\n",
    "    planet2: str = \"Venus\"\n",
    "    \n",
    "print(planet)"
   ]
  },
  {
   "cell_type": "markdown",
   "id": "972effb7-2d67-4d9e-afd7-726457de6f2b",
   "metadata": {},
   "source": [
    "When we try to access the **variable** `planet` outside the function and print it, we get an error saying that the name `planet` is not defined. The same holds true for **parameters**, as they are also invisible outside the function."
   ]
  },
  {
   "cell_type": "code",
   "execution_count": null,
   "id": "f241191c-2e76-42a6-a2c9-36d5ed0b341b",
   "metadata": {
    "tags": []
   },
   "outputs": [],
   "source": [
    "def concat(part1: str, part2: str) -> None:\n",
    "    \"\"\"Concatenates two strings and prints the result twice.\"\"\"\n",
    "    cc_result: str = part1 + part2\n",
    "    print(cc_result)\n",
    "    \n",
    "concat('Data ', 'Science')\n",
    "print(part1)"
   ]
  },
  {
   "cell_type": "markdown",
   "id": "468228cc-52eb-46ae-9fe6-6bd3dcf4dbb7",
   "metadata": {},
   "source": [
    "In contrast, **global variables** are defined outside of functions and can be accessed and used throughout the whole program, also in a function."
   ]
  },
  {
   "cell_type": "code",
   "execution_count": 121,
   "id": "b4de936f-91d0-4798-86a6-d4cdbb2847bc",
   "metadata": {
    "tags": []
   },
   "outputs": [
    {
     "name": "stdout",
     "output_type": "stream",
     "text": [
      "Bellingham is great, but Messi is the best!\n"
     ]
    }
   ],
   "source": [
    "the_best_footballer: str = \"Messi\"\n",
    "\n",
    "def the_best(human: str) -> str:\n",
    "    \"\"\"Checks if the given human is the footballer Messi.\"\"\"\n",
    "    if human == the_best_footballer:\n",
    "        return f\"{human} is the best footballer!\"\n",
    "    else:\n",
    "        return f\"{human} is great, but {the_best_footballer} is the best!\"\n",
    "\n",
    "result = the_best(\"Bellingham\")\n",
    "print(result)"
   ]
  },
  {
   "cell_type": "markdown",
   "id": "e4ea195e-7c36-4a93-beeb-cc9edcf91fef",
   "metadata": {},
   "source": [
    "Now let's test if we clearly understand the difference between **local** and **global variables**. What happens when we run the following cell, what is the **exact** output?"
   ]
  },
  {
   "cell_type": "code",
   "execution_count": null,
   "id": "2cf081a1-7c9f-4663-b0ff-275be9e8f470",
   "metadata": {
    "tags": []
   },
   "outputs": [],
   "source": [
    "number: int = 3\n",
    "\n",
    "def square(number: Union[int, float]) -> Union[int, float]:\n",
    "    \"\"\"\n",
    "    Returns the square of the given number.\n",
    "    \"\"\"\n",
    "    print(number)\n",
    "    return number ** 2\n",
    "\n",
    "square_of_4: Union[int, float] = square(4)\n",
    "\n",
    "print(number)\n",
    "print(square_of_4)"
   ]
  },
  {
   "cell_type": "markdown",
   "id": "fed13157-bfb0-4429-a82d-23317ab697fb",
   "metadata": {},
   "source": [
    "<h4 style=\"color:#B22222\"> <code>print</code> vs. <code>return</code></h4>\n",
    "\n",
    "It’s important to note that some functions just execute code, while others return a result. Depending on the function’s purpose, calling it can differ:\n",
    "\n",
    "- If the function simply runs some code, just call it on a line by itself, like a full statement (e.g., a **void function**);\n",
    "- If the function returns a result, call it where you need the result, like saving it in a variable or printing it (e.g., a **fruitful function**).\n",
    "\n",
    "Although a **void function** might display something or have some other effect, it doesn’t return anything. Therefore, using it on the right side of an assignment statement is pointless. If you do, the variable will receive a special value called `None`. Here's an example."
   ]
  },
  {
   "cell_type": "code",
   "execution_count": null,
   "id": "eaa941ce-dbc1-4992-bd77-05e955e61c5b",
   "metadata": {
    "tags": []
   },
   "outputs": [],
   "source": [
    "def message(text: str) -> None:\n",
    "    \"\"\"Prints a message.\"\"\"\n",
    "    print(f\"Message: {text}\")\n",
    "\n",
    "result = message(\"Hello World!\")\n",
    "\n",
    "print(result)"
   ]
  },
  {
   "cell_type": "markdown",
   "id": "f7698f4a-9b75-41dc-b129-e57b6f5f57d3",
   "metadata": {},
   "source": [
    "A **fruitful function** does return a result which can be stored in a variable. "
   ]
  },
  {
   "cell_type": "code",
   "execution_count": null,
   "id": "a1993cc6-97c4-4542-9ea1-a60fa36e7a24",
   "metadata": {
    "tags": []
   },
   "outputs": [],
   "source": [
    "# A simple example of a function that returns a result\n",
    "\n",
    "def sum_int_numbers(nr1: int, nr2: int) -> int:\n",
    "    \"\"\"Returns the sum of two integers numbers\"\"\"\n",
    "    return nr1 + nr2\n",
    "\n",
    "sum_var: int = sum_numbers(5, 6)\n",
    "print(sum_var)"
   ]
  },
  {
   "cell_type": "markdown",
   "id": "f324175d-9d5f-444a-b672-b8dcd3d4dbbb",
   "metadata": {},
   "source": [
    "<div class=\"alert\" style=\"background-color: #ffecb3; color: #856404;\">\n",
    "    <b>Note</b> <br>\n",
    "    The <b>return type</b> can be added to the <b>function definition</b> via <code>-> type</code>."
   ]
  },
  {
   "cell_type": "markdown",
   "id": "7ea0ee1a-7de6-4aad-8889-c0bdeaae05a9",
   "metadata": {},
   "source": [
    "Let's test our knowledge. What does this piece of code print?"
   ]
  },
  {
   "cell_type": "code",
   "execution_count": null,
   "id": "1534f337-dc72-4bcf-a666-3ad532cfe6a1",
   "metadata": {
    "tags": []
   },
   "outputs": [],
   "source": [
    "def explorer(celestial_body: str) -> str:\n",
    "    \"\"\"Returns a landing message for a given celestial body.\"\"\"\n",
    "    return f\"I am now landing on {celestial_body}.\"\n",
    "\n",
    "message1 = explorer(\"Moon\")\n",
    "message2 = explorer(\"Mars\")\n",
    "\n",
    "message = \"Hurray! \" + message1\n",
    "message = message2 + \" \" + message\n",
    "\n",
    "print(message)"
   ]
  },
  {
   "cell_type": "markdown",
   "id": "3032bf23-4b41-4696-9364-8948caf3ed93",
   "metadata": {},
   "source": [
    "<h2 style=\"color:#4169E1\">Calling Functions in Functions</h2>\n",
    "\n",
    "Python also allows you to call a function within another function, which modularizes the code, allowing the same function to be used for different purposes."
   ]
  },
  {
   "cell_type": "code",
   "execution_count": 17,
   "id": "23d8405a-55a8-4e61-9bd7-5c7865e829a3",
   "metadata": {},
   "outputs": [
    {
     "name": "stdout",
     "output_type": "stream",
     "text": [
      "The sum of the squares of 3 and 4 is 25.\n"
     ]
    }
   ],
   "source": [
    "def square(number: Union[int, float]) -> Union[int, float]:\n",
    "    \"\"\"\n",
    "    Returns the square of the given number.\n",
    "    \"\"\"\n",
    "    return number ** 2\n",
    "\n",
    "def sum_of_squares(number_1: Union[int, float], number_2: Union[int, float]) -> Union[int, float]:\n",
    "    \"\"\"Calculates the sum of the squares of two numbers.\"\"\"\n",
    "    return square(number_1) + square(number_2)  # Calls to square()\n",
    "\n",
    "# Example usage\n",
    "number_1: Union[int, float] = 3.0\n",
    "number_2: Union[int, float] = 4.0\n",
    "\n",
    "result = sum_of_squares(number_1, number_2)\n",
    "print(f\"The sum of the squares of {number_1} and {number_2} is {result}.\")"
   ]
  },
  {
   "cell_type": "markdown",
   "id": "ad522326-fb51-4f9a-85e2-4e94104f7ad8",
   "metadata": {
    "tags": []
   },
   "source": [
    "<h2 style=\"color:#3CB371\">Exercises</h2>"
   ]
  },
  {
   "cell_type": "markdown",
   "id": "8a5c2601-e8bb-45ba-a36d-6491a203396b",
   "metadata": {},
   "source": [
    "Let's practice! Mind that each exercise is designed with multiple levels to help you progressively build your skills. <span style=\"color:darkorange;\"><strong>Level 1</strong></span> is the foundational level, designed to be straightforward so that everyone can successfully complete it. In <span style=\"color:darkorange;\"><strong>Level 2</strong></span>, we step it up a notch, expecting you to use more complex concepts or combine them in new ways. Finally, in <span style=\"color:darkorange;\"><strong>Level 3</strong></span>, we may use so concepts that are not covered in this notebook. However, in programming, you often encounter situations where you’re unsure how to proceed. Fortunately, you can often solve these problems by starting to work on them and figuring things out as you go. Practicing this skill is extremely helpful, so we highly recommend completing these exercises.\n",
    "\n",
    "For each of the exercises, make sure to add a `docstring` and `type hints`, and **do not** import any libraries. \n",
    "<br>"
   ]
  },
  {
   "cell_type": "markdown",
   "id": "321dba5d-737c-4aad-a368-5b9e5dc51b77",
   "metadata": {},
   "source": [
    "### Exercise 1\n",
    "\n",
    "<span style=\"color:darkorange;\"><strong>Level 1</strong>:</span> Create a Python function named `calculate_triangle_area` that calculates and returns the area of a triangle given its base and height as input arguments. The function should use the formula `0.5 * base * height` to compute the area and return the result. After calling the function, print the area using an f-String outside of the function. Assume both the base and height are positive numbers.\n",
    "\n",
    "<img src=\"https://www.turito.com/_next/image?url=https%3A%2F%2Fwww.turito.com%2Fblog-internal%2Fwp-content%2Fuploads%2F2021%2F08%2FHow_to_find_base_of_triangle.jpg&w=1920&q=50\" alt=\"area_triangle\" width=\"500\" height=\"auto\">\n",
    "\n",
    "**Example input**: you pass these in a function call.\n",
    "```python\n",
    "base: int = 6\n",
    "height: int = 8\n",
    "```\n",
    "\n",
    "**Example output**:\n",
    "```python\n",
    "\"The area of the triangle with base 6 and height 8 is 24.0.\"\n",
    "```"
   ]
  },
  {
   "cell_type": "code",
   "execution_count": 94,
   "id": "69523187-24ec-4248-b14e-5e0c9e1290c5",
   "metadata": {
    "tags": []
   },
   "outputs": [],
   "source": [
    "# TODO."
   ]
  },
  {
   "cell_type": "markdown",
   "id": "870b8940-2843-41f9-ab12-a3ececb008e5",
   "metadata": {},
   "source": [
    "<span style=\"color:darkorange;\"><strong>Level 3</strong>:</span>  Upgrade the `calculate_triangle_area` function to handle multiple triangles by accepting a [list][list] of [tuples][tuple], where each tuple contains a base-height pair. For each pair, calculate the area using the formula `0.5 * base * height` and return a list of all the areas. Make sure both bases and heights are positive numbers. Use the return statement to get the list of areas, and don’t forget to print the result outside the function.\n",
    "\n",
    "**Example input**: you pass this in a function call.\n",
    "```python\n",
    "base_height_pairs: List[tuple] = [(6, 8), (10, 5), (7, 12)]\n",
    "```\n",
    "\n",
    "**Example output**:\n",
    "```python\n",
    "[24.0, 25.0, 42.0]\n",
    "```\n",
    "\n",
    "[list]:https://programming-pybook.github.io/introProgramming/chapters/lists.html\n",
    "[tuple]:https://programming-pybook.github.io/introProgramming/chapters/tuples.html"
   ]
  },
  {
   "cell_type": "code",
   "execution_count": 22,
   "id": "5569636f-64c5-4159-aaac-4d99a85c440b",
   "metadata": {
    "tags": []
   },
   "outputs": [],
   "source": [
    "# TODO."
   ]
  },
  {
   "cell_type": "markdown",
   "id": "96e66416-ef38-4c50-b4db-0d759aff800c",
   "metadata": {},
   "source": [
    "### Exercise 2\n",
    "\n",
    "Remember the [Fibonacci sequence][magic]? Now, let's covert it into a function. \n",
    "\n",
    "<span style=\"color:darkorange;\"><strong>Level 1</strong>:</span> Write a Python function called `calculate_fibonacci_sequence` that generates and **prints** the first *n* numbers in the Fibonacci sequence. The Fibonacci sequence starts with 0 and 1, and each subsequent number is the sum of the two previous numbers.\n",
    "\n",
    "**Example input**: you pass this in a function call.\n",
    "\n",
    "```python\n",
    "n: int = 7\n",
    "```\n",
    "\n",
    "**Example output**:\n",
    "```python\n",
    "0\n",
    "1\n",
    "1\n",
    "2\n",
    "3\n",
    "5\n",
    "8\n",
    "```\n",
    "[magic]:https://www.youtube.com/watch?v=SjSHVDfXHQ4"
   ]
  },
  {
   "cell_type": "code",
   "execution_count": 25,
   "id": "e1e90087-0ef6-4ea1-b3c9-34571f98c389",
   "metadata": {
    "tags": []
   },
   "outputs": [],
   "source": [
    "# TODO."
   ]
  },
  {
   "cell_type": "markdown",
   "id": "3e6209f3-1918-4f23-8660-b554cfb6225b",
   "metadata": {},
   "source": [
    "<span style=\"color:darkorange;\"><strong>Level 3</strong>:</span> return the output as a [list][list].\n",
    "```python\n",
    "[0, 1, 1, 2, 3, 5, 8]\n",
    "```\n",
    "\n",
    "[list]:https://programming-pybook.github.io/introProgramming/chapters/lists.html"
   ]
  },
  {
   "cell_type": "code",
   "execution_count": 25,
   "id": "250208f6-b4e2-4398-b79c-a9c702cf7a9c",
   "metadata": {
    "tags": []
   },
   "outputs": [],
   "source": [
    "# TODO."
   ]
  },
  {
   "cell_type": "markdown",
   "id": "519bb783-491f-4a46-843e-541603696b8d",
   "metadata": {},
   "source": [
    "### Exercise 3\n",
    "\n",
    "<span style=\"color:darkorange;\"><strong>Level 1</strong>:</span> Write a Python function called `is_leap_year` that determines whether a given year is a leap year, [returning][bool] `True` or `False`. Test your function by prompting the user to enter a year, and call the function to check if that year is a leap year. Display a message based on the function’s result. To find out if a year is a leap year, follow these rules:\n",
    "\n",
    "-  **Divisible by 4**: A year is a leap year if it is divisible by 4, except when:\n",
    "   - **Divisible by 100**: The year is not a leap year if it is also divisible by 100, unless:\n",
    "     - **Divisible by 400**: The year is a leap year if it is divisible by 400.\n",
    "\n",
    "**Example input**: you pass these in a function call.\n",
    "```python\n",
    "year_input = 2020\n",
    "```\n",
    "\n",
    "**Example output**:\n",
    "```python\n",
    "\" The year 2020 is a leap year.\"\n",
    "```\n",
    "\n",
    "[bool]:https://programming-pybook.github.io/introProgramming/chapters/functions.html#boolean-functions"
   ]
  },
  {
   "cell_type": "code",
   "execution_count": null,
   "id": "6e21492a-0ca4-4e22-b482-8e24f871c2d4",
   "metadata": {},
   "outputs": [],
   "source": [
    "# TODO."
   ]
  }
 ],
 "metadata": {
  "kernelspec": {
   "display_name": "Python 3 (ipykernel)",
   "language": "python",
   "name": "python3"
  },
  "language_info": {
   "codemirror_mode": {
    "name": "ipython",
    "version": 3
   },
   "file_extension": ".py",
   "mimetype": "text/x-python",
   "name": "python",
   "nbconvert_exporter": "python",
   "pygments_lexer": "ipython3",
   "version": "3.11.5"
  }
 },
 "nbformat": 4,
 "nbformat_minor": 5
}

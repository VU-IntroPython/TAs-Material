{
 "cells": [
  {
   "cell_type": "markdown",
   "id": "e67b1bf3-4311-44dc-8770-9c64ec9c5907",
   "metadata": {},
   "source": [
    "# Classes and Methods"
   ]
  },
  {
   "cell_type": "markdown",
   "id": "f60e9b85-4a75-4aa3-ad5a-2d4ef62d7d68",
   "metadata": {},
   "source": [
    "**In this notebook, we cover the following subjects:**\n",
    "- Understanding Classes;\n",
    "- Defining a Class;\n",
    "- Working with Classes.\n",
    "___________________________________________________________________________________________________________________________"
   ]
  },
  {
   "cell_type": "code",
   "execution_count": null,
   "id": "73836810-4237-4d12-a9fd-375eeaf46208",
   "metadata": {
    "tags": []
   },
   "outputs": [],
   "source": [
    "# To enable type hints for lists, dicts, tuples, and sets we need to import the following:\n",
    "from typing import List, Dict, Tuple, Set"
   ]
  },
  {
   "cell_type": "markdown",
   "id": "c8a80dd6-2dfa-4ca2-9ddb-a61134447621",
   "metadata": {
    "tags": []
   },
   "source": [
    "<h2 style=\"color:#4169E1\">Understanding Classes</h2>\n",
    "\n",
    "Classes are a core concept in programming, often viewed as blueprints or templates for creating objects. This is important because, in Python, everything is an object—whether it’s an integer, a float, a list, or a string. Classes help you organize your code by bundling related data (**attributes**) with the functions (**methods**) that work with that data, making everything more logical and easier to manage."
   ]
  },
  {
   "cell_type": "markdown",
   "id": "6bf85c31-a2f8-43f5-85c9-1d155e79f46e",
   "metadata": {},
   "source": [
    "So, you’ve actually been working with classes all along, probably without even realizing it. Take the `str` type, for example—it’s actually a class that handles strings of characters. Remember all those [methods][methods] you’ve used to manipulate string objects?\n",
    "\n",
    "[methods]:https://docs.python.org/3/library/stdtypes.html#string-methods"
   ]
  },
  {
   "cell_type": "code",
   "execution_count": null,
   "id": "12b1715c-c75d-47dd-b50b-e216caf8453a",
   "metadata": {
    "tags": []
   },
   "outputs": [],
   "source": [
    "# Creating an instance of the str class\n",
    "my_string: str = \"Introduction to Python Programming\"  # 'my_string' is an instance of the str class\n",
    "\n",
    "# Using the split method to break the string into a list of words\n",
    "output = my_string.split(\" \")\n",
    "\n",
    "# Printing the result of the split method\n",
    "print(f\"Split string into words: {output}\\n\")\n",
    "\n",
    "# Demonstrating that methods can be used directly on string objects\n",
    "print(\"You can also use the methods directly on string objects (i.e., not stored in variables).\")\n",
    "print(f'Split example: {\"Python Programming\".split(\" \")}')"
   ]
  },
  {
   "cell_type": "markdown",
   "id": "761c371b-e2a7-433b-97b9-6f76abf9d616",
   "metadata": {},
   "source": [
    "The `str` class is built into Python, so it’s ready to use without any setup. You’ve already used its methods to work with strings, and you didn’t have to think about what’s happening behind the scenes. \n",
    "\n",
    "But the neat thing is that you can create classes yourself, representing whatever you like! So, let’s take a step back and look at how a class is actually defined, so we can start creating them ourselves."
   ]
  },
  {
   "cell_type": "markdown",
   "id": "d10e5f57-47a8-40dd-a305-7de0e63f8eef",
   "metadata": {},
   "source": [
    "<h2 style=\"color:#4169E1\">Defining a Class</h2>\n",
    "\n",
    "Classes might seem overwhelming at first because they come with a lot of components, but don’t worry—we’ll break it all down. For now, just focus on grasping the basic idea of what classes are and how they work. We’ll start by creating a simple class called `Book`. Here’s how to define the class, create an instance, and use its methods:\n",
    "\n",
    "```python\n",
    "class Book:\n",
    "    def __init__(self, title: str, author: str) -> None:\n",
    "        \"\"\"\n",
    "        Sets up a new Book instance.\n",
    "\n",
    "        :param title: The book's title.\n",
    "        :param author: The book's author.\n",
    "        \"\"\"\n",
    "        # The __init__ method is the constructor that initializes the object\n",
    "        self.title: str = title # This is an attribute of the class\n",
    "        self.author: str = author # This is another attribute of the class\n",
    "\n",
    "    def get_info(self) -> str:\n",
    "        \"\"\"\n",
    "        Returns a formatted string with the book's title and author.\n",
    "\n",
    "        :return: A string like \"'<title>' by <author>\".\n",
    "        \"\"\"\n",
    "        # This is a method of the class, which can operate on the object's attributes\n",
    "        return f\"'{self.title}' by {self.author}\"\n",
    "\n",
    "# Creating an instance (object) of Book\n",
    "my_book = Book(\"Little Women\", \"Louisa May Alcott\")\n",
    "\n",
    "# Using the method of the object\n",
    "print(my_book.get_info())\n",
    "```\n",
    "\n",
    "You create a class with the `class` keyword, and everything inside it becomes part of that class. Methods are defined just like regular functions, using the `def` keyword.\n",
    "\n",
    "Let the breakdown begin!"
   ]
  },
  {
   "cell_type": "markdown",
   "id": "03628d8c-d837-4128-b417-52a940423bf8",
   "metadata": {},
   "source": [
    "<div class=\"alert\" style=\"background-color: #ffecb3; color: #856404;\">\n",
    "    <b>Note</b> <br>\n",
    "A bit unintuitive, as we use <b>snake_case</b> in this course, but the name of a class should be written in <b>CamelCase</b>."
   ]
  },
  {
   "cell_type": "markdown",
   "id": "bd8162dc-2208-4bba-ab82-a6bd284fbeab",
   "metadata": {
    "jp-MarkdownHeadingCollapsed": true,
    "tags": []
   },
   "source": [
    "<h4 style=\"color:#B22222\">Attributes</h4>\n",
    "\n",
    "We start by explaining **attributes**, which are the characteristics or properties of an object. In a class, you define attributes to store data unique to each object created from that class. For example, the following class `Book` has two attributes, namely `title` and `author`. This means that every object you create from this class, representing a book, will have a title and an author.\n",
    "\n",
    "``` python\n",
    "# ... (class definition)\n",
    "    # ... (__init__ definition)\n",
    "        self.title: str = title  # This is an attribute of the class\n",
    "        self.author: str = author  # This is another attribute of the class\n",
    "```"
   ]
  },
  {
   "cell_type": "markdown",
   "id": "f3846a60-29fa-4c96-829a-9517a91e0be8",
   "metadata": {},
   "source": [
    "<h4 style=\"color:#B22222\">The <code>__init__</code> Method</h4>\n",
    "\n",
    "These attributes are set up in a special method called `__init__`. This method, known as a **constructor**, is essential in Python classes because it initializes everything when you create a new object. As soon as you make an instance of a class, `__init__` runs automatically to set up the attributes and other initial details for that object.\n",
    "\n",
    "```python\n",
    "# ... (class definition)\n",
    "    def __init__(self, title: str, author: str) -> None:\n",
    "        \"\"\"\n",
    "        Sets up a new Book instance.\n",
    "\n",
    "        :param title: The book's title.\n",
    "        :param author: The book's author.\n",
    "        \"\"\"\n",
    "        # The __init__ method is the constructor that initializes the object\n",
    "        self.title: str = title # This is an attribute of the class\n",
    "        self.author: str = author # This is another attribute of the class\n",
    "```"
   ]
  },
  {
   "cell_type": "markdown",
   "id": "a059d031-ca80-4012-93cd-006f4b8ca718",
   "metadata": {},
   "source": [
    "<h4 style=\"color:#B22222\">Methods</h4>\n",
    "\n",
    "A **method** is a function that is associated with a particular class.\n",
    "\n",
    "```python\n",
    "class Book:\n",
    "    # ... (__init__ definition)\n",
    "    \n",
    "    def get_info(self) -> str:\n",
    "        \"\"\"\n",
    "        Returns a formatted string with the book's title and author.\n",
    "\n",
    "        :return: A string like \"'<title>' by <author>\".\n",
    "        \"\"\"\n",
    "        # This is a method of the class, which can operate on the object's attributes\n",
    "        return f\"'{self.title}' by {self.author}\"\n",
    "```    "
   ]
  },
  {
   "cell_type": "markdown",
   "id": "a30d772f-1f0e-4ea9-b1c6-c1b6dcc831d9",
   "metadata": {},
   "source": [
    "<h4 style=\"color:#B22222\">Instance</h4>\n",
    "\n",
    "Now that we understand the basic parts of a class, how do we create an object from it? Creating a new object is known as **instantiation**, and the object itself is called an **instance** of the class. Essentially, you use the blueprint provided by the class to create the object, and you can use this blueprint to create as many instances as you need.\n",
    "\n",
    "```python\n",
    "# ... (class definition)\n",
    "\n",
    "# Creating an instance (object) of Book\n",
    "my_book = Book(\"Little Women\", \"Louisa May Alcott\")\n",
    "```\n",
    "\n",
    "This code snippet, `Book(\"Little Women\", \"Louisa May Alcott\")`, calls the `Book` class constructor (the `__init__` method) with two arguments: `\"Little Women\"` and `\"Louisa May Alcott\"`. A new object is created using these arguments and assigned to the variable `my_book`."
   ]
  },
  {
   "cell_type": "markdown",
   "id": "831787a7-3d98-4467-87f9-f08526b420f2",
   "metadata": {},
   "source": [
    "<div class=\"alert\" style=\"background-color: #ffecb3; color: #856404;\">\n",
    "    <b>Note</b> <br>\n",
    "Since every object is an instance of some class, “object” and “instance” are interchangeable terms."
   ]
  },
  {
   "cell_type": "markdown",
   "id": "96274271-22ea-468c-98ff-22208b47df29",
   "metadata": {},
   "source": [
    "We've covered almost all the components of a class, but we’ve somewhat awkwardly avoided discussing `self`, which appears everywhere: in attribute definitions and as the first parameter of each method. The `self` keyword is crucial in classes because it allows an instance of a class to refer to itself. When you create an object from a class, `self` enables that object to access its own attributes and methods. For example, when you use `self.title = title`, you’re specifying, “For this particular instance (`self`), the `title` attribute should be set to the value provided during object creation.”"
   ]
  },
  {
   "cell_type": "markdown",
   "id": "eb405a9f-64c7-4a6d-8ac0-4c76e9b797ee",
   "metadata": {
    "tags": []
   },
   "source": [
    "<h2 style=\"color:#4169E1\">Working with Classes</h2>"
   ]
  },
  {
   "cell_type": "markdown",
   "id": "2ec10822-b2eb-4f98-a93a-0d2b7e4e0f1c",
   "metadata": {},
   "source": [
    "Let's go over another example, one step at the time. We create a class which represents Lego Sets."
   ]
  },
  {
   "cell_type": "markdown",
   "id": "6701d490-898d-4926-aaa8-d2c70a1b5dde",
   "metadata": {},
   "source": [
    "<details>\n",
    "  <summary style=\"cursor: pointer; background-color: #d4edda; padding: 10px; border-radius: 5px; color: #155724; font-weight: bold;\">\n",
    "    Q: What is still missing from the class definition?\n",
    "  </summary>\n",
    "<div style=\"background-color: #f4fdf7; padding: 12px; margin-top: 8px; border-radius: 6px; border: 1px solid #b7e4c7; color: #155724;\">\n",
    "    The class definition is missing type hints for the attributes (`theme`, `price`, `year`) and docstrings for the methods to explain what they do.\n",
    "  </div>\n",
    "</details>"
   ]
  },
  {
   "cell_type": "code",
   "execution_count": null,
   "id": "d512e8c6-bc36-441a-b20b-3a708eef7fc7",
   "metadata": {},
   "outputs": [],
   "source": [
    "class LegoSet:\n",
    "    \n",
    "    def __init__(self, theme: str, price: float, year: int = -1) -> None:\n",
    "        self.theme = theme\n",
    "        self.price = price\n",
    "        self.year = year\n",
    "\n",
    "    def print_year(self) -> None:  \n",
    "        if self.year > 0:\n",
    "            print(f'This set was released in {self.year}.')\n",
    "\n",
    "        else:\n",
    "            print(f'The release year of this set is unknown.')\n",
    "\n",
    "    def minimum_age(self) -> int:\n",
    "            if self.theme == 'Creator':\n",
    "                return 12\n",
    "            return 0\n",
    "    \n",
    "set1 = LegoSet('Harry Potter', 139.9, 2021)\n",
    "set2 = LegoSet('Star Wars', 119.9)"
   ]
  },
  {
   "cell_type": "markdown",
   "id": "c3728274-69a7-40f8-8473-0cf3256fee33",
   "metadata": {},
   "source": [
    "We created two instances, `set1` and `set2`. **Note**, even though `self` is a parameter in `__init__`, you don’t provide it directly. That’s because `self` is automatically handled by Python to refer to the instance being created. When you create a new object, Python takes care of passing `self` behind the scenes. You only need to pass the other arguments (`theme`, `price`, and `year`). "
   ]
  },
  {
   "cell_type": "markdown",
   "id": "763b6c29-d402-498b-a58f-c25369ecc52a",
   "metadata": {},
   "source": [
    "<h4 style=\"color:#B22222\">Accessing an Attribute</h4>"
   ]
  },
  {
   "cell_type": "markdown",
   "id": "d71ad900-6cc7-4fa2-b605-5fe6673dafcc",
   "metadata": {},
   "source": [
    "Both objects have stored attributes that are unique to each instance. To access these attributes, we use the following syntax (dot notation):\n",
    "\n",
    "```python\n",
    "instance.attribute\n",
    "```\n",
    "\n",
    "In practise, this looks as follows:"
   ]
  },
  {
   "cell_type": "code",
   "execution_count": null,
   "id": "6ddc7219-a05f-47c0-8f9e-15c4a54ddbc9",
   "metadata": {
    "tags": []
   },
   "outputs": [],
   "source": [
    "# Accessing attributes\n",
    "print(f'Set 1 theme: {set1.theme}')\n",
    "print(f'Set 1 price: €{set1.price}')\n",
    "print(f'Set 1 year: {set1.year}')"
   ]
  },
  {
   "cell_type": "markdown",
   "id": "373e6ab8-bbb7-47cb-91e0-5fef11d0860a",
   "metadata": {
    "tags": []
   },
   "source": [
    "<h4 style=\"color:#B22222\">Using a Method</h4>\n",
    "\n",
    "Just like with built-in classes, you can use dot notation to call the method, which is the same approach you’ve used previously. For example:"
   ]
  },
  {
   "cell_type": "code",
   "execution_count": null,
   "id": "40062cdf-df15-4dd4-aef2-8784e222d26b",
   "metadata": {
    "tags": []
   },
   "outputs": [],
   "source": [
    "set1.print_year()"
   ]
  },
  {
   "cell_type": "markdown",
   "id": "cfaf55c3-d620-46c2-8694-fd60fac26c33",
   "metadata": {},
   "source": [
    "Let’s redefine the `LegoSet` class by adding a new method to compare the prices of two sets, which will help us explore more of the capabilities of classes."
   ]
  },
  {
   "cell_type": "code",
   "execution_count": null,
   "id": "9cd45356-d25b-46de-be7e-2f3b85b54095",
   "metadata": {
    "tags": []
   },
   "outputs": [],
   "source": [
    "class LegoSet:\n",
    "    \"\"\"A class representing a LEGO set.\"\"\"\n",
    "    \n",
    "    def __init__(self, theme: str, price: float, year: int = -1) -> None:\n",
    "        \"\"\"Initialize a LEGO set.\"\"\"\n",
    "        self.theme: str = theme\n",
    "        self.price: float = price\n",
    "        self.year: int = year\n",
    "\n",
    "    def print_year(self) -> None:\n",
    "        \"\"\"Print the release year of the LEGO set.\"\"\"\n",
    "        if self.year > 0:\n",
    "            print(f'This set was released in {self.year}.')\n",
    "        else:\n",
    "            print(f'The release year of this set is unknown.')\n",
    "\n",
    "    def minimum_age(self) -> int:\n",
    "        \"\"\"Return the minimum age recommendation for the LEGO set.\"\"\"\n",
    "        if self.theme == 'Creator':\n",
    "            return 12\n",
    "        return 0\n",
    "\n",
    "    def is_cheaper(self, another_set: 'LegoSet') -> bool:\n",
    "        \"\"\"Compare the price with another LEGO set.\"\"\"\n",
    "        return self.price < another_set.price"
   ]
  },
  {
   "cell_type": "markdown",
   "id": "71a41b33-474c-420b-b303-a6c486468b46",
   "metadata": {},
   "source": [
    "<details>\n",
    "  <summary style=\"cursor: pointer; background-color: #d4edda; padding: 10px; border-radius: 5px; color: #155724; font-weight: bold;\">\n",
    "    Q: What will happen if we run the following code cell?\n",
    "  </summary>\n",
    "  <div style=\"background-color: #f4fdf7; padding: 12px; margin-top: 8px; border-radius: 6px; border: 1px solid #b7e4c7; color: #155724;\">\n",
    "    If you run the code without reinstantiating the <code>set1</code> and <code>set2</code> objects after adding the <code>is_cheaper</code> method, Python will raise an <code>AttributeError</code>. This is because the original instances do not include the <code>is_cheaper</code> method, as it was not part of their initial creation.\n",
    "  </div>\n",
    "</details>\n",
    "\n"
   ]
  },
  {
   "cell_type": "code",
   "execution_count": null,
   "id": "edbb7b69-954e-403d-881b-91537ab75a17",
   "metadata": {},
   "outputs": [],
   "source": [
    "if set1.is_cheaper(set2):\n",
    "    print('Set 1 is cheaper than Set 2.')\n",
    "\n",
    "else:\n",
    "    print('Set 1 is not cheaper than Set 2.')"
   ]
  },
  {
   "cell_type": "markdown",
   "id": "5bad177e-5172-4abb-869b-537a844f55e4",
   "metadata": {},
   "source": [
    "Let's try again!"
   ]
  },
  {
   "cell_type": "code",
   "execution_count": null,
   "id": "1a47b389-7e8a-49f3-afbb-237a24113bb0",
   "metadata": {
    "tags": []
   },
   "outputs": [],
   "source": [
    "set1 = LegoSet('Harry Potter', 139.9, 2021)\n",
    "set2 = LegoSet('Star Wars', 119.9)\n",
    "\n",
    "if set1.is_cheaper(set2):\n",
    "    print('Set 1 is cheaper than Set 2.')\n",
    "\n",
    "else:\n",
    "    print('Set 1 is not cheaper than Set 2.')"
   ]
  },
  {
   "cell_type": "markdown",
   "id": "120f7536-edd1-4fa3-a914-9460b906153e",
   "metadata": {
    "tags": []
   },
   "source": [
    "<h4 style=\"color:#B22222\">Let's Think!</h4>"
   ]
  },
  {
   "cell_type": "markdown",
   "id": "cf9e6a3c-8d5f-4d94-bcc8-d9f987fec08e",
   "metadata": {},
   "source": [
    "<details>\n",
    "  <summary style=\"cursor: pointer; background-color: #d4edda; padding: 10px; border-radius: 5px; color: #155724; font-weight: bold;\">\n",
    "Q: We created the instance <code>set2</code> without specifying a release year. What will happen when we call the method <code>.print_year()</code> on this instance?</summary>\n",
    "<div style=\"background-color: #f4fdf7; padding: 12px; margin-top: 8px; border-radius: 6px; border: 1px solid #b7e4c7; color: #155724;\">\n",
    "    The method will output <code>“The release year of this set is unknown.”</code> This is because the method’s if-else statement handles the default value of `-1`, providing a meaningful response even without a specified release year.\n",
    "  </div>\n",
    "</details>\n"
   ]
  },
  {
   "cell_type": "code",
   "execution_count": null,
   "id": "9eea1bbe-5f97-42ce-b798-598f7506f0ae",
   "metadata": {
    "tags": []
   },
   "outputs": [],
   "source": [
    "set2.print_year()"
   ]
  },
  {
   "cell_type": "markdown",
   "id": "90fbd16c-29af-44a3-9812-cd622e3781c8",
   "metadata": {},
   "source": [
    "However, after some research, we discover that the Star Wars set was actually released in 2014. Can we still update this attribute even though the object has already been created? Fortunately, the answer is yes, and here’s how you can do it:"
   ]
  },
  {
   "cell_type": "code",
   "execution_count": null,
   "id": "3605baf1-5a30-4daf-ad0a-604b23ab7461",
   "metadata": {
    "tags": []
   },
   "outputs": [],
   "source": [
    "# Creating an instance of LegoSet\n",
    "set2 = LegoSet('Star Wars', 119.9)\n",
    "\n",
    "# Printing the initial year\n",
    "set2.print_year()\n",
    "\n",
    "# Updating the year attribute\n",
    "set2.year = 2014\n",
    "\n",
    "# Printing the updated year\n",
    "set2.print_year()"
   ]
  },
  {
   "cell_type": "markdown",
   "id": "29831481-88dd-4f7b-a76c-dac8dd791a75",
   "metadata": {},
   "source": [
    "So, with dot notation, you can not only access an attribute but also update it."
   ]
  },
  {
   "cell_type": "markdown",
   "id": "4d1da063-1a8e-4dd7-a1d6-d7ff025b182a",
   "metadata": {
    "tags": []
   },
   "source": [
    "<h2 style=\"color:#3CB371\">Exercises</h2>"
   ]
  },
  {
   "cell_type": "markdown",
   "id": "7e6f54ce-8e8e-4bed-981f-1884e86bc21f",
   "metadata": {},
   "source": [
    "Let's practice! Mind that each exercise is designed with multiple levels to help you progressively build your skills. <span style=\"color:darkorange;\"><strong>Level 1</strong></span> is the foundational level, designed to be straightforward so that everyone can successfully complete it. In <span style=\"color:darkorange;\"><strong>Level 2</strong></span>, we step it up a notch, expecting you to use more complex concepts or combine them in new ways. Finally, in <span style=\"color:darkorange;\"><strong>Level 3</strong></span>, we get closest to exam level questions, but we may use some concepts that are not covered in this notebook. However, in programming, you often encounter situations where you’re unsure how to proceed. Fortunately, you can often solve these problems by starting to work on them and figuring things out as you go. Practicing this skill is extremely helpful, so we highly recommend completing these exercises.\n",
    "\n",
    "For each of the exercises, make sure to add a `docstring` and `type hints`, and **do not** import any libraries unless specified otherwise.\n",
    "<br>"
   ]
  },
  {
   "cell_type": "markdown",
   "id": "e255d3e1-8bba-4d73-aa0c-94c01292d302",
   "metadata": {
    "tags": []
   },
   "source": [
    "### Exercise 1\n",
    "\n",
    "The **Magical Café** chain features numerous restaurants, each offering a unique selection of magical dishes and drinks inspired by the wizarding world. Each restaurant operates independently, managing its own menu. \n",
    "\n",
    "<span style=\"color:darkorange;\"><strong>Level 1</strong>:</span> Your task is to create a `Restaurant` class that enables each branch of the Magical Café chain to handle its menu. The class should be initialized with a restaurant **name** and an **empty menu**. Additionally, you need to implement methods to **add** items to the menu, **remove** items from the menu, and **display** the current menu. Each menu item should include a **product name** and its **associated price**."
   ]
  },
  {
   "cell_type": "code",
   "execution_count": null,
   "id": "0e321c54-90bf-46a1-9bbb-97c36028bd33",
   "metadata": {
    "tags": []
   },
   "outputs": [],
   "source": [
    "# TODO.\n",
    "\n",
    "class Restaurant:\n",
    "    pass"
   ]
  },
  {
   "cell_type": "markdown",
   "id": "011d751d-8621-49e8-bc7c-1d5c181a91a3",
   "metadata": {},
   "source": [
    "___________________________________________________________________________________________________________________________\n",
    "\n",
    "*Material for the VU Amsterdam course “Introduction to Python Programming” for BSc Artificial Intelligence students. These notebooks are created using the following sources:*\n",
    "1. [Learning Python by Doing][learning python]: This book, developed by teachers of TU/e Eindhoven and VU Amsterdam, is the main source for the course materials. Code snippets or text explanations from the book may be used in the notebooks, sometimes with slight adjustments.\n",
    "2. [Think Python][think python]\n",
    "3. [GeekForGeeks][geekforgeeks]\n",
    "\n",
    "[learning python]: https://programming-pybook.github.io/introProgramming/intro.html\n",
    "[think python]: https://greenteapress.com/thinkpython2/html/\n",
    "[geekforgeeks]: https://www.geeksforgeeks.org"
   ]
  }
 ],
 "metadata": {
  "kernelspec": {
   "display_name": "Python 3 (ipykernel)",
   "language": "python",
   "name": "python3"
  },
  "language_info": {
   "codemirror_mode": {
    "name": "ipython",
    "version": 3
   },
   "file_extension": ".py",
   "mimetype": "text/x-python",
   "name": "python",
   "nbconvert_exporter": "python",
   "pygments_lexer": "ipython3",
   "version": "3.11.5"
  }
 },
 "nbformat": 4,
 "nbformat_minor": 5
}

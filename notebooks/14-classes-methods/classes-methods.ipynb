{
 "cells": [
  {
   "cell_type": "markdown",
   "id": "e67b1bf3-4311-44dc-8770-9c64ec9c5907",
   "metadata": {},
   "source": [
    "# Classes and Methods"
   ]
  },
  {
   "cell_type": "markdown",
   "id": "f60e9b85-4a75-4aa3-ad5a-2d4ef62d7d68",
   "metadata": {},
   "source": [
    "**In this notebook, we cover the following subjects:**\n",
    "- Classes Recap\n",
    "- Class Methods\n",
    "___________________________________________________________________________________________________________________________"
   ]
  },
  {
   "cell_type": "code",
   "execution_count": 46,
   "id": "73836810-4237-4d12-a9fd-375eeaf46208",
   "metadata": {
    "tags": []
   },
   "outputs": [],
   "source": [
    "# To enable type hints for lists, dicts, tuples, and sets we need to import the following:\n",
    "from typing import List, Dict, Tuple, Set"
   ]
  },
  {
   "cell_type": "markdown",
   "id": "be9069eb-c0a0-439d-aa05-7d6172f8ec11",
   "metadata": {},
   "source": [
    "If you've been following along, we’ve already dipped our toes into the world of Python `classes`. So far, we’ve covered what a `class` is, how to set up our trusty `__init__()` method, customized our object representations with `__str__()`, and explored how to create `objects` and access their `attributes`.This notebook will begin with a brief recap about these basics, then we will learn a key concept in **OOP** called `methods`"
   ]
  },
  {
   "cell_type": "markdown",
   "id": "c8a80dd6-2dfa-4ca2-9ddb-a61134447621",
   "metadata": {
    "tags": []
   },
   "source": [
    "## <span style=\"color:#4169E1\">Classes Recap</span>\n",
    "\n",
    "As we have already discussed, `classes` are a core concept in programming, often viewed as **blueprints** or **templates** for `creating objects`. This is important because, in Python, everything is an object—whether it’s an integer, a float, a list, or a string. Classes help you organize your code by bundling related data (**attributes**) with the functions (**methods**) that work with that data, making everything more logical and easier to manage."
   ]
  },
  {
   "cell_type": "markdown",
   "id": "6bf85c31-a2f8-43f5-85c9-1d155e79f46e",
   "metadata": {},
   "source": [
    "So, we’ve actually been working with classes all along, probably without you even realizing it. Take the `str` type, for example—it’s actually a class that handles strings of characters. Remember all those [methods][methods] you’ve used to manipulate string objects?\n",
    "\n",
    "[methods]:https://docs.python.org/3/library/stdtypes.html#string-methods"
   ]
  },
  {
   "cell_type": "code",
   "execution_count": 48,
   "id": "12b1715c-c75d-47dd-b50b-e216caf8453a",
   "metadata": {
    "tags": []
   },
   "outputs": [
    {
     "name": "stdout",
     "output_type": "stream",
     "text": [
      "Split string into words: ['Introduction', 'to', 'Python', 'Programming']\n",
      "\n",
      "You can also use the methods directly on string objects (i.e., not stored in variables).\n",
      "Split example: ['Python', 'Programming']\n"
     ]
    }
   ],
   "source": [
    "# Creating an instance of the str class\n",
    "my_string: str = \"Introduction to Python Programming\"  # 'my_string' is an instance of the str class\n",
    "\n",
    "# Using the split method to break the string into a list of words\n",
    "output: str = my_string.split(\" \")\n",
    "\n",
    "# Printing the result of the split method\n",
    "print(f\"Split string into words: {output}\\n\")\n",
    "\n",
    "# Demonstrating that methods can be used directly on string objects\n",
    "print(\"You can also use the methods directly on string objects (i.e., not stored in variables).\")\n",
    "print(f'Split example: {\"Python Programming\".split(\" \")}')"
   ]
  },
  {
   "cell_type": "markdown",
   "id": "761c371b-e2a7-433b-97b9-6f76abf9d616",
   "metadata": {},
   "source": [
    "The `str` class is built into Python, so it’s ready to use without any setup. You’ve already used its methods to work with strings, and you didn’t have to think about what’s happening behind the scenes. "
   ]
  },
  {
   "cell_type": "markdown",
   "id": "c9bc5dc3-afb9-4df0-882d-62447369cb93",
   "metadata": {},
   "source": [
    "<details>\n",
    "  <summary style=\"cursor: pointer; background-color: #d4edda; padding: 10px; border-radius: 5px; color: #155724; font-weight: bold;\">\n",
    "    Q: Can you think of any other classes that we have worked with?\n",
    "  </summary>\n",
    "<div style=\"background-color: #f4fdf7; padding: 12px; margin-top: 8px; border-radius: 6px; border: 1px solid #b7e4c7; color: #155724;\">\n",
    "    Exactly, <code>Lists</code>, <code>Dictionaries</code>, <code>Intigers</code> and so on are all classes.\n",
    "  </div>\n",
    "</details>"
   ]
  },
  {
   "cell_type": "markdown",
   "id": "d10e5f57-47a8-40dd-a305-7de0e63f8eef",
   "metadata": {},
   "source": [
    "### <span style=\"color:#B22222\">Defining a Class</span>\n",
    "\n",
    "We create a class with the `class` keyword, and everything inside it becomes part of that class."
   ]
  },
  {
   "cell_type": "code",
   "execution_count": 50,
   "id": "b3059232-1464-441e-a1ac-4d19a5efb52d",
   "metadata": {},
   "outputs": [],
   "source": [
    "class Book:\n",
    "    def __init__(self, title: str, author: str) -> None:\n",
    "        \"\"\"\n",
    "        Sets up a new Book instance.\n",
    "\n",
    "        :param title: The book's title.\n",
    "        :param author: The book's author.\n",
    "        \"\"\"\n",
    "        # The __init__ method is the constructor that initializes the object\n",
    "        self.title: str = title # This is an attribute of the class\n",
    "        self.author: str = author # This is another attribute of the class\n",
    "\n",
    "\n",
    "# Creating an instance (object) of Book\n",
    "my_book = Book(\"Little Women\", \"Louisa May Alcott\")"
   ]
  },
  {
   "cell_type": "markdown",
   "id": "03628d8c-d837-4128-b417-52a940423bf8",
   "metadata": {},
   "source": [
    "<div class=\"alert\" style=\"background-color: #ffecb3; color: #856404;\">\n",
    "    <b>Note</b> <br>\n",
    "A bit unintuitive, as we use <b>snake_case</b> in this course, but the name of a class should be written in <b>CamelCase</b>."
   ]
  },
  {
   "cell_type": "markdown",
   "id": "bd8162dc-2208-4bba-ab82-a6bd284fbeab",
   "metadata": {
    "tags": []
   },
   "source": [
    "### <span style=\"color:#B22222\">Attributes</span>\n",
    "\n",
    "\n",
    "**Attributes** are the characteristics or properties of an object. In a class, we define attributes to store data unique to each object created from that class. For example, the following class `Book` has two attributes, namely `title` and `author`. This means that every object we create from this class, representing a book, will have a title and an author.\n",
    "\n",
    "``` python\n",
    "# ... (class definition)\n",
    "    # ... (__init__ definition)\n",
    "        self.title: str = title  # This is an attribute of the class\n",
    "        self.author: str = author  # This is another attribute of the class\n",
    "```"
   ]
  },
  {
   "cell_type": "markdown",
   "id": "f3846a60-29fa-4c96-829a-9517a91e0be8",
   "metadata": {},
   "source": [
    "### <span style=\"color:#B22222\">The <code>__init__</code> Method</span>\n",
    "\n",
    "\n",
    "These attributes are set up in a special method called `__init__`. This method, known as a **constructor**, is essential in Python classes because it initializes everything when you create a new object. As soon as you make an instance of a class, `__init__` runs automatically to set up the attributes and other initial details for that object.\n",
    "\n",
    "```python\n",
    "# ... (class definition)\n",
    "    def __init__(self, title, author):\n",
    "        # The __init__ method is the constructor that initializes the object\n",
    "        self.title: str = title # This is an attribute of the class\n",
    "        self.author: str = author # This is another attribute of the class\n",
    "```"
   ]
  },
  {
   "cell_type": "markdown",
   "id": "a065f1f5-8bbc-4f26-b356-d4bc06aad34d",
   "metadata": {},
   "source": [
    "<details>\n",
    "  <summary style=\"cursor: pointer; background-color: #d4edda; padding: 10px; border-radius: 5px; color: #155724; font-weight: bold;\">\n",
    "    Q: What is still missing from the class definition?\n",
    "  </summary>\n",
    "<div style=\"background-color: #f4fdf7; padding: 12px; margin-top: 8px; border-radius: 6px; border: 1px solid #b7e4c7; color: #155724;\">\n",
    "    The class definition is missing type hints for the attributes (`title`, `author`) and docstrings.\n",
    "  </div>\n",
    "</details>"
   ]
  },
  {
   "cell_type": "markdown",
   "id": "85f5a1e6-f59e-4b7d-93bd-2d4702177a14",
   "metadata": {},
   "source": [
    "### <span style=\"color:#B22222\">The <code>self</code> keyword</span>"
   ]
  },
  {
   "cell_type": "markdown",
   "id": "96274271-22ea-468c-98ff-22208b47df29",
   "metadata": {},
   "source": [
    "We've covered almost all the components of a class, but we’ve somewhat awkwardly avoided discussing `self`, which appears everywhere: in attribute definitions and as the first parameter of each method. \n",
    "\n",
    "The `self` keyword is crucial in classes because it allows an instance of a class to refer to itself. When we create an object from a class, `self` enables that object to access its own attributes and methods. For example, when you use `self.title = title`, you’re specifying, “For this particular instance (`self`), the `title` attribute should be set to the value provided during object creation.”"
   ]
  },
  {
   "cell_type": "markdown",
   "id": "9273105c-7939-4688-aba3-0dcb2564b9d6",
   "metadata": {},
   "source": [
    "### <span style=\"color:#B22222\">Class Instance</span>\n",
    "\n",
    "Creating a new object is known as **instantiation**, and the object itself is called an **instance** of the class. Essentially, we use the blueprint provided by the class to create the object, and you can use this blueprint to create as many instances as you need.\n",
    "\n",
    "```python\n",
    "# ... (class definition)\n",
    "\n",
    "# Creating an instance (object) of Book\n",
    "my_book = Book(\"Little Women\", \"Louisa May Alcott\")\n",
    "```\n",
    "\n",
    "This code snippet, `Book(\"Little Women\", \"Louisa May Alcott\")`, calls the `Book` class constructor (the `__init__` method) with two arguments: `\"Little Women\"` and `\"Louisa May Alcott\"`. A new object is created using these arguments and assigned to the variable `my_book`."
   ]
  },
  {
   "cell_type": "markdown",
   "id": "591407c1-9a96-4b94-851a-0fbe93272c40",
   "metadata": {},
   "source": [
    "<div class=\"alert\" style=\"background-color: #ffecb3; color: #856404;\">\n",
    "    <b>Note</b> <br>\n",
    "Since every object is an instance of some class, “object” and “instance” are interchangeable terms."
   ]
  },
  {
   "cell_type": "markdown",
   "id": "763b6c29-d402-498b-a58f-c25369ecc52a",
   "metadata": {},
   "source": [
    "### <span style=\"color:#B22222\">Accessing an Attribute</span>"
   ]
  },
  {
   "cell_type": "markdown",
   "id": "d71ad900-6cc7-4fa2-b605-5fe6673dafcc",
   "metadata": {},
   "source": [
    "Both objects have stored attributes that are unique to each instance. To access these attributes, we use the following syntax (dot notation):\n",
    "\n",
    "```python\n",
    "instance.attribute\n",
    "```\n",
    "\n",
    "In practise, this looks as follows:"
   ]
  },
  {
   "cell_type": "code",
   "execution_count": 52,
   "id": "6ddc7219-a05f-47c0-8f9e-15c4a54ddbc9",
   "metadata": {
    "tags": []
   },
   "outputs": [
    {
     "name": "stdout",
     "output_type": "stream",
     "text": [
      "Book title: Little Women\n",
      "Book author: €Louisa May Alcott\n"
     ]
    }
   ],
   "source": [
    "# Accessing attributes\n",
    "print(f'Book title: {my_book.title}')\n",
    "print(f'Book author: €{my_book.author}')"
   ]
  },
  {
   "cell_type": "markdown",
   "id": "373e6ab8-bbb7-47cb-91e0-5fef11d0860a",
   "metadata": {
    "tags": []
   },
   "source": [
    "## <span style=\"color:#4169E1\">Class methods</span>\n",
    "\n",
    "You might be wondering, *\"Aren’t we already using methods inside our classes?\"* And you’re absolutely right! However, so far, the `methods` we've been using are tied to instances of a class. That means they work with individual objects we create, using their attributes and properties.\n",
    "\n",
    "But what if we want to do something that’s related to the class as a **whole** rather than any specific object? This is where `class methods` come in handy. Instead of focusing on a single instance, these methods can work at the **class level**, letting us access and modify the class itself.\n",
    "\n",
    "Before we dive deeper into class methods, let's take a step back and think about how we’ve been using **functions** in Python. Functions are great because they allow us to encapsulate logic, reuse code, and make our programs more modular. But what happens when we use functions inside a class?"
   ]
  },
  {
   "cell_type": "markdown",
   "id": "bb3d30e7-98bc-4e95-97fc-35be51b15b27",
   "metadata": {},
   "source": [
    "### <span style=\"color:#B22222\">Functions vs. Methods</span>"
   ]
  },
  {
   "cell_type": "markdown",
   "id": "7f7727de-6230-49f2-a0e2-3546302e9120",
   "metadata": {},
   "source": [
    "When we define a function inside a class, it’s called a `method`. However, it’s still essentially a function — the difference is that it now **belongs to the class** and operates on the data (attributes) of the objects created from that class.\n",
    "\n",
    "Let’s see an example to refresh our understanding:"
   ]
  },
  {
   "cell_type": "code",
   "execution_count": 71,
   "id": "8ecc38ad-5da9-4c4b-a369-c4cad8dfbe88",
   "metadata": {},
   "outputs": [
    {
     "name": "stdout",
     "output_type": "stream",
     "text": [
      "The length of the hypotenuse is: 5.0\n"
     ]
    }
   ],
   "source": [
    "import math\n",
    "\n",
    "def calculate_hypotenuse(a: float, b: float) -> float:\n",
    "    \"\"\"\n",
    "    Calculate the length of the hypotenuse of a right triangle given the lengths \n",
    "    of the other two sides using the Pythagorean theorem.\n",
    "\n",
    "    Args:\n",
    "        a (float): The length of one side of the triangle.\n",
    "        b (float): The length of the other side of the triangle.\n",
    "\n",
    "    Returns:\n",
    "        float: The length of the hypotenuse.\n",
    "    \"\"\"\n",
    "    return math.sqrt(a ** 2 + b ** 2)\n",
    "\n",
    "side1: float = 3.0\n",
    "side2: float = 4.0\n",
    "hypotenuse: float = calculate_hypotenuse(side1, side2)\n",
    "print(f\"The length of the hypotenuse is: {hypotenuse}\")"
   ]
  },
  {
   "cell_type": "markdown",
   "id": "749638f9-b8e4-475f-8cd2-aa2be9d89a73",
   "metadata": {},
   "source": [
    "The function `calculate_hypotenuse()` takes two arguments, a and b, representing the lengths of the two shorter sides of a right triangle. It uses the Pythagorean theorem (a^2 + b^2 = c^2) to calculate the hypotenuse (c) and returns its value. Easy enough, right? \n",
    "\n",
    "Now, let’s take this concept into the context of a `class`. First things first, let’s define a `Cube` class:"
   ]
  },
  {
   "cell_type": "code",
   "execution_count": 84,
   "id": "9cd45356-d25b-46de-be7e-2f3b85b54095",
   "metadata": {
    "tags": []
   },
   "outputs": [
    {
     "name": "stdout",
     "output_type": "stream",
     "text": [
      "Cube with side length: 4, color: blue, material: plastic, solid: True\n"
     ]
    }
   ],
   "source": [
    "class Cube:\n",
    "    \"\"\"\n",
    "    A class to represent a cube with additional attributes.\n",
    "\n",
    "    Attributes:\n",
    "        side_length (float): The length of a side of the cube.\n",
    "        color (str): The color of the cube.\n",
    "        material (str): The material of which the cube is made.\n",
    "        is_solid (bool): Indicates whether the cube is solid or hollow.\n",
    "    \"\"\"\n",
    "    def __init__(self, side_length: float, color: str, material: str, is_solid: bool) -> None:\n",
    "        self.side_length = side_length\n",
    "        self.color = color\n",
    "        self.material = material\n",
    "        self.is_solid = is_solid\n",
    "\n",
    "    def __str__(self) -> str:\n",
    "        return (f\"Cube with side length: {self.side_length}, color: {self.color}, \"\n",
    "                f\"material: {self.material}, solid: {self.is_solid}\")\n",
    "\n",
    "\n",
    "my_cube = Cube(4, \"blue\", \"plastic\", True)\n",
    "\n",
    "print(my_cube)"
   ]
  },
  {
   "cell_type": "markdown",
   "id": "28299383-e9a7-4dcc-8640-bae5dd05aac5",
   "metadata": {},
   "source": [
    " So far nothing new. Now, let's add two **methods** to our class:\n",
    " \n",
    " - The first **method** will calculate the `volume` of the cube\n",
    " - While the second **method** will `calculate_surface_area` of the cube\n",
    "\n",
    "these will help us explore more of the capabilities of classes."
   ]
  },
  {
   "cell_type": "code",
   "execution_count": 90,
   "id": "61094560-f9f9-40ba-98aa-31070bf8810f",
   "metadata": {},
   "outputs": [],
   "source": [
    "class Cube:\n",
    "    \"\"\"\n",
    "    A class to represent a cube with additional attributes.\n",
    "\n",
    "    Attributes:\n",
    "        side_length (float): The length of a side of the cube.\n",
    "        color (str): The color of the cube.\n",
    "        material (str): The material of which the cube is made.\n",
    "        is_solid (bool): Indicates whether the cube is solid or hollow.\n",
    "    \"\"\"\n",
    "    def __init__(self, side_length: float, color: str, material: str, is_solid: bool):\n",
    "        self.side_length = side_length\n",
    "        self.color = color\n",
    "        self.material = material\n",
    "        self.is_solid = is_solid\n",
    "\n",
    "    def __str__(self) -> str:\n",
    "        return (f\"Cube with side length: {self.side_length}, color: {self.color}, \"\n",
    "                f\"material: {self.material}, solid: {self.is_solid}\")\n",
    "\n",
    "    # class method\n",
    "    def calculate_volume(self) -> float:\n",
    "        return self.side_length ** 3\n",
    "\n",
    "    # class method\n",
    "    def calculate_surface_area(self) -> float:\n",
    "        return 6 * (self.side_length ** 2)\n"
   ]
  },
  {
   "cell_type": "markdown",
   "id": "074697ab-e1ac-4b5a-b0dd-5401ed460803",
   "metadata": {},
   "source": [
    "So what did we do here?\n",
    "\n",
    "The `calculate_volume()` **method** calculates the volume of the cube. The volume of a cube is the amount of space it occupies, measured in cubic units. The formula to calculate the volume of a cube is: volume = side_length^3\n",
    "\n",
    "In this method, `self.side_length` refers to the `side_length` attribute of the specific cube on which the method is called. \n",
    "- If we call `cube1.calculate_volume()`, self refers to **cube1**, so it will **use cube1's side_length**. \n",
    "- If we call `cube2.calculate_volume()`, self will **refer to cube2** and use **cube2's side_length**.\n",
    "\n",
    "Let's see it in action:"
   ]
  },
  {
   "cell_type": "code",
   "execution_count": 98,
   "id": "edbb7b69-954e-403d-881b-91537ab75a17",
   "metadata": {},
   "outputs": [
    {
     "name": "stdout",
     "output_type": "stream",
     "text": [
      " The side length of cube1 is 4\n",
      " The side length of cube1 is 3\n",
      "----------------------------------------\n",
      " The surface area of cube1 is 96\n",
      " The surface area of cube1 is 54\n"
     ]
    }
   ],
   "source": [
    "cube1: Cube = Cube(4, \"red\", \"wood\", True)\n",
    "cube2: Cube = Cube(3, \"blue\", \"plastic\", False)\n",
    "\n",
    "print(f' The side length of cube1 is {cube1.side_length}')\n",
    "print(f' The side length of cube1 is {cube2.side_length}')\n",
    "print('--'*20)\n",
    "print(f' The surface area of cube1 is {cube1.calculate_surface_area()}')\n",
    "print(f' The surface area of cube1 is {cube2.calculate_surface_area()}')"
   ]
  },
  {
   "cell_type": "markdown",
   "id": "120f7536-edd1-4fa3-a914-9460b906153e",
   "metadata": {
    "tags": []
   },
   "source": [
    "<h4 style=\"color:#B22222\">Let's Think!</h4>"
   ]
  },
  {
   "cell_type": "markdown",
   "id": "cf9e6a3c-8d5f-4d94-bcc8-d9f987fec08e",
   "metadata": {},
   "source": [
    "<details>\n",
    "  <summary style=\"cursor: pointer; background-color: #d4edda; padding: 10px; border-radius: 5px; color: #155724; font-weight: bold;\">\n",
    "    Q: What will be the output of the cell bellow?\n",
    "  </summary>\n",
    "<div style=\"background-color: #f4fdf7; padding: 12px; margin-top: 8px; border-radius: 6px; border: 1px solid #b7e4c7; color: #155724;\">\n",
    "    The message: \"Cube 1 has a larger surface area\" will be printed.\n",
    "  </div>\n",
    "</details>\n"
   ]
  },
  {
   "cell_type": "code",
   "execution_count": 107,
   "id": "9eea1bbe-5f97-42ce-b798-598f7506f0ae",
   "metadata": {
    "scrolled": true,
    "tags": []
   },
   "outputs": [
    {
     "name": "stdout",
     "output_type": "stream",
     "text": [
      "Cube 1 has a larger surface area\n"
     ]
    }
   ],
   "source": [
    "if cube1.calculate_surface_area() > cube2.calculate_surface_area():\n",
    "    print('Cube 1 has a larger surface area')\n",
    "else:\n",
    "    print(':(')"
   ]
  },
  {
   "cell_type": "markdown",
   "id": "3cdad7ea-f5ba-4967-b1f5-dc4d1ac5e2a1",
   "metadata": {},
   "source": [
    "Let's look at one last example..."
   ]
  },
  {
   "cell_type": "code",
   "execution_count": 137,
   "id": "710ef7e4-1f3d-435f-a225-0787c46ece48",
   "metadata": {},
   "outputs": [],
   "source": [
    "class Penguin:\n",
    "    \"\"\"\n",
    "    A class to represent a penguin.\n",
    "\n",
    "    Attributes:\n",
    "        name (str): The name of the penguin.\n",
    "        age (int): The age of the penguin in years.\n",
    "        species (str): The species of the penguin.\n",
    "        weight (float): The weight of the penguin in kilograms.\n",
    "        is_hungry (bool): Indicates if the penguin is hungry.\n",
    "    \"\"\"\n",
    "    def __init__(self, name: str, age: int, species: str, weight: float, is_hungry: bool) -> None:\n",
    "        self.name = name\n",
    "        self.age = age\n",
    "        self.species = species\n",
    "        self.weight = weight\n",
    "        self.is_hungry = is_hungry\n",
    "\n",
    "    def __str__(self) -> str:\n",
    "        return (f\"Penguin {self.name} (Species: {self.species}) - Age: {self.age} years, \"\n",
    "                f\"Weight: {self.weight} kg, Hungry: {self.is_hungry}\")\n",
    "\n",
    "    def swim(self) -> str:\n",
    "        return f\"{self.name} is happily swimming in the cold water! 🏊‍♂️❄️\"\n",
    "\n",
    "    def eat(self, food: str) -> str:\n",
    "        if self.is_hungry:\n",
    "            self.is_hungry = False\n",
    "            return f\"{self.name} ate the {food} and is now full. 🍽️\"\n",
    "        else:\n",
    "            return f\"{self.name} is not hungry right now.\"\n",
    "\n",
    "    def grow_older(self) -> None:\n",
    "        self.age += 1\n",
    "        return(f\"{self.name} has turned {self.age} years old! 🎂\")"
   ]
  },
  {
   "cell_type": "markdown",
   "id": "cfb7d91c-1e04-4d64-90b8-b86e43e9b02d",
   "metadata": {},
   "source": [
    "Let's break down each method one by one:\n",
    "\n",
    "- The `swim()` method simulates the penguin swimming. This method simply returns a message indicating that the penguin is happily swimming.\n",
    "- The `eat()` method feeds the penguin **if** it's hungry. This method checks if the `is_hungry` attribute is `True`.\n",
    "    - If the penguin is hungry, it changes `is_hungry` to `False` and returns a message that the penguin ate the given food.\n",
    "    - If the penguin is not hungry, it returns a different message.\n",
    "- The `grow_older()` method increases the `age` of the penguin by one year. This method **adds 1** to the `age` attribute of the penguin. It also returns a message to indicate the penguin's new age.\n",
    "\n",
    "Let's see some example code:"
   ]
  },
  {
   "cell_type": "code",
   "execution_count": 141,
   "id": "d9f08b22-118d-4873-89ad-fec790c73a17",
   "metadata": {},
   "outputs": [
    {
     "name": "stdout",
     "output_type": "stream",
     "text": [
      "Penguin Liv (Species: Emperor penguin) - Age: 2 years, Weight: 30.21 kg, Hungry: True\n",
      "------------------------------------------------------------\n",
      "Liv is happily swimming in the cold water! 🏊‍♂️❄️\n",
      "------------------------------------------------------------\n",
      "Liv ate the Antarctic silverfish and is now full. 🍽️\n",
      "------------------------------------------------------------\n"
     ]
    }
   ],
   "source": [
    "penguin_1 = Penguin('Liv', 2, 'Emperor penguin', 30.21, True)\n",
    "print(penguin_1)\n",
    "print('---'*20)\n",
    "print(penguin_1.swim())\n",
    "print('---'*20)\n",
    "print(penguin_1.eat('Antarctic silverfish'))\n",
    "print('---'*20)"
   ]
  },
  {
   "cell_type": "markdown",
   "id": "efdbd731-a503-4151-a231-f990a0a06141",
   "metadata": {},
   "source": [
    "Notice that now the `is_hungry` attribute is set to `False`:"
   ]
  },
  {
   "cell_type": "code",
   "execution_count": 143,
   "id": "bcfcc1b9-0add-45f1-bc71-ce9cdc5a7e11",
   "metadata": {},
   "outputs": [
    {
     "name": "stdout",
     "output_type": "stream",
     "text": [
      "False\n"
     ]
    }
   ],
   "source": [
    "print(penguin_1.is_hungry)"
   ]
  },
  {
   "cell_type": "markdown",
   "id": "c2158759-0d50-4e88-a928-568df57158df",
   "metadata": {},
   "source": [
    "Lastly, let's increase our penguin's age."
   ]
  },
  {
   "cell_type": "code",
   "execution_count": 145,
   "id": "70fe749e-2430-4f13-84ab-85d593b83f35",
   "metadata": {},
   "outputs": [
    {
     "name": "stdout",
     "output_type": "stream",
     "text": [
      "Liv has turned 3 years old! 🎂\n"
     ]
    }
   ],
   "source": [
    "print(penguin_1.grow_older())"
   ]
  },
  {
   "cell_type": "markdown",
   "id": "88ea9ec9-21b3-43aa-89ea-7eaf0a148184",
   "metadata": {},
   "source": [
    "Throughout this notebook, we used `self` to refer to the **current instance** of the class. It allowed us to **access** and **modify** the **attributes** and call **methods** specific to each object we created. For example, in our Penguin class, self was used to store each penguin's name, age, and species, making each penguin object unique."
   ]
  },
  {
   "cell_type": "markdown",
   "id": "37bbb523-2204-49dc-9282-2de7d3ce628b",
   "metadata": {},
   "source": [
    "<div class=\"alert\" style=\"background-color: #ffecb3; color: #856404;\">\n",
    "    <b>Note</b> <br>\n",
    "Remember: self is what connects an object's data with its behavior, allowing each instance of a class to maintain its own state while sharing the same methods."
   ]
  },
  {
   "cell_type": "markdown",
   "id": "4d1da063-1a8e-4dd7-a1d6-d7ff025b182a",
   "metadata": {
    "tags": []
   },
   "source": [
    "<h2 style=\"color:#3CB371\">Exercises</h2>"
   ]
  },
  {
   "cell_type": "markdown",
   "id": "7e6f54ce-8e8e-4bed-981f-1884e86bc21f",
   "metadata": {},
   "source": [
    "Let's practice! Mind that each exercise is designed with multiple levels to help you progressively build your skills. <span style=\"color:darkorange;\"><strong>Level 1</strong></span> is the foundational level, designed to be straightforward so that everyone can successfully complete it. In <span style=\"color:darkorange;\"><strong>Level 2</strong></span>, we step it up a notch, expecting you to use more complex concepts or combine them in new ways. Finally, in <span style=\"color:darkorange;\"><strong>Level 3</strong></span>, we get closest to exam level questions, but we may use some concepts that are not covered in this notebook. However, in programming, you often encounter situations where you’re unsure how to proceed. Fortunately, you can often solve these problems by starting to work on them and figuring things out as you go. Practicing this skill is extremely helpful, so we highly recommend completing these exercises.\n",
    "\n",
    "For each of the exercises, make sure to add a `docstring` and `type hints`, and **do not** import any libraries unless specified otherwise.\n",
    "<br>"
   ]
  },
  {
   "cell_type": "markdown",
   "id": "e255d3e1-8bba-4d73-aa0c-94c01292d302",
   "metadata": {
    "tags": []
   },
   "source": [
    "### Exercise 1\n",
    "\n",
    "The **Magical Café** chain features numerous restaurants, each offering a unique selection of magical dishes and drinks inspired by the wizarding world. Each restaurant operates independently, managing its own menu. \n",
    "\n",
    "<span style=\"color:darkorange;\"><strong>Level 1</strong>:</span> Your task is to create a `Restaurant` class that enables each branch of the Magical Café chain to handle its menu. The class should be initialized with a restaurant **name** and an **empty menu**. Additionally, you need to implement methods to **add** items to the menu, **remove** items from the menu, and **display** the current menu. Each menu item should include a **product name** and its **associated price**."
   ]
  },
  {
   "cell_type": "code",
   "execution_count": null,
   "id": "0e321c54-90bf-46a1-9bbb-97c36028bd33",
   "metadata": {
    "tags": []
   },
   "outputs": [],
   "source": [
    "# TODO.\n",
    "\n",
    "class Restaurant:\n",
    "    pass"
   ]
  },
  {
   "cell_type": "markdown",
   "id": "011d751d-8621-49e8-bc7c-1d5c181a91a3",
   "metadata": {},
   "source": [
    "___________________________________________________________________________________________________________________________\n",
    "\n",
    "*Material for the VU Amsterdam course “Introduction to Python Programming” for BSc Artificial Intelligence students. These notebooks are created using the following sources:*\n",
    "1. [Learning Python by Doing][learning python]: This book, developed by teachers of TU/e Eindhoven and VU Amsterdam, is the main source for the course materials. Code snippets or text explanations from the book may be used in the notebooks, sometimes with slight adjustments.\n",
    "2. [Think Python][think python]\n",
    "3. [GeekForGeeks][geekforgeeks]\n",
    "\n",
    "[learning python]: https://programming-pybook.github.io/introProgramming/intro.html\n",
    "[think python]: https://greenteapress.com/thinkpython2/html/\n",
    "[geekforgeeks]: https://www.geeksforgeeks.org"
   ]
  }
 ],
 "metadata": {
  "kernelspec": {
   "display_name": "Python 3 (ipykernel)",
   "language": "python",
   "name": "python3"
  },
  "language_info": {
   "codemirror_mode": {
    "name": "ipython",
    "version": 3
   },
   "file_extension": ".py",
   "mimetype": "text/x-python",
   "name": "python",
   "nbconvert_exporter": "python",
   "pygments_lexer": "ipython3",
   "version": "3.11.4"
  }
 },
 "nbformat": 4,
 "nbformat_minor": 5
}

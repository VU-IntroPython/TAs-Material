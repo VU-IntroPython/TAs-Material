{
 "cells": [
  {
   "cell_type": "markdown",
   "metadata": {},
   "source": [
    "# For Loop"
   ]
  },
  {
   "cell_type": "markdown",
   "metadata": {},
   "source": [
    "*Material for the VU Amsterdam course “Introduction to Python Programming” for BSc Artificial Intelligence students. These notebooks are created using the following sources:*\n",
    "1. [Learning Python by Doing][learning python]: This book, developed by teachers of TU/e Eindhoven and VU Amsterdam, is the main source for the course materials. Code snippets or text explanations from the book may be used in the notebooks, sometimes with slight adjustments.\n",
    "2. [Think Python][think python]\n",
    "3. [GeekForGeeks][geekforgeeks]\n",
    "\n",
    "[learning python]: https://programming-pybook.github.io/introProgramming/intro.html\n",
    "[think python]: https://greenteapress.com/thinkpython2/html/\n",
    "[geekforgeeks]: https://www.geeksforgeeks.org\n",
    "\n",
    "**In this notebook, we cover the following subjects:**\n",
    "- Todo.\n",
    "___________________________________________________________________________________________________________________________"
   ]
  },
  {
   "cell_type": "markdown",
   "metadata": {},
   "source": [
    "<h2 style=\"color:#4169E1\">Iterable Objects</h2>\n",
    "\n",
    "When you can loop over (i.e., iterate through) an object, accessing each element of this object, we speak of an **iterable**. You can think of an iterable object as a container that holds multiple items, and you have the ability to inspect each item in a systematic way."
   ]
  },
  {
   "cell_type": "markdown",
   "metadata": {},
   "source": [
    "So far, we have explored various data types, and it's important to note that while some of these data types are iterable, others are not:\n",
    "\n",
    "| Data Type      | Iterable |\n",
    "|:--------------:|:--------:|\n",
    "| Lists      |   Yes    |\n",
    "| Strings    |   Yes    |\n",
    "| Tuples         |   Yes    |\n",
    "| Sets           |   Yes    |\n",
    "| Dictionaries   |   Yes    |\n",
    "| Integers   |    No    |\n",
    "| Floats     |    No    |\n",
    "| Booleans   |    No    |\n",
    "| None (NoneType)|    No    |\n",
    "| Custom Objects | It depends (can be made iterable) |\n",
    "\n",
    "If some of these data types are new to you, don’t worry; these will be explained in other notebooks."
   ]
  },
  {
   "cell_type": "markdown",
   "metadata": {},
   "source": [
    "<h4 style=\"color:#B22222\">An Example: Strings</h4>\n",
    "\n",
    "As the table suggests, [strings][string] are iterable. However, you might be wondering how. If you look closely at a string, it is simply a collection of characters. To come back to our previous analogy, the string can be viewed as a container, with each character being an item within that container. Let's look an an example.\n",
    "\n",
    "[string]:https://programming-pybook.github.io/introProgramming/chapters/strings.html"
   ]
  },
  {
   "cell_type": "code",
   "execution_count": null,
   "metadata": {
    "tags": []
   },
   "outputs": [],
   "source": [
    "favourite_movie_character = \"Rubeus Hagrid\""
   ]
  },
  {
   "cell_type": "markdown",
   "metadata": {},
   "source": [
    "Here, we created a new variable and assigned the string \"Rubeus Hagrid\" to it. Assume you just want to know the first letter of the characters name, how can you do this? \n",
    "\n",
    "Python has a very neat way of doing this called **indexing**, where you can select one of the characters in a string. Indexing can only be done on iterables and works on a string as follows:"
   ]
  },
  {
   "cell_type": "code",
   "execution_count": null,
   "metadata": {},
   "outputs": [],
   "source": [
    "print(favourite_movie_character[0])"
   ]
  },
  {
   "cell_type": "markdown",
   "metadata": {
    "tags": []
   },
   "source": [
    "We can also assign the result to a new variable:"
   ]
  },
  {
   "cell_type": "code",
   "execution_count": null,
   "metadata": {
    "tags": []
   },
   "outputs": [],
   "source": [
    "first_letter_of_favourite_movie_character = favourite_movie_character[0]\n",
    "\n",
    "print(first_letter_of_favourite_movie_character)"
   ]
  },
  {
   "cell_type": "markdown",
   "metadata": {},
   "source": [
    "The expression in square brackets is called an **index** and it only takes integer values. The index indicates which character in the sequence you want (hence the name). The first letter of a string is obtained by index 0.\n",
    "\n",
    "| 0 | 1 | 2 | 3 | 4 |\n",
    "|---|---|---|---|---|\n",
    "| D | o | b | b | y |"
   ]
  },
  {
   "cell_type": "code",
   "execution_count": 47,
   "metadata": {},
   "outputs": [
    {
     "name": "stdout",
     "output_type": "stream",
     "text": [
      "D\n"
     ]
    }
   ],
   "source": [
    "info = \"Dobby\"[0]\n",
    "print(info)"
   ]
  },
  {
   "cell_type": "markdown",
   "metadata": {},
   "source": [
    "In Python, you are also allowed to do **negative indexing**. What will the following cell print?"
   ]
  },
  {
   "cell_type": "code",
   "execution_count": 45,
   "metadata": {
    "tags": []
   },
   "outputs": [
    {
     "name": "stdout",
     "output_type": "stream",
     "text": [
      "b\n"
     ]
    }
   ],
   "source": [
    "info = \"Dobby\"[-3]\n",
    "print(info)"
   ]
  },
  {
   "cell_type": "markdown",
   "metadata": {},
   "source": [
    "You can access elements from the back using negative indexing, where `-1` corresponds to the last element.\n",
    "\n",
    "| -5 | -4 | -3 | -2 | -1 |\n",
    "|---|---|---|---|---|\n",
    "| D | o | b | b | y |"
   ]
  },
  {
   "cell_type": "markdown",
   "metadata": {},
   "source": []
  },
  {
   "cell_type": "markdown",
   "metadata": {},
   "source": [
    "These rules also apply to the elements of other iterables."
   ]
  },
  {
   "cell_type": "code",
   "execution_count": 68,
   "metadata": {
    "tags": []
   },
   "outputs": [
    {
     "name": "stdout",
     "output_type": "stream",
     "text": [
      "Harry\n",
      "Voldemort\n",
      "['Ron', 'Hermione']\n",
      "['Ron', 'Malfoy']\n"
     ]
    }
   ],
   "source": [
    "characters = [\"Harry\", \"Ron\", \"Hermione\", \"Malfoy\", \"Voldemort\"]\n",
    "\n",
    "print(characters[0])\n",
    "print(characters[-1])\n",
    "print(characters[1:3])\n",
    "print(characters[1::2])"
   ]
  },
  {
   "cell_type": "markdown",
   "metadata": {},
   "source": [
    "<div class=\"alert\" style=\"background-color: #ffecb3; color: #856404;\">\n",
    "    <b>Note</b> <br>\n",
    "    String are <b>immutable</b>, meaning it is not possible to change an existing string. You <b>must</b> create a\n",
    "    new string if you want to change an existing one. \n",
    "</div>"
   ]
  },
  {
   "cell_type": "markdown",
   "metadata": {
    "tags": []
   },
   "source": [
    "<h2 style=\"color:#4169E1\">The While Statement</h2>\n",
    "\n",
    "\n",
    "- Computers are good in repeating boring tasks, they do this faster and more accurate than people. A block of code that is executed several times is called a loop. Each repetition of instructions within a loop is called an iteration.\n",
    "\n",
    "\n",
    "\n",
    "A **while loop** in Python is a control structure that allows you to repeatedly execute a block of code as long as a specified **condition** is **True**. \n",
    "\n",
    "The loop starts by evaluating the condition, and if it is **True**, the code inside the loop is executed. After each iteration, the condition is re-evaluated, and the loop continues to run until the condition becomes **False**.\n",
    "\n",
    "```python\n",
    "while condition:\n",
    "    # Code to execute while condition is True\n",
    "```"
   ]
  },
  {
   "cell_type": "code",
   "execution_count": null,
   "metadata": {},
   "outputs": [],
   "source": [
    "platform: int = 1\n",
    "\n",
    "while platform < 10:\n",
    "    \n",
    "    print(\"You are at Platform {platform_no}.\".format(platform_no = platform))\n",
    "    \n",
    "    platform = platform + 1\n",
    "\n",
    "print(\"Be careful! Only 3/4 platforms to go.\")\n",
    "\n",
    "# How could we simplify platform = platform + 1 ?"
   ]
  },
  {
   "cell_type": "markdown",
   "metadata": {},
   "source": [
    "<h4 style=\"color:#B22222\">Break</h4>"
   ]
  },
  {
   "cell_type": "markdown",
   "metadata": {
    "tags": []
   },
   "source": [
    "<h2 style=\"color:#3CB371\">Exercises</h2>"
   ]
  },
  {
   "cell_type": "markdown",
   "metadata": {
    "tags": []
   },
   "source": [
    "### Exercise 3: Reverse a String\n",
    "\n",
    "Write a Python function called `reverse_string` that takes a string as input and returns the reverse of the string. Make sure to use the return statement. Additionally, print the result outside of the function."
   ]
  },
  {
   "cell_type": "markdown",
   "metadata": {},
   "source": [
    "**Example**:\n",
    "- Input: `reverse_string(\"Python\")`<br>\n",
    "- Output: \"nohtyP\""
   ]
  },
  {
   "cell_type": "code",
   "execution_count": null,
   "metadata": {},
   "outputs": [],
   "source": [
    "# TODO."
   ]
  },
  {
   "cell_type": "markdown",
   "metadata": {},
   "source": [
    "**EXTRA CHALLENGE (optional):** Extend the `reverse_string` function to take a string as input, reverse it, and return `True` if the reversed string is a palindrome (reads the same forwards and backwards), and `False` otherwise. Call the new function `reverse_string_and_check_palindrome`. Make sure to use the return statement. Additionally, print the result outside of the function."
   ]
  },
  {
   "cell_type": "markdown",
   "metadata": {},
   "source": [
    "**Example**\n",
    "- Input: `reverse_string_and_check_palindrome(\"racecar\")`\n",
    "- Output: True\n"
   ]
  },
  {
   "cell_type": "code",
   "execution_count": null,
   "metadata": {},
   "outputs": [],
   "source": [
    "# TODO: Extra"
   ]
  },
  {
   "cell_type": "markdown",
   "metadata": {},
   "source": [
    "### Exercise 4: Find the Longest Word in a Sentence\n",
    "\n",
    "Write a Python function called `find_longest_word` that takes a sentence as input and returns the longest word in the sentence. If there are multiple words having the highest length, return the first word in the sentence having that length.  Make sure to use the return statement. Additionally, print the result outside of the function. Assume that words are separated by spaces, and there are no punctuation marks. **Hint**: Look up the string method `.split()`\n"
   ]
  },
  {
   "cell_type": "markdown",
   "metadata": {},
   "source": [
    "**Example**<br>\n",
    "- Input: `find_longest_word(\"The quick brown fox jumps over the lazy dog\")`<br>\n",
    "- Output: \"quick\""
   ]
  },
  {
   "cell_type": "code",
   "execution_count": null,
   "metadata": {},
   "outputs": [],
   "source": [
    "# TODO."
   ]
  },
  {
   "cell_type": "markdown",
   "metadata": {},
   "source": [
    "**EXTRA CHALLENGE (optional):** Modify the `find_longest_word` function to take a sentence as input and return a list of all the longest words in the sentence. If there are multiple words with the same longest length, include all of them in the list. Make sure to use the return statement. Additionally, print the result outside of the function."
   ]
  },
  {
   "cell_type": "markdown",
   "metadata": {},
   "source": [
    "**Example**<br>\n",
    "- Input: `find_longest_word(\"The quick brown fox jumps over the lazy dog\")`<br>\n",
    "- Output: [\"quick\", \"brown\"]"
   ]
  },
  {
   "cell_type": "code",
   "execution_count": null,
   "metadata": {},
   "outputs": [],
   "source": [
    "# TODO: Extra"
   ]
  },
  {
   "cell_type": "markdown",
   "metadata": {},
   "source": [
    "### Exercise 5: Find the Median of a List"
   ]
  },
  {
   "cell_type": "markdown",
   "metadata": {},
   "source": [
    "Write a Python function called `find_median` that takes a list of sorted numbers as input and returns the median value. The median is the middle value in a sorted list of numbers. If the list has an even number of elements, return the average of the two middle values. Make sure to use the return statement. Additionally, print the result outside of the function."
   ]
  },
  {
   "cell_type": "markdown",
   "metadata": {},
   "source": [
    "**Example**<br>\n",
    "- Input: `find_median([1, 2, 3, 6])`<br>\n",
    "- Output: \"2.5\"\n"
   ]
  },
  {
   "cell_type": "code",
   "execution_count": null,
   "metadata": {},
   "outputs": [],
   "source": [
    "# TODO."
   ]
  },
  {
   "cell_type": "markdown",
   "metadata": {},
   "source": [
    "**EXTRA CHALLENGE (optional):** Modify the `find_median` function to take a list of numbers as input, find the median value, and return it. However, this time, ensure that the function works correctly even if the input list is not sorted. Make sure to use the return statement. Additionally, print the result outside of the function."
   ]
  },
  {
   "cell_type": "markdown",
   "metadata": {},
   "source": [
    "**Example**<br>\n",
    "- Input: `find_median([3, 1, 6, 2])`<br>\n",
    "- Output: \"2.5\""
   ]
  }
 ],
 "metadata": {
  "kernelspec": {
   "display_name": "Python 3 (ipykernel)",
   "language": "python",
   "name": "python3"
  },
  "language_info": {
   "codemirror_mode": {
    "name": "ipython",
    "version": 3
   },
   "file_extension": ".py",
   "mimetype": "text/x-python",
   "name": "python",
   "nbconvert_exporter": "python",
   "pygments_lexer": "ipython3",
   "version": "3.11.5"
  },
  "vscode": {
   "interpreter": {
    "hash": "9451767feaf7925185bf37009af3205aec0103dc88a66dc09d267eb54aa4b1c3"
   }
  }
 },
 "nbformat": 4,
 "nbformat_minor": 4
}

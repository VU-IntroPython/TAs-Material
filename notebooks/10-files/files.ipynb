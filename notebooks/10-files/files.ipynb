{
 "cells": [
  {
   "cell_type": "markdown",
   "id": "3b6771c4-7d80-49ab-a98e-7c0413a245f2",
   "metadata": {},
   "source": [
    "# Files"
   ]
  },
  {
   "cell_type": "markdown",
   "id": "12b4410c-1e8e-4508-bc29-4cb7ad1e56b4",
   "metadata": {},
   "source": [
    "*Material for the VU Amsterdam course “Introduction to Python Programming” for BSc Artificial Intelligence students. These notebooks are created using the following sources:*\n",
    "1. [Learning Python by Doing][learning python]: This book, developed by teachers of TU/e Eindhoven and VU Amsterdam, is the main source for the course materials. Code snippets or text explanations from the book may be used in the notebooks, sometimes with slight adjustments.\n",
    "2. [Think Python][think python]\n",
    "3. [GeekForGeeks][geekforgeeks]\n",
    "4. [Python for Text Analysis][textanalysis]: For this particular notebook on working with files, we’ve drawn inspiration from the VU Master’s course Python for Text Analysis offered by the Humanities department. \n",
    "\n",
    "[learning python]: https://programming-pybook.github.io/introProgramming/intro.html\n",
    "[think python]: https://greenteapress.com/thinkpython2/html/\n",
    "[geekforgeeks]: https://www.geeksforgeeks.org\n",
    "[textanalysis]: https://github.com/cltl/python-for-text-analysis/blob/master/Chapters/Chapter%2014%20-%20Reading%20and%20writing%20text%20files.ipynb\n",
    "\n",
    "**In this notebook, we cover the following subjects:**\n",
    "- Todo.\n",
    "___________________________________________________________________________________________________________________________"
   ]
  },
  {
   "cell_type": "code",
   "execution_count": 50,
   "id": "03fbdb61-b65e-426a-87cb-dfccccf98af6",
   "metadata": {
    "tags": []
   },
   "outputs": [],
   "source": [
    "# To enable type hints for lists, dicts, tuples, and sets we need to import the following:\n",
    "from typing import List, Dict, Tuple, Set"
   ]
  },
  {
   "cell_type": "markdown",
   "id": "8631dec5-2602-4e94-8e3b-418d231296ae",
   "metadata": {
    "tags": []
   },
   "source": [
    "<h2 style=\"color:#4169E1\">Opening Files</h2>\n",
    "\n",
    "So far, we have worked with data that was stored and created directly in our notebooks. For example, we created a dictionary of word frequencies from a string of text. However, most of the data we use in real-world applications is stored in files, often due to its sheer size or because it needs to be kept for future use. Therefore, it’s essential to learn how to retrieve this data so we can perform operations on it.\n",
    "\n",
    "First things first. How do we open a file? Your intuition might lead you to something like this:"
   ]
  },
  {
   "cell_type": "markdown",
   "id": "28fbec47-99d3-46aa-bc28-57e2d654fcd2",
   "metadata": {},
   "source": [
    "<h4 style=\"color:#B22222\">File Names and Paths</h4>\n"
   ]
  },
  {
   "cell_type": "markdown",
   "id": "8aea9896-916f-46d2-b32c-ee8919db8685",
   "metadata": {},
   "source": [
    "<h4 style=\"color:#B22222\">The <code>open()</code> Function</h4>\n"
   ]
  },
  {
   "cell_type": "code",
   "execution_count": 23,
   "id": "002af500-4835-439c-a14f-817c97d32b5b",
   "metadata": {
    "tags": []
   },
   "outputs": [
    {
     "name": "stdout",
     "output_type": "stream",
     "text": [
      "Type of the open file object is: <class '_io.TextIOWrapper'>\n",
      "\n",
      "Content of our file is:\n",
      "\n",
      "<_io.TextIOWrapper name='assets/halloween.txt' mode='r' encoding='UTF-8'>\n"
     ]
    }
   ],
   "source": [
    "file = open(\"assets/halloween.txt\")\n",
    "\n",
    "print(f'Type of the open file object is: {type(file)}')\n",
    "print('\\nContent of our file is:\\n')\n",
    "print(file)\n",
    "\n",
    "# Does it work like expected?"
   ]
  },
  {
   "cell_type": "markdown",
   "id": "e9b8db3e-4d6c-4509-acca-cca150793181",
   "metadata": {},
   "source": [
    "This isn’t quite what we expected, is it? The function seems to return something called a `_io.TextIOWrapper` object. This happens because when we try to open a file, we’re really asking the **operating system (OS)** to locate the file by its name and ensure it exists. We use Python’s built-in `open()` function to do this. If the `open()` function is successful, the operating system returns a **file handle**, which in this case is the `_io.TextIOWrapper` object. The file handle isn’t the actual data, but rather an intermediary that allows us to read from or write to the file.\n",
    "\n",
    "So, while we might have expected the content of the data to be displayed when we printed the file, the first step was successful; the file was located, and a file handle was returned. Now, let’s move on to the next step: how do we actually read a file?"
   ]
  },
  {
   "cell_type": "markdown",
   "id": "d72d7f6b-972a-4155-b9df-bb6cc942c70d",
   "metadata": {},
   "source": [
    "<div class=\"alert\" style=\"background-color: #ffecb3; color: #856404;\">\n",
    "    <b>Note</b><br>\n",
    "Programs that store their data are <b>persistent</b>.</div>"
   ]
  },
  {
   "cell_type": "markdown",
   "id": "6d3826a7-4e57-4901-ac93-68a068c518c5",
   "metadata": {
    "tags": []
   },
   "source": [
    "<h2 style=\"color:#4169E1\">Reading Files</h2>"
   ]
  },
  {
   "cell_type": "markdown",
   "id": "22313c66-8e58-421e-a877-ecd51764a791",
   "metadata": {
    "tags": []
   },
   "source": [
    "<h4 style=\"color:#B22222\">The <code>.read()</code> Method</h4>\n"
   ]
  },
  {
   "cell_type": "markdown",
   "id": "8f69647d-4d5a-4e62-968c-5ab8575fc1fc",
   "metadata": {},
   "source": [
    "<h4 style=\"color:#B22222\">The <code>.readlines()</code> Method</h4>\n"
   ]
  },
  {
   "cell_type": "markdown",
   "id": "2123e954-b5cb-407c-8304-5a3aa71b349b",
   "metadata": {},
   "source": [
    "<h4 style=\"color:#B22222\">The <code>.readline()</code> Method</h4>\n"
   ]
  },
  {
   "cell_type": "markdown",
   "id": "f1088cb2-15b2-430b-aa03-c68f060fe7db",
   "metadata": {},
   "source": [
    "It’s important to note that the `open()` function doesn’t read the entire content of the file all at once. This is because the file might be too large to fit into the main memory. As a result, the `open()` function takes the same amount of time to execute, no matter the size of the file.\n",
    "\n",
    "As aforementioned, when we call the `open()` function, it returns a file handle that can be used within a `for` loop to read each line of the file. Python handles splitting the content into **separate lines** for us. Using a `for` loop allows us to efficiently read a file of any size, as each line is read, processed, and then discarded.\n",
    "\n",
    "The following code creates a file handle and counts the number of lines in the file."
   ]
  },
  {
   "cell_type": "code",
   "execution_count": 41,
   "id": "ddb8956f-2e17-483e-ac92-9a148938123a",
   "metadata": {
    "tags": []
   },
   "outputs": [
    {
     "name": "stdout",
     "output_type": "stream",
     "text": [
      "10\n"
     ]
    }
   ],
   "source": [
    "file = open(\"assets/halloween.txt\")\n",
    "count : int = 0\n",
    "\n",
    "for line in file:\n",
    "    count += 1\n",
    "    \n",
    "print(count)"
   ]
  },
  {
   "cell_type": "markdown",
   "id": "3c2813ec-fc97-47b4-b5c6-8e84e9a22682",
   "metadata": {
    "tags": []
   },
   "source": [
    "<h2 style=\"color:#4169E1\">Closing Files</h2>"
   ]
  },
  {
   "cell_type": "markdown",
   "id": "e3b145ee-4657-4245-9cd7-749b7dab8197",
   "metadata": {
    "tags": []
   },
   "source": [
    "<h4 style=\"color:#B22222\">The <code>close()</code> Method</h4>\n"
   ]
  },
  {
   "cell_type": "markdown",
   "id": "33dcdca8-bc5e-41e9-b66b-0645748fbf75",
   "metadata": {
    "tags": []
   },
   "source": [
    "<h4 style=\"color:#B22222\">A Context Manager</h4>\n"
   ]
  },
  {
   "cell_type": "code",
   "execution_count": null,
   "id": "40ae2423-0f55-4aaf-b46b-6e0febae10d0",
   "metadata": {},
   "outputs": [],
   "source": []
  },
  {
   "cell_type": "markdown",
   "id": "ec34cc17-c8c0-412b-87e1-5aae36d6c01c",
   "metadata": {
    "tags": []
   },
   "source": [
    "<h2 style=\"color:#4169E1\">Searching in a File</h2>"
   ]
  },
  {
   "cell_type": "markdown",
   "id": "e342561d-73a6-43be-ad35-3362edfd4a6f",
   "metadata": {
    "tags": []
   },
   "source": [
    "<h2 style=\"color:#4169E1\">Writing Files</h2>"
   ]
  },
  {
   "cell_type": "markdown",
   "id": "37617764-6402-4d53-b7c6-18e488c20f85",
   "metadata": {},
   "source": [
    "<h4 style=\"color:#B22222\">The <code>.add()</code> Method</h4>\n",
    "\n",
    "This method is used to add elements to a set."
   ]
  },
  {
   "cell_type": "markdown",
   "id": "d89fb74d-6c52-45a8-8bbe-6af30e2216a9",
   "metadata": {
    "tags": []
   },
   "source": [
    "<h2 style=\"color:#3CB371\">Exercises</h2>"
   ]
  },
  {
   "cell_type": "markdown",
   "id": "46787f82-a6e7-41ec-a700-dc20ddeb5ade",
   "metadata": {},
   "source": [
    "Let's practice! Mind that each exercise is designed with multiple levels to help you progressively build your skills. <span style=\"color:darkorange;\"><strong>Level 1</strong></span> is the foundational level, designed to be straightforward so that everyone can successfully complete it. In <span style=\"color:darkorange;\"><strong>Level 2</strong></span>, we step it up a notch, expecting you to use more complex concepts or combine them in new ways. Finally, in <span style=\"color:darkorange;\"><strong>Level 3</strong></span>, we get closest to exam level questions, but we may use some concepts that are not covered in this notebook. However, in programming, you often encounter situations where you’re unsure how to proceed. Fortunately, you can often solve these problems by starting to work on them and figuring things out as you go. Practicing this skill is extremely helpful, so we highly recommend completing these exercises.\n",
    "\n",
    "For each of the exercises, make sure to add a `docstring` and `type hints`, and **do not** import any libraries unless specified otherwise.\n",
    "<br>"
   ]
  },
  {
   "cell_type": "markdown",
   "id": "865d291d-5a4c-42eb-9652-44110b39579d",
   "metadata": {
    "tags": []
   },
   "source": [
    "### Exercise 1\n",
    "\n",
    "<span style=\"color:darkorange;\"><strong>Level 1</strong>:</span> In this exercise, you’ll be working with a data structure that holds the names of students who passed different high school subjects like history, math, physics, economics, etc. Your goal is to create a function called `students_who_passed_all_subjects()` that identifies the students who passed every subject. To do this, you’ll use **set methods** to pinpoint the names that appear in all the subjects. The function should work as follows:\n",
    "\n",
    "- It should take a **dictionary** as input, with each key representing a subject and the value being a set of student names who passed that subject.\n",
    "- It should **return** a set containing the names of students who passed every subject.\n",
    "\n",
    "**Print** the set **outside** the function in a clear and readable format.\n",
    "\n",
    "**Example input**: you pass this argument to the parameter in the function call.\n",
    "```Python\n",
    "subjects: Dict[str, Set[str]] = {\n",
    "    'history': {'Einstein', 'Curie', 'Tesla', 'Hopper', 'Goodall'},\n",
    "    'math': {'Einstein', 'Curie', 'Turing', 'Hopper'},\n",
    "    'physics': {'Einstein', 'Curie', 'Hopper', 'Goodall'},\n",
    "    'economics': {'Einstein', 'Curie', 'Tesla', 'Hopper'},\n",
    "    'biology': {'Curie', 'Goodall', 'Turing', 'Einstein'},\n",
    "    'literature': {'Hopper', 'Turing', 'Einstein', 'Curie'}\n",
    "}\n",
    "```\n",
    "\n",
    "**Example output**:\n",
    "```Python\n",
    "\"Students who passed all subjects: Einstein, Curie\"\n",
    "```"
   ]
  },
  {
   "cell_type": "code",
   "execution_count": null,
   "id": "476ff54d-5e90-4381-ab59-deef4c6539d9",
   "metadata": {
    "tags": []
   },
   "outputs": [],
   "source": [
    "# TODO."
   ]
  }
 ],
 "metadata": {
  "kernelspec": {
   "display_name": "Python 3 (ipykernel)",
   "language": "python",
   "name": "python3"
  },
  "language_info": {
   "codemirror_mode": {
    "name": "ipython",
    "version": 3
   },
   "file_extension": ".py",
   "mimetype": "text/x-python",
   "name": "python",
   "nbconvert_exporter": "python",
   "pygments_lexer": "ipython3",
   "version": "3.11.5"
  }
 },
 "nbformat": 4,
 "nbformat_minor": 5
}

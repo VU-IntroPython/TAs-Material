{
 "cells": [
  {
   "cell_type": "markdown",
   "id": "3b6771c4-7d80-49ab-a98e-7c0413a245f2",
   "metadata": {},
   "source": [
    "# Files"
   ]
  },
  {
   "cell_type": "markdown",
   "id": "12b4410c-1e8e-4508-bc29-4cb7ad1e56b4",
   "metadata": {},
   "source": [
    "*Material for the VU Amsterdam course “Introduction to Python Programming” for BSc Artificial Intelligence students. These notebooks are created using the following sources:*\n",
    "1. [Learning Python by Doing][learning python]: This book, developed by teachers of TU/e Eindhoven and VU Amsterdam, is the main source for the course materials. Code snippets or text explanations from the book may be used in the notebooks, sometimes with slight adjustments.\n",
    "2. [Think Python][think python]\n",
    "3. [GeekForGeeks][geekforgeeks]\n",
    "4. [Python for Text Analysis][textanalysis]: For this particular notebook on working with files, we’ve drawn inspiration from the VU Master’s course Python for Text Analysis offered by the Humanities department. \n",
    "\n",
    "[learning python]: https://programming-pybook.github.io/introProgramming/intro.html\n",
    "[think python]: https://greenteapress.com/thinkpython2/html/\n",
    "[geekforgeeks]: https://www.geeksforgeeks.org\n",
    "[textanalysis]: https://github.com/cltl/python-for-text-analysis/blob/master/Chapters/Chapter%2014%20-%20Reading%20and%20writing%20text%20files.ipynb\n",
    "\n",
    "**In this notebook, we cover the following subjects:**\n",
    "- Opening Files;\n",
    "- Reading Files;\n",
    "- A Context Manager;\n",
    "- Writing Files.\n",
    "___________________________________________________________________________________________________________________________"
   ]
  },
  {
   "cell_type": "code",
   "execution_count": null,
   "id": "03fbdb61-b65e-426a-87cb-dfccccf98af6",
   "metadata": {
    "tags": []
   },
   "outputs": [],
   "source": [
    "# To enable type hints for lists, dicts, tuples, and sets we need to import the following:\n",
    "from typing import List, Dict, Tuple, Set"
   ]
  },
  {
   "cell_type": "markdown",
   "id": "8631dec5-2602-4e94-8e3b-418d231296ae",
   "metadata": {
    "tags": []
   },
   "source": [
    "<h2 style=\"color:#4169E1\">Opening Files</h2>\n",
    "\n",
    "So far, we have worked with data that was stored and created directly in our notebooks. For example, we created a dictionary of word frequencies from a string of text. However, most of the data we use in real-world applications is stored in files, often due to its sheer size or because it needs to be kept for future use. Therefore, it’s essential to learn how to retrieve this data so we can perform operations on it.\n",
    "\n",
    "First things first. How do we find a file?"
   ]
  },
  {
   "cell_type": "markdown",
   "id": "28fbec47-99d3-46aa-bc28-57e2d654fcd2",
   "metadata": {},
   "source": [
    "<h4 style=\"color:#B22222\">File Names and Paths</h4>\n",
    "\n",
    "Files are organized into directories (also called “folders”). Every running program has a current directory, which is the default directory for most operations. For example, when you open a file for reading, Python looks for it in the current directory.\n",
    "\n",
    "A string like `\"/Users/mvdbrand/Documents/GitLab/course-material-jbi010/202122/Lectures/week3\"` that identifies a file or directory is called a **path**. Often we assign this path to a variable, for example:"
   ]
  },
  {
   "cell_type": "code",
   "execution_count": null,
   "id": "009d192d-5834-4225-b35f-8cc8cf9504f1",
   "metadata": {
    "tags": []
   },
   "outputs": [],
   "source": [
    "file_path: str = \"assets/halloween.txt\""
   ]
  },
  {
   "cell_type": "markdown",
   "id": "aa7ab02e-8f7d-4030-ab5e-fc20fe4a65eb",
   "metadata": {},
   "source": [
    "Here, `assets` is a folder located in the same directory as this notebook. We want to access the file `halloween.txt` from this folder."
   ]
  },
  {
   "cell_type": "markdown",
   "id": "8aea9896-916f-46d2-b32c-ee8919db8685",
   "metadata": {},
   "source": [
    "<h4 style=\"color:#B22222\">The <code>open()</code> Function</h4>\n",
    "\n",
    "Now that we know how to locate our file, the next step is to open it. As the title of this section suggests, we’ll use the `open()` function for this purpose. Your first instinct might be to write something like this:"
   ]
  },
  {
   "cell_type": "code",
   "execution_count": null,
   "id": "002af500-4835-439c-a14f-817c97d32b5b",
   "metadata": {
    "tags": []
   },
   "outputs": [],
   "source": [
    "file = open(file_path)\n",
    "\n",
    "print(f'Type of the open file object is: {type(file)}')\n",
    "print('\\nContent of our file is:\\n')\n",
    "print(file)\n",
    "\n",
    "# Does it work like expected?"
   ]
  },
  {
   "cell_type": "markdown",
   "id": "e9b8db3e-4d6c-4509-acca-cca150793181",
   "metadata": {},
   "source": [
    "This isn’t quite what we expected, is it? The function seems to return something called a `_io.TextIOWrapper` object. This happens because when we try to open a file, we’re really asking the **operating system (OS)** to locate the file by its name and ensure it exists. We use Python’s built-in `open()` function to do this. If the `open()` function is successful, the operating system returns a **file handle**, which in this case is the `_io.TextIOWrapper` object. The file handle isn’t the actual data, but rather an intermediary that allows us to read from or write to the file.\n",
    "\n",
    "So, while we might have expected the content of the data to be displayed when we printed the file, the first step was successful; the file was located, and a file handle was returned. Now, let’s move on to the next step: how do we actually read a file?"
   ]
  },
  {
   "cell_type": "markdown",
   "id": "d72d7f6b-972a-4155-b9df-bb6cc942c70d",
   "metadata": {},
   "source": [
    "<div class=\"alert\" style=\"background-color: #ffecb3; color: #856404;\">\n",
    "    <b>Note</b><br>\n",
    "Programs that store their data are <b>persistent</b>.</div>"
   ]
  },
  {
   "cell_type": "markdown",
   "id": "6d3826a7-4e57-4901-ac93-68a068c518c5",
   "metadata": {
    "tags": []
   },
   "source": [
    "<h2 style=\"color:#4169E1\">Reading Files</h2>"
   ]
  },
  {
   "cell_type": "markdown",
   "id": "22313c66-8e58-421e-a877-ecd51764a791",
   "metadata": {
    "tags": []
   },
   "source": [
    "<h4 style=\"color:#B22222\">The <code>.read()</code> Method</h4>\n",
    "\n",
    "So, in the previous section, we figured out how to locate a file successfully. Now, we want to see what’s inside. If you know the file is small compared to your main memory, you can use the `read()` method on the file handle. This method pulls the entire content of the file into a single string, including all line breaks.\n",
    "\n",
    "It’s smart to store the result of the `read()` method in a variable, given that it **exhausts resources**."
   ]
  },
  {
   "cell_type": "code",
   "execution_count": null,
   "id": "dce9c55d-e516-4137-afd4-a0d550b6006d",
   "metadata": {
    "tags": []
   },
   "outputs": [],
   "source": [
    "file = open(\"assets/halloween.txt\")  # You can also pass the string immediately in the function call\n",
    "content = file.read()\n",
    "\n",
    "print('\\nContent of our file is:\\n')\n",
    "print(content)\n",
    "\n",
    "file.close()"
   ]
  },
  {
   "cell_type": "markdown",
   "id": "ed9ccffc-6d0f-4202-b326-13e02ddadf8a",
   "metadata": {},
   "source": [
    "You might be wondering, what’s the deal with this `.close()` at the end? Even though we’re only reading the file in this section and not writing to it, it’s still important to close it. When writing to a file, closing is crucial because, until you do, the data might not actually be saved or stored properly. By getting into the habit of closing files, even when just reading, you ensure consistent behavior across different Python environments, making your code more reliable."
   ]
  },
  {
   "cell_type": "markdown",
   "id": "8f69647d-4d5a-4e62-968c-5ab8575fc1fc",
   "metadata": {},
   "source": [
    "<h4 style=\"color:#B22222\">The <code>.readlines()</code> Method</h4>\n",
    "\n",
    "Sometimes, you don’t need to read the entire content of a file at once; instead, you may want to process it line by line. The `.readlines()` method is ideal for this because it returns the content as a list of strings, with each line split at the newline character (`\\n`)."
   ]
  },
  {
   "cell_type": "code",
   "execution_count": null,
   "id": "31575fca-5373-4de9-9247-73fdb420c34c",
   "metadata": {
    "tags": []
   },
   "outputs": [],
   "source": [
    "file = open(\"assets/halloween.txt\")  # You can also pass the string immediately in the function call\n",
    "content = file.readlines()\n",
    "\n",
    "print('\\nContent of our file is:\\n')\n",
    "print(content)\n",
    "\n",
    "file.close()"
   ]
  },
  {
   "cell_type": "markdown",
   "id": "33d688fd-2f18-415d-a5c5-3a201358cf8a",
   "metadata": {},
   "source": [
    "To access the content line by line, you can simply use a for loop:"
   ]
  },
  {
   "cell_type": "code",
   "execution_count": null,
   "id": "97bad625-20f4-44b2-86b1-afced0841d92",
   "metadata": {
    "tags": []
   },
   "outputs": [],
   "source": [
    "for line in content:\n",
    "    print(line)"
   ]
  },
  {
   "cell_type": "markdown",
   "id": "2123e954-b5cb-407c-8304-5a3aa71b349b",
   "metadata": {},
   "source": [
    "<h4 style=\"color:#B22222\">The <code>.readline()</code> Method</h4>\n"
   ]
  },
  {
   "cell_type": "markdown",
   "id": "f1088cb2-15b2-430b-aa03-c68f060fe7db",
   "metadata": {},
   "source": [
    "The .readline() method might feel a bit unintuitive. It reads the content one line at a time, returning the next line each time you call it. It’s easier to understand when you see it in action."
   ]
  },
  {
   "cell_type": "code",
   "execution_count": null,
   "id": "a83d4801-80b0-442a-b045-f511a79f9768",
   "metadata": {
    "tags": []
   },
   "outputs": [],
   "source": [
    "file = open(\"assets/halloween.txt\")  # You can also pass the string immediately in the function call\n",
    "line = file.readline()\n",
    "\n",
    "print(line)"
   ]
  },
  {
   "cell_type": "markdown",
   "id": "d67783e0-6e1f-44f9-b29a-0a5c4e5fa032",
   "metadata": {},
   "source": [
    "And what happens when we call the method again?"
   ]
  },
  {
   "cell_type": "code",
   "execution_count": null,
   "id": "a6812fdf-07a3-45d8-b192-2b7940d5e236",
   "metadata": {
    "tags": []
   },
   "outputs": [],
   "source": [
    "line = file.readline()\n",
    "print(line)"
   ]
  },
  {
   "cell_type": "markdown",
   "id": "e1ac7a6d-45a3-4bfc-9453-736a49a07148",
   "metadata": {},
   "source": [
    "And again?"
   ]
  },
  {
   "cell_type": "code",
   "execution_count": null,
   "id": "8e932aa5-719f-4577-b77a-eef2c0d4ff07",
   "metadata": {
    "tags": []
   },
   "outputs": [],
   "source": [
    "line = file.readline()\n",
    "print(line)\n",
    "\n",
    "file.close()"
   ]
  },
  {
   "cell_type": "markdown",
   "id": "3c2813ec-fc97-47b4-b5c6-8e84e9a22682",
   "metadata": {
    "tags": []
   },
   "source": [
    "<h2 style=\"color:#4169E1\">A Context Manager</h2>\n",
    "\n",
    "Manually opening and closing files is quite prone to errors, especially when writing files, which can lead to problems. To prevent this, before we start writing files, we’ll introduce a **context manager**; a tool that automatically handles opening/closing for you. We do this by using a `with` statement, as the file is automatically closed once you exit the scope of this statement."
   ]
  },
  {
   "cell_type": "code",
   "execution_count": null,
   "id": "40ae2423-0f55-4aaf-b46b-6e0febae10d0",
   "metadata": {
    "tags": []
   },
   "outputs": [],
   "source": [
    "file_path: str = \"assets/halloween.txt\"\n",
    "\n",
    "with open(file_path, \"r\") as file:  # The \"r\" parameters indicates we read a file \n",
    "    # The file is only open in this scope\n",
    "    content = file.read()\n",
    "    \n",
    "# Once you're out, the file is closed again\n",
    "print(content)"
   ]
  },
  {
   "cell_type": "markdown",
   "id": "92434ca8-2e64-4f6e-ae8c-c7c69e0f9d6e",
   "metadata": {},
   "source": [
    "<div class=\"alert\" style=\"background-color: #ffecb3; color: #856404;\">\n",
    "    <b>Note</b><br>\n",
    "Using a <b>context manager</b> is best practice because it reduces errors, so it’s expected that you use it in future programs. </div>"
   ]
  },
  {
   "cell_type": "markdown",
   "id": "e342561d-73a6-43be-ad35-3362edfd4a6f",
   "metadata": {
    "tags": []
   },
   "source": [
    "<h2 style=\"color:#4169E1\">Writing Files</h2>"
   ]
  },
  {
   "cell_type": "markdown",
   "id": "9c795d45-5836-4de3-b4d1-88e16af22b26",
   "metadata": {},
   "source": [
    "<h4 style=\"color:#B22222\">The <code>.write()</code> Method</h4>\n",
    "To write a file you should open it with mode <code>w</code> (from write) as second parameter. If the file already exists, opening it in write mode removes the current content from the file, so be <b>careful</b>! If the file does not exist, a new one is created."
   ]
  },
  {
   "cell_type": "code",
   "execution_count": null,
   "id": "1cb70fc6-7551-425c-930a-0bf34a3476e9",
   "metadata": {
    "tags": []
   },
   "outputs": [],
   "source": [
    "file_path: str = \"assets/output.txt\"\n",
    "\n",
    "a_string: str = \"This is my first line written to a file!\"\n",
    "    \n",
    "with open(file_path, \"w\") as outfile:    \n",
    "    outfile.write(a_string)"
   ]
  },
  {
   "cell_type": "markdown",
   "id": "2d407d42-1a66-4b95-a225-81d3f8a92cd8",
   "metadata": {},
   "source": [
    "Open the file in the text editor, did we succeed?"
   ]
  },
  {
   "cell_type": "markdown",
   "id": "c6011677-84d8-4c05-b846-9641ee8fc7b7",
   "metadata": {},
   "source": [
    "<h4 style=\"color:#B22222\">The <code>.append()</code> Method</h4>\n",
    "If we want to add to an already existing file, we can use the <code>.append()</code> method, opening with mode <code>a</code>. However, with append, we can only add to the end of the file."
   ]
  },
  {
   "cell_type": "code",
   "execution_count": null,
   "id": "d520b57f-e0ae-4f78-838b-9e6f51d13f4c",
   "metadata": {
    "tags": []
   },
   "outputs": [],
   "source": [
    "file_path: str = \"assets/output.txt\"\n",
    "\n",
    "# Note how we add a new character line to make sure it it on a new line in the file\n",
    "a_second_string: str = \"\\nThis is my second line written to a file!\" \n",
    "    \n",
    "with open(file_path, \"a\") as outfile:    \n",
    "    outfile.write(a_second_string)"
   ]
  },
  {
   "cell_type": "markdown",
   "id": "d89fb74d-6c52-45a8-8bbe-6af30e2216a9",
   "metadata": {
    "tags": []
   },
   "source": [
    "<h2 style=\"color:#3CB371\">Exercises</h2>"
   ]
  },
  {
   "cell_type": "markdown",
   "id": "46787f82-a6e7-41ec-a700-dc20ddeb5ade",
   "metadata": {},
   "source": [
    "Let's practice! Mind that each exercise is designed with multiple levels to help you progressively build your skills. <span style=\"color:darkorange;\"><strong>Level 1</strong></span> is the foundational level, designed to be straightforward so that everyone can successfully complete it. In <span style=\"color:darkorange;\"><strong>Level 2</strong></span>, we step it up a notch, expecting you to use more complex concepts or combine them in new ways. Finally, in <span style=\"color:darkorange;\"><strong>Level 3</strong></span>, we get closest to exam level questions, but we may use some concepts that are not covered in this notebook. However, in programming, you often encounter situations where you’re unsure how to proceed. Fortunately, you can often solve these problems by starting to work on them and figuring things out as you go. Practicing this skill is extremely helpful, so we highly recommend completing these exercises.\n",
    "\n",
    "For each of the exercises, make sure to add a `docstring` and `type hints`, and **do not** import any libraries unless specified otherwise.\n",
    "<br>"
   ]
  },
  {
   "cell_type": "markdown",
   "id": "865d291d-5a4c-42eb-9652-44110b39579d",
   "metadata": {
    "tags": []
   },
   "source": [
    "### Exercise 1\n",
    "\n",
    "<span style=\"color:darkorange;\"><strong>Level 1</strong>:</span> Let's practice what we've just learned. For this exercise, you are tasked with writing a function called `add_to_shopping_list()` that takes a list of strings as input, where each string represents a shopping item. You need to add these items, one by one, onto a new line in a text file called `shopping_list.txt`, which should be saved in the `assets` folder. Each time a new list of items is added to the file, the function should also **print** the entire content of the file to the terminal.\n",
    "\n",
    "**Example input**: you pass this argument to the parameter in the function call.\n",
    "\n",
    "```python\n",
    "items_to_add List[str] = [\"Apples\", \"Bananas\", \"Bread\"]\n",
    "\n",
    "```\n",
    "**Example output**: as well as in termin as the text file\n",
    "```\n",
    "Apples\n",
    "Bananas\n",
    "Bread\n",
    "```"
   ]
  },
  {
   "cell_type": "code",
   "execution_count": null,
   "id": "476ff54d-5e90-4381-ab59-deef4c6539d9",
   "metadata": {
    "tags": []
   },
   "outputs": [],
   "source": [
    "# TODO."
   ]
  }
 ],
 "metadata": {
  "kernelspec": {
   "display_name": "Python 3 (ipykernel)",
   "language": "python",
   "name": "python3"
  },
  "language_info": {
   "codemirror_mode": {
    "name": "ipython",
    "version": 3
   },
   "file_extension": ".py",
   "mimetype": "text/x-python",
   "name": "python",
   "nbconvert_exporter": "python",
   "pygments_lexer": "ipython3",
   "version": "3.11.5"
  }
 },
 "nbformat": 4,
 "nbformat_minor": 5
}

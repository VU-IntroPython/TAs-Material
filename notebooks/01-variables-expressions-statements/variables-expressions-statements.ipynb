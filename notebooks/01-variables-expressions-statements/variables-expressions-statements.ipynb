{
 "cells": [
  {
   "cell_type": "markdown",
   "metadata": {},
   "source": [
    "# Variables, Expressions, and Statements"
   ]
  },
  {
   "cell_type": "markdown",
   "metadata": {},
   "source": [
    "*Material for the VU Amsterdam course “Introduction to Python Programming” for BSc Artificial Intelligence students. These notebooks are created using the following sources:*\n",
    "1. [Learning Python by Doing][learning python]: This book, developed by teachers of TU/e Eindhoven and VU Amsterdam, is the main source for the course materials. Code snippets or text explanations from the book may be used in the notebooks, sometimes with slight adjustments.\n",
    "2. [Think Python][think python]\n",
    "3. [GeekForGeeks][geekforgeeks]\n",
    "\n",
    "[learning python]: https://programming-pybook.github.io/introProgramming/intro.html\n",
    "[think python]: https://greenteapress.com/thinkpython2/html/\n",
    "[geekforgeeks]: https://www.geeksforgeeks.org\n",
    "\n",
    "**In this notebook, we cover the following subjects:**\n",
    "- Introduction to Data Types;\n",
    "- The Print Function;\n",
    "- Variables and Values;\n",
    "- Operators;\n",
    "- Expressions;\n",
    "- Statements.\n",
    "___________________________________________________________________________________________________________________________"
   ]
  },
  {
   "cell_type": "markdown",
   "metadata": {
    "tags": []
   },
   "source": [
    "<h2 style=\"color:#4169E1\">Introduction to Data Types</h2>\n",
    "\n",
    "Python is a well-known programming language, designed by Guido van Rossum at the Centrum Wiskunde & Informatica (CWI) in Amsterdam. The design of the language allows code to be organized into <u>reusable</u> and <u>self-contained</u> objects. Knowing the three essential data types—[String][string], Integer, and Float—is important as they are fundamental for <u>representing</u> and <u>manipulating</u> data.\n",
    "\n",
    "[string]:https://programming-pybook.github.io/introProgramming/chapters/strings.html"
   ]
  },
  {
   "cell_type": "markdown",
   "metadata": {},
   "source": [
    "1. A **string (str)** respresents text as a sequence of characters, and is denoted using single ('') or double quotes (\"\")."
   ]
  },
  {
   "cell_type": "code",
   "execution_count": null,
   "metadata": {},
   "outputs": [],
   "source": [
    "a_string = \"Welcome to the first Practical\"\n",
    "a_second_string = 'This will be an amazing class!'"
   ]
  },
  {
   "cell_type": "markdown",
   "metadata": {},
   "source": [
    "<details>\n",
    "  <summary style=\"cursor: pointer; background-color: #d4edda; padding: 10px; border-radius: 5px; color: #155724; font-weight: bold;\">\n",
    "    Q: How can we see the strings \"on the screen\"? <span style=\"font-style: italic;\"></span>\n",
    "  </summary>\n",
    "<div style=\"background-color: #f4fdf7; padding: 12px; margin-top: 8px; border-radius: 6px; border: 1px solid #b7e4c7; color: #155724;\">\n",
    "    To display the data stored in variables, we use the <code>print()</code> function.\n",
    "  </div>\n",
    "</details>"
   ]
  },
  {
   "cell_type": "code",
   "execution_count": null,
   "metadata": {
    "tags": []
   },
   "outputs": [],
   "source": [
    "# What will happen here?:\n",
    "a_third_string = ' Oops, what goes wrong here?\""
   ]
  },
  {
   "cell_type": "markdown",
   "metadata": {},
   "source": [
    "<div class=\"alert\" style=\"background-color: #ffecb3; color: #856404;\">\n",
    "    <b>Note</b> <br>\n",
    "Using the <code>#</code> symbol, you can add comments to your code for explanations or instructions. These lines of text are ignored during program execution.\n",
    "</div>"
   ]
  },
  {
   "cell_type": "markdown",
   "metadata": {},
   "source": [
    "2. A **float** represents numbers with decimals."
   ]
  },
  {
   "cell_type": "code",
   "execution_count": null,
   "metadata": {},
   "outputs": [],
   "source": [
    "a_float = 3.1415 \n",
    "\n",
    "# Who can tell me the next two numbers in pi? :)"
   ]
  },
  {
   "cell_type": "markdown",
   "metadata": {},
   "source": [
    "3. An **integer (int)** represents whole numbers."
   ]
  },
  {
   "cell_type": "code",
   "execution_count": null,
   "metadata": {},
   "outputs": [],
   "source": [
    "an_integer = 10"
   ]
  },
  {
   "cell_type": "markdown",
   "metadata": {},
   "source": [
    "By now, you might be asking yourself two questions: \n",
    "1. Why does nothing show when we run our cells?\n",
    "2. Why do we have this structure of `variable = value`? \n",
    "\n",
    "Let's answer the first one."
   ]
  },
  {
   "cell_type": "markdown",
   "metadata": {
    "tags": []
   },
   "source": [
    "<h2 style=\"color:#4169E1\">The Print Function</h2>\n",
    "\n",
    "In order to display certain output from your program, one must use a print statement, known as the `print()` function."
   ]
  },
  {
   "cell_type": "code",
   "execution_count": null,
   "metadata": {},
   "outputs": [],
   "source": [
    "# What will happen when we run this cell?\n",
    "\n",
    "print(\"Welcome to Intro to Python :)\")"
   ]
  },
  {
   "cell_type": "markdown",
   "metadata": {},
   "source": [
    "Printing is handy as it allows us to visualize or display specific information. For example, by using the `type()` function, we can figure out the data type of an object."
   ]
  },
  {
   "cell_type": "code",
   "execution_count": null,
   "metadata": {
    "tags": []
   },
   "outputs": [],
   "source": [
    "print(type(an_integer))"
   ]
  },
  {
   "cell_type": "markdown",
   "metadata": {
    "tags": []
   },
   "source": [
    "<h2 style=\"color:#4169E1\">Variables and Values</h2>\n",
    "\n",
    "\n",
    "To answer the second question, we explore a fundamental concept in Python: **variables**. Variables in programming are often referred to as containers for data, similar to mathematical variables that store values that can later be changed. A variable in Python is created by assigning a value to a name, for which the equals sign (`=`) is used. The basic syntax is:\n",
    "\n",
    "```python\n",
    "variable_name = value\n",
    "```"
   ]
  },
  {
   "cell_type": "markdown",
   "metadata": {},
   "source": [
    "Don't get confused on the difference between **values** and **data types**. Basically, variables <u>store</u> values which <u>belong</u> to a specific data type. For example:"
   ]
  },
  {
   "cell_type": "code",
   "execution_count": null,
   "metadata": {},
   "outputs": [],
   "source": [
    "# \"VU\" is the value of type string\n",
    "university = \"VU\"\n",
    "\n",
    "# \"September\" is the value of type string\n",
    "month = \"September\"\n",
    "\n",
    "# 9 is the value of type integer\n",
    "month_number = 9 \n",
    "\n",
    "# 21.7 is the value of type float\n",
    "degreesCelsius = 21.7"
   ]
  },
  {
   "cell_type": "markdown",
   "metadata": {},
   "source": [
    "It is good practise and **mandatory** in this course to add **type hints** to your variables. With type hints you specify the expected data type of a variable, using the syntax: \n",
    "\n",
    "```python \n",
    "variable_name: type = value\n",
    "```"
   ]
  },
  {
   "cell_type": "code",
   "execution_count": null,
   "metadata": {},
   "outputs": [],
   "source": [
    "university: str = \"VU\"\n",
    "\n",
    "month: str = \"September\"\n",
    "\n",
    "month_number: int = 9 \n",
    "\n",
    "degreesCelsius: float = 21.7"
   ]
  },
  {
   "cell_type": "markdown",
   "metadata": {
    "tags": []
   },
   "source": [
    "<h4 style=\"color:#B22222\">Printing with Variables</h4>"
   ]
  },
  {
   "cell_type": "markdown",
   "metadata": {},
   "source": [
    "**1. f-Strings**\n",
    "\n",
    "Printed messages can include variables. A very neat way of creating print statements is f-strings, as they allow us to add the values of variables in a string. To create an f-String, you place the letter `f` before the string and include the variables inside curly braces `{}`. Here’s the basic syntax:\n",
    "\n",
    "```python\n",
    "f\"string {variable}\"\n",
    "```"
   ]
  },
  {
   "cell_type": "code",
   "execution_count": null,
   "metadata": {
    "tags": []
   },
   "outputs": [],
   "source": [
    "age: int = 24000\n",
    "name: str = \"Gandalf\"\n",
    "message: str = \"Welcome to Intro to Python :)\"\n",
    "\n",
    "# These variables can then be used in a print statement using an f-String:\n",
    "print(f'Hi {name} ! {message} Is it difficult learning Python having the age of {age}?')"
   ]
  },
  {
   "cell_type": "markdown",
   "metadata": {},
   "source": [
    "**2. Format Method**\n",
    "\n",
    "Another way is to use the `format` method, which allows you to set the format of the variables in your message. In the following example, we specify that we want to use three decimal places using the syntax `.3f`."
   ]
  },
  {
   "cell_type": "code",
   "execution_count": null,
   "metadata": {},
   "outputs": [],
   "source": [
    "expected_rain: float = 2.35\n",
    "\n",
    "print(\"I'm so happy only {rain:.3f} mms of rain is expected today!\".format(rain = expected_rain))"
   ]
  },
  {
   "cell_type": "markdown",
   "metadata": {},
   "source": [
    "<h4 style=\"color:#B22222\">Naming Rules of Variables</h4>\n",
    "\n",
    "In Python, you can’t use any arbitrary sets of characters when naming your variables; you must follow specific rules:\n",
    "\n",
    "1. It should start with a letter or underscore.\n",
    "2. It cannot start with a number.\n",
    "3. It must only contain alpha-numeric (i.e., letters a-z A-Z and digits 0-9) characters and underscores.\n",
    "4. They cannot share the name of a Python keyword."
   ]
  },
  {
   "cell_type": "code",
   "execution_count": null,
   "metadata": {},
   "outputs": [],
   "source": [
    "# Uncomment to see what happens:\n",
    "\n",
    "# 9th_month = \"September\"\n",
    "# favoriteCourse = Python\n",
    "# class = \"tutorial\""
   ]
  },
  {
   "cell_type": "code",
   "execution_count": null,
   "metadata": {
    "tags": []
   },
   "outputs": [],
   "source": [
    "# Legal, but not often used:\n",
    "CURRENT_WIND_SPEED: int = 18\n",
    "\n",
    "# Instead:\n",
    "current_wind_speed: int = 18\n",
    "EXTREME_WIND_THRESHOLD: int = 148"
   ]
  },
  {
   "cell_type": "markdown",
   "metadata": {},
   "source": [
    "See? When the names of the variables don't clearly reflect what they represent, it is much harder to read the code. Initially, it might be a struggle to find the right names for your variables, but you'll get better along the way.\n",
    "\n",
    "<div class=\"alert\" style=\"background-color: #ffecb3; color: #856404;\">\n",
    "    <b>Note</b> <br>\n",
    "In this course, we use <b>snake_case</b> as our naming convention, which means all letters are lowercase, and words are separated by underscores. Another common convention is <b>CamelCase</b>, where each word starts with a capital letter, and words are not separated at all.</div>"
   ]
  },
  {
   "cell_type": "markdown",
   "metadata": {},
   "source": [
    "The naming of your variables is **extremely** important as this improves the readability of your code. Make sure the variable name truly reflects what it represents. Below are two pieces of code that are functionally the same but differ in naming. Mind, we introduce several new concepts in this piece of code, but don’t worry about those for now. Just focus on the naming conventions of variables.\n",
    "\n",
    "Let’s look at the proper way of naming first."
   ]
  },
  {
   "cell_type": "code",
   "execution_count": null,
   "metadata": {},
   "outputs": [],
   "source": [
    "planets: list = [\"Mercury\", \"Venus\", \"Earth\", \"Mars\"]\n",
    "\n",
    "distance_rank: int = 1\n",
    "\n",
    "while distance_rank <= len(planets):\n",
    "    message: str = \"{rank}. planet from Sun: {planet}\".format(rank = distance_rank, planet = planets[distance_rank - 1])\n",
    "    print(message)\n",
    "    \n",
    "    distance_rank += 1"
   ]
  },
  {
   "cell_type": "markdown",
   "metadata": {},
   "source": [
    "You can see how this piece of code almost reads like English, thanks to the proper naming of variables. Not convinced? Let’s check out a more abstract approach to naming things."
   ]
  },
  {
   "cell_type": "code",
   "execution_count": null,
   "metadata": {},
   "outputs": [],
   "source": [
    "l: list = [\"Mercury\", \"Venus\", \"Earth\", \"Mars\"]\n",
    "\n",
    "x: int = 1\n",
    "\n",
    "while x <= len(l):\n",
    "    m: str = \"{n}. planet from Sun: {i}\".format(n = x, i = l[x - 1])\n",
    "    print(m)\n",
    "    \n",
    "    x += 1"
   ]
  },
  {
   "cell_type": "markdown",
   "metadata": {},
   "source": [
    "See? When the names of the variables don't clearly reflect what they represent, it is much harder to read the code. Initially, it might be a struggle to find the right names for your variables, but you'll get better along the way.\n",
    "\n",
    "<div class=\"alert\" style=\"background-color: #ffecb3; color: #856404;\">\n",
    "    <b>Note</b> <br>\n",
    "In our notebooks we often use the variable names <code>x</code>, <code>y</code>, and <code>z</code> in our example code. This is solely to explain a concept in a plain way and <b>not</b> something that is recommended in real-world applications. For your assignments, it is very likely this will even be <b>penalized</b>. </div>"
   ]
  },
  {
   "cell_type": "markdown",
   "metadata": {},
   "source": [
    "<h4 style=\"color:#B22222\">Reassignments</h4>\n",
    "\n",
    "It is allowed to assign a new value to an existing variable. This process is called **reassignment**. As soon as you assign a value to a variable, the old value is lost."
   ]
  },
  {
   "cell_type": "code",
   "execution_count": null,
   "metadata": {},
   "outputs": [],
   "source": [
    "x: int = 42\n",
    "print(x)\n",
    "\n",
    "x: int = 43\n",
    "print(x)"
   ]
  },
  {
   "cell_type": "markdown",
   "metadata": {},
   "source": [
    "What will happen here? Correct if the output is not as expected."
   ]
  },
  {
   "cell_type": "code",
   "execution_count": null,
   "metadata": {},
   "outputs": [],
   "source": [
    "university: str = \"VU\"\n",
    "university: str = \"Amsterdam\"\n",
    "\n",
    "print(university + university)"
   ]
  },
  {
   "cell_type": "markdown",
   "metadata": {
    "tags": []
   },
   "source": [
    "<h2 style=\"color:#4169E1\">Operators</h2>\n",
    "\n",
    "\n",
    "In the last cell, we introduced something new, namely the `+` operator. There are many more operators that can be used on variables and values, which is crucial for the construction of **expressions**. "
   ]
  },
  {
   "cell_type": "markdown",
   "metadata": {},
   "source": [
    "<h4 style=\"color:#B22222\">Operations on Numerical Data Types</h4>\n",
    "\n",
    "Let’s explore the basic mathematical operators and see how they work with numerical data types."
   ]
  },
  {
   "cell_type": "markdown",
   "metadata": {},
   "source": [
    "**1. Addition:** `+`"
   ]
  },
  {
   "cell_type": "code",
   "execution_count": null,
   "metadata": {
    "tags": []
   },
   "outputs": [],
   "source": [
    "result = 3 + 4  # Adds 3 and 4, result is 7"
   ]
  },
  {
   "cell_type": "markdown",
   "metadata": {},
   "source": [
    "**2. Subtraction:** `-`"
   ]
  },
  {
   "cell_type": "code",
   "execution_count": null,
   "metadata": {
    "tags": []
   },
   "outputs": [],
   "source": [
    "result = 10 - 5  # Subtracts 5 from 10, result is 5"
   ]
  },
  {
   "cell_type": "markdown",
   "metadata": {
    "tags": []
   },
   "source": [
    "**3. Multiplication:** `*`"
   ]
  },
  {
   "cell_type": "code",
   "execution_count": null,
   "metadata": {
    "tags": []
   },
   "outputs": [],
   "source": [
    "result = 4 * 5  # Multiplies 4 by 5, result is 20"
   ]
  },
  {
   "cell_type": "markdown",
   "metadata": {},
   "source": [
    "**4. Division:** `/`\n",
    "\n",
    "Divides one number by another. In Python, this results in a number with a decimal point (float)."
   ]
  },
  {
   "cell_type": "code",
   "execution_count": null,
   "metadata": {
    "tags": []
   },
   "outputs": [],
   "source": [
    "result = 20 / 4  # Divides 20 by 4, result is 5.0"
   ]
  },
  {
   "cell_type": "markdown",
   "metadata": {},
   "source": [
    "**5. Modulo:** `%`\n",
    "\n",
    "The **Modulo** operator is very useful for finding out if a number is even or odd as it computes the remainder when dividing the first integer by the second one."
   ]
  },
  {
   "cell_type": "code",
   "execution_count": null,
   "metadata": {
    "tags": []
   },
   "outputs": [],
   "source": [
    "result = 10 % 3  # Divides 10 by 3, remainder is 1"
   ]
  },
  {
   "cell_type": "markdown",
   "metadata": {},
   "source": [
    "**6. Floor division:** `//`\n",
    "\n",
    "Divides one number by another and rounds down to the nearest integer."
   ]
  },
  {
   "cell_type": "code",
   "execution_count": null,
   "metadata": {
    "tags": []
   },
   "outputs": [],
   "source": [
    "result = 20 // 3  # Divides 20 by 3 and floors the result, result is 6"
   ]
  },
  {
   "cell_type": "markdown",
   "metadata": {},
   "source": [
    "**7. Exponentiation:** `**`"
   ]
  },
  {
   "cell_type": "code",
   "execution_count": null,
   "metadata": {
    "tags": []
   },
   "outputs": [],
   "source": [
    "result = 2 ** 3  # Raises 2 to the power of 3, result is 8"
   ]
  },
  {
   "cell_type": "markdown",
   "metadata": {},
   "source": [
    "<h4 style=\"color:#B22222\">Hierarchy of Operations</h4>\n",
    "\n",
    "The usual hierarchy of operations (remember the acronym **PEMDAS**) apply for maths in Python as well."
   ]
  },
  {
   "cell_type": "code",
   "execution_count": null,
   "metadata": {},
   "outputs": [],
   "source": [
    "x: int = 4\n",
    "y: int = 3\n",
    "z: int = 2\n",
    "\n",
    "result = x * y ** z\n",
    "\n",
    "print(x, \"*\", y, \"^\", z, \"=\", result)"
   ]
  },
  {
   "cell_type": "markdown",
   "metadata": {},
   "source": [
    "<h4 style=\"color:#B22222\">Operations on Non-Numeric Data Types</h4>\n",
    "\n",
    "Some operators can also be applied on non-numeric data types. For example, strings can be concatenated, so it's perfectly fine to do this:"
   ]
  },
  {
   "cell_type": "code",
   "execution_count": null,
   "metadata": {},
   "outputs": [],
   "source": [
    "street: str = \"De Boelelaan \"\n",
    "number: str = \"1105\"\n",
    "address = street + number\n",
    "\n",
    "print(address)"
   ]
  },
  {
   "cell_type": "code",
   "execution_count": null,
   "metadata": {
    "tags": []
   },
   "outputs": [],
   "source": [
    "# Can you do THIS though?\n",
    "address = \"De Boelelaan\" + 1105\n",
    "\n",
    "print(address)"
   ]
  },
  {
   "cell_type": "code",
   "execution_count": null,
   "metadata": {
    "tags": []
   },
   "outputs": [],
   "source": [
    "# Or THIS?\n",
    "address = \"De Boelelaan\" - \"laan\" + \"straat\"\n",
    "\n",
    "print(address)"
   ]
  },
  {
   "cell_type": "code",
   "execution_count": null,
   "metadata": {},
   "outputs": [],
   "source": [
    "# Concatenation is not the only operation that works on strings...\n",
    "\n",
    "cheer = \"Hip-\" * 2\n",
    "\n",
    "print(\"{cheer}Hurray, I'm done with my first Python practical!\".format(cheer = cheer))"
   ]
  },
  {
   "cell_type": "markdown",
   "metadata": {
    "tags": []
   },
   "source": [
    "<h2 style=\"color:#4169E1\">Expressions</h2>\n",
    "\n",
    "Now that we have covered variables, values, operators, and function calls, we can explain **expressions**. An expression is a combination of these elements, producing a new value. When you type an expression at the prompt, the interpreter **evaluates** it, which means that it calculates the value of the expression and displays it."
   ]
  },
  {
   "cell_type": "markdown",
   "metadata": {},
   "source": [
    "**1. Basic Arithmetic Expression**"
   ]
  },
  {
   "cell_type": "code",
   "execution_count": null,
   "metadata": {
    "tags": []
   },
   "outputs": [],
   "source": [
    "# This expression adds the numbers 2 and 3, resulting in the value 5.\n",
    "2 + 3"
   ]
  },
  {
   "cell_type": "markdown",
   "metadata": {},
   "source": [
    "**2. Variable Expression**"
   ]
  },
  {
   "cell_type": "code",
   "execution_count": null,
   "metadata": {
    "tags": []
   },
   "outputs": [],
   "source": [
    "# Here, x - y is an expression that subtracts y from x, resulting in 5.\n",
    "\n",
    "x: int = 10\n",
    "y: int = 5\n",
    "x - y"
   ]
  },
  {
   "cell_type": "markdown",
   "metadata": {
    "tags": []
   },
   "source": [
    "<h2 style=\"color:#4169E1\">Statements</h2>\n",
    "\n",
    "A statement is an instruction that has an effect, like creating a variable or displaying a value."
   ]
  },
  {
   "cell_type": "code",
   "execution_count": null,
   "metadata": {
    "tags": []
   },
   "outputs": [],
   "source": [
    "n: int = 17"
   ]
  },
  {
   "cell_type": "code",
   "execution_count": null,
   "metadata": {
    "tags": []
   },
   "outputs": [],
   "source": [
    "print(n)"
   ]
  },
  {
   "cell_type": "code",
   "execution_count": null,
   "metadata": {
    "tags": []
   },
   "outputs": [],
   "source": [
    "17"
   ]
  },
  {
   "cell_type": "markdown",
   "metadata": {},
   "source": [
    "The first statement initializes the variable `n` with the value `17`, this is a so-called **assignment statement**. The second statement is a **print statement** that prints the value of the variable `n`.\n",
    "\n",
    "The effect is not always visible. Assigning a value to a variable is not visible, but printing the value of a variable is."
   ]
  },
  {
   "cell_type": "markdown",
   "metadata": {
    "tags": []
   },
   "source": [
    "<h2 style=\"color:#3CB371\">Exercises</h2>"
   ]
  },
  {
   "cell_type": "markdown",
   "metadata": {},
   "source": [
    "Let's practice! Mind that each exercise is designed with multiple levels to help you progressively build your skills. <span style=\"color:darkorange;\"><strong>Level 1</strong></span> is the foundational level, designed to be straightforward so that everyone can successfully complete it. In <span style=\"color:darkorange;\"><strong>Level 2</strong></span>, we step it up a notch, expecting you to use more complex concepts or combine them in new ways. Finally, in <span style=\"color:darkorange;\"><strong>Level 3</strong></span>, we get closest to exam level questions, but we may use some concepts that are not covered in this notebook. However, in programming, you often encounter situations where you’re unsure how to proceed. Fortunately, you can often solve these problems by starting to work on them and figuring things out as you go. Practicing this skill is extremely helpful, so we highly recommend completing these exercises.\n",
    "\n",
    "For each of the exercises, make sure to add `type hints`, and **do not** import any libraries unless specified otherwise. \n",
    "<br>"
   ]
  },
  {
   "cell_type": "markdown",
   "metadata": {},
   "source": [
    "As we cover the most basic concepts of Python programming in this notebook, all the exercises are designed at <span style=\"color:darkorange;\"><strong>Level 1</strong></span> to help you get familiar with the fundamentals."
   ]
  },
  {
   "cell_type": "markdown",
   "metadata": {},
   "source": [
    "### Exercise 1\n",
    "\n",
    "The official scientific name of a species in Latin consists of two parts: the *genus name* and the *species epithet*. However, in English, we often refer to animals by their common names. \n",
    "\n",
    "<span style=\"color:darkorange;\"><strong>Level 1</strong>:</span> Write a program that, given the genus, species epithet, and English name of an animal, prints both the full Latin name and the English name of the animal. Do **not** use the `.format()` method!\n",
    "\n",
    "**Example input:**\n",
    "\n",
    "```python\n",
    "genus: str = 'Felis'\n",
    "epithet: str = 'catus'\n",
    "english_name: str = 'cat'\n",
    "```\n",
    "\n",
    "**Example output:**\n",
    "\n",
    "```python\n",
    "'Felis catus is a scientific name for a cat.'\n",
    "```"
   ]
  },
  {
   "cell_type": "code",
   "execution_count": null,
   "metadata": {},
   "outputs": [],
   "source": [
    "# TODO."
   ]
  },
  {
   "cell_type": "markdown",
   "metadata": {},
   "source": [
    "### Exercise 2\n",
    "\n",
    "<span style=\"color:darkorange;\"><strong>Level 1</strong>:</span> Let’s create a program that prints the message ‘Happy birthday’ followed by the person’s name. The message should be repeated as many times as the age they are turning.\n",
    "\n",
    "**Example input:**\n",
    "\n",
    "```python\n",
    "name: str = 'Mia'\n",
    "age: int = 6\n",
    "```\n",
    "\n",
    "**Example output:**\n",
    "\n",
    "```python\n",
    "'Happy birthday Mia! Happy birthday Mia! Happy birthday Mia! Happy birthday Mia! Happy birthday Mia! Happy birthday Mia!'\n",
    "```"
   ]
  },
  {
   "cell_type": "code",
   "execution_count": null,
   "metadata": {},
   "outputs": [],
   "source": [
    "# TODO."
   ]
  },
  {
   "cell_type": "markdown",
   "metadata": {},
   "source": [
    "### Exercise 3\n",
    "\n",
    "Assume you are a cashier who needs to calculate the amount of money to return to a customer as change. However, you have a special cash drawer that **only** contains dollars, quarters, and dimes. \n",
    "\n",
    "<span style=\"color:darkorange;\"><strong>Level 1</strong>:</span> Write a program that uses the **modulo operator** to calculate the number of dollars, quarters, and dimes to be given when a customer needs to receive €8.60 in change.\n",
    "\n",
    "The output should be a string in the following format:\n",
    "```python\n",
    "'Cashier has to give back: 8 dollar(s), 2 quarter(s), and 1 dime(s).'\n",
    "```"
   ]
  },
  {
   "cell_type": "code",
   "execution_count": null,
   "metadata": {},
   "outputs": [],
   "source": [
    "# TODO."
   ]
  }
 ],
 "metadata": {
  "kernelspec": {
   "display_name": "Python 3 (ipykernel)",
   "language": "python",
   "name": "python3"
  },
  "language_info": {
   "codemirror_mode": {
    "name": "ipython",
    "version": 3
   },
   "file_extension": ".py",
   "mimetype": "text/x-python",
   "name": "python",
   "nbconvert_exporter": "python",
   "pygments_lexer": "ipython3",
   "version": "3.11.5"
  },
  "vscode": {
   "interpreter": {
    "hash": "9451767feaf7925185bf37009af3205aec0103dc88a66dc09d267eb54aa4b1c3"
   }
  }
 },
 "nbformat": 4,
 "nbformat_minor": 4
}

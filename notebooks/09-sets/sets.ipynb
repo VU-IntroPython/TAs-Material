{
 "cells": [
  {
   "cell_type": "markdown",
   "id": "3b6771c4-7d80-49ab-a98e-7c0413a245f2",
   "metadata": {},
   "source": [
    "# Sets"
   ]
  },
  {
   "cell_type": "markdown",
   "id": "12b4410c-1e8e-4508-bc29-4cb7ad1e56b4",
   "metadata": {},
   "source": [
    "*Material for the VU Amsterdam course “Introduction to Python Programming” for BSc Artificial Intelligence students. These notebooks are created using the following sources:*\n",
    "1. [Learning Python by Doing][learning python]: This book, developed by teachers of TU/e Eindhoven and VU Amsterdam, is the main source for the course materials. Code snippets or text explanations from the book may be used in the notebooks, sometimes with slight adjustments.\n",
    "2. [Think Python][think python]\n",
    "3. [GeekForGeeks][geekforgeeks]\n",
    "\n",
    "[learning python]: https://programming-pybook.github.io/introProgramming/intro.html\n",
    "[think python]: https://greenteapress.com/thinkpython2/html/\n",
    "[geekforgeeks]: https://www.geeksforgeeks.org\n",
    "\n",
    "**In this notebook, we cover the following subjects:**\n",
    "- Todo.\n",
    "___________________________________________________________________________________________________________________________"
   ]
  },
  {
   "cell_type": "code",
   "execution_count": null,
   "id": "03fbdb61-b65e-426a-87cb-dfccccf98af6",
   "metadata": {
    "tags": []
   },
   "outputs": [],
   "source": [
    "# To enable type hints for lists, dicts, and tuples, we need to import the following:\n",
    "from typing import List, Dict, Tuple"
   ]
  },
  {
   "cell_type": "markdown",
   "id": "df58704e-123f-4c2e-bde7-ae603c5602ec",
   "metadata": {
    "tags": []
   },
   "source": [
    "<h2 style=\"color:#4169E1\">Defining a Tuple</h2>\n",
    "\n",
    "In this notebook, we introduce a unique data type used in Python: [tuples][tuple]. A tuple is a sequence of values that is similar to a list, as it is **indexed by integers** and can contain elements of **any type**, including **duplicates**. However, tuples are **immutable**, whereas lists are mutable. This immutability can be a strength in certain situations, ensuring that the data you store in a tuple remains constant throughout your program's execution.\n",
    "\n",
    "Tuples are defined using parentheses `()`.\n",
    "\n",
    "```python\n",
    "my_tuple: Tuple = (element1, element2, element3)\n",
    "```\n",
    "\n",
    "Let's look at an example.\n",
    "\n",
    "[tuple]:https://programming-pybook.github.io/introProgramming/chapters/tuples.html"
   ]
  },
  {
   "cell_type": "markdown",
   "id": "d72d7f6b-972a-4155-b9df-bb6cc942c70d",
   "metadata": {},
   "source": [
    "<div class=\"alert\" style=\"background-color: #ffecb3; color: #856404;\">\n",
    "    <b>Note</b><br>\n",
    "Unlike lists, tuples can be used as keys in dictionaries due to their immutability.</div>"
   ]
  },
  {
   "cell_type": "markdown",
   "id": "cf3a97a9-712a-4a06-9111-8f8bf856a30d",
   "metadata": {},
   "source": [
    "<h4 style=\"color:#B22222\">An Overview</h4>"
   ]
  },
  {
   "cell_type": "markdown",
   "id": "119a466a-8d66-4fcd-a2d1-10128a20b512",
   "metadata": {},
   "source": [
    "Now, let's add the Tuple to the data types we've covered so far to create a clear overview of their properties."
   ]
  },
  {
   "cell_type": "markdown",
   "id": "a4acb5ca-669c-4a5c-b73e-61462ed4a9a6",
   "metadata": {},
   "source": [
    "| Property                              | Tuple           | List            | Dict Keys              | Dict Values              | \n",
    "|-------------------------------------- |-----------------|-----------------|------------------------|--------------------------|\n",
    "| **Mutable** (can you add add/remove?) | no              | yes             | yes                    | yes                      |      \n",
    "| **Can** contain duplicates            | yes             | yes             | no                     | yes                      |\n",
    "| **Ordered**                           | yes             | yes             | yes (since Python 3.7) | yes (follows key order)  |\n",
    "| **Can** contain                       | all             | all             | immutables             |  all                     |\n",
    "\n"
   ]
  },
  {
   "cell_type": "markdown",
   "id": "f7becdbe-fa76-41ae-ae5c-2710314284a6",
   "metadata": {},
   "source": [
    "An overview:\n",
    "    \n",
    "| property                       | set               | list            | tuple       | dict keys | dict values | \n",
    "|------------------------------- |-------------------|-----------------|-------------|-----------|-------------|\n",
    "| **mutable** (can you add add/remove?) | yes        | yes             | no          | yes       | yes         |      \n",
    "| **can** contain duplicates     | no                | yes             | yes         | no        | yes            |\n",
    "| **ordered**                    | no                | yes             | yes         | yes, but do not rely on it          | depends on type of value         |\n",
    "| **finding** element(s)         | quick             | slow            | slow        | quick             | depends on type of value         |\n",
    "| **can** contain                | immutables | all     | all | immutables  |  all           |\n",
    "\n"
   ]
  },
  {
   "cell_type": "code",
   "execution_count": null,
   "id": "3f31ee9d-1b2a-417e-97a0-5911ef57acd1",
   "metadata": {},
   "outputs": [],
   "source": []
  },
  {
   "cell_type": "markdown",
   "id": "d89fb74d-6c52-45a8-8bbe-6af30e2216a9",
   "metadata": {
    "tags": []
   },
   "source": [
    "<h2 style=\"color:#3CB371\">Exercises</h2>"
   ]
  },
  {
   "cell_type": "markdown",
   "id": "46787f82-a6e7-41ec-a700-dc20ddeb5ade",
   "metadata": {},
   "source": [
    "Let's practice! Mind that each exercise is designed with multiple levels to help you progressively build your skills. <span style=\"color:darkorange;\"><strong>Level 1</strong></span> is the foundational level, designed to be straightforward so that everyone can successfully complete it. In <span style=\"color:darkorange;\"><strong>Level 2</strong></span>, we step it up a notch, expecting you to use more complex concepts or combine them in new ways. Finally, in <span style=\"color:darkorange;\"><strong>Level 3</strong></span>, we get closest to exam level questions, but we may use some concepts that are not covered in this notebook. However, in programming, you often encounter situations where you’re unsure how to proceed. Fortunately, you can often solve these problems by starting to work on them and figuring things out as you go. Practicing this skill is extremely helpful, so we highly recommend completing these exercises.\n",
    "\n",
    "For each of the exercises, make sure to add a `docstring` and `type hints`, and **do not** import any libraries unless specified otherwise.\n",
    "<br>"
   ]
  },
  {
   "cell_type": "markdown",
   "id": "865d291d-5a4c-42eb-9652-44110b39579d",
   "metadata": {
    "tags": []
   },
   "source": [
    "### Exercise 1\n",
    "\n",
    "An article critic works with multiple magazines and realizes that most articles use the same words to describe specific events. \n",
    "\n",
    "<span style=\"color:darkorange;\"><strong>Level 1</strong>:</span> Your task is to define a function named `common_words()` that creates a tuple containing all the common words found in both `article_1` and `article_2`.\n",
    "\n",
    "The function `common_words()` should:\n",
    "1. Accept two parameters in the following order:\n",
    "    - A string containing `article_1`\n",
    "    - A string containing `article_2`\n",
    "2. Create a tuple with the words that are common to both `article_1` and `article_2` (excluding spaces and punctuation).\n",
    "3. **Return** the tuple of common words.\n",
    "\n",
    "**Print** the tuple **outside** the function in a clear and readable format.\n",
    "\n",
    "**Example input**: you pass these arguments to the parameters in the function call.\n",
    "```Python\n",
    "article_1 : str = \"The strong winds in the Netherlands bring cool air from the North Sea.\"\n",
    "article_2 : str = \"In the Netherlands, windmills have been used for centuries to harness the power of the wind from the sea.\"\n",
    "```\n",
    "\n",
    "**Example output**:\n",
    "```Python\n",
    "\"Common words in both articles: ('sea', 'the', 'netherlands', 'in', 'from')\"\n",
    "```"
   ]
  },
  {
   "cell_type": "code",
   "execution_count": null,
   "id": "476ff54d-5e90-4381-ab59-deef4c6539d9",
   "metadata": {
    "tags": []
   },
   "outputs": [],
   "source": [
    "# TODO."
   ]
  }
 ],
 "metadata": {
  "kernelspec": {
   "display_name": "Python 3 (ipykernel)",
   "language": "python",
   "name": "python3"
  },
  "language_info": {
   "codemirror_mode": {
    "name": "ipython",
    "version": 3
   },
   "file_extension": ".py",
   "mimetype": "text/x-python",
   "name": "python",
   "nbconvert_exporter": "python",
   "pygments_lexer": "ipython3",
   "version": "3.11.5"
  }
 },
 "nbformat": 4,
 "nbformat_minor": 5
}

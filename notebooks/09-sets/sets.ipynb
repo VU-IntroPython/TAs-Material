{
 "cells": [
  {
   "cell_type": "markdown",
   "id": "3b6771c4-7d80-49ab-a98e-7c0413a245f2",
   "metadata": {},
   "source": [
    "# Sets"
   ]
  },
  {
   "cell_type": "markdown",
   "id": "12b4410c-1e8e-4508-bc29-4cb7ad1e56b4",
   "metadata": {},
   "source": [
    "*Material for the VU Amsterdam course “Introduction to Python Programming” for BSc Artificial Intelligence students. These notebooks are created using the following sources:*\n",
    "1. [Learning Python by Doing][learning python]: This book, developed by teachers of TU/e Eindhoven and VU Amsterdam, is the main source for the course materials. Code snippets or text explanations from the book may be used in the notebooks, sometimes with slight adjustments.\n",
    "2. [Think Python][think python]\n",
    "3. [GeekForGeeks][geekforgeeks]\n",
    "\n",
    "[learning python]: https://programming-pybook.github.io/introProgramming/intro.html\n",
    "[think python]: https://greenteapress.com/thinkpython2/html/\n",
    "[geekforgeeks]: https://www.geeksforgeeks.org\n",
    "\n",
    "**In this notebook, we cover the following subjects:**\n",
    "- Defining a Set;\n",
    "- Set Methods;\n",
    "- Let's Think.\n",
    "___________________________________________________________________________________________________________________________"
   ]
  },
  {
   "cell_type": "code",
   "execution_count": null,
   "id": "03fbdb61-b65e-426a-87cb-dfccccf98af6",
   "metadata": {
    "tags": []
   },
   "outputs": [],
   "source": [
    "# To enable type hints for lists, dicts, tuples, and sets we need to import the following:\n",
    "from typing import List, Dict, Tuple, Set"
   ]
  },
  {
   "cell_type": "markdown",
   "id": "df58704e-123f-4c2e-bde7-ae603c5602ec",
   "metadata": {
    "tags": []
   },
   "source": [
    "<h2 style=\"color:#4169E1\">Defining a Set</h2>\n",
    "\n",
    "Another **mutable** built-in type provided by Python is a [set][set]. A set is an **unordered** collection of elements that has **no duplicated** items. We can create a set by listing its elements within curly braces (`{}`) or using the `set()` function. The syntax looks as follows:\n",
    "\n",
    "```python\n",
    "my_set: Set = {element1, element2, element3}\n",
    "```\n",
    "\n",
    "Let's look at an example.\n",
    "\n",
    "[set]:https://programming-pybook.github.io/introProgramming/chapters/sets.html"
   ]
  },
  {
   "cell_type": "code",
   "execution_count": null,
   "id": "f2a43b49-2c00-4eaa-bb93-483b4559fe74",
   "metadata": {
    "tags": []
   },
   "outputs": [],
   "source": [
    "# Creating a set with elements\n",
    "coffee_types: Set[str] = {\"Espresso\", \"Latte\", \"Cappuccino\", \"Americano\"}\n",
    "\n",
    "print(coffee_types)\n",
    "type(coffee_types)"
   ]
  },
  {
   "cell_type": "code",
   "execution_count": null,
   "id": "b26c7f3b-966d-4cc6-be09-613e189a8f73",
   "metadata": {
    "tags": []
   },
   "outputs": [],
   "source": [
    "# Creating an empty set\n",
    "empty_set: Set = set()\n",
    "print(empty_set)\n",
    "type(empty_set)"
   ]
  },
  {
   "cell_type": "markdown",
   "id": "119a466a-8d66-4fcd-a2d1-10128a20b512",
   "metadata": {},
   "source": [
    "Now, with this new knowledge we update our overview of the data types and their properties."
   ]
  },
  {
   "cell_type": "markdown",
   "id": "a4acb5ca-669c-4a5c-b73e-61462ed4a9a6",
   "metadata": {},
   "source": [
    "| Property                              | Set        |Tuple           | List            | Dict Keys              | Dict Values              | \n",
    "|-------------------------------------- |------------|----------------|-----------------|------------------------|--------------------------|\n",
    "| **Mutable** (can you add add/remove?) | yes        |no              | yes             | yes                    | yes                      |      \n",
    "| **Can** contain duplicates            | no         |yes             | yes             | no                     | yes                      |\n",
    "| **Ordered**                           | no         |yes             | yes             | yes (since Python 3.7) | yes (follows key order)  |\n",
    "| **Can** contain                       | immutables |all             | all             | immutables             |  all                     |\n",
    "\n"
   ]
  },
  {
   "cell_type": "markdown",
   "id": "be5bc6bb-8838-469c-909f-f400aec117f0",
   "metadata": {},
   "source": [
    "One of the most interesting properties of a set is that it doesn’t allow duplicate elements. This means that if you add an element twice to a set, it will only keep one occurrence. Let's look at an example:"
   ]
  },
  {
   "cell_type": "code",
   "execution_count": null,
   "id": "f17a3dc2-312c-4edd-b459-b8cae4554d86",
   "metadata": {
    "tags": []
   },
   "outputs": [],
   "source": [
    "spotify_tags: Set[str] = {\"country\", \"rock\", \"hiphop\", \n",
    "                          \"indie\", \"country\", \"pop\"}"
   ]
  },
  {
   "cell_type": "markdown",
   "id": "5f3d36de-e230-41e8-afc8-2d2862c79088",
   "metadata": {},
   "source": [
    "A set is a great way to store tags as you don’t really care about their order and only want each tag stored once. So, what will happen when we print this?"
   ]
  },
  {
   "cell_type": "code",
   "execution_count": null,
   "id": "d1161387-1c02-416e-a226-e8f803458fc7",
   "metadata": {
    "tags": []
   },
   "outputs": [],
   "source": [
    "# What happens to the order?\n",
    "print(spotify_tags)"
   ]
  },
  {
   "cell_type": "markdown",
   "id": "77a5caeb-a1c6-48e3-a5da-d8a8f331d7a2",
   "metadata": {},
   "source": [
    "Now, we want to group tags that are a bit similar and we do this using a list, what will happen when we print this cell?"
   ]
  },
  {
   "cell_type": "code",
   "execution_count": null,
   "id": "f51566af-7f84-4262-a14c-2989eedeaf88",
   "metadata": {
    "tags": []
   },
   "outputs": [],
   "source": [
    "spotify_tags: Set = {\"country\", \"rock\", \"hiphop\", \n",
    "                          \"indie\", \"country\", \n",
    "                          [\"pop\", \"dance-pop\", \"alt-pop\",\n",
    "                           \"new wave\", \"dream pop\"]}"
   ]
  },
  {
   "cell_type": "markdown",
   "id": "1040bdc3-ed6f-476f-b0de-09c7e47efbd6",
   "metadata": {
    "tags": []
   },
   "source": [
    "<h2 style=\"color:#4169E1\">Set Methods</h2>"
   ]
  },
  {
   "cell_type": "markdown",
   "id": "37617764-6402-4d53-b7c6-18e488c20f85",
   "metadata": {},
   "source": [
    "<h4 style=\"color:#B22222\">The <code>.add()</code> Method</h4>"
   ]
  },
  {
   "cell_type": "markdown",
   "id": "1a0f18d1-7aed-43af-9fa1-5bd76d5a3b1f",
   "metadata": {},
   "source": [
    "<h4 style=\"color:#B22222\">The <code>.remove()</code> Method</h4>"
   ]
  },
  {
   "cell_type": "markdown",
   "id": "b8bea959-0578-4ecb-908a-707e71ec66a7",
   "metadata": {},
   "source": [
    "<h4 style=\"color:#B22222\">The <code>.discard()</code> Method</h4>"
   ]
  },
  {
   "cell_type": "markdown",
   "id": "968421e3-edeb-4b15-88a3-9d8736d92bf8",
   "metadata": {},
   "source": [
    "<h4 style=\"color:#B22222\">The <code>.union()</code> Method or <code>|</code></h4>"
   ]
  },
  {
   "cell_type": "markdown",
   "id": "dc53dd47-6cd8-474b-995c-460f45315023",
   "metadata": {},
   "source": [
    "<h4 style=\"color:#B22222\">The <code>.intersection()</code> Method or <code>&</code></h4>"
   ]
  },
  {
   "cell_type": "markdown",
   "id": "b12f027a-f0cc-405a-9883-8c0961eda20b",
   "metadata": {},
   "source": [
    "<h4 style=\"color:#B22222\">The <code>difference()</code> Method or <code>-</code></h4>"
   ]
  },
  {
   "cell_type": "markdown",
   "id": "d72d7f6b-972a-4155-b9df-bb6cc942c70d",
   "metadata": {},
   "source": [
    "<div class=\"alert\" style=\"background-color: #ffecb3; color: #856404;\">\n",
    "    <b>Note</b><br>\n",
    "If you add an element twice to a set, it will only keep one occurrence.</div>"
   ]
  },
  {
   "cell_type": "markdown",
   "id": "49a0974b-036f-434a-9c7a-483de598e0f9",
   "metadata": {
    "tags": []
   },
   "source": [
    "<h2 style=\"color:#4169E1\">Let's Think!</h2>"
   ]
  },
  {
   "cell_type": "code",
   "execution_count": null,
   "id": "41e13942-77d3-475e-98d9-705f7157fb9e",
   "metadata": {},
   "outputs": [],
   "source": [
    "{1, 2, 3} <= {1, 2, 3, 4}"
   ]
  },
  {
   "cell_type": "code",
   "execution_count": null,
   "id": "33fe2380-8856-4a46-aa90-04e5b1270a04",
   "metadata": {},
   "outputs": [],
   "source": [
    "{1, 2, 3} & {3, 4, 5}"
   ]
  },
  {
   "cell_type": "code",
   "execution_count": null,
   "id": "ad6c7c99-1653-43e6-bf99-ece701419c01",
   "metadata": {},
   "outputs": [],
   "source": [
    "{1, 2, 3}.isdisjoint({4, 5, 6})"
   ]
  },
  {
   "cell_type": "code",
   "execution_count": null,
   "id": "bfa73293-f675-4595-aea7-d8c03759ac79",
   "metadata": {},
   "outputs": [],
   "source": [
    "{1, 2, 3} | {3, 4, 5} == {1, 2, 3, 4, 5}"
   ]
  },
  {
   "cell_type": "code",
   "execution_count": null,
   "id": "a5c207e8-f938-47d4-83df-d420e8c89ad9",
   "metadata": {},
   "outputs": [],
   "source": [
    "{1, 2, 3}.symmetric_difference({2, 4, 5}) == {1, 4}"
   ]
  },
  {
   "cell_type": "code",
   "execution_count": null,
   "id": "2a307ce6-d6b7-4a9c-bde9-8bc8d32d2e0a",
   "metadata": {},
   "outputs": [],
   "source": [
    "{1, 2, 3}.issubset({1, 2, 3, 4, 5})"
   ]
  },
  {
   "cell_type": "code",
   "execution_count": null,
   "id": "cce161ac-c07a-427d-be50-6b6936f02326",
   "metadata": {},
   "outputs": [],
   "source": [
    "{1, 2, 3}.difference({3, 4, 5}) == {1, 2}"
   ]
  },
  {
   "cell_type": "code",
   "execution_count": null,
   "id": "edef747a-98e4-4a99-a3b3-2ac5a807e362",
   "metadata": {},
   "outputs": [],
   "source": [
    "{1, 2, 3} | {3, 4, 5} < {1, 2, 3, 4, 5, 6}"
   ]
  },
  {
   "cell_type": "code",
   "execution_count": null,
   "id": "c7eec270-d0fd-4a35-b66a-cedc89459ebb",
   "metadata": {},
   "outputs": [],
   "source": [
    "(not {2, 5, 4}) != (2, 5, 4)"
   ]
  },
  {
   "cell_type": "markdown",
   "id": "d89fb74d-6c52-45a8-8bbe-6af30e2216a9",
   "metadata": {
    "tags": []
   },
   "source": [
    "<h2 style=\"color:#3CB371\">Exercises</h2>"
   ]
  },
  {
   "cell_type": "markdown",
   "id": "46787f82-a6e7-41ec-a700-dc20ddeb5ade",
   "metadata": {},
   "source": [
    "Let's practice! Mind that each exercise is designed with multiple levels to help you progressively build your skills. <span style=\"color:darkorange;\"><strong>Level 1</strong></span> is the foundational level, designed to be straightforward so that everyone can successfully complete it. In <span style=\"color:darkorange;\"><strong>Level 2</strong></span>, we step it up a notch, expecting you to use more complex concepts or combine them in new ways. Finally, in <span style=\"color:darkorange;\"><strong>Level 3</strong></span>, we get closest to exam level questions, but we may use some concepts that are not covered in this notebook. However, in programming, you often encounter situations where you’re unsure how to proceed. Fortunately, you can often solve these problems by starting to work on them and figuring things out as you go. Practicing this skill is extremely helpful, so we highly recommend completing these exercises.\n",
    "\n",
    "For each of the exercises, make sure to add a `docstring` and `type hints`, and **do not** import any libraries unless specified otherwise.\n",
    "<br>"
   ]
  },
  {
   "cell_type": "markdown",
   "id": "865d291d-5a4c-42eb-9652-44110b39579d",
   "metadata": {
    "tags": []
   },
   "source": [
    "### Exercise 1\n",
    "\n",
    "<span style=\"color:darkorange;\"><strong>Level 1</strong>:</span> \n",
    "\n",
    "**Print** the tuple **outside** the function in a clear and readable format.\n",
    "\n",
    "**Example input**: you pass these arguments to the parameters in the function call.\n",
    "```Python\n",
    "article_1 : str = \"The strong winds in the Netherlands bring cool air from the North Sea.\"\n",
    "article_2 : str = \"In the Netherlands, windmills have been used for centuries to harness the power of the wind from the sea.\"\n",
    "```\n",
    "\n",
    "**Example output**:\n",
    "```Python\n",
    "\"Common words in both articles: ('sea', 'the', 'netherlands', 'in', 'from')\"\n",
    "```"
   ]
  },
  {
   "cell_type": "code",
   "execution_count": null,
   "id": "476ff54d-5e90-4381-ab59-deef4c6539d9",
   "metadata": {
    "tags": []
   },
   "outputs": [],
   "source": [
    "# TODO."
   ]
  }
 ],
 "metadata": {
  "kernelspec": {
   "display_name": "Python 3 (ipykernel)",
   "language": "python",
   "name": "python3"
  },
  "language_info": {
   "codemirror_mode": {
    "name": "ipython",
    "version": 3
   },
   "file_extension": ".py",
   "mimetype": "text/x-python",
   "name": "python",
   "nbconvert_exporter": "python",
   "pygments_lexer": "ipython3",
   "version": "3.11.5"
  }
 },
 "nbformat": 4,
 "nbformat_minor": 5
}

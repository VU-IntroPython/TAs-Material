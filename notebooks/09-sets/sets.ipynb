{
 "cells": [
  {
   "cell_type": "markdown",
   "id": "9a6620f3-1871-4fce-80ef-ce1738688832",
   "metadata": {},
   "source": [
    "# Introduction to Python Programming: Variables"
   ]
  },
  {
   "cell_type": "markdown",
   "id": "f7becdbe-fa76-41ae-ae5c-2710314284a6",
   "metadata": {},
   "source": [
    "An overview:\n",
    "    \n",
    "| property                       | set               | list            | tuple       | dict keys | dict values | \n",
    "|------------------------------- |-------------------|-----------------|-------------|-----------|-------------|\n",
    "| **mutable** (can you add add/remove?) | yes        | yes             | no          | yes       | yes         |      \n",
    "| **can** contain duplicates     | no                | yes             | yes         | no        | yes            |\n",
    "| **ordered**                    | no                | yes             | yes         | yes, but do not rely on it          | depends on type of value         |\n",
    "| **finding** element(s)         | quick             | slow            | slow        | quick             | depends on type of value         |\n",
    "| **can** contain                | immutables | all     | all | immutables  |  all           |\n",
    "\n"
   ]
  },
  {
   "cell_type": "code",
   "execution_count": null,
   "id": "3f31ee9d-1b2a-417e-97a0-5911ef57acd1",
   "metadata": {},
   "outputs": [],
   "source": []
  }
 ],
 "metadata": {
  "kernelspec": {
   "display_name": "Python 3 (ipykernel)",
   "language": "python",
   "name": "python3"
  },
  "language_info": {
   "codemirror_mode": {
    "name": "ipython",
    "version": 3
   },
   "file_extension": ".py",
   "mimetype": "text/x-python",
   "name": "python",
   "nbconvert_exporter": "python",
   "pygments_lexer": "ipython3",
   "version": "3.11.5"
  }
 },
 "nbformat": 4,
 "nbformat_minor": 5
}

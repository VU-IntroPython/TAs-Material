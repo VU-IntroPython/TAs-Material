{
 "cells": [
  {
   "cell_type": "markdown",
   "metadata": {},
   "source": [
    "# For Loop"
   ]
  },
  {
   "cell_type": "markdown",
   "metadata": {},
   "source": [
    "*Material for the VU Amsterdam course “Introduction to Python Programming” for BSc Artificial Intelligence students. These notebooks are created using the following sources:*\n",
    "1. [Learning Python by Doing][learning python]: This book, developed by teachers of TU/e Eindhoven and VU Amsterdam, is the main source for the course materials. Code snippets or text explanations from the book may be used in the notebooks, sometimes with slight adjustments.\n",
    "2. [Think Python][think python]\n",
    "3. [GeekForGeeks][geekforgeeks]\n",
    "\n",
    "[learning python]: https://programming-pybook.github.io/introProgramming/intro.html\n",
    "[think python]: https://greenteapress.com/thinkpython2/html/\n",
    "[geekforgeeks]: https://www.geeksforgeeks.org\n",
    "\n",
    "**In this notebook, we cover the following subjects:**\n",
    "- A Simple Loop;\n",
    "- Nested Loops.\n",
    "___________________________________________________________________________________________________________________________"
   ]
  },
  {
   "cell_type": "code",
   "execution_count": null,
   "metadata": {
    "tags": []
   },
   "outputs": [],
   "source": [
    "# To enable type hints for lists, we need to import the following:\n",
    "from typing import List"
   ]
  },
  {
   "cell_type": "markdown",
   "metadata": {
    "tags": []
   },
   "source": [
    "<h2 style=\"color:#4169E1\">A Simple Loop</h2>\n",
    "\n",
    "In Python, a `for` loop is used for iterating over a sequence, such as a list, a tuple, a dictionary, a set, or a string. For loops are used when the required number of iterations is known before we enter the loop (i.e., when we want to repeat a process for a specific number of times or for a specific list of items). The syntax is as follows:\n",
    "\n",
    "```python\n",
    "for variable in object:\n",
    "    # Code\n",
    "```\n",
    "\n",
    "With a `for` loop, we can, for instance, print each letter of a string."
   ]
  },
  {
   "cell_type": "code",
   "execution_count": null,
   "metadata": {
    "tags": []
   },
   "outputs": [],
   "source": [
    "for letter in \"animal\":\n",
    "    print(letter)"
   ]
  },
  {
   "cell_type": "markdown",
   "metadata": {},
   "source": [
    "In the example code above, the variable `letter` acts as the **iteration variable** (or loop variable). Each time the loop runs, the next character in the string is assigned to `letter`.  You can freely choose the name of the loop variable - use this to make your code clearer. The loop continues until no characters are left.\n",
    "\n",
    "You don’t need to define the variable in the <code>for</code> statement beforehand, and there’s no need for type hints. For readability, it’s best to use a clear and descriptive variable name."
   ]
  },
  {
   "cell_type": "markdown",
   "metadata": {},
   "source": [
    "<div class=\"alert\" style=\"background-color: #ffecb3; color: #856404;\">\n",
    "    <b>Note</b><br>\n",
    "You can’t use the variable from the <code>for</code> loop outside of it; its scope is exclusively within the <code>for</code> loop.\n",
    "</div>"
   ]
  },
  {
   "cell_type": "code",
   "execution_count": null,
   "metadata": {
    "tags": []
   },
   "outputs": [],
   "source": [
    "# Another simple example of iterating through a list\n",
    "\n",
    "greta_gerwig_films: List[str] = [\"Lady Bird\", \"Little Women\", \"Barbie\"]\n",
    "\n",
    "for film in greta_gerwig_films:\n",
    "    print(film)"
   ]
  },
  {
   "cell_type": "markdown",
   "metadata": {},
   "source": [
    "However, what happens when we run the following cell? Why do we get this result?"
   ]
  },
  {
   "cell_type": "code",
   "execution_count": null,
   "metadata": {
    "tags": []
   },
   "outputs": [],
   "source": [
    "for digit in 12345:\n",
    "    print(digit)"
   ]
  },
  {
   "cell_type": "markdown",
   "metadata": {},
   "source": [
    "<h4 style=\"color:#B22222\">The <code>range()</code> Function</h4>\n",
    "\n",
    "If you want to iterate through a range of numbers, you can use the `range()` function. The syntax of this function is as follows:\n",
    "\n",
    "```python\n",
    "range(start, stop[, step])\n",
    "```\n",
    "\n",
    "Remember, we can use the `help` function to understand the usage of `range()`."
   ]
  },
  {
   "cell_type": "code",
   "execution_count": null,
   "metadata": {
    "tags": []
   },
   "outputs": [],
   "source": [
    "help(range)"
   ]
  },
  {
   "cell_type": "markdown",
   "metadata": {},
   "source": [
    "From the documentation, we can interpret the parameters as follows:\n",
    "\n",
    "- *start* (optional): This is the number at which the sequence starts and is inclusive, the default is 0.\n",
    "- *stop* (required): This is the number at which the sequence ends and is exclusive.\n",
    "- *step* (optional): This is the stepsize between each number, with default 1.\n",
    "\n",
    "We’ll look at a few examples to demonstrate the use of range."
   ]
  },
  {
   "cell_type": "code",
   "execution_count": null,
   "metadata": {
    "tags": []
   },
   "outputs": [],
   "source": [
    "for i in range (1,6):\n",
    "    print(f\"Printing numbers from 1 to 5: {i}\")\n",
    "\n",
    "print() # We add empty print statements to create a blank line in the output. This improves the readability.\n",
    "\n",
    "for i in range(1, 11, 2):\n",
    "    print(f\"Odd number: {i}\")\n",
    "\n",
    "print()\n",
    "\n",
    "# What happens when the stepsize is negative?\n",
    "for i in range(3,0,-1):\n",
    "    print(f'{i}...')\n",
    "print('Take-off!')"
   ]
  },
  {
   "cell_type": "markdown",
   "metadata": {},
   "source": [
    "<div class=\"alert\" style=\"background-color: #ffecb3; color: #856404;\">\n",
    "    <b>Note</b><br>\n",
    "The <code>break</code> and <code>continue</code> statements also works with <code>for</code> loops, not solely with <code>while</code> loops.\n",
    "</div>"
   ]
  },
  {
   "cell_type": "markdown",
   "metadata": {},
   "source": [
    "<h4 style=\"color:#B22222\">The <code>enumerate()</code> Function</h4>\n",
    "\n",
    "If you want to iterate through as list using both the elements and the indexes, you can use the `enumerate()` function."
   ]
  },
  {
   "cell_type": "code",
   "execution_count": null,
   "metadata": {
    "tags": []
   },
   "outputs": [],
   "source": [
    "for index, letter in enumerate(\"house\"):\n",
    "    print(f\"At index {index}, we have the letter: {letter}.\")"
   ]
  },
  {
   "cell_type": "markdown",
   "metadata": {},
   "source": [
    "<h2 style=\"color:#4169E1\">Nested Loops</h2>\n",
    "\n",
    "Loops can be nested within each other. This means that for each iteration in the outer loop, the inner loop is fully executed. As an example, if the outer loop consists of 3 iterations and the inner loop of 4 iterations, the total number of iterations in the nested loop is 3 x 4 = 12. "
   ]
  },
  {
   "cell_type": "markdown",
   "metadata": {},
   "source": [
    "Let's take a look at the following code, helping to check for poachers in different savannah areas. There are three zones in each of the ten areas. If an area contains poachers, each of its three zones will be cleared."
   ]
  },
  {
   "cell_type": "code",
   "execution_count": null,
   "metadata": {},
   "outputs": [],
   "source": [
    "noOfAreas = 10\n",
    "noOfZones = 3\n",
    "areasWithPoachers = [3, 6, 9]\n",
    "\n",
    "for area in range(1, noOfAreas + 1):\n",
    "    if area in areasWithPoachers:\n",
    "        for zone in range(1, noOfZones + 1):\n",
    "            print(f\"Zone {zone} of Area {area} has been cleared of poachers.\")\n",
    "        \n",
    "    else:\n",
    "        print(f\"No poachers in area {area}.\")\n",
    "\n",
    "# Note how the inner loop only gets executed for certain iterations of the outer loop here, which we control through an if statement!"
   ]
  },
  {
   "cell_type": "markdown",
   "metadata": {},
   "source": [
    "Let's do the same thing with a `while` loop. **Before running**, double-check if something needs to be added."
   ]
  },
  {
   "cell_type": "code",
   "execution_count": null,
   "metadata": {},
   "outputs": [],
   "source": [
    "area = 1\n",
    "noOfAreas = 10\n",
    "noOfZones = 3\n",
    "areasWithPoachers = [3, 6, 9]\n",
    "\n",
    "while area <= noOfAreas:\n",
    "    if area in areasWithPoachers:\n",
    "        zone = 1\n",
    "\n",
    "        while zone <= noOfZones:\n",
    "            print(f\"Zone {zone} of Area {area} has been cleared of poachers.\")\n",
    "        \n",
    "    else:\n",
    "        print(f\"No poachers in area {area}.\")"
   ]
  },
  {
   "cell_type": "markdown",
   "metadata": {
    "tags": []
   },
   "source": [
    "<h2 style=\"color:#3CB371\">Exercises</h2>"
   ]
  },
  {
   "cell_type": "markdown",
   "metadata": {},
   "source": [
    "Let's practice! Mind that some exercises are **optional**, which means that some concepts used may not be covered in this notebook. However, in programming, you often encounter situations where you’re unsure how to proceed. Fortunately, you can often solve these problems by starting to work on them and figuring things out as you go. Practicing this skill is extremely helpful, so we highly recommend completing these exercises.\n",
    "\n",
    "When an exercise is denoted as **extra**, it simply means that it can be approached in another way that is considered good practice.\n",
    "\n",
    "For each of the exercises, make sure to add a `docstring` and `type hints`, and **do not** import any libraries. \n",
    "<br>"
   ]
  },
  {
   "cell_type": "markdown",
   "metadata": {},
   "source": [
    "### Exercise 1\n",
    "\n",
    "Let's practice with loops, starting off with a fun exercise. In Python, we can 'draw' shapes made of special characters, such as brackets, dashes, asterisks or dots. For example, we can print a diamond using asterisks:\n",
    "\n",
    "```\n",
    "  *\n",
    " ***\n",
    "*****\n",
    " ***\n",
    "  *\n",
    "```\n",
    "\n",
    "Now, write a function called `diamond` that takes an **uneven** integer input from the user for the size of the diamond's diagonals, which represents both its height and width (as they are equal in this case). The program should then print a diamond shape made of `*` characters, based on the size parameter.\n",
    "\n",
    "*Requirements*: \n",
    "- Use `for` loops for this exercise;\n",
    "- If the input is `0`, uneven or negative, the code should print `\"Invalid Input\"`.\n",
    "\n",
    "*Hint*:\n",
    "- Use two separate for loops: one for the upper part of the diamond and one for the lower part. Include the middle line in only one of the loops.\n",
    "\n",
    "\n",
    "**Example input:**\n",
    "```python\n",
    "user_input: int = 5\n",
    "```\n",
    "\n",
    "**Example output:**\n",
    "\n",
    "```\n",
    "  *\n",
    " ***\n",
    "*****\n",
    " ***\n",
    "  *\n",
    "\n",
    "```\n",
    "\n",
    "\n",
    "\n",
    "\n"
   ]
  },
  {
   "cell_type": "code",
   "execution_count": 14,
   "metadata": {
    "tags": []
   },
   "outputs": [],
   "source": [
    "# TODO."
   ]
  },
  {
   "cell_type": "markdown",
   "metadata": {},
   "source": [
    "**Extra**: Now, let’s use the `diamond` function for a more complex task involving lists. Write a Python program that takes a list of people’s names as input. For each name, print a diamond based on the length of the name, along with a nice message.\n",
    "\n",
    "*Requirements*:\n",
    "- For each person, the size of the diamond’s diagonal should be the same as the number of characters in their name;\n",
    "- If the length of a name is **even**, you have to substract 1 before creating the diamond;\n",
    "- The list should be defined at the top of your code, **not** taken as user input.\n",
    "\n",
    "\n",
    "**Example input**:\n",
    "\n",
    "```python\n",
    "people: List[str] = [\"Dargor\", \"Bilbo Baggins\"]\n",
    "```\n",
    "\n",
    "**Example output**:\n",
    "\n",
    "```\n",
    "Dargor's diamond:\n",
    "  *\n",
    " ***\n",
    "*****\n",
    " ***\n",
    "  *\n",
    " \n",
    "Bilbo Baggins' diamond:\n",
    "      *\n",
    "     ***\n",
    "    *****\n",
    "   *******\n",
    "  *********\n",
    " ***********\n",
    "*************\n",
    " ***********\n",
    "  *********\n",
    "   *******\n",
    "    *****\n",
    "     ***\n",
    "      *\n",
    "```"
   ]
  },
  {
   "cell_type": "code",
   "execution_count": 14,
   "metadata": {
    "tags": []
   },
   "outputs": [],
   "source": [
    "# TODO."
   ]
  },
  {
   "cell_type": "markdown",
   "metadata": {},
   "source": [
    "### Exercise 2"
   ]
  },
  {
   "cell_type": "markdown",
   "metadata": {},
   "source": [
    "### Exercise 3"
   ]
  },
  {
   "cell_type": "code",
   "execution_count": null,
   "metadata": {},
   "outputs": [],
   "source": []
  }
 ],
 "metadata": {
  "kernelspec": {
   "display_name": "Python 3 (ipykernel)",
   "language": "python",
   "name": "python3"
  },
  "language_info": {
   "codemirror_mode": {
    "name": "ipython",
    "version": 3
   },
   "file_extension": ".py",
   "mimetype": "text/x-python",
   "name": "python",
   "nbconvert_exporter": "python",
   "pygments_lexer": "ipython3",
   "version": "3.11.5"
  },
  "vscode": {
   "interpreter": {
    "hash": "9451767feaf7925185bf37009af3205aec0103dc88a66dc09d267eb54aa4b1c3"
   }
  }
 },
 "nbformat": 4,
 "nbformat_minor": 4
}

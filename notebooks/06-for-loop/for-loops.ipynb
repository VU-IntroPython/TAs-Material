{
 "cells": [
  {
   "cell_type": "markdown",
   "metadata": {},
   "source": [
    "# For Loop"
   ]
  },
  {
   "cell_type": "markdown",
   "metadata": {},
   "source": [
    "*Material for the VU Amsterdam course “Introduction to Python Programming” for BSc Artificial Intelligence students. These notebooks are created using the following sources:*\n",
    "1. [Learning Python by Doing][learning python]: This book, developed by teachers of TU/e Eindhoven and VU Amsterdam, is the main source for the course materials. Code snippets or text explanations from the book may be used in the notebooks, sometimes with slight adjustments.\n",
    "2. [Think Python][think python]\n",
    "3. [GeekForGeeks][geekforgeeks]\n",
    "\n",
    "[learning python]: https://programming-pybook.github.io/introProgramming/intro.html\n",
    "[think python]: https://greenteapress.com/thinkpython2/html/\n",
    "[geekforgeeks]: https://www.geeksforgeeks.org\n",
    "\n",
    "**In this notebook, we cover the following subjects:**\n",
    "- Todo.\n",
    "___________________________________________________________________________________________________________________________"
   ]
  },
  {
   "cell_type": "markdown",
   "metadata": {},
   "source": [
    "<h2 style=\"color:#4169E1\">Iterable Objects</h2>\n",
    "\n",
    "When you can loop over (i.e., iterate through) an object, accessing each element of this object, we speak of an **iterable**. You can think of an iterable object as a container that holds multiple items, and you have the ability to inspect each item in a systematic way."
   ]
  },
  {
   "cell_type": "markdown",
   "metadata": {},
   "source": [
    "So far, we have explored various data types, and it's important to note that while some of these data types are iterable, others are not:\n",
    "\n",
    "| Data Type      | Iterable |\n",
    "|:--------------:|:--------:|\n",
    "| Lists      |   Yes    |\n",
    "| Strings    |   Yes    |\n",
    "| Tuples         |   Yes    |\n",
    "| Sets           |   Yes    |\n",
    "| Dictionaries   |   Yes    |\n",
    "| Integers   |    No    |\n",
    "| Floats     |    No    |\n",
    "| Booleans   |    No    |\n",
    "| None (NoneType)|    No    |\n",
    "| Custom Objects | It depends (can be made iterable) |\n",
    "\n",
    "If some of these data types are new to you, don’t worry; these will be explained in other notebooks."
   ]
  },
  {
   "cell_type": "markdown",
   "metadata": {},
   "source": [
    "<h4 style=\"color:#B22222\">An Example: Strings</h4>\n",
    "\n",
    "As the table suggests, strings are iterable. However, you might be wondering how. If you look closely at a string, it is simply a collection of characters. To come back to our previous analogy, the string can be viewed as a container, with each character being an item within that container. Let's look an an example."
   ]
  },
  {
   "cell_type": "code",
   "execution_count": null,
   "metadata": {
    "tags": []
   },
   "outputs": [],
   "source": [
    "favourite_movie_character = \"Rubeus Hagrid\""
   ]
  },
  {
   "cell_type": "markdown",
   "metadata": {},
   "source": [
    "Here, we created a new variable and assigned the string \"Rubeus Hagrid\" to it. Assume you just want to know the first letter of the characters name, how can you do this? \n",
    "\n",
    "Python has a very neat way of doing this called **indexing**, where you can select one of the characters in a string. Indexing can only be done on iterables and works on a string as follows:"
   ]
  },
  {
   "cell_type": "code",
   "execution_count": null,
   "metadata": {},
   "outputs": [],
   "source": [
    "print(favourite_movie_character[0])"
   ]
  },
  {
   "cell_type": "markdown",
   "metadata": {
    "tags": []
   },
   "source": [
    "We can also assign the result to a new variable:"
   ]
  },
  {
   "cell_type": "code",
   "execution_count": null,
   "metadata": {
    "tags": []
   },
   "outputs": [],
   "source": [
    "first_letter_of_favourite_movie_character = favourite_movie_character[0]\n",
    "\n",
    "print(first_letter_of_favourite_movie_character)"
   ]
  },
  {
   "cell_type": "markdown",
   "metadata": {},
   "source": [
    "The expression in square brackets is called an **index** and it only takes integer values. The index indicates which character in the sequence you want (hence the name). The first letter of a string is obtained by index 0."
   ]
  },
  {
   "cell_type": "code",
   "execution_count": null,
   "metadata": {},
   "outputs": [],
   "source": [
    "\n",
    "info = \"Hogwarts\"[0]\n",
    "info = [\"Harry\", \"Ron\", \"Hermione\"][2]\n",
    "# info = 7[0]\n",
    "info = \"Dobby\"[-3]\n",
    "info = \"Albus Dumbledore\"[0:5:1]\n",
    "\n",
    "print(info)"
   ]
  },
  {
   "cell_type": "markdown",
   "metadata": {
    "tags": []
   },
   "source": [
    "<h2 style=\"color:#4169E1\">The While Statement</h2>\n",
    "\n",
    "\n",
    "- Computers are good in repeating boring tasks, they do this faster and more accurate than people. A block of code that is executed several times is called a loop. Each repetition of instructions within a loop is called an iteration.\n",
    "\n",
    "\n",
    "\n",
    "A **while loop** in Python is a control structure that allows you to repeatedly execute a block of code as long as a specified **condition** is **True**. \n",
    "\n",
    "The loop starts by evaluating the condition, and if it is **True**, the code inside the loop is executed. After each iteration, the condition is re-evaluated, and the loop continues to run until the condition becomes **False**.\n",
    "\n",
    "```python\n",
    "while condition:\n",
    "    # Code to execute while condition is True\n",
    "```"
   ]
  },
  {
   "cell_type": "code",
   "execution_count": null,
   "metadata": {},
   "outputs": [],
   "source": [
    "platform: int = 1\n",
    "\n",
    "while platform < 10:\n",
    "    \n",
    "    print(\"You are at Platform {platform_no}.\".format(platform_no = platform))\n",
    "    \n",
    "    platform = platform + 1\n",
    "\n",
    "print(\"Be careful! Only 3/4 platforms to go.\")\n",
    "\n",
    "# How could we simplify platform = platform + 1 ?"
   ]
  },
  {
   "cell_type": "markdown",
   "metadata": {},
   "source": [
    "<h4 style=\"color:#B22222\">Break</h4>"
   ]
  },
  {
   "cell_type": "markdown",
   "metadata": {
    "tags": []
   },
   "source": [
    "<h2 style=\"color:#3CB371\">Exercises</h2>"
   ]
  }
 ],
 "metadata": {
  "kernelspec": {
   "display_name": "Python 3 (ipykernel)",
   "language": "python",
   "name": "python3"
  },
  "language_info": {
   "codemirror_mode": {
    "name": "ipython",
    "version": 3
   },
   "file_extension": ".py",
   "mimetype": "text/x-python",
   "name": "python",
   "nbconvert_exporter": "python",
   "pygments_lexer": "ipython3",
   "version": "3.11.5"
  },
  "vscode": {
   "interpreter": {
    "hash": "9451767feaf7925185bf37009af3205aec0103dc88a66dc09d267eb54aa4b1c3"
   }
  }
 },
 "nbformat": 4,
 "nbformat_minor": 4
}

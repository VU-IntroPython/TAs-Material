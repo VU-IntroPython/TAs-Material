{
 "cells": [
  {
   "cell_type": "markdown",
   "metadata": {},
   "source": [
    "# For Loop"
   ]
  },
  {
   "cell_type": "markdown",
   "metadata": {},
   "source": [
    "*Material for the VU Amsterdam course “Introduction to Python Programming” for BSc Artificial Intelligence students. These notebooks are created using the following sources:*\n",
    "1. [Learning Python by Doing][learning python]: This book, developed by teachers of TU/e Eindhoven and VU Amsterdam, is the main source for the course materials. Code snippets or text explanations from the book may be used in the notebooks, sometimes with slight adjustments.\n",
    "2. [Think Python][think python]\n",
    "3. [GeekForGeeks][geekforgeeks]\n",
    "\n",
    "[learning python]: https://programming-pybook.github.io/introProgramming/intro.html\n",
    "[think python]: https://greenteapress.com/thinkpython2/html/\n",
    "[geekforgeeks]: https://www.geeksforgeeks.org\n",
    "\n",
    "**In this notebook, we cover the following subjects:**\n",
    "- Todo.\n",
    "___________________________________________________________________________________________________________________________"
   ]
  },
  {
   "cell_type": "markdown",
   "metadata": {
    "tags": []
   },
   "source": [
    "<h2 style=\"color:#4169E1\">For Loop</h2>\n",
    "\n",
    "In Python, a `for` loop is used for iterating over a sequence, such as a list, a tuple, a dictionary, a set, or a string. For loops are used when the required number of iterations is known before we enter the loop (i.e., when we want to repeat a process for a specific number of times or for a specific list of items). The syntax is as follows:\n",
    "\n",
    "```python\n",
    "for variable in object:\n",
    "    # Code\n",
    "```\n",
    "\n",
    "With a `for` loop, we can, for instance, print each letter of a string."
   ]
  },
  {
   "cell_type": "code",
   "execution_count": 99,
   "metadata": {
    "tags": []
   },
   "outputs": [
    {
     "name": "stdout",
     "output_type": "stream",
     "text": [
      "a\n",
      "n\n",
      "i\n",
      "m\n",
      "a\n",
      "l\n"
     ]
    }
   ],
   "source": [
    "for letter in \"animal\":\n",
    "    print(letter)"
   ]
  },
  {
   "cell_type": "markdown",
   "metadata": {},
   "source": [
    "In the example code above, the variable `letter` acts as the **iteration variable** (or loop variable). Each time the loop runs, the next character in the string is assigned to `letter`.  You can freely choose the name of the loop variable - use this to make your code clearer. The loop continues until no characters are left."
   ]
  },
  {
   "cell_type": "markdown",
   "metadata": {},
   "source": [
    "<div class=\"alert\" style=\"background-color: #ffecb3; color: #856404;\">\n",
    "    <b>Note</b><br>\n",
    "You don’t need to define the variable in the <code>for</code> statement beforehand, and there’s no need for type hints. For readability, it’s best to use a clear and descriptive variable name.\n",
    "</div>"
   ]
  },
  {
   "cell_type": "markdown",
   "metadata": {},
   "source": [
    "<h4 style=\"color:#B22222\">A Simple Loop</h4>"
   ]
  },
  {
   "cell_type": "code",
   "execution_count": 112,
   "metadata": {},
   "outputs": [
    {
     "name": "stdout",
     "output_type": "stream",
     "text": [
      "3...\n",
      "2...\n",
      "1...\n",
      "Take-off!\n"
     ]
    }
   ],
   "source": [
    "for i in range(3,0,-1):\n",
    "    print(f'{i}...')\n",
    "\n",
    "print('Take-off!')"
   ]
  },
  {
   "cell_type": "markdown",
   "metadata": {},
   "source": [
    "<div class=\"alert alert-info\">\n",
    "    <b>Note</b> <br>\n",
    "    You can also give range() a single number as parameter, in that case it will return the sequence from 0 to that number by default.\n",
    "</div>"
   ]
  },
  {
   "cell_type": "code",
   "execution_count": null,
   "metadata": {},
   "outputs": [],
   "source": [
    "platform: int = 1\n",
    "\n",
    "while platform < 10:\n",
    "    \n",
    "    print(\"You are at Platform {platform_no}.\".format(platform_no = platform))\n",
    "    \n",
    "    platform = platform + 1\n",
    "\n",
    "print(\"Be careful! Only 3/4 platforms to go.\")\n",
    "\n",
    "# How could we simplify platform = platform + 1 ?"
   ]
  },
  {
   "cell_type": "markdown",
   "metadata": {},
   "source": [
    "<h4 style=\"color:#B22222\">Break</h4>"
   ]
  },
  {
   "cell_type": "code",
   "execution_count": 11,
   "metadata": {
    "tags": []
   },
   "outputs": [],
   "source": [
    "# explain enumerate"
   ]
  },
  {
   "cell_type": "markdown",
   "metadata": {
    "tags": []
   },
   "source": [
    "<h2 style=\"color:#3CB371\">Exercises</h2>"
   ]
  },
  {
   "cell_type": "markdown",
   "metadata": {
    "tags": []
   },
   "source": [
    "### Exercise 3: Reverse a String\n",
    "\n",
    "Write a Python function called `reverse_string` that takes a string as input and returns the reverse of the string. Make sure to use the return statement. Additionally, print the result outside of the function."
   ]
  },
  {
   "cell_type": "markdown",
   "metadata": {},
   "source": [
    "**Example**:\n",
    "- Input: `reverse_string(\"Python\")`<br>\n",
    "- Output: \"nohtyP\""
   ]
  },
  {
   "cell_type": "code",
   "execution_count": 23,
   "metadata": {},
   "outputs": [],
   "source": [
    "# TODO."
   ]
  },
  {
   "cell_type": "markdown",
   "metadata": {},
   "source": [
    "**EXTRA CHALLENGE (optional):** Extend the `reverse_string` function to take a string as input, reverse it, and return `True` if the reversed string is a palindrome (reads the same forwards and backwards), and `False` otherwise. Call the new function `reverse_string_and_check_palindrome`. Make sure to use the return statement. Additionally, print the result outside of the function."
   ]
  },
  {
   "cell_type": "markdown",
   "metadata": {},
   "source": [
    "**Example**\n",
    "- Input: `reverse_string_and_check_palindrome(\"racecar\")`\n",
    "- Output: True\n"
   ]
  },
  {
   "cell_type": "code",
   "execution_count": null,
   "metadata": {},
   "outputs": [],
   "source": [
    "# TODO: Extra"
   ]
  },
  {
   "cell_type": "markdown",
   "metadata": {},
   "source": [
    "### Exercise 4: Find the Longest Word in a Sentence\n",
    "\n",
    "Write a Python function called `find_longest_word` that takes a sentence as input and returns the longest word in the sentence. If there are multiple words having the highest length, return the first word in the sentence having that length.  Make sure to use the return statement. Additionally, print the result outside of the function. Assume that words are separated by spaces, and there are no punctuation marks. **Hint**: Look up the string method `.split()`\n"
   ]
  },
  {
   "cell_type": "markdown",
   "metadata": {},
   "source": [
    "**Example**<br>\n",
    "- Input: `find_longest_word(\"The quick brown fox jumps over the lazy dog\")`<br>\n",
    "- Output: \"quick\""
   ]
  },
  {
   "cell_type": "code",
   "execution_count": null,
   "metadata": {},
   "outputs": [],
   "source": [
    "# TODO."
   ]
  },
  {
   "cell_type": "markdown",
   "metadata": {},
   "source": [
    "**EXTRA CHALLENGE (optional):** Modify the `find_longest_word` function to take a sentence as input and return a list of all the longest words in the sentence. If there are multiple words with the same longest length, include all of them in the list. Make sure to use the return statement. Additionally, print the result outside of the function."
   ]
  },
  {
   "cell_type": "markdown",
   "metadata": {},
   "source": [
    "**Example**<br>\n",
    "- Input: `find_longest_word(\"The quick brown fox jumps over the lazy dog\")`<br>\n",
    "- Output: [\"quick\", \"brown\"]"
   ]
  },
  {
   "cell_type": "code",
   "execution_count": null,
   "metadata": {},
   "outputs": [],
   "source": [
    "# TODO: Extra"
   ]
  },
  {
   "cell_type": "markdown",
   "metadata": {},
   "source": [
    "### Exercise 5: Find the Median of a List"
   ]
  },
  {
   "cell_type": "markdown",
   "metadata": {},
   "source": [
    "Write a Python function called `find_median` that takes a list of sorted numbers as input and returns the median value. The median is the middle value in a sorted list of numbers. If the list has an even number of elements, return the average of the two middle values. Make sure to use the return statement. Additionally, print the result outside of the function."
   ]
  },
  {
   "cell_type": "markdown",
   "metadata": {},
   "source": [
    "**Example**<br>\n",
    "- Input: `find_median([1, 2, 3, 6])`<br>\n",
    "- Output: \"2.5\"\n"
   ]
  },
  {
   "cell_type": "code",
   "execution_count": null,
   "metadata": {},
   "outputs": [],
   "source": [
    "# TODO."
   ]
  },
  {
   "cell_type": "markdown",
   "metadata": {},
   "source": [
    "**EXTRA CHALLENGE (optional):** Modify the `find_median` function to take a list of numbers as input, find the median value, and return it. However, this time, ensure that the function works correctly even if the input list is not sorted. Make sure to use the return statement. Additionally, print the result outside of the function."
   ]
  },
  {
   "cell_type": "markdown",
   "metadata": {},
   "source": [
    "**Example**<br>\n",
    "- Input: `find_median([3, 1, 6, 2])`<br>\n",
    "- Output: \"2.5\""
   ]
  }
 ],
 "metadata": {
  "kernelspec": {
   "display_name": "Python 3 (ipykernel)",
   "language": "python",
   "name": "python3"
  },
  "language_info": {
   "codemirror_mode": {
    "name": "ipython",
    "version": 3
   },
   "file_extension": ".py",
   "mimetype": "text/x-python",
   "name": "python",
   "nbconvert_exporter": "python",
   "pygments_lexer": "ipython3",
   "version": "3.11.5"
  },
  "vscode": {
   "interpreter": {
    "hash": "9451767feaf7925185bf37009af3205aec0103dc88a66dc09d267eb54aa4b1c3"
   }
  }
 },
 "nbformat": 4,
 "nbformat_minor": 4
}

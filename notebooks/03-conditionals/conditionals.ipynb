{
 "cells": [
  {
   "cell_type": "markdown",
   "metadata": {},
   "source": [
    "# Conditionals"
   ]
  },
  {
   "cell_type": "markdown",
   "metadata": {},
   "source": [
    "**In this notebook, we cover the following subjects:**\n",
    "- Boolean Values and Expressions;\n",
    "- Conditional Statements;\n",
    "- User-Input.\n",
    "___________________________________________________________________________________________________________________________"
   ]
  },
  {
   "cell_type": "markdown",
   "metadata": {},
   "source": [
    "<h2 style=\"color:#4169E1\">Boolean Values and Expressions</h2>\n",
    "\n",
    "Stemming from [Boolean Logic][boolean_logic], let's talk about another data type: **Boolean values**. This data type can only have two values, namely **True** and **False**, and is often used to represent the outcome of a condition or expression.\n",
    "\n",
    "[boolean_logic]:https://programming-pybook.github.io/introProgramming/chapters/conditionals.html#boolean-logic-a-class-anchor-id-boolean-logic-a"
   ]
  },
  {
   "cell_type": "code",
   "execution_count": null,
   "metadata": {
    "tags": []
   },
   "outputs": [],
   "source": [
    "is_sunny: bool = True\n",
    "is_raining: bool = False"
   ]
  },
  {
   "cell_type": "markdown",
   "metadata": {
    "tags": []
   },
   "source": [
    "A **boolean expression** is an expression that evaluates to `True` or `False`. "
   ]
  },
  {
   "cell_type": "code",
   "execution_count": null,
   "metadata": {
    "tags": []
   },
   "outputs": [],
   "source": [
    "x: int = 1\n",
    "y: int = 5\n",
    "\n",
    "result: bool = x > y\n",
    "\n",
    "print(result)"
   ]
  },
  {
   "cell_type": "markdown",
   "metadata": {},
   "source": [
    "<h4 style=\"color:#B22222\">Comparison Operators</h4>"
   ]
  },
  {
   "cell_type": "markdown",
   "metadata": {},
   "source": [
    "To perform comparisons between values or expressions, we use what are called **comparison operators**. While these operations might already be familiar to you, the symbols used in Python are different from the standard mathematical symbols.\n",
    "\n",
    "\n",
    "| **Operator** | **Purpose** |\n",
    "|:----------|:---------|\n",
    "| `==` | x is  equal to y |\n",
    "| `!=` | x is not equal to y |\n",
    "| `x > y` | x is greater than y |\n",
    "| `x < y` | x is less than y |\n",
    "| `x >= y` | x is greater than or equal to y | \n",
    "\n",
    "For example, using `==` we check whether the following expression is `True`."
   ]
  },
  {
   "cell_type": "code",
   "execution_count": null,
   "metadata": {
    "tags": []
   },
   "outputs": [],
   "source": [
    "result: bool = (5 == 5)\n",
    "\n",
    "print(result)"
   ]
  },
  {
   "cell_type": "markdown",
   "metadata": {},
   "source": [
    "<div class=\"alert\" style=\"background-color: #ffecb3; color: #856404;\">\n",
    "    <b>Note</b> <br>\n",
    "    There is a clear difference between the use of <code>=</code> and <code>==</code>: the former is an <b>assignment operator</b>, while the latter is a <b>relational operator</b>.\n",
    "</div>"
   ]
  },
  {
   "cell_type": "markdown",
   "metadata": {},
   "source": [
    "<h4 style=\"color:#B22222\">Logical Operators</h4>\n",
    "\n",
    "Now, with **logical operators** we can combine multiple boolean expressions and return a `True` or `False` value. In Python, there are three logical operators: `and`, `or`, and `not`.\n",
    "\n",
    "| Operator | Technical name | Math symbol | Python construct | \n",
    "|:--------:|:--------------:|:------:|:------:|\n",
    "| And      | Conjunction    | $\\land$| `and`  |\n",
    "| Or       | Disjunction    | $\\lor$ | `or`   |\n",
    "| Not      | Negation       | $\\lnot$| `not`  |\n"
   ]
  },
  {
   "cell_type": "markdown",
   "metadata": {},
   "source": [
    "- **The `and` Operator**: returns `True` if **all** expressions are `True`."
   ]
  },
  {
   "cell_type": "code",
   "execution_count": null,
   "metadata": {
    "tags": []
   },
   "outputs": [],
   "source": [
    "age: int = 17\n",
    "\n",
    "is_adult: bool = (age >= 18) and (age < 65)\n",
    "\n",
    "print(is_adult)"
   ]
  },
  {
   "cell_type": "markdown",
   "metadata": {},
   "source": [
    "- **The `or` Operator**: returns `True` if **at least one** expression holds `True`."
   ]
  },
  {
   "cell_type": "code",
   "execution_count": null,
   "metadata": {
    "tags": []
   },
   "outputs": [],
   "source": [
    "day: str = \"Saturday\"\n",
    "\n",
    "is_weekend: bool = (day == \"Saturday\") or (day == \"Sunday\")\n",
    "\n",
    "print(is_weekend)"
   ]
  },
  {
   "cell_type": "markdown",
   "metadata": {},
   "source": [
    "- **The `not` Operator**: negates a boolean expression."
   ]
  },
  {
   "cell_type": "code",
   "execution_count": null,
   "metadata": {
    "tags": []
   },
   "outputs": [],
   "source": [
    "is_sunny: bool = True\n",
    "\n",
    "not_sunny: bool = not is_sunny\n",
    "\n",
    "print(not_sunny)"
   ]
  },
  {
   "cell_type": "markdown",
   "metadata": {
    "tags": []
   },
   "source": [
    "<h2 style=\"color:#4169E1\">Conditional Statements</h2>\n",
    "\n",
    "Now that we’ve covered boolean values and expressions, let’s move on to a new concept: **conditional statements**. In order to write useful code, we want to be able to change the behavior of the program based on the fulfillment of certain conditions. Conditional statements allow us to do this, as Boolean expressions are used to determine which blocks of code to execute. The three types of conditional statements are `if`, `elif`, and `else`."
   ]
  },
  {
   "cell_type": "markdown",
   "metadata": {},
   "source": [
    "**1. if-statement**: this is the simplest form of a conditional statement. If the condition after the `if` holds `True`, then the following statement is executed. The syntax is as follows:\n",
    "\n",
    "```python\n",
    "if condition:\n",
    "    # Code block executes if condition is True\n",
    "```\n",
    "\n",
    "<div class=\"alert\" style=\"background-color: #ffecb3; color: #856404;\">\n",
    "    <b>Note</b> <br>\n",
    "     Python is <b>indentation-sensitive</b>, meaning that indentation is used to show the hierarchy and structure of your code.\n",
    "</div>"
   ]
  },
  {
   "cell_type": "markdown",
   "metadata": {},
   "source": [
    "An example:"
   ]
  },
  {
   "cell_type": "code",
   "execution_count": null,
   "metadata": {
    "tags": []
   },
   "outputs": [],
   "source": [
    "# What happens when we run this cell?\n",
    "\n",
    "temperature: int = 5\n",
    "\n",
    "if temperature < 0:\n",
    "    print(\"It's freezing.\")"
   ]
  },
  {
   "cell_type": "markdown",
   "metadata": {},
   "source": [
    "As you might notice, an **if-statement** is very useful when you want to run a specific piece of code only if a condition is true. However, this approach is limited because the code stops executing if the condition is not true, reducing flexibility. To account for this problem, we introduce the **else-statement**."
   ]
  },
  {
   "cell_type": "markdown",
   "metadata": {},
   "source": [
    "\n",
    "**2. else-statement**: if the condition is of the **if-statement** is `False`, the body of the `else` section will be executed. Together, we call this an **if-else statement**, and it has the following syntax:\n",
    "```python\n",
    "if condition:\n",
    "    # Code block if condition is True\n",
    "else:\n",
    "    # Code block if condition is False\n",
    "```"
   ]
  },
  {
   "cell_type": "code",
   "execution_count": null,
   "metadata": {
    "tags": []
   },
   "outputs": [],
   "source": [
    "temperature: int = 5\n",
    "\n",
    "if temperature < 0:\n",
    "    print(\"It's freezing.\")\n",
    "else:\n",
    "    print(\"No frostbite today! Maybe go for a brisk walk?\")"
   ]
  },
  {
   "cell_type": "markdown",
   "metadata": {},
   "source": [
    "You might be thinking that the additional **else-statement** still limits the response to only two possibilities. To overcome this issue, you can use the **elif-statement** and check for multiple conditions."
   ]
  },
  {
   "cell_type": "markdown",
   "metadata": {},
   "source": [
    "3. **elif-statement**: `elif` is an abbreviation of *else if* and allows you to check multiple conditions. If the preceeding conditions evaluate to `False`, the first `elif` block that holds `True` gets executed. Note: in contrast to the else-statement, after the `elif` keyword you should always define a new Boolean expression.\n",
    "\n",
    "```python\n",
    "if condition1:\n",
    "    # Code block if condition1 is True\n",
    "elif condition2:\n",
    "    # Code block if condition2 is True\n",
    "else:\n",
    "    # Code block if all conditions are False\n",
    "```"
   ]
  },
  {
   "cell_type": "code",
   "execution_count": null,
   "metadata": {
    "tags": []
   },
   "outputs": [],
   "source": [
    "temperature: int = 5\n",
    "\n",
    "if temperature < 0:\n",
    "    print(\"It's freezing! Time to build a snowman!\")\n",
    "elif 0 <= temperature < 15:\n",
    "    print(\"It's a bit chilly, perfect weather for a cozy sweater.\")\n",
    "else:\n",
    "    print(\"Nice weather! How about a picnic in the park?\")"
   ]
  },
  {
   "cell_type": "markdown",
   "metadata": {},
   "source": [
    "When there are more than two alternatives, therefore using `if`, `else`, and `elif`, we refer to this as a **chained conditional**. As shown above, chained conditions are are checked from top to bottom, and if more than one condition evaluates to `True` only the first branch for which the condition succeeds is executed.\n",
    "\n",
    "<div class=\"alert\" style=\"background-color: #ffecb3; color: #856404;\">\n",
    "    <b>Note</b> <br>\n",
    "    There is no limit to the amount of <code>elif</code> blocks you wish to use, but remember to start with an <code>if</code> statement. While an <code>else</code> block at the end is optional, you can also end the statement with an <code>elif</code>.\n",
    "</div>"
   ]
  },
  {
   "cell_type": "markdown",
   "metadata": {},
   "source": [
    "<h4 style=\"color:#B22222\">Let's think!</h4>\n",
    "\n",
    "\n",
    "Let's test our understanding! Answer the following questions regarding the piece of code underneath:\n",
    "\n",
    "- Question 1: Would the output change if I changed `elif` to `if`?\n",
    "\n",
    "- Question 2: What would happen if we set each character `trait = False`? (e.g., `brave = False`)\n",
    "\n",
    "- Question 3: What would happen if we set each character `trait == False?` (e.g., `brave == False`)"
   ]
  },
  {
   "cell_type": "code",
   "execution_count": null,
   "metadata": {
    "tags": []
   },
   "outputs": [],
   "source": [
    "MINIMUM_AGE: int = 11\n",
    "\n",
    "house: str = \"?\"\n",
    "\n",
    "brave: bool = True\n",
    "smart: bool = True\n",
    "friendly: bool = True\n",
    "\n",
    "age: int = 12\n",
    "\n",
    "if age > MINIMUM_AGE:\n",
    "    if brave and friendly:\n",
    "        house = \"Gryffindor\"\n",
    "    elif smart:\n",
    "        house = \"Slytherin\"\n",
    "        \n",
    "    print(\"You belong in {housename}!\".format(housename = house))\n",
    "        \n",
    "else:\n",
    "    print(\"Wait till you're old enough to get your letter.\")"
   ]
  },
  {
   "cell_type": "markdown",
   "metadata": {},
   "source": [
    "And what will be the output of the following cell?"
   ]
  },
  {
   "cell_type": "code",
   "execution_count": null,
   "metadata": {
    "tags": []
   },
   "outputs": [],
   "source": [
    "can_fly_a_Firebolt: bool = True\n",
    "can_catch_a_Snitch: bool = True\n",
    "can_hit_a_Bludger: bool = True\n",
    "has_vertigo: bool = False\n",
    "\n",
    "qualified: bool = not has_vertigo and can_fly_a_Firebolt and (can_catch_a_Snitch or can_hit_a_Bludger)\n",
    "\n",
    "message: str = \"Welcome to the team!\" if qualified else \"Better luck next time!\"\n",
    "print(message)"
   ]
  },
  {
   "cell_type": "markdown",
   "metadata": {},
   "source": [
    "<h4 style=\"color:#B22222\">Nested Conditionals</h4>\n",
    "One conditional can also be nested within another. That is, you can have a conditional statement within the body of one of the alternative executions of a conditional."
   ]
  },
  {
   "cell_type": "markdown",
   "metadata": {},
   "source": [
    "```python\n",
    "if condition1:\n",
    "    if condition2:\n",
    "        # Code block for both condition1 and condition2 being True\n",
    "    else:\n",
    "        # Code block for condition1 being True and condition2 being False\n",
    "else:\n",
    "    # Code block for condition1 being False\n",
    "```"
   ]
  },
  {
   "cell_type": "code",
   "execution_count": null,
   "metadata": {
    "tags": []
   },
   "outputs": [],
   "source": [
    "day: str = \"Saturday\"\n",
    "weather: str = \"sunny\"\n",
    "\n",
    "if day == \"Saturday\" or day == \"Sunday\":\n",
    "    print(\"It's the weekend!\")\n",
    "    if weather == \"sunny\":\n",
    "        print(\"Perfect day for a hike!\")\n",
    "    else:\n",
    "        print(\"Maybe visit a museum or watch a movie.\")\n",
    "else:\n",
    "    print(\"It's a weekday.\")\n",
    "    if weather == \"rainy\":\n",
    "        print(\"Good day to stay in and read a book.\")\n",
    "    else:\n",
    "        print(\"How about a nice walk after work?\")"
   ]
  },
  {
   "cell_type": "markdown",
   "metadata": {},
   "source": [
    "<h2 style=\"color:#4169E1\">User-Input</h2>\n",
    "\n",
    "A program in Python can interact with the user using the `input()` function. This function asks the user for input and returns the written answer as a string. "
   ]
  },
  {
   "cell_type": "code",
   "execution_count": null,
   "metadata": {
    "tags": []
   },
   "outputs": [],
   "source": [
    "age = int(input(\"Enter your age: \"))\n",
    "\n",
    "if age >= 18:\n",
    "    print(\"You are an adult.\")\n",
    "else:\n",
    "    print(\"You are a minor.\")"
   ]
  },
  {
   "cell_type": "markdown",
   "metadata": {},
   "source": [
    "Why do we use the `int()` in the first line of the code-cell?"
   ]
  },
  {
   "cell_type": "markdown",
   "metadata": {
    "tags": []
   },
   "source": [
    "<h2 style=\"color:#3CB371\">Exercises</h2>"
   ]
  },
  {
   "cell_type": "markdown",
   "metadata": {},
   "source": [
    "Let's practice! Mind that each exercise is designed with multiple levels to help you progressively build your skills. <span style=\"color:darkorange;\"><strong>Level 1</strong></span> is the foundational level, designed to be straightforward so that everyone can successfully complete it. In <span style=\"color:darkorange;\"><strong>Level 2</strong></span>, we step it up a notch, expecting you to use more complex concepts or combine them in new ways. Finally, in <span style=\"color:darkorange;\"><strong>Level 3</strong></span>, we get closest to exam level questions, but we may use some concepts that are not covered in this notebook. However, in programming, you often encounter situations where you’re unsure how to proceed. Fortunately, you can often solve these problems by starting to work on them and figuring things out as you go. Practicing this skill is extremely helpful, so we highly recommend completing these exercises.\n",
    "\n",
    "For each of the exercises, make sure to add `type hints`, and **do not** import any libraries unless specified otherwise. \n",
    "<br>"
   ]
  },
  {
   "cell_type": "markdown",
   "metadata": {},
   "source": [
    "### Exercise 1\n",
    "\n",
    "<span style=\"color:darkorange;\"><strong>Level 1</strong>:</span> Write a program that prints `“Hello World”` if both of the following conditions are met:\n",
    "\n",
    "1. The variable `a` is greater than the variable `b`.\n",
    "2. The variable `a` is an even number.\n",
    "\n",
    "If either condition is not met, print `“Bye World”` instead.\n",
    "\n",
    "**Example input:**\n",
    "```python\n",
    "a: int = 26\n",
    "b: int = 20\n",
    "```\n",
    "\n",
    "\n",
    "**Example output:**\n",
    "\n",
    "```python\n",
    "'Hello World'\n",
    "```"
   ]
  },
  {
   "cell_type": "code",
   "execution_count": null,
   "metadata": {},
   "outputs": [],
   "source": [
    "# TODO."
   ]
  },
  {
   "cell_type": "markdown",
   "metadata": {},
   "source": [
    "### Exercise 2\n",
    "\n",
    "<span style=\"color:darkorange;\"><strong>Level 1</strong>:</span> Using `input()`, ask the user of your program to enter an integer number and checks whether it is a multiple of 6, 8, or both. You can assume that the input is a valid positive integer. The program should output a message using an **f-string** to indicate the result.\n",
    "\n",
    "**Example 1 input:**\n",
    "```python\n",
    "user_input: int = 24  # note that 24 is the obtained value from the user input\n",
    "```\n",
    "\n",
    "\n",
    "**Example 1 output:**\n",
    "\n",
    "```python\n",
    "\"The number 24 is a multiple of both 6 and 8.\"\n",
    "```\n",
    "\n",
    "**Example 2 input:**\n",
    "```python\n",
    "user_input: int = 16  # note that 16 is the obtained value from the user input\n",
    "```\n",
    "\n",
    "**Example 2 output:**\n",
    "\n",
    "```python\n",
    "\"The number 16 is a multiple of 8 but not of 6.\"\n",
    "\n",
    "```"
   ]
  },
  {
   "cell_type": "code",
   "execution_count": null,
   "metadata": {},
   "outputs": [],
   "source": [
    "# TODO."
   ]
  },
  {
   "cell_type": "markdown",
   "metadata": {},
   "source": [
    "### Exercise 3\n",
    "\n",
    "<span style=\"color:darkorange;\"><strong>Level 1</strong>:</span> Write a script that asks the user, using `input()`, to rate a restaurant. Depending on the rating, the program should give a specific recommendation. Here are the rating categories and the corresponding messages:\n",
    "\n",
    "- If the rating falls between 3.5 (inclusive) and 5 (inclusive), print: `Definitely worth your time! Give it a go.`\n",
    "- If the rating is between 2.5 (inclusive) and 3.5 (exclusive), print: `It’s probably worth a shot.`\n",
    "- If the rating is less than 2.5 (exclusive), print: `You might want to consider other options.`\n",
    "\n",
    "Ensure your program handles the ratings appropriately and uses **f-strings** for output if needed.\n",
    "\n",
    "**Example input:**\n",
    "```python\n",
    "rating_restaurant: float = 4.6  # note that 4.6 is the obtained value from the user input\n",
    "```\n",
    "\n",
    "\n",
    "**Example output:**\n",
    "\n",
    "```python\n",
    "'Definitely worth your time! Give it a go.'\n",
    "```"
   ]
  },
  {
   "cell_type": "code",
   "execution_count": null,
   "metadata": {},
   "outputs": [],
   "source": [
    "# TODO."
   ]
  },
  {
   "cell_type": "markdown",
   "metadata": {},
   "source": [
    "### Exercise 4\n",
    "\n",
    "For this exercise, inspired by a similar one from [GeeksForGeeks][geek], we encourage you to do some research on your own, as it involves a concept not covered in this notebook. To complete the following task, you need to familiarize yourself with [Catching Exceptions][exceptions].\n",
    "\n",
    "\n",
    "[geek]:https://www.geeksforgeeks.org/python-program-to-convert-celsius-to-fahrenheit/\n",
    "[exceptions]:https://programming-pybook.github.io/introProgramming/chapters/conditionals.html#catching-exceptions\n",
    "\n",
    "<span style=\"color:darkorange;\"><strong>Level 2</strong>:</span> Write a script that uses `input()` to prompt the user for a temperature in Celsius, then converts it to Fahrenheit. Based on the converted temperature, give a recommendation on whether the user should wear a jacket.\n",
    "\n",
    "Follow these steps:\n",
    "\n",
    "- Convert the Celsius input to Fahrenheit using this formula: F = (C * 9/5) + 32.\n",
    "- If the Fahrenheit temperature is below 50°F, print: `It’s pretty cold! Definitely wear a jacket.`\n",
    "- If it’s between 50°F and 68°F (inclusive), print: `It’s cool out. A light jacket is a good idea.`\n",
    "- If it’s above 68°F, print: `It’s warm enough. No jacket needed!`\n",
    "\n",
    "Be sure to include exception handling to catch cases where the user enters something that’s not a number. If that happens, print: `Invalid input. Please enter a numeric value for the temperature.`"
   ]
  },
  {
   "cell_type": "code",
   "execution_count": null,
   "metadata": {
    "tags": []
   },
   "outputs": [],
   "source": [
    "# TODO."
   ]
  },
  {
   "cell_type": "markdown",
   "metadata": {},
   "source": [
    "### Exercise 2\n",
    "\n",
    "Remember the [Fibonacci sequence][magic]? Now, let's covert it into a function. \n",
    "\n",
    "<span style=\"color:darkorange;\"><strong>Level 1</strong>:</span> Write a Python function called `calculate_fibonacci_sequence()` that generates and **prints** the first *n* numbers in the Fibonacci sequence. The Fibonacci sequence starts with 0 and 1, and each subsequent number is the sum of the two previous numbers.\n",
    "\n",
    "**Example input**: you pass this in a function call.\n",
    "\n",
    "```python\n",
    "n: int = 7\n",
    "```\n",
    "\n",
    "**Example output**:\n",
    "```python\n",
    "0\n",
    "1\n",
    "1\n",
    "2\n",
    "3\n",
    "5\n",
    "8\n",
    "```\n",
    "[magic]:https://www.youtube.com/watch?v=SjSHVDfXHQ4"
   ]
  },
  {
   "cell_type": "markdown",
   "metadata": {},
   "source": [
    "___________________________________________________________________________________________________________________________\n",
    "\n",
    "*Material for the VU Amsterdam course “Introduction to Python Programming” for BSc Artificial Intelligence students. These notebooks are created using the following sources:*\n",
    "1. [Learning Python by Doing][learning python]: This book, developed by teachers of TU/e Eindhoven and VU Amsterdam, is the main source for the course materials. Code snippets or text explanations from the book may be used in the notebooks, sometimes with slight adjustments.\n",
    "2. [Think Python][think python]\n",
    "3. [GeekForGeeks][geekforgeeks]\n",
    "\n",
    "[learning python]: https://programming-pybook.github.io/introProgramming/intro.html\n",
    "[think python]: https://greenteapress.com/thinkpython2/html/\n",
    "[geekforgeeks]: https://www.geeksforgeeks.org"
   ]
  }
 ],
 "metadata": {
  "kernelspec": {
   "display_name": "Python 3 (ipykernel)",
   "language": "python",
   "name": "python3"
  },
  "language_info": {
   "codemirror_mode": {
    "name": "ipython",
    "version": 3
   },
   "file_extension": ".py",
   "mimetype": "text/x-python",
   "name": "python",
   "nbconvert_exporter": "python",
   "pygments_lexer": "ipython3",
   "version": "3.11.4"
  },
  "vscode": {
   "interpreter": {
    "hash": "9451767feaf7925185bf37009af3205aec0103dc88a66dc09d267eb54aa4b1c3"
   }
  }
 },
 "nbformat": 4,
 "nbformat_minor": 4
}

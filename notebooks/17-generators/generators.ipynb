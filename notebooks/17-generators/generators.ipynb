{
 "cells": [
  {
   "cell_type": "markdown",
   "id": "9f6327e7-c96a-45e3-bc82-1e349e29358d",
   "metadata": {},
   "source": [
    "# Generators"
   ]
  },
  {
   "cell_type": "markdown",
   "id": "e64d4e7f-9c27-4136-9677-7294fe3a0b53",
   "metadata": {},
   "source": [
    "**In this notebook, we cover the following subjects:**\n",
    "- Understanding Generators;\n",
    "- Generator Functions;\n",
    "- Generator Expressions;\n",
    "- Factories.\n",
    "___________________________________________________________________________________________________________________________"
   ]
  },
  {
   "cell_type": "code",
   "execution_count": 8,
   "id": "484eef7c-e7b9-46ec-9a99-0ee69bc40d79",
   "metadata": {
    "tags": []
   },
   "outputs": [],
   "source": [
    "# To enable type hints for lists, dicts, tuples, and sets we need to import the following:\n",
    "from typing import List, Dict, Tuple, Set"
   ]
  },
  {
   "cell_type": "markdown",
   "id": "b88ba50c-72aa-4ded-8e42-5293145f6d6e",
   "metadata": {
    "tags": []
   },
   "source": [
    "<h2 style=\"color:#4169E1\">Understanding Generators</h2>\n",
    "\n",
    "- Introduce generators, how they differ from functions and list comprehensions, focusing on memory efficiency and lazy evaluation."
   ]
  },
  {
   "cell_type": "markdown",
   "id": "183f79a5-f87b-4b02-a7f9-1a54cd40823a",
   "metadata": {},
   "source": [
    "<h4 style=\"color:#B22222\">Generator Syntax</h4>\n",
    "\n",
    "- Explain that generators can be created using either generator functions (yield) or generator expressions (similar to list comprehensions but with parentheses).\n"
   ]
  },
  {
   "cell_type": "markdown",
   "id": "d80fd2fd-ee85-4a67-9c39-b1afeda5aefb",
   "metadata": {
    "tags": []
   },
   "source": [
    "<h2 style=\"color:#4169E1\">Generator Functions</h2>"
   ]
  },
  {
   "cell_type": "markdown",
   "id": "448184c9-cec2-481b-9e94-7dbfc3d12b23",
   "metadata": {},
   "source": [
    "<h4 style=\"color:#B22222\">Creating a Generator Function</h4>\n",
    "\n",
    "- Walk through creating a generator function using `yield`, showing how it returns values one at a time."
   ]
  },
  {
   "cell_type": "markdown",
   "id": "d489a37b-8ff7-40bf-b2fd-ea7cc8c596b4",
   "metadata": {},
   "source": [
    "<h4 style=\"color:#B22222\">Using Generators</h4>\n",
    "\n",
    "- Demonstrate how to iterate over values produced by a generator function and explain how it differs from functions that use `return`."
   ]
  },
  {
   "cell_type": "markdown",
   "id": "af67cee9-7e2a-4ef1-8feb-143acf22b0d7",
   "metadata": {
    "tags": []
   },
   "source": [
    "<h2 style=\"color:#4169E1\">Generator Expressions</h2>\n",
    "\n",
    "- Explain that generator expressions are a concise way to create generators, using a syntax similar to list comprehensions but with parentheses."
   ]
  },
  {
   "cell_type": "markdown",
   "id": "e6182240-5d32-401c-99e4-02b8858f6bae",
   "metadata": {},
   "source": [
    "<h4 style=\"color:#B22222\">Examples of Generator Expressions</h4>\n",
    "\n",
    "- Show common use cases for generator expressions, like summing values or filtering data without creating a full list."
   ]
  },
  {
   "cell_type": "markdown",
   "id": "67f3379e-13b1-464f-8a98-97fb0ed8cfc0",
   "metadata": {},
   "source": [
    "<h4 style=\"color:#B22222\"><code>any</code> and <code>all</code> </h4>\n",
    "\n",
    "- Explain that `any` and `all` are built-in functions often used with generator expressions for efficient condition checks.\n",
    "- Show examples of `any` and `all` with generator expressions to evaluate conditions across elements without creating full lists."
   ]
  },
  {
   "cell_type": "markdown",
   "id": "36763a05-359b-4b37-97a8-f1847cd64f5b",
   "metadata": {
    "tags": []
   },
   "source": [
    "<h2 style=\"color:#4169E1\">Factories</h2>\n",
    "\n",
    "- Explain that some generators aren't reusable and that a generator factory is a function that creates and returns a fresh generator each time it’s called."
   ]
  },
  {
   "cell_type": "markdown",
   "id": "158a5f37-0f12-4148-9f36-3b941b5d6ac2",
   "metadata": {},
   "source": [
    "<h4 style=\"color:#B22222\">Creating and Using Factory Functions</h4>\n",
    "\n",
    "- Provide examples of defining and using factory functions to create new generators when needed."
   ]
  },
  {
   "cell_type": "markdown",
   "id": "cde43c00-5441-4450-a363-9a90fafe8c1b",
   "metadata": {},
   "source": [
    "Example code:\n",
    "\n",
    "``` python\n",
    "class Person:\n",
    "    def __init__(self, name, age):\n",
    "        self.name = name  # Attribute: name\n",
    "        self.age = age    # Attribute: age\n",
    "```"
   ]
  },
  {
   "cell_type": "markdown",
   "id": "288ebcd5-62b7-4803-95b9-48cb7478bcf6",
   "metadata": {},
   "source": [
    "<details>\n",
    "  <summary style=\"cursor: pointer; background-color: #d4edda; padding: 10px; border-radius: 5px; color: #155724; font-weight: bold;\">\n",
    "    Q: A Question?\n",
    "  </summary>\n",
    "<div style=\"background-color: #f4fdf7; padding: 12px; margin-top: 8px; border-radius: 6px; border: 1px solid #b7e4c7; color: #155724;\">\n",
    "    An answer.\n",
    "  </div>\n",
    "</details>"
   ]
  },
  {
   "cell_type": "markdown",
   "id": "964d0fbc-0554-415d-a00d-e3330b1ee30b",
   "metadata": {},
   "source": [
    "<div class=\"alert\" style=\"background-color: #ffecb3; color: #856404;\">\n",
    "    <b>Note</b> <br>\n",
    "The body of the note."
   ]
  },
  {
   "cell_type": "markdown",
   "id": "9f5e2edf-4076-408a-a53a-1ba288783b6e",
   "metadata": {
    "tags": []
   },
   "source": [
    "<h2 style=\"color:#3CB371\">Exercises</h2>"
   ]
  },
  {
   "cell_type": "markdown",
   "id": "fccb0046-3e29-46c1-9e34-530c330c3810",
   "metadata": {},
   "source": [
    "Let's practice! Mind that each exercise is designed with multiple levels to help you progressively build your skills. <span style=\"color:darkorange;\"><strong>Level 1</strong></span> is the foundational level, designed to be straightforward so that everyone can successfully complete it. In <span style=\"color:darkorange;\"><strong>Level 2</strong></span>, we step it up a notch, expecting you to use more complex concepts or combine them in new ways. Finally, in <span style=\"color:darkorange;\"><strong>Level 3</strong></span>, we get closest to exam level questions, but we may use some concepts that are not covered in this notebook. However, in programming, you often encounter situations where you’re unsure how to proceed. Fortunately, you can often solve these problems by starting to work on them and figuring things out as you go. Practicing this skill is extremely helpful, so we highly recommend completing these exercises.\n",
    "\n",
    "For each of the exercises, make sure to add a `docstring` and `type hints`, and **do not** import any libraries unless specified otherwise.\n",
    "<br>"
   ]
  },
  {
   "cell_type": "markdown",
   "id": "aa39181f-c89b-4ad3-a003-ec24ddd093ec",
   "metadata": {
    "tags": []
   },
   "source": [
    "### Exercise 1\n",
    "\n",
    "<span style=\"color:darkorange;\"><strong>Level 1</strong>:</span> Description.\n",
    "\n",
    "**Example input**: you pass this argument to the parameter in the function call.\n",
    "\n",
    "```python\n",
    "some code\n",
    "\n",
    "```\n",
    "**Example output**:\n",
    "```\n",
    "some output\n",
    "```"
   ]
  },
  {
   "cell_type": "code",
   "execution_count": null,
   "id": "b4191962-a2bc-43ca-8a4c-aeb5e8c4258f",
   "metadata": {},
   "outputs": [],
   "source": []
  },
  {
   "cell_type": "markdown",
   "id": "2f5f9a81-e76d-4c64-b76d-63e27b57699f",
   "metadata": {},
   "source": [
    "___________________________________________________________________________________________________________________________\n",
    "\n",
    "*Material for the VU Amsterdam course “Introduction to Python Programming” for BSc Artificial Intelligence students. These notebooks are created using the following sources:*\n",
    "1. [Learning Python by Doing][learning python]: This book, developed by teachers of TU/e Eindhoven and VU Amsterdam, is the main source for the course materials. Code snippets or text explanations from the book may be used in the notebooks, sometimes with slight adjustments.\n",
    "2. [Think Python][think python]\n",
    "3. [GeekForGeeks][geekforgeeks]\n",
    "\n",
    "[learning python]: https://programming-pybook.github.io/introProgramming/intro.html\n",
    "[think python]: https://greenteapress.com/thinkpython2/html/\n",
    "[geekforgeeks]: https://www.geeksforgeeks.org"
   ]
  }
 ],
 "metadata": {
  "kernelspec": {
   "display_name": "Python 3 (ipykernel)",
   "language": "python",
   "name": "python3"
  },
  "language_info": {
   "codemirror_mode": {
    "name": "ipython",
    "version": 3
   },
   "file_extension": ".py",
   "mimetype": "text/x-python",
   "name": "python",
   "nbconvert_exporter": "python",
   "pygments_lexer": "ipython3",
   "version": "3.11.5"
  }
 },
 "nbformat": 4,
 "nbformat_minor": 5
}

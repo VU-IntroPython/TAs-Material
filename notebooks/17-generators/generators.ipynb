{
 "cells": [
  {
   "cell_type": "markdown",
   "id": "9f6327e7-c96a-45e3-bc82-1e349e29358d",
   "metadata": {},
   "source": [
    "# Generators"
   ]
  },
  {
   "cell_type": "markdown",
   "id": "e64d4e7f-9c27-4136-9677-7294fe3a0b53",
   "metadata": {},
   "source": [
    "**In this notebook, we cover the following subjects:**\n",
    "- Understanding Generators;\n",
    "- Generator Functions;\n",
    "- Generator Expressions;\n",
    "- Factories.\n",
    "___________________________________________________________________________________________________________________________"
   ]
  },
  {
   "cell_type": "code",
   "execution_count": 8,
   "id": "484eef7c-e7b9-46ec-9a99-0ee69bc40d79",
   "metadata": {
    "tags": []
   },
   "outputs": [],
   "source": [
    "# To enable type hints for lists, dicts, tuples, and sets we need to import the following:\n",
    "from typing import List, Dict, Tuple, Set"
   ]
  },
  {
   "cell_type": "markdown",
   "id": "b88ba50c-72aa-4ded-8e42-5293145f6d6e",
   "metadata": {
    "tags": []
   },
   "source": [
    "<h2 style=\"color:#4169E1\">Understanding Generators</h2>\n",
    "\n",
    "`Generators` are a powerful feature in Python that allow you to iterate over data efficiently **without** taking up unnecessary memory. Unlike lists, which hoard all their elements in memory, `generators` produce items **one by one**, as needed. This technique, called `\"lazy evaluation\"`, makes generators incredibly efficient when working with **large datasets**. Think of generators as the chefs of the programming world—they prepare each dish just in time, saving resources compared to preparing everything in advance."
   ]
  },
  {
   "cell_type": "markdown",
   "id": "183f79a5-f87b-4b02-a7f9-1a54cd40823a",
   "metadata": {},
   "source": [
    "<h4 style=\"color:#B22222\">Generator Syntax</h4>\n",
    "\n",
    "There are ``two main ways`` to create a generator in Python:\n",
    "\n",
    "1) **Creating a Generator Function:**\n",
    "\n",
    "These functions use the `yield` keyword to return values **one at a time**. Every time `yield` is encountered, the **state** of the function is preserved, making it ideal for producing a** series of values** without storing them all at once.\n",
    "\n",
    "2) **Generator Expressions:**\n",
    "These are similar to `list comprehensions` but use **parentheses** instead of square brackets. Generator expressions offer a concise way to build generators in **one line** — think of them as the compact sports car compared to the family minivan of list comprehensions.\n"
   ]
  },
  {
   "cell_type": "markdown",
   "id": "d80fd2fd-ee85-4a67-9c39-b1afeda5aefb",
   "metadata": {
    "tags": []
   },
   "source": [
    "<h2 style=\"color:#4169E1\">Generator Functions</h2>"
   ]
  },
  {
   "cell_type": "markdown",
   "id": "448184c9-cec2-481b-9e94-7dbfc3d12b23",
   "metadata": {},
   "source": [
    "<h4 style=\"color:#B22222\">Creating a Generator Function</h4>\n",
    "\n",
    "A generator function looks very similar to a regular function but uses `yield` instead of return. The magic of `yield` is that it allows the function to **remember** where it left off. This is perfect for scenarios where you need a stream of data but want to keep resource usage light."
   ]
  },
  {
   "cell_type": "markdown",
   "id": "d489a37b-8ff7-40bf-b2fd-ea7cc8c596b4",
   "metadata": {},
   "source": [
    "<h4 style=\"color:#B22222\">Using Generators</h4>\n",
    "\n",
    "Let's see an example of a generator function:"
   ]
  },
  {
   "cell_type": "code",
   "execution_count": 6,
   "id": "3241558e-e8ea-4824-a931-8f1c5925734f",
   "metadata": {},
   "outputs": [],
   "source": [
    "def count_up_to(max_value: int) -> int:\n",
    "    count = 1\n",
    "    while count <= max_value:\n",
    "        yield count\n",
    "        count += 1"
   ]
  },
  {
   "cell_type": "markdown",
   "id": "c8b2f265-bb4f-4656-bc60-5f00bcff127a",
   "metadata": {},
   "source": [
    "This `generator function` starts counting from 1 up to `max_value`. Every time it encounters `yield`, it produces the current count and pauses until the next value is requested.\n",
    "\n",
    "Generators are most often used with `loops`, which consume the values **one at a time**:"
   ]
  },
  {
   "cell_type": "code",
   "execution_count": 10,
   "id": "4d9ee19e-228a-4158-8f4f-af2ee2d7606a",
   "metadata": {},
   "outputs": [
    {
     "name": "stdout",
     "output_type": "stream",
     "text": [
      "1\n",
      "2\n",
      "3\n",
      "4\n",
      "5\n"
     ]
    }
   ],
   "source": [
    "for number in count_up_to(5):\n",
    "    print(number)"
   ]
  },
  {
   "cell_type": "markdown",
   "id": "665a225a-5db0-4345-b55c-b005fbc64b33",
   "metadata": {},
   "source": [
    "This will print numbers from 1 to 5. Notice how generators can save memory, especially if `max_value` were very large—you don’t need to hold all those numbers in memory at once."
   ]
  },
  {
   "cell_type": "markdown",
   "id": "af67cee9-7e2a-4ef1-8feb-143acf22b0d7",
   "metadata": {
    "tags": []
   },
   "source": [
    "<h2 style=\"color:#4169E1\">Generator Expressions</h2>\n",
    "\n",
    "If you love list comprehensions, you’re going to enjoy generator expressions. They look just like list comprehensions, but use **parentheses** to keep things efficient:"
   ]
  },
  {
   "cell_type": "code",
   "execution_count": 15,
   "id": "0c95ed6a-e39a-49e7-a75a-abcbaad16ca7",
   "metadata": {},
   "outputs": [],
   "source": [
    "squares = (x * x for x in range(10))"
   ]
  },
  {
   "cell_type": "markdown",
   "id": "dac712bd-4089-4716-8fb0-1a2cc0740ac8",
   "metadata": {},
   "source": [
    "This generator expression will `yield` the squares of numbers from 0 to 9, **one at a time**. To see the values, we can loop through them:"
   ]
  },
  {
   "cell_type": "code",
   "execution_count": 19,
   "id": "0cb48424-08d4-40d9-a174-b517e9169ae0",
   "metadata": {},
   "outputs": [
    {
     "name": "stdout",
     "output_type": "stream",
     "text": [
      "0\n",
      "1\n",
      "4\n",
      "9\n",
      "16\n",
      "25\n",
      "36\n",
      "49\n",
      "64\n",
      "81\n"
     ]
    }
   ],
   "source": [
    "for square in squares:\n",
    "    print(square)"
   ]
  },
  {
   "cell_type": "markdown",
   "id": "e6182240-5d32-401c-99e4-02b8858f6bae",
   "metadata": {},
   "source": [
    "<h4 style=\"color:#B22222\">Examples of Generator Expressions</h4>\n",
    "\n",
    "`Generator expressions` are particularly handy for tasks like **calculating sums** or **filtering values** without the overhead of creating a full list:"
   ]
  },
  {
   "cell_type": "code",
   "execution_count": 26,
   "id": "f973b25d-04ce-4d06-ade4-391aad005db0",
   "metadata": {},
   "outputs": [],
   "source": [
    "sum_of_squares = sum(x * x for x in range(1000))"
   ]
  },
  {
   "cell_type": "markdown",
   "id": "8ee9ffb1-d00f-4ea3-adb8-ea9c925da207",
   "metadata": {},
   "source": [
    "Instead of building a list of 1,000 squares, the generator computes each square **on the fly**, saving memory — especially important if you're working with a large `range()`."
   ]
  },
  {
   "cell_type": "code",
   "execution_count": 34,
   "id": "28e2165d-9b72-4a18-9988-8450df264550",
   "metadata": {},
   "outputs": [
    {
     "name": "stdout",
     "output_type": "stream",
     "text": [
      "The sum of squares between 0 and 999 is : 332833500\n"
     ]
    }
   ],
   "source": [
    "print(f'The sum of squares between 0 and 999 is : {sum_of_squares}')"
   ]
  },
  {
   "cell_type": "markdown",
   "id": "67f3379e-13b1-464f-8a98-97fb0ed8cfc0",
   "metadata": {},
   "source": [
    "<h4 style=\"color:#B22222\"><code>any</code> and <code>all</code> </h4>\n",
    "\n",
    "Generators are an ideal companion for Python's `any()` and `all()` functions, especially when working with conditions across large datasets. Imagine checking if any value in a large collection is negative or if all values are positive. Instead of creating a giant list, let the generator handle each element one by one.\n",
    "\n",
    "Let's see an example:"
   ]
  },
  {
   "cell_type": "code",
   "execution_count": 38,
   "id": "cb42a76b-10e6-4ca1-8582-7639c7147cc9",
   "metadata": {},
   "outputs": [
    {
     "name": "stdout",
     "output_type": "stream",
     "text": [
      "True\n",
      "False\n"
     ]
    }
   ],
   "source": [
    "numbers = range(-10, 10)\n",
    "is_any_negative = any(num < 0 for num in numbers)\n",
    "is_all_positive = all(num > 0 for num in numbers)\n",
    "\n",
    "print(is_any_negative)\n",
    "print(is_all_positive)"
   ]
  },
  {
   "cell_type": "markdown",
   "id": "496bf511-b6e7-4f4c-bf3d-3fd31317ac88",
   "metadata": {},
   "source": [
    "Using `any()` and `all()` with `generator expressions` keeps your code efficient and clean—no cluttered lists, just direct checks."
   ]
  },
  {
   "cell_type": "markdown",
   "id": "36763a05-359b-4b37-97a8-f1847cd64f5b",
   "metadata": {
    "tags": []
   },
   "source": [
    "<h2 style=\"color:#4169E1\">Factories</h2>\n",
    "\n",
    "Factories in Python are `functions that return generators`, allowing you to create a `pipeline` of values on demand. Think of a factory as a workshop: it has a blueprint (your function), and each time you use it, it produces a unique item (the generator).\n",
    "\n",
    "For instance:"
   ]
  },
  {
   "cell_type": "code",
   "execution_count": 45,
   "id": "6233aabc-0696-4dcb-b638-72e5aadc47f1",
   "metadata": {},
   "outputs": [],
   "source": [
    "def fibonacci_factory():\n",
    "    a, b = 0, 1\n",
    "    while True:\n",
    "        yield a\n",
    "        a, b = b, a + b"
   ]
  },
  {
   "cell_type": "markdown",
   "id": "450a3e22-97d7-46be-a0f3-e8687dea2e88",
   "metadata": {},
   "source": [
    "Calling `fibonacci_factory()` gives you a `generator` capable of producing Fibonacci numbers indefinitely:"
   ]
  },
  {
   "cell_type": "code",
   "execution_count": 47,
   "id": "e12db07d-15a0-40b9-bdab-8cd7805b8ca8",
   "metadata": {},
   "outputs": [
    {
     "name": "stdout",
     "output_type": "stream",
     "text": [
      "0\n",
      "1\n",
      "1\n",
      "2\n",
      "3\n",
      "5\n",
      "8\n",
      "13\n",
      "21\n",
      "34\n"
     ]
    }
   ],
   "source": [
    "fib = fibonacci_factory()\n",
    "for _ in range(10):\n",
    "    print(next(fib))"
   ]
  },
  {
   "cell_type": "markdown",
   "id": "0baf6979-a4f3-4839-9625-740124f24574",
   "metadata": {},
   "source": [
    "This factory generates as many Fibonacci numbers as you need, without storing all of them—it’s a production line ready to roll out values on request."
   ]
  },
  {
   "cell_type": "markdown",
   "id": "9f5e2edf-4076-408a-a53a-1ba288783b6e",
   "metadata": {
    "tags": []
   },
   "source": [
    "<h2 style=\"color:#3CB371\">Exercises</h2>"
   ]
  },
  {
   "cell_type": "markdown",
   "id": "fccb0046-3e29-46c1-9e34-530c330c3810",
   "metadata": {},
   "source": [
    "Let's practice! Mind that each exercise is designed with multiple levels to help you progressively build your skills. <span style=\"color:darkorange;\"><strong>Level 1</strong></span> is the foundational level, designed to be straightforward so that everyone can successfully complete it. In <span style=\"color:darkorange;\"><strong>Level 2</strong></span>, we step it up a notch, expecting you to use more complex concepts or combine them in new ways. Finally, in <span style=\"color:darkorange;\"><strong>Level 3</strong></span>, we get closest to exam level questions, but we may use some concepts that are not covered in this notebook. However, in programming, you often encounter situations where you’re unsure how to proceed. Fortunately, you can often solve these problems by starting to work on them and figuring things out as you go. Practicing this skill is extremely helpful, so we highly recommend completing these exercises.\n",
    "\n",
    "For each of the exercises, make sure to add a `docstring` and `type hints`, and **do not** import any libraries unless specified otherwise.\n",
    "<br>"
   ]
  },
  {
   "cell_type": "markdown",
   "id": "aa39181f-c89b-4ad3-a003-ec24ddd093ec",
   "metadata": {
    "tags": []
   },
   "source": [
    "### Exercise 1\n",
    "\n",
    "<span style=\"color:darkorange;\"><strong>Level 1</strong>:</span> Description.\n",
    "\n",
    "**Example input**: you pass this argument to the parameter in the function call.\n",
    "\n",
    "```python\n",
    "some code\n",
    "\n",
    "```\n",
    "**Example output**:\n",
    "```\n",
    "some output\n",
    "```"
   ]
  },
  {
   "cell_type": "code",
   "execution_count": null,
   "id": "b4191962-a2bc-43ca-8a4c-aeb5e8c4258f",
   "metadata": {},
   "outputs": [],
   "source": []
  },
  {
   "cell_type": "markdown",
   "id": "2f5f9a81-e76d-4c64-b76d-63e27b57699f",
   "metadata": {},
   "source": [
    "___________________________________________________________________________________________________________________________\n",
    "\n",
    "*Material for the VU Amsterdam course “Introduction to Python Programming” for BSc Artificial Intelligence students. These notebooks are created using the following sources:*\n",
    "1. [Learning Python by Doing][learning python]: This book, developed by teachers of TU/e Eindhoven and VU Amsterdam, is the main source for the course materials. Code snippets or text explanations from the book may be used in the notebooks, sometimes with slight adjustments.\n",
    "2. [Think Python][think python]\n",
    "3. [GeekForGeeks][geekforgeeks]\n",
    "\n",
    "[learning python]: https://programming-pybook.github.io/introProgramming/intro.html\n",
    "[think python]: https://greenteapress.com/thinkpython2/html/\n",
    "[geekforgeeks]: https://www.geeksforgeeks.org"
   ]
  }
 ],
 "metadata": {
  "kernelspec": {
   "display_name": "Python 3 (ipykernel)",
   "language": "python",
   "name": "python3"
  },
  "language_info": {
   "codemirror_mode": {
    "name": "ipython",
    "version": 3
   },
   "file_extension": ".py",
   "mimetype": "text/x-python",
   "name": "python",
   "nbconvert_exporter": "python",
   "pygments_lexer": "ipython3",
   "version": "3.11.4"
  }
 },
 "nbformat": 4,
 "nbformat_minor": 5
}

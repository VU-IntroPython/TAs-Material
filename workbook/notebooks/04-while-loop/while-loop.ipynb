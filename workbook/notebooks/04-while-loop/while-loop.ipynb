{
 "cells": [
  {
   "cell_type": "markdown",
   "metadata": {},
   "source": [
    "# While Loop"
   ]
  },
  {
   "cell_type": "markdown",
   "metadata": {},
   "source": [
    "**In this notebook, we cover the following subjects:**\n",
    "- While Statement;\n",
    "- Break;\n",
    "- Continue.\n",
    "___________________________________________________________________________________________________________________________"
   ]
  },
  {
   "cell_type": "markdown",
   "metadata": {
    "tags": []
   },
   "source": [
    "## <span style=\"color:#4169E1\">The While Statement</span>\n",
    "\n",
    "Thankfully, computers are good at repeating boring tasks, saving us from having to do them ourselves. Due to their computational power, they do this faster and more accurately than we can. When a block of code is executed several times, we referred to it as a **loop**. Each repetition of instructions within a loop is called an **iteration**.\n",
    "\n",
    "One of the fundamental loop statements in Python is a [**while loop**][magic], which allows you to repeatedly execute the body of code within the while statement as long as the specified condition holds `True`.\n",
    "\n",
    "```python\n",
    "while condition:\n",
    "    # Code to execute while condition is True\n",
    "```\n",
    "\n",
    "[magic]: https://wiki.python.org/moin/WhileLoop"
   ]
  },
  {
   "cell_type": "markdown",
   "metadata": {},
   "source": [
    "#### <span style=\"color:#B22222\">Structure of a while loop</span>\n",
    "\n",
    "Bellow, you can see the standard components of a `while loop`.  \n",
    " - **Step 1:** Initialize the loop by using the `while` keyword.\n",
    " - **Step 2:** Apart from the keyword, we need to add a condition like `a > b` etc.\n",
    " - **Step 3:** We check if the condition is `True` or `False`.:\n",
    "     - If the condition is `True`, we excecute the **body** of the loop.\n",
    "     - If the condition is `False`, we continue with the statement outside the loop.\n",
    " - **Step 4 (only applicable if the condition was True):** We excecute the **body** of the loop.\n",
    " - **Step 5 (only applicable if the condition was True):** We update the **condition** based on our logic.\n",
    " - **Step 6 (only applicable if the condition was True):** We check if the **condition** is still `True` after the update.\n",
    "     - You probably noticed that now we are back at **step 3**.\n",
    " - **Step 7 (only applicable if the condition was False):** We continue with the statements outside the loop."
   ]
  },
  {
   "cell_type": "markdown",
   "metadata": {},
   "source": [
    "<img src=\"assets/loop.jpg\" width=500 height=400>"
   ]
  },
  {
   "cell_type": "markdown",
   "metadata": {},
   "source": [
    "#### <span style=\"color:#B22222\">The flow of execution for a while statement</span>\n",
    "\n",
    "The flow of execution for a while statement is as follows:\n",
    "\n",
    "1. Determine whether the termination condition is `True` or `False`;\n",
    "2. If `False`, exit the while statement and continue with the next statement outside of the loop;\n",
    "3. If the condition is `True`, run the body and go back to step 1.\n",
    "\n",
    "This type of flow is called a loop because the third step loops back to the top. An animation could help us visualize the operation of a `while` loop.\n",
    "\n",
    "<img src=\"assets/animation.gif\" width=700 height=550>"
   ]
  },
  {
   "cell_type": "markdown",
   "metadata": {},
   "source": [
    "Let’s look at a Harry Potter-themed example."
   ]
  },
  {
   "cell_type": "code",
   "execution_count": 8,
   "metadata": {},
   "outputs": [
    {
     "name": "stdout",
     "output_type": "stream",
     "text": [
      "You are at Platform 1.\n",
      "You are at Platform 2.\n",
      "You are at Platform 3.\n",
      "You are at Platform 4.\n",
      "You are at Platform 5.\n",
      "You are at Platform 6.\n",
      "You are at Platform 7.\n",
      "You are at Platform 8.\n",
      "You are at Platform 9.\n",
      "Be careful! Only 3/4 platforms to go.\n"
     ]
    }
   ],
   "source": [
    "platform: int = 1\n",
    "\n",
    "while platform < 10:\n",
    "    \n",
    "    print(\"You are at Platform {platform_no}.\".format(platform_no = platform))\n",
    "    \n",
    "    platform = platform + 1\n",
    "\n",
    "print(\"Be careful! Only 3/4 platforms to go.\")"
   ]
  },
  {
   "cell_type": "markdown",
   "metadata": {},
   "source": [
    "```{admonition} How could we simplify <code>platform = platform + 1 </code> ?\n",
    ":class: tip, dropdown\n",
    "We could use the <code> += </code>(Addition Assignment) operator, which does exactly the same as <code>platform = platform + 1 </code> but in 1 line.  \n",
    "```"
   ]
  },
  {
   "cell_type": "markdown",
   "metadata": {},
   "source": [
    "```{note}\n",
    "For further explanation about <b>Addition Assignment</b>, visit <a href=\"https://python-reference.readthedocs.io/en/latest/docs/operators/addition_assignment.html\">this website</a>.\n",
    "```"
   ]
  },
  {
   "cell_type": "markdown",
   "metadata": {
    "tags": []
   },
   "source": [
    "## <span style=\"color:#4169E1\">The Break Statement</span>\n",
    "\n",
    "It's possible to enforce the termination of a loop via the [**break statement**][magic]. Once the break statement is reached within your program, none of the remaining code within the loop will be executed.\n",
    "\n",
    "[magic]: https://www.geeksforgeeks.org/python-break-statement/"
   ]
  },
  {
   "cell_type": "markdown",
   "metadata": {},
   "source": [
    "```python\n",
    "while True:\n",
    "    print('Print once!')\n",
    "    break\n",
    "    print(\"The rest won't be printed\")\n",
    "\n",
    "# print('But will this be printed?')\n",
    "```"
   ]
  },
  {
   "cell_type": "markdown",
   "metadata": {},
   "source": [
    "```{admonition}  What will be the output of the above code snippet?\n",
    ":class: tip, dropdown\n",
    "The code would print the <code>Print once!</code> message but not the <code>The rest won't be printed</code> message. It won't print the second message owing to the <code>break</code> statement.  \n",
    "```"
   ]
  },
  {
   "cell_type": "code",
   "execution_count": 14,
   "metadata": {
    "tags": []
   },
   "outputs": [
    {
     "name": "stdout",
     "output_type": "stream",
     "text": [
      "Print once!\n"
     ]
    }
   ],
   "source": [
    "# Try it for yourself\n",
    "\n",
    "while True:\n",
    "    print('Print once!')\n",
    "    break\n",
    "    print(\"The rest won't be printed\")\n",
    "\n",
    "# print('But will this be printed?')"
   ]
  },
  {
   "cell_type": "markdown",
   "metadata": {},
   "source": [
    "```{admonition} What would be the output of the above code snippet if we uncommented the last line?\n",
    ":class: tip, dropdown\n",
    "The code would print the <code>Print once!</code> message <b>plus the <code>But will this be printed?</code> message</b> since it is outside the loop (the <code>break</code>statement exits the loop, then the program executes the next line).<br>\n",
    "It would still not print the <code>The rest won't be printed</code> message owing to the <code>break</code> statement.\n",
    "```"
   ]
  },
  {
   "cell_type": "code",
   "execution_count": 16,
   "metadata": {},
   "outputs": [
    {
     "name": "stdout",
     "output_type": "stream",
     "text": [
      "Print once!\n",
      "But will this be printed?\n"
     ]
    }
   ],
   "source": [
    "# Try it for yourself\n",
    "\n",
    "while True:\n",
    "    print('Print once!')\n",
    "    break\n",
    "    print(\"The rest won't be printed\")\n",
    "\n",
    "print('But will this be printed?')"
   ]
  },
  {
   "cell_type": "markdown",
   "metadata": {
    "tags": []
   },
   "source": [
    "## <span style=\"color:#4169E1\">The Continue Statement</span>\n",
    "\n",
    "Sometimes you want to finish the execution of the loop body for specific iterations. In that case, you want to stop the current iteration and continue with the next one. To do so, you can use the [**continue statement**][magic].\n",
    "\n",
    "[magic]: https://www.geeksforgeeks.org/python-continue-statement/"
   ]
  },
  {
   "cell_type": "code",
   "execution_count": 18,
   "metadata": {
    "tags": []
   },
   "outputs": [
    {
     "name": "stdout",
     "output_type": "stream",
     "text": [
      "Iteration 1\n",
      "Iteration 3\n",
      "Iteration 4\n",
      "Iteration 5\n",
      "Iteration 6\n"
     ]
    }
   ],
   "source": [
    "iteration: int = 0\n",
    "\n",
    "while iteration <= 5:\n",
    "    iteration += 1\n",
    "    \n",
    "    # Do not print anything in iteration 2\n",
    "    if iteration == 2:\n",
    "        continue\n",
    "        print('Skip this text!')\n",
    "        \n",
    "    print(f'Iteration {iteration}')"
   ]
  },
  {
   "cell_type": "markdown",
   "metadata": {},
   "source": [
    "## <span style=\"color:#4169E1\">Infinite Loops</span>"
   ]
  },
  {
   "cell_type": "markdown",
   "metadata": {},
   "source": [
    "When you start working with <code>while loops</code>, it is very likely that you will encounter an **infinite loop** sooner or later. Do not be scared if this happens, as getting stuck in an infinite loop is part of every begginer programmer's journey! \n",
    "\n",
    "So what is an infinite loop?\n",
    "\n",
    "    - An infinite loop happens when a program keeps repeating forever without stopping. This usually happens if the condition for the loop never becomes false.\n",
    "\n",
    "To **exit from an infinite loop** just simply interrupt the kernel. "
   ]
  },
  {
   "cell_type": "markdown",
   "metadata": {},
   "source": [
    "```python\n",
    "# example of a code snippet that would create an infinite loop\n",
    "\n",
    "while True: # this condition will always be True\n",
    "    print(\"This will run forever!\")\n",
    "```"
   ]
  },
  {
   "cell_type": "markdown",
   "metadata": {},
   "source": [
    "```{note}\n",
    "To avoid infinite loops, make sure:<br>\n",
    "    <br>\n",
    "    Your loop has a condition that will eventually stop. <br>\n",
    "    You update variables inside the loop to break it. <br>\n",
    "```"
   ]
  },
  {
   "cell_type": "markdown",
   "metadata": {
    "tags": []
   },
   "source": [
    "## <span style=\"color:#3CB371\">Exercises</span>"
   ]
  },
  {
   "cell_type": "markdown",
   "metadata": {},
   "source": [
    "Let's practice! Mind that each exercise is designed with multiple levels to help you progressively build your skills. <span style=\"color:darkorange;\"><strong>Level 1</strong></span> is the foundational level, designed to be straightforward so that everyone can successfully complete it. In <span style=\"color:darkorange;\"><strong>Level 2</strong></span>, we step it up a notch, expecting you to use more complex concepts or combine them in new ways. Finally, in <span style=\"color:darkorange;\"><strong>Level 3</strong></span>, we get closest to exam level questions, but we may use some concepts that are not covered in this notebook. However, in programming, you often encounter situations where you’re unsure how to proceed. Fortunately, you can often solve these problems by starting to work on them and figuring things out as you go. Practicing this skill is extremely helpful, so we highly recommend completing these exercises.\n",
    "\n",
    "For each of the exercises, make sure to add `type hints`, and **do not** import any libraries unless specified otherwise.\n",
    "<br>"
   ]
  },
  {
   "cell_type": "markdown",
   "metadata": {},
   "source": [
    "### Exercise 1\n",
    "\n",
    "<span style=\"color:darkorange;\"><strong>Level 1</strong>:</span> Write a Python program that uses a `while` loop to count from 1 to 10, but only prints the even numbers **without** using the `continue` statement.\n",
    "\n",
    "<img src=\"assets/even.jpg\" width=300 height=200>\n",
    "\n",
    "**Expected output:**\n",
    "```python\n",
    "2\n",
    "4\n",
    "6\n",
    "8\n",
    "10\n",
    "```"
   ]
  },
  {
   "cell_type": "code",
   "execution_count": null,
   "metadata": {},
   "outputs": [],
   "source": [
    "# TODO."
   ]
  },
  {
   "cell_type": "markdown",
   "metadata": {},
   "source": [
    "<span style=\"color:darkorange;\"><strong>Level 2</strong>:</span> Write a Python program that prints all even numbers from 1 to 20, excluding those divisible by 3 and the ones that are [perfect squares][magic], using the **continue** statement.\n",
    "\n",
    "<img src=\"assets/perfect.jpg\" width=300 height=250>\n",
    "\n",
    "**Expected output**:\n",
    "```python\n",
    "2\r\n",
    "8\r\n",
    "10\r\n",
    "14\r\n",
    "16\r\n",
    "20\r\n",
    "\n",
    "```\n",
    "\n",
    "[magic]: https://www.geeksforgeeks.org/perfect-squares/#what-is-perfect-square"
   ]
  },
  {
   "cell_type": "code",
   "execution_count": null,
   "metadata": {},
   "outputs": [],
   "source": [
    "# TODO."
   ]
  },
  {
   "cell_type": "markdown",
   "metadata": {},
   "source": [
    "<span style=\"color:darkorange;\"><strong>Level 3</strong>:</span> Implement the same code as in <span style=\"color:darkorange;\"><strong>Level 2</strong></span>, but this time do not use the modulo `(%)` operator.\n",
    "\n",
    "<img src=\"assets/number.jpg\" width=250 height=400>\n",
    "\n",
    "**Expected output**:\n",
    "```python\n",
    "2\n",
    "8\n",
    "10\n",
    "14\n",
    "16\n",
    "20\n",
    "\n",
    "```"
   ]
  },
  {
   "cell_type": "code",
   "execution_count": null,
   "metadata": {},
   "outputs": [],
   "source": [
    "# TODO."
   ]
  },
  {
   "cell_type": "markdown",
   "metadata": {},
   "source": [
    "### Exercise 2\n",
    "\n",
    "<span style=\"color:darkorange;\"><strong>Level 1</strong>:</span> A well-known exercise to practice while loops is the *\"99 Bottles of Beer\"* song. Write a program using a `while` loop that prints the lyrics of the song, counting down from 99 bottles to 0. The program should include the final verse, handling the special case where there are no bottles left. Be sure to avoid repetitive code in your solution. The song starts with “99 bottles of beer on the wall” and decreases by one bottle each verse until there are no bottles remaining. Additionally, pay attention to the correct usage of singular and plural forms for “bottle” and “bottles\".\n",
    "\n",
    "<img src=\"assets/beer.jpg\" width=300 height=250>\n",
    "\n",
    "\n",
    "**Expected output**:\n",
    "```\n",
    "99 bottles of beer on the wall,\n",
    "99 bottles of beer.\n",
    "Take one down, pass it around,\n",
    "98 bottles of beer on the wall.\n",
    "\n",
    "98 bottles of beer on the wall,\n",
    "98 bottles of beer.\n",
    "Take one down, pass it around,\n",
    "97 bottles of beer on the wall.\n",
    "\n",
    "...\n",
    "\n",
    "2 bottles of beer on the wall,\n",
    "2 bottles of beer.\n",
    "Take one down, pass it around,\n",
    "1 bottle of beer on the wall.\n",
    "\n",
    "1 bottle of beer on the wall,\n",
    "1 bottle of beer.\n",
    "Take one down, pass it around,\n",
    "No more bottles of beer on the wall.\n",
    "```"
   ]
  },
  {
   "cell_type": "code",
   "execution_count": null,
   "metadata": {},
   "outputs": [],
   "source": [
    "# TODO."
   ]
  },
  {
   "cell_type": "markdown",
   "metadata": {},
   "source": [
    "<span style=\"color:darkorange;\"><strong>Level 2</strong>:</span> Modify the program to allow users to start with a custom number of bottles and choose their preferred liquid. This will replace every instance of “beer” with the user-provided input, such as “Coca Cola.\n",
    "\n",
    "<img src=\"assets/juice.jpg\" width=350 height=250>"
   ]
  },
  {
   "cell_type": "code",
   "execution_count": null,
   "metadata": {},
   "outputs": [],
   "source": [
    "# TODO."
   ]
  },
  {
   "cell_type": "markdown",
   "metadata": {},
   "source": [
    "<span style=\"color:darkorange;\"><strong>Level 3</strong>:</span> Modify the program such that:<br>\n",
    "\n",
    "<b>1)</b> it adds a special verse for every 10th bottle (e.g., 90th, 80th, etc.) saying: <code>\"Cheers! Take a break at bottle X!\"</code> where X is the bottle number.<br>\n",
    "<b>2)</b> if the current bottle number is divisible by both 5 and 3, instead of the regular verse, print: <code>\"FizzBuzz! Celebrate bottle X!\"</code><br>\n",
    "<b>3)</b> skip printing verses for any prime number of bottles. (<b>hint:</b> use your function from the Conditionals Notebook - Exercise 1.3)\n",
    "\n",
    "<img src=\"assets/buzz.png\" width=400 height=300>"
   ]
  },
  {
   "cell_type": "code",
   "execution_count": null,
   "metadata": {},
   "outputs": [],
   "source": [
    "# TODO."
   ]
  },
  {
   "cell_type": "markdown",
   "metadata": {},
   "source": [
    "### Exercise 3\n",
    "\n",
    "The [Collatz sequence][collatz], also known as the **3x + 1 problem**, is a well-known problem in mathematics. The sequence follows a specific set of rules: starting with any positive integer, if the number is even, you divide it by 2; if it's odd, you multiply it by 3 and add 1. You continue applying these rules until the sequence reaches the number 1. Strangely, when you apply these rules, you always end up in the loop of 4, 2, and 1—at least, this has been the case for all numbers tested so far—something that mathematicians still don’t fully understand or have been able to prove for all possible starting numbers.\n",
    "\n",
    "<span style=\"color:darkorange;\"><strong>Level 1</strong>:</span> In this Python exercise, you will create a program to generate and display the Collatz sequence for a given starting number. You continue applying these rules until the sequence reaches the number 1. Your task is to implement a **while loop** to calculate the sequence and **break** the loop if it reaches 50 steps. This means that if the sequence does not reach 1 within 50 steps, the loop should terminate to prevent long-running computations and possible infinite loops (test this with the number 27 as this takes 111 steps to terminate). If you have to break add the print message:\n",
    "```python\n",
    "\"Argh, it costs too much computation power!\".\n",
    "```\n",
    "\n",
    "<img src=\"assets/collatz.jpg\" width=400 height=300>\n",
    "\n",
    "**Example input**:\n",
    "```python\n",
    "start_number: int = 7\n",
    "```\n",
    "\n",
    "**Example output**:\n",
    "```python\n",
    "7\n",
    "22\n",
    "11\n",
    "34\n",
    "17\n",
    "52\n",
    "26\n",
    "13\n",
    "40\n",
    "20\n",
    "10\n",
    "5\n",
    "16\n",
    "8\n",
    "4\n",
    "2\n",
    "1\n",
    "```\n",
    "[collatz]:https://www.youtube.com/watch?v=094y1Z2wpJg"
   ]
  },
  {
   "cell_type": "code",
   "execution_count": null,
   "metadata": {},
   "outputs": [],
   "source": [
    "# Prompt the user to enter a positive integer as the starting number\n",
    "start_number: int = int(input(\"Enter a positive integer as the starting number: \"))\n",
    "\n",
    "# Initialize a count to keep track of the number of terms in the sequence\n",
    "count int = 0\n",
    "\n",
    "# TODO."
   ]
  },
  {
   "cell_type": "markdown",
   "metadata": {},
   "source": [
    "<span style=\"color:darkorange;\"><strong>Level 2</strong>:</span> Speaking of sequences, in mathematics, we explore patterns, and these patterns can be great for practicing programming. One such [beautiful][magic] pattern is the [Fibonacci sequence][panda], which is perfect for practicing with `while` loops. In this sequence each number is the sum of the two numbers that came before it. It typically starts with 0 and 1, and continues indefinitely:\n",
    "\n",
    "```\n",
    "0, 1, 1, 2, 3, 5, 8, 13, 21, 34, 55...\n",
    "```\n",
    "\n",
    "**Task:** You might already guess what we’re expecting from you. We want you to write a program that prints the Fibonacci numbers up to a certain limit. This limit is determined by prompting the user (using `input()`), so you won’t know it in advance. Make sure to use a `while` loop in your script.\n",
    "\n",
    "<img src=\"assets/fibonacci.jpg\" width=400 height=300 >\n",
    "\n",
    "**Example input**:\n",
    "``` python\n",
    "limit: int = 15\n",
    "```\n",
    "\n",
    "**Example Output**:\n",
    "```python\n",
    "0\n",
    "1\n",
    "1\n",
    "2\n",
    "3\n",
    "5\n",
    "8\n",
    "13\n",
    "```\n",
    "\n",
    "[magic]:https://www.youtube.com/watch?v=SjSHVDfXHQ4\n",
    "[panda]: https://www.mathsisfun.com/numbers/fibonacci-sequence.html"
   ]
  },
  {
   "cell_type": "code",
   "execution_count": null,
   "metadata": {},
   "outputs": [],
   "source": [
    "# TODO."
   ]
  },
  {
   "cell_type": "markdown",
   "metadata": {},
   "source": [
    "<span style=\"color:darkorange;\"><strong>Level 3</strong>:</span> Modify the program from **Level 1** to:\n",
    "\n",
    "**1)** track and display the highest number encountered in the Collatz sequence<br>\n",
    "**2)** track and display the iteration number at which it occurs<br>\n",
    "**3)** calculate and display the average of all numbers in the sequence.\n",
    "\n",
    "<img src=\"assets/tree.jpg\" width=350 height=300>\n",
    "\n",
    "**For testing purposes:** for the starting number **7**, the maximum number encountered should be **52 (at iteration 6)**, and the average of all numbers in the sequence should be approximately **16.94**."
   ]
  },
  {
   "cell_type": "code",
   "execution_count": null,
   "metadata": {},
   "outputs": [],
   "source": [
    "# TODO."
   ]
  },
  {
   "cell_type": "markdown",
   "metadata": {},
   "source": [
    "___________________________________________________________________________________________________________________________\n",
    "\n",
    "*Material for the VU Amsterdam course “Introduction to Python Programming” for BSc Artificial Intelligence students. These notebooks are created using the following sources:*\n",
    "1. [Learning Python by Doing][learning python]: This book, developed by teachers of TU/e Eindhoven and VU Amsterdam, is the main source for the course materials. Code snippets or text explanations from the book may be used in the notebooks, sometimes with slight adjustments.\n",
    "2. [Think Python][think python]\n",
    "3. [GeekForGeeks][geekforgeeks]\n",
    "\n",
    "[learning python]: https://programming-pybook.github.io/introProgramming/intro.html\n",
    "[think python]: https://greenteapress.com/thinkpython2/html/\n",
    "[geekforgeeks]: https://www.geeksforgeeks.org"
   ]
  }
 ],
 "metadata": {
  "kernelspec": {
   "display_name": "Python 3 (ipykernel)",
   "language": "python",
   "name": "python3"
  },
  "language_info": {
   "codemirror_mode": {
    "name": "ipython",
    "version": 3
   },
   "file_extension": ".py",
   "mimetype": "text/x-python",
   "name": "python",
   "nbconvert_exporter": "python",
   "pygments_lexer": "ipython3",
   "version": "3.11.4"
  },
  "vscode": {
   "interpreter": {
    "hash": "9451767feaf7925185bf37009af3205aec0103dc88a66dc09d267eb54aa4b1c3"
   }
  }
 },
 "nbformat": 4,
 "nbformat_minor": 4
}
